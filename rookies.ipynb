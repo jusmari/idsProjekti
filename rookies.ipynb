{
 "cells": [
  {
   "cell_type": "markdown",
   "metadata": {},
   "source": [
    "# ids projekti, kivaa :---)\n",
    "\n",
    "tästä alkaa suuri seikkailu. Olkaamme innokaita ja tehokkaita. "
   ]
  },
  {
   "cell_type": "code",
   "execution_count": 58,
   "metadata": {
    "scrolled": true
   },
   "outputs": [],
   "source": [
    "import json\n",
    "import pandas as pd\n",
    "import numpy as np\n",
    "import urllib.request as ur\n",
    "import requests\n",
    "from datetime import timedelta, date"
   ]
  },
  {
   "cell_type": "code",
   "execution_count": 59,
   "metadata": {},
   "outputs": [],
   "source": [
    "def date_range(n):\n",
    "    date_list = []\n",
    "\n",
    "    for single_date in (date.today() - timedelta(n+1) for n in range(n)):\n",
    "        date_list.append(single_date.strftime('%Y%m%d'))\n",
    "\n",
    "    return(date_list)"
   ]
  },
  {
   "cell_type": "code",
   "execution_count": 109,
   "metadata": {},
   "outputs": [],
   "source": [
    "def authorize():\n",
    "    path = 'APIauth.txt'\n",
    "    temp = open(path,'r').read().splitlines()\n",
    "    return (temp[0], temp[1])"
   ]
  },
  {
   "cell_type": "code",
   "execution_count": 64,
   "metadata": {},
   "outputs": [],
   "source": [
    "def fetch_game_scoreboards():\n",
    "    games_lists = []\n",
    "\n",
    "    auth = authorize()\n",
    "\n",
    "    url = 'https://api.mysportsfeeds.com/v1.1/pull/nhl/2017-2018-regular/scoreboard.json?fordate={date}'\n",
    "    \n",
    "    DATE_RANGE = 5\n",
    "    n=0\n",
    "    for i in date_range(DATE_RANGE):\n",
    "        if n%50 == 0:\n",
    "            print(n)\n",
    "        \n",
    "        try:\n",
    "            json = requests.get(url.format(date=i), auth=auth).json()\n",
    "        except:\n",
    "            continue\n",
    "            \n",
    "        games_lists.append(json['scoreboard']['gameScore'])\n",
    "        \n",
    "        n += 1\n",
    "\n",
    "    return(games_lists)"
   ]
  },
  {
   "cell_type": "code",
   "execution_count": 65,
   "metadata": {},
   "outputs": [
    {
     "name": "stdout",
     "output_type": "stream",
     "text": [
      "0\n"
     ]
    }
   ],
   "source": [
    "scoreboard_data = fetch_game_scoreboards()\n",
    "\n",
    "scoreboard_data_list = np.hstack(scoreboard_data)"
   ]
  },
  {
   "cell_type": "markdown",
   "metadata": {},
   "source": [
    "Jos kotijoukkoe voittaa, winner = 1"
   ]
  },
  {
   "cell_type": "code",
   "execution_count": 66,
   "metadata": {},
   "outputs": [],
   "source": [
    "game_ids = []\n",
    "for data in scoreboard_data[0]:\n",
    "    game_ids.append(data['game']['ID'])"
   ]
  },
  {
   "cell_type": "code",
   "execution_count": 67,
   "metadata": {},
   "outputs": [
    {
     "data": {
      "text/plain": [
       "['40898',\n",
       " '40899',\n",
       " '40900',\n",
       " '40902',\n",
       " '40901',\n",
       " '40903',\n",
       " '40904',\n",
       " '40905',\n",
       " '40906',\n",
       " '40907',\n",
       " '40908']"
      ]
     },
     "execution_count": 67,
     "metadata": {},
     "output_type": "execute_result"
    }
   ],
   "source": [
    "game_ids"
   ]
  },
  {
   "cell_type": "code",
   "execution_count": 110,
   "metadata": {},
   "outputs": [],
   "source": [
    "games = {}"
   ]
  },
  {
   "cell_type": "code",
   "execution_count": 111,
   "metadata": {},
   "outputs": [],
   "source": [
    "auth = authorize()\n",
    "lineup_url = 'https://api.mysportsfeeds.com/v1.1/pull/nhl/2017-2018-regular/game_startinglineup.json?gameid='\n",
    "players_json = requests.get('https://api.mysportsfeeds.com/v1.1/pull/nhl/2017-2018-regular/roster_players.json?fordate=20171025', auth=auth).json()\n",
    "\n",
    "for id in game_ids:\n",
    "    game = []\n",
    "    lineup_json = requests.get(lineup_url + id, auth=auth).json()\n",
    "    home_rookies = 0\n",
    "    away_rookies = 0\n",
    "    for lineup_player in lineup_json['gamestartinglineup']['teamLineup'][0]['expected']['starter']:\n",
    "        for player in players_json['rosterplayers']['playerentry']:\n",
    "            if (player['player']['ID'] == lineup_player['player']['ID']) & (player['player']['IsRookie'] == 'true'):\n",
    "                home_rookies += 1\n",
    "    \n",
    "    for lineup_player in lineup_json['gamestartinglineup']['teamLineup'][1]['expected']['starter']:\n",
    "        for player in players_json['rosterplayers']['playerentry']:\n",
    "            if (player['player']['ID'] == lineup_player['player']['ID']) & (player['player']['IsRookie'] == 'true'):\n",
    "                away_rookies += 1\n",
    "                \n",
    "    game.append(home_rookies)\n",
    "    game.append(away_rookies)\n",
    "    games[id] = game"
   ]
  },
  {
   "cell_type": "code",
   "execution_count": 112,
   "metadata": {},
   "outputs": [
    {
     "data": {
      "text/plain": [
       "{'40898': [3, 0],\n",
       " '40899': [1, 1],\n",
       " '40900': [0, 1],\n",
       " '40901': [0, 1],\n",
       " '40902': [0, 2],\n",
       " '40903': [2, 0],\n",
       " '40904': [2, 1],\n",
       " '40905': [0, 0],\n",
       " '40906': [0, 1],\n",
       " '40907': [0, 2],\n",
       " '40908': [1, 1]}"
      ]
     },
     "execution_count": 112,
     "metadata": {},
     "output_type": "execute_result"
    }
   ],
   "source": [
    "games"
   ]
  },
  {
   "cell_type": "code",
   "execution_count": 104,
   "metadata": {},
   "outputs": [],
   "source": [
    "stuff = []\n",
    "for data in game_data[0]:\n",
    "    stuff.append(data['game']['ID'])"
   ]
  },
  {
   "cell_type": "code",
   "execution_count": 60,
   "metadata": {},
   "outputs": [
    {
     "data": {
      "text/plain": [
       "['40898',\n",
       " '40899',\n",
       " '40900',\n",
       " '40902',\n",
       " '40901',\n",
       " '40903',\n",
       " '40904',\n",
       " '40905',\n",
       " '40906',\n",
       " '40907',\n",
       " '40908']"
      ]
     },
     "execution_count": 60,
     "metadata": {},
     "output_type": "execute_result"
    }
   ],
   "source": [
    "stuff"
   ]
  }
 ],
 "metadata": {
  "kernelspec": {
   "display_name": ".venv",
   "language": "python",
   "name": ".venv"
  },
  "language_info": {
   "codemirror_mode": {
    "name": "ipython",
    "version": 3
   },
   "file_extension": ".py",
   "mimetype": "text/x-python",
   "name": "python",
   "nbconvert_exporter": "python",
   "pygments_lexer": "ipython3",
   "version": "3.5.2"
  }
 },
 "nbformat": 4,
 "nbformat_minor": 2
}
