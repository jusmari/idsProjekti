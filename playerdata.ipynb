{
 "cells": [
  {
   "cell_type": "markdown",
   "metadata": {},
   "source": [
    "# ids projekti, kivaa :---)\n",
    "\n",
    "tästä alkaa suuri seikkailu. Olkaamme innokaita ja tehokkaita. "
   ]
  },
  {
   "cell_type": "code",
   "execution_count": 118,
   "metadata": {
    "scrolled": true
   },
   "outputs": [],
   "source": [
    "import json\n",
    "import pandas as pd\n",
    "import numpy as np\n",
    "import urllib.request as ur\n",
    "import requests\n",
    "from datetime import timedelta, date"
   ]
  },
  {
   "cell_type": "code",
   "execution_count": 119,
   "metadata": {},
   "outputs": [],
   "source": [
    "def date_range(n):\n",
    "    date_list = []\n",
    "\n",
    "    for single_date in (date.today() - timedelta(n+1) for n in range(n)):\n",
    "        date_list.append(single_date.strftime('%Y%m%d'))\n",
    "\n",
    "    return(date_list)"
   ]
  },
  {
   "cell_type": "code",
   "execution_count": 120,
   "metadata": {},
   "outputs": [],
   "source": [
    "def authorize():\n",
    "    path = 'APIauth.txt'\n",
    "    temp = open(path,'r').read().splitlines()\n",
    "    return (temp[0], temp[1])"
   ]
  },
  {
   "cell_type": "code",
   "execution_count": 121,
   "metadata": {},
   "outputs": [],
   "source": [
    "def fetch_game_scoreboards():\n",
    "    games_lists = []\n",
    "\n",
    "    auth = authorize()\n",
    "\n",
    "    url = 'https://api.mysportsfeeds.com/v1.1/pull/nhl/2017-2018-regular/scoreboard.json?fordate={date}'\n",
    "    \n",
    "    DATE_RANGE = 5\n",
    "    n=0\n",
    "    for i in date_range(DATE_RANGE):\n",
    "        if n%50 == 0:\n",
    "            print(n)\n",
    "        \n",
    "        try:\n",
    "            json = requests.get(url.format(date=i), auth=auth).json()\n",
    "        except:\n",
    "            continue\n",
    "            \n",
    "        games_lists.append(json['scoreboard']['gameScore'])\n",
    "        \n",
    "        n += 1\n",
    "\n",
    "    return(games_lists)"
   ]
  },
  {
   "cell_type": "code",
   "execution_count": 122,
   "metadata": {},
   "outputs": [
    {
     "name": "stdout",
     "output_type": "stream",
     "text": [
      "0\n"
     ]
    }
   ],
   "source": [
    "scoreboard_data = fetch_game_scoreboards()\n",
    "\n",
    "scoreboard_data_list = np.hstack(scoreboard_data)"
   ]
  },
  {
   "cell_type": "code",
   "execution_count": 123,
   "metadata": {},
   "outputs": [],
   "source": [
    "game_ids = []\n",
    "for day in scoreboard_data:\n",
    "    for data in day:\n",
    "        game_ids.append(data['game']['ID'])"
   ]
  },
  {
   "cell_type": "code",
   "execution_count": 124,
   "metadata": {},
   "outputs": [],
   "source": [
    "games = {}\n",
    "auth = authorize()\n",
    "lineup_url = 'https://api.mysportsfeeds.com/v1.1/pull/nhl/2017-2018-regular/game_startinglineup.json?gameid='\n",
    "players_json = requests.get('https://api.mysportsfeeds.com/v1.1/pull/nhl/2017-2018-regular/roster_players.json?fordate=20171025', auth=auth).json()"
   ]
  },
  {
   "cell_type": "code",
   "execution_count": 126,
   "metadata": {},
   "outputs": [],
   "source": [
    "for id in game_ids:\n",
    "    game = []\n",
    "    lineup_json = requests.get(lineup_url + id, auth=auth).json()\n",
    "    \n",
    "    home_rookies = 0\n",
    "    away_rookies = 0\n",
    "    \n",
    "    home_avg_weight = 0\n",
    "    home_size_weight = 20\n",
    "    away_avg_weight = 0\n",
    "    away_size_weight = 20\n",
    "    \n",
    "    home_avg_age = 0\n",
    "    home_size_age = 20\n",
    "    away_avg_age = 0\n",
    "    away_size_age = 20\n",
    "    \n",
    "    for lineup_player in lineup_json['gamestartinglineup']['teamLineup'][0]['expected']['starter']:\n",
    "        for player in players_json['rosterplayers']['playerentry']:\n",
    "            if (player['player']['ID'] == lineup_player['player']['ID']):\n",
    "                \n",
    "                if ('Age' in player['player']):\n",
    "                    away_avg_age += int(player['player']['Age'])\n",
    "                else:\n",
    "                    away_size_age -= 1\n",
    "                    \n",
    "                if ('Weight' in player['player']):\n",
    "                    away_avg_weight += int(player['player']['Weight'])\n",
    "                else:\n",
    "                    away_size_weight -= 1\n",
    "                    \n",
    "                if (player['player']['IsRookie'] == 'true'):\n",
    "                    away_rookies += 1\n",
    "    \n",
    "    for lineup_player in lineup_json['gamestartinglineup']['teamLineup'][1]['expected']['starter']:\n",
    "        for player in players_json['rosterplayers']['playerentry']:\n",
    "            if (player['player']['ID'] == lineup_player['player']['ID']):\n",
    "                \n",
    "                if ('Age' in player['player']):\n",
    "                    home_avg_age += int(player['player']['Age'])\n",
    "                else:\n",
    "                    home_size_age -= 1\n",
    "                    \n",
    "                if ('Weight' in player['player']):\n",
    "                    home_avg_weight += int(player['player']['Weight'])\n",
    "                else:\n",
    "                    home_size_weight -= 1\n",
    "                    \n",
    "                if (player['player']['IsRookie'] == 'true'):\n",
    "                    home_rookies += 1\n",
    "                \n",
    "    game.append(home_rookies)\n",
    "    game.append(away_rookies)\n",
    "    game.append(round(home_avg_age/float(home_size_age)))\n",
    "    game.append(round(away_avg_age/float(away_size_age)))\n",
    "    game.append(round(home_avg_weight/float(home_size_weight)))\n",
    "    game.append(round(away_avg_weight/float(away_size_weight)))\n",
    "    games[id] = game"
   ]
  },
  {
   "cell_type": "code",
   "execution_count": 127,
   "metadata": {},
   "outputs": [
    {
     "data": {
      "text/plain": [
       "{'40883': [1, 1, 26, 25, 193, 200],\n",
       " '40884': [1, 0, 27, 28, 200, 197],\n",
       " '40885': [0, 1, 28, 27, 196, 198],\n",
       " '40886': [0, 1, 27, 27, 195, 196],\n",
       " '40887': [0, 2, 28, 27, 201, 199],\n",
       " '40888': [0, 0, 28, 28, 201, 203],\n",
       " '40889': [3, 1, 26, 26, 196, 199],\n",
       " '40890': [1, 2, 25, 27, 198, 203],\n",
       " '40891': [0, 2, 28, 25, 208, 193],\n",
       " '40892': [3, 1, 25, 27, 197, 197],\n",
       " '40893': [0, 1, 28, 28, 195, 200],\n",
       " '40894': [0, 1, 28, 27, 198, 203],\n",
       " '40896': [1, 2, 27, 27, 198, 203],\n",
       " '40897': [1, 0, 27, 28, 200, 203],\n",
       " '40898': [0, 3, 28, 25, 201, 197],\n",
       " '40899': [1, 1, 27, 25, 196, 200],\n",
       " '40900': [1, 0, 26, 29, 193, 206],\n",
       " '40901': [1, 0, 26, 30, 199, 198],\n",
       " '40902': [2, 0, 25, 27, 193, 195],\n",
       " '40903': [0, 2, 28, 27, 196, 203],\n",
       " '40904': [1, 2, 28, 27, 194, 199],\n",
       " '40905': [0, 0, 28, 28, 197, 195],\n",
       " '40906': [1, 0, 28, 28, 200, 196],\n",
       " '40907': [2, 0, 25, 28, 195, 208],\n",
       " '40908': [1, 1, 27, 27, 198, 197],\n",
       " '40909': [1, 0, 27, 28, 203, 195],\n",
       " '40910': [1, 1, 25, 26, 198, 199],\n",
       " '43364': [0, 0, 29, 28, 200, 196]}"
      ]
     },
     "execution_count": 127,
     "metadata": {},
     "output_type": "execute_result"
    }
   ],
   "source": [
    "games # Returns -> gameID:[home_rookies, away_rookies, home_avg_age, away_avg_age, home_avg_weight, away_avg_weight]"
   ]
  },
  {
   "cell_type": "code",
   "execution_count": null,
   "metadata": {},
   "outputs": [],
   "source": []
  }
 ],
 "metadata": {
  "kernelspec": {
   "display_name": ".venv",
   "language": "python",
   "name": ".venv"
  },
  "language_info": {
   "codemirror_mode": {
    "name": "ipython",
    "version": 3
   },
   "file_extension": ".py",
   "mimetype": "text/x-python",
   "name": "python",
   "nbconvert_exporter": "python",
   "pygments_lexer": "ipython3",
   "version": "3.5.2"
  }
 },
 "nbformat": 4,
 "nbformat_minor": 2
}
