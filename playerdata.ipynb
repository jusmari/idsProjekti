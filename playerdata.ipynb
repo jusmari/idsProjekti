{
 "cells": [
  {
   "cell_type": "markdown",
   "metadata": {},
   "source": [
    "# ids projekti, kivaa :---)\n",
    "\n",
    "tästä alkaa suuri seikkailu. Olkaamme innokaita ja tehokkaita. "
   ]
  },
  {
   "cell_type": "code",
   "execution_count": 1,
   "metadata": {
    "scrolled": true
   },
   "outputs": [],
   "source": [
    "import json\n",
    "import pandas as pd\n",
    "import numpy as np\n",
    "import urllib.request as ur\n",
    "import requests\n",
    "from datetime import timedelta, date"
   ]
  },
  {
   "cell_type": "code",
   "execution_count": 2,
   "metadata": {},
   "outputs": [],
   "source": [
    "# Passes correct credentials for MySportsFeeds.\n",
    "# path = user credentials -file path\n",
    "def authorize():\n",
    "    path = 'APIauth.txt'\n",
    "    temp = open(path,'r').read().splitlines()\n",
    "    return (temp[0], temp[1])"
   ]
  },
  {
   "cell_type": "code",
   "execution_count": 3,
   "metadata": {},
   "outputs": [],
   "source": [
    "AUTH = authorize()"
   ]
  },
  {
   "cell_type": "code",
   "execution_count": 4,
   "metadata": {},
   "outputs": [],
   "source": [
    "def date_range(n):\n",
    "    date_list = []\n",
    "\n",
    "    for single_date in (date.today() - timedelta(n+1) for n in range(n)):\n",
    "        date_list.append(single_date.strftime('%Y%m%d'))\n",
    "\n",
    "    return(date_list)"
   ]
  },
  {
   "cell_type": "code",
   "execution_count": 14,
   "metadata": {},
   "outputs": [],
   "source": [
    "def fetch_game_scoreboards():\n",
    "    games_lists = []\n",
    "\n",
    "    url = 'https://api.mysportsfeeds.com/v1.1/pull/nhl/2017-2018-regular/scoreboard.json?fordate='\n",
    "    \n",
    "    DATE_RANGE = 5\n",
    "    for date in date_range(DATE_RANGE):\n",
    "        \n",
    "        json = requests.get(url + date, auth=AUTH).json()\n",
    "        \n",
    "        if 'gameScore' in json['scoreboard']:\n",
    "            games_lists.append(json['scoreboard']['gameScore'])\n",
    "            \n",
    "    return(games_lists)"
   ]
  },
  {
   "cell_type": "code",
   "execution_count": 15,
   "metadata": {},
   "outputs": [],
   "source": [
    "scoreboard_data = fetch_game_scoreboards()"
   ]
  },
  {
   "cell_type": "code",
   "execution_count": 16,
   "metadata": {},
   "outputs": [],
   "source": [
    "def fetch_game_ids():\n",
    "    game_ids = []\n",
    "    \n",
    "    for day in scoreboard_data:\n",
    "        for data in day:\n",
    "            game_ids.append(data['game']['ID'])\n",
    "            \n",
    "    return(game_ids)"
   ]
  },
  {
   "cell_type": "code",
   "execution_count": 17,
   "metadata": {},
   "outputs": [],
   "source": [
    "lineups_url = 'https://api.mysportsfeeds.com/v1.1/pull/nhl/2017-2018-regular/game_startinglineup.json?gameid='\n",
    "players_json = requests.get('https://api.mysportsfeeds.com/v1.1/pull/nhl/2017-2018-regular/roster_players.json?fordate=20171025', auth=AUTH).json()\n",
    "\n",
    "# Returns player data corresponding all given game ids.\n",
    "# Returns -> gameID:[home_rookies, away_rookies, home_avg_weight, away_avg_weight, home_avg_age, away_avg_age]\n",
    "def fetch_player_data(game_ids):\n",
    "    all_games = {}\n",
    "    for id in game_ids:\n",
    "        game = []\n",
    "        \n",
    "        # Game lineups (away and home) per game id. \n",
    "        lineups_json = requests.get(lineups_url + id, auth=AUTH).json()\n",
    "        home_lineup = lineups_json['gamestartinglineup']['teamLineup'][1]['expected']['starter']\n",
    "        away_lineup = lineups_json['gamestartinglineup']['teamLineup'][0]['expected']['starter']\n",
    "\n",
    "        # Rookies per team.\n",
    "        home_rookies = 0\n",
    "        away_rookies = 0\n",
    "\n",
    "        # Average team player weight.\n",
    "        home_avg_weight = 0\n",
    "        home_size_weight = 20\n",
    "        away_avg_weight = 0\n",
    "        away_size_weight = 20\n",
    "\n",
    "        # Average team player age.\n",
    "        home_avg_age = 0\n",
    "        home_size_age = 20\n",
    "        away_avg_age = 0\n",
    "        away_size_age = 20\n",
    "\n",
    "        # Home lineup player data per game id.\n",
    "        for lineup_player in home_lineup:\n",
    "            for player in players_json['rosterplayers']['playerentry']:\n",
    "                if (player['player']['ID'] == lineup_player['player']['ID']):\n",
    "\n",
    "                    if ('Age' in player['player']):\n",
    "                        home_avg_age += int(player['player']['Age'])\n",
    "                    else:\n",
    "                        home_size_age -= 1\n",
    "\n",
    "                        \n",
    "                    if ('Weight' in player['player']):\n",
    "                        home_avg_weight += int(player['player']['Weight'])\n",
    "                    else:\n",
    "                        home_size_weight -= 1\n",
    "\n",
    "                    if (player['player']['IsRookie'] == 'true'):\n",
    "                        home_rookies += 1\n",
    "                        \n",
    "        # Away lineup player data per game id.\n",
    "        for lineup_player in away_lineup:\n",
    "            for player in players_json['rosterplayers']['playerentry']:\n",
    "                if (player['player']['ID'] == lineup_player['player']['ID']):\n",
    "\n",
    "                    if ('Age' in player['player']):\n",
    "                        away_avg_age += int(player['player']['Age'])\n",
    "                    else:\n",
    "                        away_size_age -= 1\n",
    "\n",
    "                    if ('Weight' in player['player']):\n",
    "                        away_avg_weight += int(player['player']['Weight'])\n",
    "                    else:\n",
    "                        away_size_weight -= 1\n",
    "\n",
    "                    if (player['player']['IsRookie'] == 'true'):\n",
    "                        away_rookies += 1\n",
    "\n",
    "        # Add game data to it's array. Finally add the game to all_games by it's game id.\n",
    "        game.append(home_rookies)\n",
    "        game.append(away_rookies)\n",
    "        \n",
    "        game.append(round(home_avg_weight/float(home_size_weight)))\n",
    "        game.append(round(away_avg_weight/float(away_size_weight)))\n",
    "        \n",
    "        game.append(round(home_avg_age/float(home_size_age)))\n",
    "        game.append(round(away_avg_age/float(away_size_age)))\n",
    "        \n",
    "        all_games[id] = game\n",
    "        \n",
    "    return(all_games)    "
   ]
  },
  {
   "cell_type": "code",
   "execution_count": 26,
   "metadata": {},
   "outputs": [],
   "source": [
    "# Create new file with name {path} or re-write existing one with this name.\n",
    "def write_string_to_file(string, path):\n",
    "    open(path,'w').write(string)"
   ]
  },
  {
   "cell_type": "code",
   "execution_count": 27,
   "metadata": {},
   "outputs": [],
   "source": [
    "all_games = fetch_player_data(fetch_game_ids())\n",
    "save_data_to_file(str(all_games), 'player_data.txt')"
   ]
  },
  {
   "cell_type": "code",
   "execution_count": null,
   "metadata": {},
   "outputs": [],
   "source": []
  }
 ],
 "metadata": {
  "kernelspec": {
   "display_name": ".venv",
   "language": "python",
   "name": ".venv"
  },
  "language_info": {
   "codemirror_mode": {
    "name": "ipython",
    "version": 3
   },
   "file_extension": ".py",
   "mimetype": "text/x-python",
   "name": "python",
   "nbconvert_exporter": "python",
   "pygments_lexer": "ipython3",
   "version": "3.5.2"
  }
 },
 "nbformat": 4,
 "nbformat_minor": 2
}
