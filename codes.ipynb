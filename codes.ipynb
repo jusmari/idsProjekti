{
 "cells": [
  {
   "cell_type": "markdown",
   "metadata": {},
   "source": [
    "# ids projekti, kivaa :---)\n",
    "\n",
    "tästä alkaa suuri seikkailu. Olkaamme innokaita ja tehokkaita. "
   ]
  },
  {
   "cell_type": "code",
   "execution_count": 1,
   "metadata": {
    "collapsed": true,
    "scrolled": true
   },
   "outputs": [],
   "source": [
    "import json\n",
    "import pandas as pd\n",
    "import numpy as np\n",
    "import urllib.request as ur\n",
    "import requests\n",
    "from datetime import timedelta, date\n",
    "from sklearn.model_selection import train_test_split as tts\n",
    "from tpot import TPOTClassifier"
   ]
  },
  {
   "cell_type": "code",
   "execution_count": 2,
   "metadata": {
    "collapsed": true
   },
   "outputs": [],
   "source": [
    "def authorize():\n",
    "    path = 'APIauth.txt'\n",
    "    temp = open(path,'r').read().splitlines()\n",
    "    return (temp[0], temp[1])"
   ]
  },
  {
   "cell_type": "markdown",
   "metadata": {},
   "source": [
    "\n",
    "\n",
    "\n"
   ]
  },
  {
   "cell_type": "code",
   "execution_count": 3,
   "metadata": {
    "collapsed": true
   },
   "outputs": [],
   "source": [
    "\n",
    "def date_range(n):\n",
    "    date_list = []\n",
    "\n",
    "    for single_date in (date.today() - timedelta(n+1) for n in range(n)):\n",
    "        date_list.append(single_date.strftime('%Y%m%d'))\n",
    "\n",
    "    return(date_list)"
   ]
  },
  {
   "cell_type": "code",
   "execution_count": 4,
   "metadata": {
    "collapsed": true
   },
   "outputs": [],
   "source": [
    "\n",
    "def fetch_game_scoreboards():\n",
    "    games_lists = []\n",
    "\n",
    "    un, pw = authorize()\n",
    "\n",
    "    url = 'https://api.mysportsfeeds.com/v1.1/pull/nhl/2017-2018-regular/scoreboard.json?fordate={date}'\n",
    "    \n",
    "    DATE_RANGE = 100\n",
    "    n=0\n",
    "    for i in date_range(DATE_RANGE):\n",
    "        if n%50 == 0:\n",
    "            print(n)\n",
    "            \n",
    "        n += 1\n",
    "        \n",
    "        try:\n",
    "            json = requests.get(url.format(date=i), auth=(un, pw)).json()\n",
    "            json['scoreboard']['gameScore']\n",
    "        except:\n",
    "            continue\n",
    "        \n",
    "        games_lists.append(json['scoreboard']['gameScore'])\n",
    "        \n",
    "       \n",
    "\n",
    "    return(games_lists)"
   ]
  },
  {
   "cell_type": "code",
   "execution_count": null,
   "metadata": {
    "collapsed": true
   },
   "outputs": [],
   "source": []
  },
  {
   "cell_type": "code",
   "execution_count": 5,
   "metadata": {
    "collapsed": true
   },
   "outputs": [],
   "source": [
    "def fetch_team_data():\n",
    "    un, pw = authorize()\n",
    "    \n",
    "    url = 'https://api.mysportsfeeds.com/v1.1/pull/nhl/2017-2018-regular/overall_team_standings.json'\n",
    "    \n",
    "    json = requests.get(url, auth=(un,pw)).json()\n",
    "    \n",
    "    data = json['overallteamstandings']['teamstandingsentry']\n",
    "    \n",
    "    return(data)"
   ]
  },
  {
   "cell_type": "code",
   "execution_count": 6,
   "metadata": {
    "collapsed": false
   },
   "outputs": [
    {
     "name": "stdout",
     "output_type": "stream",
     "text": [
      "0\n",
      "50\n",
      "(148,)\n"
     ]
    }
   ],
   "source": [
    "#LATAA PELIT\n",
    "#TÄSSÄ KESTÄÄ KAUAN, KANNATTAA TEHDÄ VAIN KERRAN\n",
    "\n",
    "raw_game_data = fetch_game_scoreboards()\n",
    "\n",
    "game_data = np.hstack(raw_game_data)\n",
    "\n",
    "print(game_data.shape)"
   ]
  },
  {
   "cell_type": "code",
   "execution_count": 7,
   "metadata": {
    "collapsed": false
   },
   "outputs": [
    {
     "name": "stdout",
     "output_type": "stream",
     "text": [
      "[ {'team': {'ID': '1', 'City': 'Tampa Bay', 'Name': 'Lightning', 'Abbreviation': 'TBL'}, 'rank': '1', 'stats': {'GamesPlayed': {'@abbreviation': 'GP', '#text': '11'}, 'stats': {'Wins': {'@abbreviation': 'W', '#text': '9'}, 'Losses': {'@abbreviation': 'L', '#text': '1'}, 'OvertimeWins': {'@abbreviation': 'OTW', '#text': '0'}, 'OvertimeLosses': {'@abbreviation': 'OTL', '#text': '1'}, 'GoalsFor': {'@abbreviation': 'GF', '#text': '44'}, 'GoalsAgainst': {'@abbreviation': 'GA', '#text': '26'}, 'FaceoffWins': {'@abbreviation': 'F/O W', '#text': '333'}, 'FaceoffLosses': {'@abbreviation': 'F/O L', '#text': '354'}, 'FaceoffPercent': {'@abbreviation': 'F/O %', '#text': '48.5'}, 'Powerplays': {'@abbreviation': 'PP', '#text': '47'}, 'PowerplayGoals': {'@abbreviation': 'PPG', '#text': '14'}, 'PowerplayPercent': {'@abbreviation': 'PP%', '#text': '29.8'}, 'PenaltyKills': {'@abbreviation': 'PK', '#text': '44'}, 'PenaltyKillGoalsAllowed': {'@abbreviation': 'PKGA', '#text': '8'}, 'PenaltyKillPercent': {'@abbreviation': 'PK%', '#text': '81.8'}, 'ShorthandedGoalsFor': {'@abbreviation': 'SHGF', '#text': '1'}, 'ShorthandedGoalsAgainst': {'@abbreviation': 'SHGA', '#text': '1'}, 'Points': {'@abbreviation': 'Pts', '#text': '19'}, 'Shots': {'@abbreviation': 'Sh', '#text': '339'}, 'BlockedShots': {'@abbreviation': 'BS', '#text': '9'}, 'Penalties': {'@abbreviation': 'Pn', '#text': '54'}, 'PenaltyMinutes': {'@abbreviation': 'PIM', '#text': '111'}, 'Hits': {'@abbreviation': 'Ht', '#text': '226'}}}}\n",
      " {'team': {'ID': '28', 'City': 'Los Angeles', 'Name': 'Kings', 'Abbreviation': 'LAK'}, 'rank': '2', 'stats': {'GamesPlayed': {'@abbreviation': 'GP', '#text': '10'}, 'stats': {'Wins': {'@abbreviation': 'W', '#text': '8'}, 'Losses': {'@abbreviation': 'L', '#text': '1'}, 'OvertimeWins': {'@abbreviation': 'OTW', '#text': '0'}, 'OvertimeLosses': {'@abbreviation': 'OTL', '#text': '1'}, 'GoalsFor': {'@abbreviation': 'GF', '#text': '35'}, 'GoalsAgainst': {'@abbreviation': 'GA', '#text': '19'}, 'FaceoffWins': {'@abbreviation': 'F/O W', '#text': '325'}, 'FaceoffLosses': {'@abbreviation': 'F/O L', '#text': '308'}, 'FaceoffPercent': {'@abbreviation': 'F/O %', '#text': '51.3'}, 'Powerplays': {'@abbreviation': 'PP', '#text': '31'}, 'PowerplayGoals': {'@abbreviation': 'PPG', '#text': '5'}, 'PowerplayPercent': {'@abbreviation': 'PP%', '#text': '16.1'}, 'PenaltyKills': {'@abbreviation': 'PK', '#text': '38'}, 'PenaltyKillGoalsAllowed': {'@abbreviation': 'PKGA', '#text': '3'}, 'PenaltyKillPercent': {'@abbreviation': 'PK%', '#text': '92.1'}, 'ShorthandedGoalsFor': {'@abbreviation': 'SHGF', '#text': '2'}, 'ShorthandedGoalsAgainst': {'@abbreviation': 'SHGA', '#text': '1'}, 'Points': {'@abbreviation': 'Pts', '#text': '17'}, 'Shots': {'@abbreviation': 'Sh', '#text': '350'}, 'BlockedShots': {'@abbreviation': 'BS', '#text': '19'}, 'Penalties': {'@abbreviation': 'Pn', '#text': '43'}, 'PenaltyMinutes': {'@abbreviation': 'PIM', '#text': '89'}, 'Hits': {'@abbreviation': 'Ht', '#text': '247'}}}}\n",
      " {'team': {'ID': '17', 'City': 'St. Louis', 'Name': 'Blues', 'Abbreviation': 'STL'}, 'rank': '3', 'stats': {'GamesPlayed': {'@abbreviation': 'GP', '#text': '10'}, 'stats': {'Wins': {'@abbreviation': 'W', '#text': '7'}, 'Losses': {'@abbreviation': 'L', '#text': '2'}, 'OvertimeWins': {'@abbreviation': 'OTW', '#text': '0'}, 'OvertimeLosses': {'@abbreviation': 'OTL', '#text': '1'}, 'GoalsFor': {'@abbreviation': 'GF', '#text': '33'}, 'GoalsAgainst': {'@abbreviation': 'GA', '#text': '26'}, 'FaceoffWins': {'@abbreviation': 'F/O W', '#text': '287'}, 'FaceoffLosses': {'@abbreviation': 'F/O L', '#text': '317'}, 'FaceoffPercent': {'@abbreviation': 'F/O %', '#text': '47.5'}, 'Powerplays': {'@abbreviation': 'PP', '#text': '37'}, 'PowerplayGoals': {'@abbreviation': 'PPG', '#text': '7'}, 'PowerplayPercent': {'@abbreviation': 'PP%', '#text': '18.9'}, 'PenaltyKills': {'@abbreviation': 'PK', '#text': '39'}, 'PenaltyKillGoalsAllowed': {'@abbreviation': 'PKGA', '#text': '10'}, 'PenaltyKillPercent': {'@abbreviation': 'PK%', '#text': '74.4'}, 'ShorthandedGoalsFor': {'@abbreviation': 'SHGF', '#text': '0'}, 'ShorthandedGoalsAgainst': {'@abbreviation': 'SHGA', '#text': '1'}, 'Points': {'@abbreviation': 'Pts', '#text': '15'}, 'Shots': {'@abbreviation': 'Sh', '#text': '320'}, 'BlockedShots': {'@abbreviation': 'BS', '#text': '17'}, 'Penalties': {'@abbreviation': 'Pn', '#text': '44'}, 'PenaltyMinutes': {'@abbreviation': 'PIM', '#text': '101'}, 'Hits': {'@abbreviation': 'Ht', '#text': '243'}}}}\n",
      " {'team': {'ID': '10', 'City': 'Pittsburgh', 'Name': 'Penguins', 'Abbreviation': 'PIT'}, 'rank': '4', 'stats': {'GamesPlayed': {'@abbreviation': 'GP', '#text': '11'}, 'stats': {'Wins': {'@abbreviation': 'W', '#text': '7'}, 'Losses': {'@abbreviation': 'L', '#text': '3'}, 'OvertimeWins': {'@abbreviation': 'OTW', '#text': '0'}, 'OvertimeLosses': {'@abbreviation': 'OTL', '#text': '1'}, 'GoalsFor': {'@abbreviation': 'GF', '#text': '34'}, 'GoalsAgainst': {'@abbreviation': 'GA', '#text': '41'}, 'FaceoffWins': {'@abbreviation': 'F/O W', '#text': '362'}, 'FaceoffLosses': {'@abbreviation': 'F/O L', '#text': '368'}, 'FaceoffPercent': {'@abbreviation': 'F/O %', '#text': '49.6'}, 'Powerplays': {'@abbreviation': 'PP', '#text': '44'}, 'PowerplayGoals': {'@abbreviation': 'PPG', '#text': '12'}, 'PowerplayPercent': {'@abbreviation': 'PP%', '#text': '27.3'}, 'PenaltyKills': {'@abbreviation': 'PK', '#text': '48'}, 'PenaltyKillGoalsAllowed': {'@abbreviation': 'PKGA', '#text': '9'}, 'PenaltyKillPercent': {'@abbreviation': 'PK%', '#text': '81.2'}, 'ShorthandedGoalsFor': {'@abbreviation': 'SHGF', '#text': '1'}, 'ShorthandedGoalsAgainst': {'@abbreviation': 'SHGA', '#text': '0'}, 'Points': {'@abbreviation': 'Pts', '#text': '15'}, 'Shots': {'@abbreviation': 'Sh', '#text': '395'}, 'BlockedShots': {'@abbreviation': 'BS', '#text': '13'}, 'Penalties': {'@abbreviation': 'Pn', '#text': '59'}, 'PenaltyMinutes': {'@abbreviation': 'PIM', '#text': '161'}, 'Hits': {'@abbreviation': 'Ht', '#text': '254'}}}}\n",
      " {'team': {'ID': '142', 'City': 'Vegas', 'Name': 'Golden Knights', 'Abbreviation': 'VGK'}, 'rank': '5', 'stats': {'GamesPlayed': {'@abbreviation': 'GP', '#text': '8'}, 'stats': {'Wins': {'@abbreviation': 'W', '#text': '7'}, 'Losses': {'@abbreviation': 'L', '#text': '1'}, 'OvertimeWins': {'@abbreviation': 'OTW', '#text': '0'}, 'OvertimeLosses': {'@abbreviation': 'OTL', '#text': '0'}, 'GoalsFor': {'@abbreviation': 'GF', '#text': '27'}, 'GoalsAgainst': {'@abbreviation': 'GA', '#text': '19'}, 'FaceoffWins': {'@abbreviation': 'F/O W', '#text': '267'}, 'FaceoffLosses': {'@abbreviation': 'F/O L', '#text': '237'}, 'FaceoffPercent': {'@abbreviation': 'F/O %', '#text': '53.0'}, 'Powerplays': {'@abbreviation': 'PP', '#text': '33'}, 'PowerplayGoals': {'@abbreviation': 'PPG', '#text': '5'}, 'PowerplayPercent': {'@abbreviation': 'PP%', '#text': '15.2'}, 'PenaltyKills': {'@abbreviation': 'PK', '#text': '25'}, 'PenaltyKillGoalsAllowed': {'@abbreviation': 'PKGA', '#text': '4'}, 'PenaltyKillPercent': {'@abbreviation': 'PK%', '#text': '84.0'}, 'ShorthandedGoalsFor': {'@abbreviation': 'SHGF', '#text': '0'}, 'ShorthandedGoalsAgainst': {'@abbreviation': 'SHGA', '#text': '1'}, 'Points': {'@abbreviation': 'Pts', '#text': '14'}, 'Shots': {'@abbreviation': 'Sh', '#text': '239'}, 'BlockedShots': {'@abbreviation': 'BS', '#text': '0'}, 'Penalties': {'@abbreviation': 'Pn', '#text': '30'}, 'PenaltyMinutes': {'@abbreviation': 'PIM', '#text': '63'}, 'Hits': {'@abbreviation': 'Ht', '#text': '151'}}}}\n",
      " {'team': {'ID': '12', 'City': 'Toronto', 'Name': 'Maple Leafs', 'Abbreviation': 'TOR'}, 'rank': '6', 'stats': {'GamesPlayed': {'@abbreviation': 'GP', '#text': '10'}, 'stats': {'Wins': {'@abbreviation': 'W', '#text': '7'}, 'Losses': {'@abbreviation': 'L', '#text': '3'}, 'OvertimeWins': {'@abbreviation': 'OTW', '#text': '0'}, 'OvertimeLosses': {'@abbreviation': 'OTL', '#text': '0'}, 'GoalsFor': {'@abbreviation': 'GF', '#text': '43'}, 'GoalsAgainst': {'@abbreviation': 'GA', '#text': '36'}, 'FaceoffWins': {'@abbreviation': 'F/O W', '#text': '357'}, 'FaceoffLosses': {'@abbreviation': 'F/O L', '#text': '302'}, 'FaceoffPercent': {'@abbreviation': 'F/O %', '#text': '54.2'}, 'Powerplays': {'@abbreviation': 'PP', '#text': '41'}, 'PowerplayGoals': {'@abbreviation': 'PPG', '#text': '11'}, 'PowerplayPercent': {'@abbreviation': 'PP%', '#text': '26.8'}, 'PenaltyKills': {'@abbreviation': 'PK', '#text': '34'}, 'PenaltyKillGoalsAllowed': {'@abbreviation': 'PKGA', '#text': '5'}, 'PenaltyKillPercent': {'@abbreviation': 'PK%', '#text': '85.3'}, 'ShorthandedGoalsFor': {'@abbreviation': 'SHGF', '#text': '0'}, 'ShorthandedGoalsAgainst': {'@abbreviation': 'SHGA', '#text': '2'}, 'Points': {'@abbreviation': 'Pts', '#text': '14'}, 'Shots': {'@abbreviation': 'Sh', '#text': '342'}, 'BlockedShots': {'@abbreviation': 'BS', '#text': '16'}, 'Penalties': {'@abbreviation': 'Pn', '#text': '42'}, 'PenaltyMinutes': {'@abbreviation': 'PIM', '#text': '90'}, 'Hits': {'@abbreviation': 'Ht', '#text': '228'}}}}\n",
      " {'team': {'ID': '13', 'City': 'Ottawa', 'Name': 'Senators', 'Abbreviation': 'OTT'}, 'rank': '7', 'stats': {'GamesPlayed': {'@abbreviation': 'GP', '#text': '10'}, 'stats': {'Wins': {'@abbreviation': 'W', '#text': '5'}, 'Losses': {'@abbreviation': 'L', '#text': '1'}, 'OvertimeWins': {'@abbreviation': 'OTW', '#text': '0'}, 'OvertimeLosses': {'@abbreviation': 'OTL', '#text': '4'}, 'GoalsFor': {'@abbreviation': 'GF', '#text': '36'}, 'GoalsAgainst': {'@abbreviation': 'GA', '#text': '25'}, 'FaceoffWins': {'@abbreviation': 'F/O W', '#text': '340'}, 'FaceoffLosses': {'@abbreviation': 'F/O L', '#text': '298'}, 'FaceoffPercent': {'@abbreviation': 'F/O %', '#text': '53.3'}, 'Powerplays': {'@abbreviation': 'PP', '#text': '44'}, 'PowerplayGoals': {'@abbreviation': 'PPG', '#text': '8'}, 'PowerplayPercent': {'@abbreviation': 'PP%', '#text': '18.2'}, 'PenaltyKills': {'@abbreviation': 'PK', '#text': '27'}, 'PenaltyKillGoalsAllowed': {'@abbreviation': 'PKGA', '#text': '2'}, 'PenaltyKillPercent': {'@abbreviation': 'PK%', '#text': '92.6'}, 'ShorthandedGoalsFor': {'@abbreviation': 'SHGF', '#text': '2'}, 'ShorthandedGoalsAgainst': {'@abbreviation': 'SHGA', '#text': '0'}, 'Points': {'@abbreviation': 'Pts', '#text': '14'}, 'Shots': {'@abbreviation': 'Sh', '#text': '329'}, 'BlockedShots': {'@abbreviation': 'BS', '#text': '21'}, 'Penalties': {'@abbreviation': 'Pn', '#text': '35'}, 'PenaltyMinutes': {'@abbreviation': 'PIM', '#text': '79'}, 'Hits': {'@abbreviation': 'Ht', '#text': '224'}}}}\n",
      " {'team': {'ID': '21', 'City': 'Vancouver', 'Name': 'Canucks', 'Abbreviation': 'VAN'}, 'rank': '8', 'stats': {'GamesPlayed': {'@abbreviation': 'GP', '#text': '10'}, 'stats': {'Wins': {'@abbreviation': 'W', '#text': '6'}, 'Losses': {'@abbreviation': 'L', '#text': '3'}, 'OvertimeWins': {'@abbreviation': 'OTW', '#text': '0'}, 'OvertimeLosses': {'@abbreviation': 'OTL', '#text': '1'}, 'GoalsFor': {'@abbreviation': 'GF', '#text': '30'}, 'GoalsAgainst': {'@abbreviation': 'GA', '#text': '24'}, 'FaceoffWins': {'@abbreviation': 'F/O W', '#text': '326'}, 'FaceoffLosses': {'@abbreviation': 'F/O L', '#text': '298'}, 'FaceoffPercent': {'@abbreviation': 'F/O %', '#text': '52.2'}, 'Powerplays': {'@abbreviation': 'PP', '#text': '46'}, 'PowerplayGoals': {'@abbreviation': 'PPG', '#text': '7'}, 'PowerplayPercent': {'@abbreviation': 'PP%', '#text': '15.2'}, 'PenaltyKills': {'@abbreviation': 'PK', '#text': '34'}, 'PenaltyKillGoalsAllowed': {'@abbreviation': 'PKGA', '#text': '6'}, 'PenaltyKillPercent': {'@abbreviation': 'PK%', '#text': '82.4'}, 'ShorthandedGoalsFor': {'@abbreviation': 'SHGF', '#text': '1'}, 'ShorthandedGoalsAgainst': {'@abbreviation': 'SHGA', '#text': '2'}, 'Points': {'@abbreviation': 'Pts', '#text': '13'}, 'Shots': {'@abbreviation': 'Sh', '#text': '301'}, 'BlockedShots': {'@abbreviation': 'BS', '#text': '11'}, 'Penalties': {'@abbreviation': 'Pn', '#text': '48'}, 'PenaltyMinutes': {'@abbreviation': 'PIM', '#text': '140'}, 'Hits': {'@abbreviation': 'Ht', '#text': '153'}}}}\n",
      " {'team': {'ID': '7', 'City': 'New Jersey', 'Name': 'Devils', 'Abbreviation': 'NJD'}, 'rank': '9', 'stats': {'GamesPlayed': {'@abbreviation': 'GP', '#text': '8'}, 'stats': {'Wins': {'@abbreviation': 'W', '#text': '6'}, 'Losses': {'@abbreviation': 'L', '#text': '2'}, 'OvertimeWins': {'@abbreviation': 'OTW', '#text': '0'}, 'OvertimeLosses': {'@abbreviation': 'OTL', '#text': '0'}, 'GoalsFor': {'@abbreviation': 'GF', '#text': '30'}, 'GoalsAgainst': {'@abbreviation': 'GA', '#text': '24'}, 'FaceoffWins': {'@abbreviation': 'F/O W', '#text': '239'}, 'FaceoffLosses': {'@abbreviation': 'F/O L', '#text': '271'}, 'FaceoffPercent': {'@abbreviation': 'F/O %', '#text': '46.9'}, 'Powerplays': {'@abbreviation': 'PP', '#text': '37'}, 'PowerplayGoals': {'@abbreviation': 'PPG', '#text': '8'}, 'PowerplayPercent': {'@abbreviation': 'PP%', '#text': '21.6'}, 'PenaltyKills': {'@abbreviation': 'PK', '#text': '42'}, 'PenaltyKillGoalsAllowed': {'@abbreviation': 'PKGA', '#text': '9'}, 'PenaltyKillPercent': {'@abbreviation': 'PK%', '#text': '78.6'}, 'ShorthandedGoalsFor': {'@abbreviation': 'SHGF', '#text': '3'}, 'ShorthandedGoalsAgainst': {'@abbreviation': 'SHGA', '#text': '0'}, 'Points': {'@abbreviation': 'Pts', '#text': '12'}, 'Shots': {'@abbreviation': 'Sh', '#text': '251'}, 'BlockedShots': {'@abbreviation': 'BS', '#text': '0'}, 'Penalties': {'@abbreviation': 'Pn', '#text': '47'}, 'PenaltyMinutes': {'@abbreviation': 'PIM', '#text': '120'}, 'Hits': {'@abbreviation': 'Ht', '#text': '191'}}}}\n",
      " {'team': {'ID': '19', 'City': 'Columbus', 'Name': 'Blue Jackets', 'Abbreviation': 'CBJ'}, 'rank': '10', 'stats': {'GamesPlayed': {'@abbreviation': 'GP', '#text': '9'}, 'stats': {'Wins': {'@abbreviation': 'W', '#text': '6'}, 'Losses': {'@abbreviation': 'L', '#text': '3'}, 'OvertimeWins': {'@abbreviation': 'OTW', '#text': '0'}, 'OvertimeLosses': {'@abbreviation': 'OTL', '#text': '0'}, 'GoalsFor': {'@abbreviation': 'GF', '#text': '30'}, 'GoalsAgainst': {'@abbreviation': 'GA', '#text': '22'}, 'FaceoffWins': {'@abbreviation': 'F/O W', '#text': '247'}, 'FaceoffLosses': {'@abbreviation': 'F/O L', '#text': '321'}, 'FaceoffPercent': {'@abbreviation': 'F/O %', '#text': '43.5'}, 'Powerplays': {'@abbreviation': 'PP', '#text': '24'}, 'PowerplayGoals': {'@abbreviation': 'PPG', '#text': '3'}, 'PowerplayPercent': {'@abbreviation': 'PP%', '#text': '12.5'}, 'PenaltyKills': {'@abbreviation': 'PK', '#text': '19'}, 'PenaltyKillGoalsAllowed': {'@abbreviation': 'PKGA', '#text': '3'}, 'PenaltyKillPercent': {'@abbreviation': 'PK%', '#text': '84.2'}, 'ShorthandedGoalsFor': {'@abbreviation': 'SHGF', '#text': '0'}, 'ShorthandedGoalsAgainst': {'@abbreviation': 'SHGA', '#text': '1'}, 'Points': {'@abbreviation': 'Pts', '#text': '12'}, 'Shots': {'@abbreviation': 'Sh', '#text': '331'}, 'BlockedShots': {'@abbreviation': 'BS', '#text': '11'}, 'Penalties': {'@abbreviation': 'Pn', '#text': '24'}, 'PenaltyMinutes': {'@abbreviation': 'PIM', '#text': '54'}, 'Hits': {'@abbreviation': 'Ht', '#text': '173'}}}}\n",
      " {'team': {'ID': '20', 'City': 'Chicago', 'Name': 'Blackhawks', 'Abbreviation': 'CHI'}, 'rank': '11', 'stats': {'GamesPlayed': {'@abbreviation': 'GP', '#text': '10'}, 'stats': {'Wins': {'@abbreviation': 'W', '#text': '5'}, 'Losses': {'@abbreviation': 'L', '#text': '3'}, 'OvertimeWins': {'@abbreviation': 'OTW', '#text': '0'}, 'OvertimeLosses': {'@abbreviation': 'OTL', '#text': '2'}, 'GoalsFor': {'@abbreviation': 'GF', '#text': '34'}, 'GoalsAgainst': {'@abbreviation': 'GA', '#text': '26'}, 'FaceoffWins': {'@abbreviation': 'F/O W', '#text': '325'}, 'FaceoffLosses': {'@abbreviation': 'F/O L', '#text': '323'}, 'FaceoffPercent': {'@abbreviation': 'F/O %', '#text': '50.2'}, 'Powerplays': {'@abbreviation': 'PP', '#text': '45'}, 'PowerplayGoals': {'@abbreviation': 'PPG', '#text': '7'}, 'PowerplayPercent': {'@abbreviation': 'PP%', '#text': '15.6'}, 'PenaltyKills': {'@abbreviation': 'PK', '#text': '40'}, 'PenaltyKillGoalsAllowed': {'@abbreviation': 'PKGA', '#text': '6'}, 'PenaltyKillPercent': {'@abbreviation': 'PK%', '#text': '85.0'}, 'ShorthandedGoalsFor': {'@abbreviation': 'SHGF', '#text': '1'}, 'ShorthandedGoalsAgainst': {'@abbreviation': 'SHGA', '#text': '0'}, 'Points': {'@abbreviation': 'Pts', '#text': '12'}, 'Shots': {'@abbreviation': 'Sh', '#text': '307'}, 'BlockedShots': {'@abbreviation': 'BS', '#text': '0'}, 'Penalties': {'@abbreviation': 'Pn', '#text': '48'}, 'PenaltyMinutes': {'@abbreviation': 'PIM', '#text': '102'}, 'Hits': {'@abbreviation': 'Ht', '#text': '213'}}}}\n",
      " {'team': {'ID': '8', 'City': 'New York', 'Name': 'Islanders', 'Abbreviation': 'NYI'}, 'rank': '12', 'stats': {'GamesPlayed': {'@abbreviation': 'GP', '#text': '10'}, 'stats': {'Wins': {'@abbreviation': 'W', '#text': '5'}, 'Losses': {'@abbreviation': 'L', '#text': '4'}, 'OvertimeWins': {'@abbreviation': 'OTW', '#text': '0'}, 'OvertimeLosses': {'@abbreviation': 'OTL', '#text': '1'}, 'GoalsFor': {'@abbreviation': 'GF', '#text': '32'}, 'GoalsAgainst': {'@abbreviation': 'GA', '#text': '32'}, 'FaceoffWins': {'@abbreviation': 'F/O W', '#text': '275'}, 'FaceoffLosses': {'@abbreviation': 'F/O L', '#text': '310'}, 'FaceoffPercent': {'@abbreviation': 'F/O %', '#text': '47.0'}, 'Powerplays': {'@abbreviation': 'PP', '#text': '32'}, 'PowerplayGoals': {'@abbreviation': 'PPG', '#text': '2'}, 'PowerplayPercent': {'@abbreviation': 'PP%', '#text': '6.2'}, 'PenaltyKills': {'@abbreviation': 'PK', '#text': '29'}, 'PenaltyKillGoalsAllowed': {'@abbreviation': 'PKGA', '#text': '6'}, 'PenaltyKillPercent': {'@abbreviation': 'PK%', '#text': '79.3'}, 'ShorthandedGoalsFor': {'@abbreviation': 'SHGF', '#text': '2'}, 'ShorthandedGoalsAgainst': {'@abbreviation': 'SHGA', '#text': '5'}, 'Points': {'@abbreviation': 'Pts', '#text': '11'}, 'Shots': {'@abbreviation': 'Sh', '#text': '312'}, 'BlockedShots': {'@abbreviation': 'BS', '#text': '4'}, 'Penalties': {'@abbreviation': 'Pn', '#text': '33'}, 'PenaltyMinutes': {'@abbreviation': 'PIM', '#text': '69'}, 'Hits': {'@abbreviation': 'Ht', '#text': '213'}}}}\n",
      " {'team': {'ID': '22', 'City': 'Colorado', 'Name': 'Avalanche', 'Abbreviation': 'COL'}, 'rank': '13', 'stats': {'GamesPlayed': {'@abbreviation': 'GP', '#text': '9'}, 'stats': {'Wins': {'@abbreviation': 'W', '#text': '5'}, 'Losses': {'@abbreviation': 'L', '#text': '4'}, 'OvertimeWins': {'@abbreviation': 'OTW', '#text': '0'}, 'OvertimeLosses': {'@abbreviation': 'OTL', '#text': '0'}, 'GoalsFor': {'@abbreviation': 'GF', '#text': '28'}, 'GoalsAgainst': {'@abbreviation': 'GA', '#text': '24'}, 'FaceoffWins': {'@abbreviation': 'F/O W', '#text': '246'}, 'FaceoffLosses': {'@abbreviation': 'F/O L', '#text': '299'}, 'FaceoffPercent': {'@abbreviation': 'F/O %', '#text': '45.1'}, 'Powerplays': {'@abbreviation': 'PP', '#text': '42'}, 'PowerplayGoals': {'@abbreviation': 'PPG', '#text': '6'}, 'PowerplayPercent': {'@abbreviation': 'PP%', '#text': '14.3'}, 'PenaltyKills': {'@abbreviation': 'PK', '#text': '36'}, 'PenaltyKillGoalsAllowed': {'@abbreviation': 'PKGA', '#text': '8'}, 'PenaltyKillPercent': {'@abbreviation': 'PK%', '#text': '77.8'}, 'ShorthandedGoalsFor': {'@abbreviation': 'SHGF', '#text': '1'}, 'ShorthandedGoalsAgainst': {'@abbreviation': 'SHGA', '#text': '2'}, 'Points': {'@abbreviation': 'Pts', '#text': '10'}, 'Shots': {'@abbreviation': 'Sh', '#text': '284'}, 'BlockedShots': {'@abbreviation': 'BS', '#text': '0'}, 'Penalties': {'@abbreviation': 'Pn', '#text': '41'}, 'PenaltyMinutes': {'@abbreviation': 'PIM', '#text': '93'}, 'Hits': {'@abbreviation': 'Ht', '#text': '148'}}}}\n",
      " {'team': {'ID': '18', 'City': 'Nashville', 'Name': 'Predators', 'Abbreviation': 'NSH'}, 'rank': '14', 'stats': {'GamesPlayed': {'@abbreviation': 'GP', '#text': '9'}, 'stats': {'Wins': {'@abbreviation': 'W', '#text': '4'}, 'Losses': {'@abbreviation': 'L', '#text': '3'}, 'OvertimeWins': {'@abbreviation': 'OTW', '#text': '0'}, 'OvertimeLosses': {'@abbreviation': 'OTL', '#text': '2'}, 'GoalsFor': {'@abbreviation': 'GF', '#text': '23'}, 'GoalsAgainst': {'@abbreviation': 'GA', '#text': '23'}, 'FaceoffWins': {'@abbreviation': 'F/O W', '#text': '296'}, 'FaceoffLosses': {'@abbreviation': 'F/O L', '#text': '271'}, 'FaceoffPercent': {'@abbreviation': 'F/O %', '#text': '52.2'}, 'Powerplays': {'@abbreviation': 'PP', '#text': '36'}, 'PowerplayGoals': {'@abbreviation': 'PPG', '#text': '10'}, 'PowerplayPercent': {'@abbreviation': 'PP%', '#text': '27.8'}, 'PenaltyKills': {'@abbreviation': 'PK', '#text': '43'}, 'PenaltyKillGoalsAllowed': {'@abbreviation': 'PKGA', '#text': '6'}, 'PenaltyKillPercent': {'@abbreviation': 'PK%', '#text': '86.0'}, 'ShorthandedGoalsFor': {'@abbreviation': 'SHGF', '#text': '0'}, 'ShorthandedGoalsAgainst': {'@abbreviation': 'SHGA', '#text': '1'}, 'Points': {'@abbreviation': 'Pts', '#text': '10'}, 'Shots': {'@abbreviation': 'Sh', '#text': '268'}, 'BlockedShots': {'@abbreviation': 'BS', '#text': '0'}, 'Penalties': {'@abbreviation': 'Pn', '#text': '56'}, 'PenaltyMinutes': {'@abbreviation': 'PIM', '#text': '140'}, 'Hits': {'@abbreviation': 'Ht', '#text': '197'}}}}\n",
      " {'team': {'ID': '6', 'City': 'Philadelphia', 'Name': 'Flyers', 'Abbreviation': 'PHI'}, 'rank': '15', 'stats': {'GamesPlayed': {'@abbreviation': 'GP', '#text': '10'}, 'stats': {'Wins': {'@abbreviation': 'W', '#text': '5'}, 'Losses': {'@abbreviation': 'L', '#text': '5'}, 'OvertimeWins': {'@abbreviation': 'OTW', '#text': '0'}, 'OvertimeLosses': {'@abbreviation': 'OTL', '#text': '0'}, 'GoalsFor': {'@abbreviation': 'GF', '#text': '34'}, 'GoalsAgainst': {'@abbreviation': 'GA', '#text': '29'}, 'FaceoffWins': {'@abbreviation': 'F/O W', '#text': '305'}, 'FaceoffLosses': {'@abbreviation': 'F/O L', '#text': '303'}, 'FaceoffPercent': {'@abbreviation': 'F/O %', '#text': '50.2'}, 'Powerplays': {'@abbreviation': 'PP', '#text': '41'}, 'PowerplayGoals': {'@abbreviation': 'PPG', '#text': '8'}, 'PowerplayPercent': {'@abbreviation': 'PP%', '#text': '19.5'}, 'PenaltyKills': {'@abbreviation': 'PK', '#text': '37'}, 'PenaltyKillGoalsAllowed': {'@abbreviation': 'PKGA', '#text': '8'}, 'PenaltyKillPercent': {'@abbreviation': 'PK%', '#text': '78.4'}, 'ShorthandedGoalsFor': {'@abbreviation': 'SHGF', '#text': '1'}, 'ShorthandedGoalsAgainst': {'@abbreviation': 'SHGA', '#text': '2'}, 'Points': {'@abbreviation': 'Pts', '#text': '10'}, 'Shots': {'@abbreviation': 'Sh', '#text': '334'}, 'BlockedShots': {'@abbreviation': 'BS', '#text': '13'}, 'Penalties': {'@abbreviation': 'Pn', '#text': '46'}, 'PenaltyMinutes': {'@abbreviation': 'PIM', '#text': '119'}, 'Hits': {'@abbreviation': 'Ht', '#text': '174'}}}}\n",
      " {'team': {'ID': '27', 'City': 'Dallas', 'Name': 'Stars', 'Abbreviation': 'DAL'}, 'rank': '16', 'stats': {'GamesPlayed': {'@abbreviation': 'GP', '#text': '10'}, 'stats': {'Wins': {'@abbreviation': 'W', '#text': '5'}, 'Losses': {'@abbreviation': 'L', '#text': '5'}, 'OvertimeWins': {'@abbreviation': 'OTW', '#text': '0'}, 'OvertimeLosses': {'@abbreviation': 'OTL', '#text': '0'}, 'GoalsFor': {'@abbreviation': 'GF', '#text': '30'}, 'GoalsAgainst': {'@abbreviation': 'GA', '#text': '31'}, 'FaceoffWins': {'@abbreviation': 'F/O W', '#text': '359'}, 'FaceoffLosses': {'@abbreviation': 'F/O L', '#text': '306'}, 'FaceoffPercent': {'@abbreviation': 'F/O %', '#text': '54.0'}, 'Powerplays': {'@abbreviation': 'PP', '#text': '31'}, 'PowerplayGoals': {'@abbreviation': 'PPG', '#text': '9'}, 'PowerplayPercent': {'@abbreviation': 'PP%', '#text': '29.0'}, 'PenaltyKills': {'@abbreviation': 'PK', '#text': '37'}, 'PenaltyKillGoalsAllowed': {'@abbreviation': 'PKGA', '#text': '3'}, 'PenaltyKillPercent': {'@abbreviation': 'PK%', '#text': '91.9'}, 'ShorthandedGoalsFor': {'@abbreviation': 'SHGF', '#text': '0'}, 'ShorthandedGoalsAgainst': {'@abbreviation': 'SHGA', '#text': '0'}, 'Points': {'@abbreviation': 'Pts', '#text': '10'}, 'Shots': {'@abbreviation': 'Sh', '#text': '346'}, 'BlockedShots': {'@abbreviation': 'BS', '#text': '25'}, 'Penalties': {'@abbreviation': 'Pn', '#text': '42'}, 'PenaltyMinutes': {'@abbreviation': 'PIM', '#text': '99'}, 'Hits': {'@abbreviation': 'Ht', '#text': '227'}}}}\n",
      " {'team': {'ID': '23', 'City': 'Calgary', 'Name': 'Flames', 'Abbreviation': 'CGY'}, 'rank': '17', 'stats': {'GamesPlayed': {'@abbreviation': 'GP', '#text': '10'}, 'stats': {'Wins': {'@abbreviation': 'W', '#text': '5'}, 'Losses': {'@abbreviation': 'L', '#text': '5'}, 'OvertimeWins': {'@abbreviation': 'OTW', '#text': '0'}, 'OvertimeLosses': {'@abbreviation': 'OTL', '#text': '0'}, 'GoalsFor': {'@abbreviation': 'GF', '#text': '24'}, 'GoalsAgainst': {'@abbreviation': 'GA', '#text': '30'}, 'FaceoffWins': {'@abbreviation': 'F/O W', '#text': '291'}, 'FaceoffLosses': {'@abbreviation': 'F/O L', '#text': '331'}, 'FaceoffPercent': {'@abbreviation': 'F/O %', '#text': '46.8'}, 'Powerplays': {'@abbreviation': 'PP', '#text': '37'}, 'PowerplayGoals': {'@abbreviation': 'PPG', '#text': '6'}, 'PowerplayPercent': {'@abbreviation': 'PP%', '#text': '16.2'}, 'PenaltyKills': {'@abbreviation': 'PK', '#text': '44'}, 'PenaltyKillGoalsAllowed': {'@abbreviation': 'PKGA', '#text': '9'}, 'PenaltyKillPercent': {'@abbreviation': 'PK%', '#text': '79.5'}, 'ShorthandedGoalsFor': {'@abbreviation': 'SHGF', '#text': '1'}, 'ShorthandedGoalsAgainst': {'@abbreviation': 'SHGA', '#text': '1'}, 'Points': {'@abbreviation': 'Pts', '#text': '10'}, 'Shots': {'@abbreviation': 'Sh', '#text': '309'}, 'BlockedShots': {'@abbreviation': 'BS', '#text': '13'}, 'Penalties': {'@abbreviation': 'Pn', '#text': '50'}, 'PenaltyMinutes': {'@abbreviation': 'PIM', '#text': '111'}, 'Hits': {'@abbreviation': 'Ht', '#text': '194'}}}}\n",
      " {'team': {'ID': '11', 'City': 'Boston', 'Name': 'Bruins', 'Abbreviation': 'BOS'}, 'rank': '18', 'stats': {'GamesPlayed': {'@abbreviation': 'GP', '#text': '8'}, 'stats': {'Wins': {'@abbreviation': 'W', '#text': '4'}, 'Losses': {'@abbreviation': 'L', '#text': '3'}, 'OvertimeWins': {'@abbreviation': 'OTW', '#text': '0'}, 'OvertimeLosses': {'@abbreviation': 'OTL', '#text': '1'}, 'GoalsFor': {'@abbreviation': 'GF', '#text': '26'}, 'GoalsAgainst': {'@abbreviation': 'GA', '#text': '27'}, 'FaceoffWins': {'@abbreviation': 'F/O W', '#text': '269'}, 'FaceoffLosses': {'@abbreviation': 'F/O L', '#text': '251'}, 'FaceoffPercent': {'@abbreviation': 'F/O %', '#text': '51.7'}, 'Powerplays': {'@abbreviation': 'PP', '#text': '27'}, 'PowerplayGoals': {'@abbreviation': 'PPG', '#text': '9'}, 'PowerplayPercent': {'@abbreviation': 'PP%', '#text': '33.3'}, 'PenaltyKills': {'@abbreviation': 'PK', '#text': '34'}, 'PenaltyKillGoalsAllowed': {'@abbreviation': 'PKGA', '#text': '6'}, 'PenaltyKillPercent': {'@abbreviation': 'PK%', '#text': '82.4'}, 'ShorthandedGoalsFor': {'@abbreviation': 'SHGF', '#text': '2'}, 'ShorthandedGoalsAgainst': {'@abbreviation': 'SHGA', '#text': '1'}, 'Points': {'@abbreviation': 'Pts', '#text': '9'}, 'Shots': {'@abbreviation': 'Sh', '#text': '234'}, 'BlockedShots': {'@abbreviation': 'BS', '#text': '16'}, 'Penalties': {'@abbreviation': 'Pn', '#text': '40'}, 'PenaltyMinutes': {'@abbreviation': 'PIM', '#text': '95'}, 'Hits': {'@abbreviation': 'Ht', '#text': '191'}}}}\n",
      " {'team': {'ID': '3', 'City': 'Carolina', 'Name': 'Hurricanes', 'Abbreviation': 'CAR'}, 'rank': '19', 'stats': {'GamesPlayed': {'@abbreviation': 'GP', '#text': '8'}, 'stats': {'Wins': {'@abbreviation': 'W', '#text': '4'}, 'Losses': {'@abbreviation': 'L', '#text': '3'}, 'OvertimeWins': {'@abbreviation': 'OTW', '#text': '0'}, 'OvertimeLosses': {'@abbreviation': 'OTL', '#text': '1'}, 'GoalsFor': {'@abbreviation': 'GF', '#text': '23'}, 'GoalsAgainst': {'@abbreviation': 'GA', '#text': '24'}, 'FaceoffWins': {'@abbreviation': 'F/O W', '#text': '248'}, 'FaceoffLosses': {'@abbreviation': 'F/O L', '#text': '241'}, 'FaceoffPercent': {'@abbreviation': 'F/O %', '#text': '50.7'}, 'Powerplays': {'@abbreviation': 'PP', '#text': '31'}, 'PowerplayGoals': {'@abbreviation': 'PPG', '#text': '5'}, 'PowerplayPercent': {'@abbreviation': 'PP%', '#text': '16.1'}, 'PenaltyKills': {'@abbreviation': 'PK', '#text': '21'}, 'PenaltyKillGoalsAllowed': {'@abbreviation': 'PKGA', '#text': '4'}, 'PenaltyKillPercent': {'@abbreviation': 'PK%', '#text': '81.0'}, 'ShorthandedGoalsFor': {'@abbreviation': 'SHGF', '#text': '1'}, 'ShorthandedGoalsAgainst': {'@abbreviation': 'SHGA', '#text': '0'}, 'Points': {'@abbreviation': 'Pts', '#text': '9'}, 'Shots': {'@abbreviation': 'Sh', '#text': '272'}, 'BlockedShots': {'@abbreviation': 'BS', '#text': '14'}, 'Penalties': {'@abbreviation': 'Pn', '#text': '23'}, 'PenaltyMinutes': {'@abbreviation': 'PIM', '#text': '46'}, 'Hits': {'@abbreviation': 'Ht', '#text': '116'}}}}\n",
      " {'team': {'ID': '47', 'City': 'Winnipeg', 'Name': 'Jets', 'Abbreviation': 'WPJ'}, 'rank': '20', 'stats': {'GamesPlayed': {'@abbreviation': 'GP', '#text': '8'}, 'stats': {'Wins': {'@abbreviation': 'W', '#text': '4'}, 'Losses': {'@abbreviation': 'L', '#text': '3'}, 'OvertimeWins': {'@abbreviation': 'OTW', '#text': '0'}, 'OvertimeLosses': {'@abbreviation': 'OTL', '#text': '1'}, 'GoalsFor': {'@abbreviation': 'GF', '#text': '23'}, 'GoalsAgainst': {'@abbreviation': 'GA', '#text': '28'}, 'FaceoffWins': {'@abbreviation': 'F/O W', '#text': '248'}, 'FaceoffLosses': {'@abbreviation': 'F/O L', '#text': '250'}, 'FaceoffPercent': {'@abbreviation': 'F/O %', '#text': '49.8'}, 'Powerplays': {'@abbreviation': 'PP', '#text': '25'}, 'PowerplayGoals': {'@abbreviation': 'PPG', '#text': '4'}, 'PowerplayPercent': {'@abbreviation': 'PP%', '#text': '16.0'}, 'PenaltyKills': {'@abbreviation': 'PK', '#text': '29'}, 'PenaltyKillGoalsAllowed': {'@abbreviation': 'PKGA', '#text': '7'}, 'PenaltyKillPercent': {'@abbreviation': 'PK%', '#text': '75.9'}, 'ShorthandedGoalsFor': {'@abbreviation': 'SHGF', '#text': '3'}, 'ShorthandedGoalsAgainst': {'@abbreviation': 'SHGA', '#text': '0'}, 'Points': {'@abbreviation': 'Pts', '#text': '9'}, 'Shots': {'@abbreviation': 'Sh', '#text': '236'}, 'BlockedShots': {'@abbreviation': 'BS', '#text': '20'}, 'Penalties': {'@abbreviation': 'Pn', '#text': '30'}, 'PenaltyMinutes': {'@abbreviation': 'PIM', '#text': '60'}, 'Hits': {'@abbreviation': 'Ht', '#text': '155'}}}}\n",
      " {'team': {'ID': '29', 'City': 'Anaheim', 'Name': 'Ducks', 'Abbreviation': 'ANA'}, 'rank': '21', 'stats': {'GamesPlayed': {'@abbreviation': 'GP', '#text': '9'}, 'stats': {'Wins': {'@abbreviation': 'W', '#text': '4'}, 'Losses': {'@abbreviation': 'L', '#text': '4'}, 'OvertimeWins': {'@abbreviation': 'OTW', '#text': '0'}, 'OvertimeLosses': {'@abbreviation': 'OTL', '#text': '1'}, 'GoalsFor': {'@abbreviation': 'GF', '#text': '27'}, 'GoalsAgainst': {'@abbreviation': 'GA', '#text': '29'}, 'FaceoffWins': {'@abbreviation': 'F/O W', '#text': '303'}, 'FaceoffLosses': {'@abbreviation': 'F/O L', '#text': '259'}, 'FaceoffPercent': {'@abbreviation': 'F/O %', '#text': '53.9'}, 'Powerplays': {'@abbreviation': 'PP', '#text': '30'}, 'PowerplayGoals': {'@abbreviation': 'PPG', '#text': '2'}, 'PowerplayPercent': {'@abbreviation': 'PP%', '#text': '6.7'}, 'PenaltyKills': {'@abbreviation': 'PK', '#text': '44'}, 'PenaltyKillGoalsAllowed': {'@abbreviation': 'PKGA', '#text': '7'}, 'PenaltyKillPercent': {'@abbreviation': 'PK%', '#text': '84.1'}, 'ShorthandedGoalsFor': {'@abbreviation': 'SHGF', '#text': '3'}, 'ShorthandedGoalsAgainst': {'@abbreviation': 'SHGA', '#text': '1'}, 'Points': {'@abbreviation': 'Pts', '#text': '9'}, 'Shots': {'@abbreviation': 'Sh', '#text': '285'}, 'BlockedShots': {'@abbreviation': 'BS', '#text': '3'}, 'Penalties': {'@abbreviation': 'Pn', '#text': '55'}, 'PenaltyMinutes': {'@abbreviation': 'PIM', '#text': '143'}, 'Hits': {'@abbreviation': 'Ht', '#text': '198'}}}}\n",
      " {'team': {'ID': '5', 'City': 'Washington', 'Name': 'Capitals', 'Abbreviation': 'WSH'}, 'rank': '22', 'stats': {'GamesPlayed': {'@abbreviation': 'GP', '#text': '10'}, 'stats': {'Wins': {'@abbreviation': 'W', '#text': '4'}, 'Losses': {'@abbreviation': 'L', '#text': '5'}, 'OvertimeWins': {'@abbreviation': 'OTW', '#text': '0'}, 'OvertimeLosses': {'@abbreviation': 'OTL', '#text': '1'}, 'GoalsFor': {'@abbreviation': 'GF', '#text': '29'}, 'GoalsAgainst': {'@abbreviation': 'GA', '#text': '37'}, 'FaceoffWins': {'@abbreviation': 'F/O W', '#text': '322'}, 'FaceoffLosses': {'@abbreviation': 'F/O L', '#text': '316'}, 'FaceoffPercent': {'@abbreviation': 'F/O %', '#text': '50.5'}, 'Powerplays': {'@abbreviation': 'PP', '#text': '32'}, 'PowerplayGoals': {'@abbreviation': 'PPG', '#text': '8'}, 'PowerplayPercent': {'@abbreviation': 'PP%', '#text': '25.0'}, 'PenaltyKills': {'@abbreviation': 'PK', '#text': '47'}, 'PenaltyKillGoalsAllowed': {'@abbreviation': 'PKGA', '#text': '12'}, 'PenaltyKillPercent': {'@abbreviation': 'PK%', '#text': '74.5'}, 'ShorthandedGoalsFor': {'@abbreviation': 'SHGF', '#text': '1'}, 'ShorthandedGoalsAgainst': {'@abbreviation': 'SHGA', '#text': '4'}, 'Points': {'@abbreviation': 'Pts', '#text': '9'}, 'Shots': {'@abbreviation': 'Sh', '#text': '290'}, 'BlockedShots': {'@abbreviation': 'BS', '#text': '10'}, 'Penalties': {'@abbreviation': 'Pn', '#text': '54'}, 'PenaltyMinutes': {'@abbreviation': 'PIM', '#text': '141'}, 'Hits': {'@abbreviation': 'Ht', '#text': '209'}}}}\n",
      " {'team': {'ID': '16', 'City': 'Detroit', 'Name': 'Red Wings', 'Abbreviation': 'DET'}, 'rank': '23', 'stats': {'GamesPlayed': {'@abbreviation': 'GP', '#text': '11'}, 'stats': {'Wins': {'@abbreviation': 'W', '#text': '4'}, 'Losses': {'@abbreviation': 'L', '#text': '6'}, 'OvertimeWins': {'@abbreviation': 'OTW', '#text': '0'}, 'OvertimeLosses': {'@abbreviation': 'OTL', '#text': '1'}, 'GoalsFor': {'@abbreviation': 'GF', '#text': '28'}, 'GoalsAgainst': {'@abbreviation': 'GA', '#text': '33'}, 'FaceoffWins': {'@abbreviation': 'F/O W', '#text': '320'}, 'FaceoffLosses': {'@abbreviation': 'F/O L', '#text': '362'}, 'FaceoffPercent': {'@abbreviation': 'F/O %', '#text': '46.9'}, 'Powerplays': {'@abbreviation': 'PP', '#text': '41'}, 'PowerplayGoals': {'@abbreviation': 'PPG', '#text': '6'}, 'PowerplayPercent': {'@abbreviation': 'PP%', '#text': '14.6'}, 'PenaltyKills': {'@abbreviation': 'PK', '#text': '47'}, 'PenaltyKillGoalsAllowed': {'@abbreviation': 'PKGA', '#text': '8'}, 'PenaltyKillPercent': {'@abbreviation': 'PK%', '#text': '83.0'}, 'ShorthandedGoalsFor': {'@abbreviation': 'SHGF', '#text': '3'}, 'ShorthandedGoalsAgainst': {'@abbreviation': 'SHGA', '#text': '2'}, 'Points': {'@abbreviation': 'Pts', '#text': '9'}, 'Shots': {'@abbreviation': 'Sh', '#text': '331'}, 'BlockedShots': {'@abbreviation': 'BS', '#text': '14'}, 'Penalties': {'@abbreviation': 'Pn', '#text': '56'}, 'PenaltyMinutes': {'@abbreviation': 'PIM', '#text': '118'}, 'Hits': {'@abbreviation': 'Ht', '#text': '225'}}}}\n",
      " {'team': {'ID': '25', 'City': 'Minnesota', 'Name': 'Wild', 'Abbreviation': 'MIN'}, 'rank': '24', 'stats': {'GamesPlayed': {'@abbreviation': 'GP', '#text': '8'}, 'stats': {'Wins': {'@abbreviation': 'W', '#text': '3'}, 'Losses': {'@abbreviation': 'L', '#text': '3'}, 'OvertimeWins': {'@abbreviation': 'OTW', '#text': '0'}, 'OvertimeLosses': {'@abbreviation': 'OTL', '#text': '2'}, 'GoalsFor': {'@abbreviation': 'GF', '#text': '28'}, 'GoalsAgainst': {'@abbreviation': 'GA', '#text': '26'}, 'FaceoffWins': {'@abbreviation': 'F/O W', '#text': '273'}, 'FaceoffLosses': {'@abbreviation': 'F/O L', '#text': '238'}, 'FaceoffPercent': {'@abbreviation': 'F/O %', '#text': '53.4'}, 'Powerplays': {'@abbreviation': 'PP', '#text': '25'}, 'PowerplayGoals': {'@abbreviation': 'PPG', '#text': '6'}, 'PowerplayPercent': {'@abbreviation': 'PP%', '#text': '24.0'}, 'PenaltyKills': {'@abbreviation': 'PK', '#text': '35'}, 'PenaltyKillGoalsAllowed': {'@abbreviation': 'PKGA', '#text': '7'}, 'PenaltyKillPercent': {'@abbreviation': 'PK%', '#text': '80.0'}, 'ShorthandedGoalsFor': {'@abbreviation': 'SHGF', '#text': '2'}, 'ShorthandedGoalsAgainst': {'@abbreviation': 'SHGA', '#text': '0'}, 'Points': {'@abbreviation': 'Pts', '#text': '8'}, 'Shots': {'@abbreviation': 'Sh', '#text': '242'}, 'BlockedShots': {'@abbreviation': 'BS', '#text': '22'}, 'Penalties': {'@abbreviation': 'Pn', '#text': '37'}, 'PenaltyMinutes': {'@abbreviation': 'PIM', '#text': '77'}, 'Hits': {'@abbreviation': 'Ht', '#text': '151'}}}}\n",
      " {'team': {'ID': '4', 'City': 'Florida', 'Name': 'Panthers', 'Abbreviation': 'FLO'}, 'rank': '25', 'stats': {'GamesPlayed': {'@abbreviation': 'GP', '#text': '9'}, 'stats': {'Wins': {'@abbreviation': 'W', '#text': '4'}, 'Losses': {'@abbreviation': 'L', '#text': '5'}, 'OvertimeWins': {'@abbreviation': 'OTW', '#text': '0'}, 'OvertimeLosses': {'@abbreviation': 'OTL', '#text': '0'}, 'GoalsFor': {'@abbreviation': 'GF', '#text': '33'}, 'GoalsAgainst': {'@abbreviation': 'GA', '#text': '33'}, 'FaceoffWins': {'@abbreviation': 'F/O W', '#text': '305'}, 'FaceoffLosses': {'@abbreviation': 'F/O L', '#text': '290'}, 'FaceoffPercent': {'@abbreviation': 'F/O %', '#text': '51.3'}, 'Powerplays': {'@abbreviation': 'PP', '#text': '37'}, 'PowerplayGoals': {'@abbreviation': 'PPG', '#text': '7'}, 'PowerplayPercent': {'@abbreviation': 'PP%', '#text': '18.9'}, 'PenaltyKills': {'@abbreviation': 'PK', '#text': '36'}, 'PenaltyKillGoalsAllowed': {'@abbreviation': 'PKGA', '#text': '10'}, 'PenaltyKillPercent': {'@abbreviation': 'PK%', '#text': '72.2'}, 'ShorthandedGoalsFor': {'@abbreviation': 'SHGF', '#text': '3'}, 'ShorthandedGoalsAgainst': {'@abbreviation': 'SHGA', '#text': '1'}, 'Points': {'@abbreviation': 'Pts', '#text': '8'}, 'Shots': {'@abbreviation': 'Sh', '#text': '312'}, 'BlockedShots': {'@abbreviation': 'BS', '#text': '11'}, 'Penalties': {'@abbreviation': 'Pn', '#text': '44'}, 'PenaltyMinutes': {'@abbreviation': 'PIM', '#text': '108'}, 'Hits': {'@abbreviation': 'Ht', '#text': '178'}}}}\n",
      " {'team': {'ID': '26', 'City': 'San Jose', 'Name': 'Sharks', 'Abbreviation': 'SJS'}, 'rank': '26', 'stats': {'GamesPlayed': {'@abbreviation': 'GP', '#text': '9'}, 'stats': {'Wins': {'@abbreviation': 'W', '#text': '4'}, 'Losses': {'@abbreviation': 'L', '#text': '5'}, 'OvertimeWins': {'@abbreviation': 'OTW', '#text': '0'}, 'OvertimeLosses': {'@abbreviation': 'OTL', '#text': '0'}, 'GoalsFor': {'@abbreviation': 'GF', '#text': '24'}, 'GoalsAgainst': {'@abbreviation': 'GA', '#text': '24'}, 'FaceoffWins': {'@abbreviation': 'F/O W', '#text': '288'}, 'FaceoffLosses': {'@abbreviation': 'F/O L', '#text': '250'}, 'FaceoffPercent': {'@abbreviation': 'F/O %', '#text': '53.5'}, 'Powerplays': {'@abbreviation': 'PP', '#text': '37'}, 'PowerplayGoals': {'@abbreviation': 'PPG', '#text': '8'}, 'PowerplayPercent': {'@abbreviation': 'PP%', '#text': '21.6'}, 'PenaltyKills': {'@abbreviation': 'PK', '#text': '38'}, 'PenaltyKillGoalsAllowed': {'@abbreviation': 'PKGA', '#text': '4'}, 'PenaltyKillPercent': {'@abbreviation': 'PK%', '#text': '89.5'}, 'ShorthandedGoalsFor': {'@abbreviation': 'SHGF', '#text': '0'}, 'ShorthandedGoalsAgainst': {'@abbreviation': 'SHGA', '#text': '1'}, 'Points': {'@abbreviation': 'Pts', '#text': '8'}, 'Shots': {'@abbreviation': 'Sh', '#text': '287'}, 'BlockedShots': {'@abbreviation': 'BS', '#text': '14'}, 'Penalties': {'@abbreviation': 'Pn', '#text': '39'}, 'PenaltyMinutes': {'@abbreviation': 'PIM', '#text': '78'}, 'Hits': {'@abbreviation': 'Ht', '#text': '187'}}}}\n",
      " {'team': {'ID': '9', 'City': 'New York', 'Name': 'Rangers', 'Abbreviation': 'NYR'}, 'rank': '27', 'stats': {'GamesPlayed': {'@abbreviation': 'GP', '#text': '11'}, 'stats': {'Wins': {'@abbreviation': 'W', '#text': '3'}, 'Losses': {'@abbreviation': 'L', '#text': '6'}, 'OvertimeWins': {'@abbreviation': 'OTW', '#text': '0'}, 'OvertimeLosses': {'@abbreviation': 'OTL', '#text': '2'}, 'GoalsFor': {'@abbreviation': 'GF', '#text': '30'}, 'GoalsAgainst': {'@abbreviation': 'GA', '#text': '37'}, 'FaceoffWins': {'@abbreviation': 'F/O W', '#text': '341'}, 'FaceoffLosses': {'@abbreviation': 'F/O L', '#text': '308'}, 'FaceoffPercent': {'@abbreviation': 'F/O %', '#text': '52.5'}, 'Powerplays': {'@abbreviation': 'PP', '#text': '44'}, 'PowerplayGoals': {'@abbreviation': 'PPG', '#text': '8'}, 'PowerplayPercent': {'@abbreviation': 'PP%', '#text': '18.2'}, 'PenaltyKills': {'@abbreviation': 'PK', '#text': '41'}, 'PenaltyKillGoalsAllowed': {'@abbreviation': 'PKGA', '#text': '9'}, 'PenaltyKillPercent': {'@abbreviation': 'PK%', '#text': '78.0'}, 'ShorthandedGoalsFor': {'@abbreviation': 'SHGF', '#text': '0'}, 'ShorthandedGoalsAgainst': {'@abbreviation': 'SHGA', '#text': '0'}, 'Points': {'@abbreviation': 'Pts', '#text': '8'}, 'Shots': {'@abbreviation': 'Sh', '#text': '353'}, 'BlockedShots': {'@abbreviation': 'BS', '#text': '13'}, 'Penalties': {'@abbreviation': 'Pn', '#text': '46'}, 'PenaltyMinutes': {'@abbreviation': 'PIM', '#text': '97'}, 'Hits': {'@abbreviation': 'Ht', '#text': '248'}}}}\n",
      " {'team': {'ID': '15', 'City': 'Buffalo', 'Name': 'Sabres', 'Abbreviation': 'BUF'}, 'rank': '28', 'stats': {'GamesPlayed': {'@abbreviation': 'GP', '#text': '11'}, 'stats': {'Wins': {'@abbreviation': 'W', '#text': '3'}, 'Losses': {'@abbreviation': 'L', '#text': '6'}, 'OvertimeWins': {'@abbreviation': 'OTW', '#text': '0'}, 'OvertimeLosses': {'@abbreviation': 'OTL', '#text': '2'}, 'GoalsFor': {'@abbreviation': 'GF', '#text': '27'}, 'GoalsAgainst': {'@abbreviation': 'GA', '#text': '40'}, 'FaceoffWins': {'@abbreviation': 'F/O W', '#text': '357'}, 'FaceoffLosses': {'@abbreviation': 'F/O L', '#text': '353'}, 'FaceoffPercent': {'@abbreviation': 'F/O %', '#text': '50.3'}, 'Powerplays': {'@abbreviation': 'PP', '#text': '36'}, 'PowerplayGoals': {'@abbreviation': 'PPG', '#text': '5'}, 'PowerplayPercent': {'@abbreviation': 'PP%', '#text': '13.9'}, 'PenaltyKills': {'@abbreviation': 'PK', '#text': '37'}, 'PenaltyKillGoalsAllowed': {'@abbreviation': 'PKGA', '#text': '7'}, 'PenaltyKillPercent': {'@abbreviation': 'PK%', '#text': '81.1'}, 'ShorthandedGoalsFor': {'@abbreviation': 'SHGF', '#text': '2'}, 'ShorthandedGoalsAgainst': {'@abbreviation': 'SHGA', '#text': '6'}, 'Points': {'@abbreviation': 'Pts', '#text': '8'}, 'Shots': {'@abbreviation': 'Sh', '#text': '345'}, 'BlockedShots': {'@abbreviation': 'BS', '#text': '10'}, 'Penalties': {'@abbreviation': 'Pn', '#text': '40'}, 'PenaltyMinutes': {'@abbreviation': 'PIM', '#text': '83'}, 'Hits': {'@abbreviation': 'Ht', '#text': '249'}}}}\n",
      " {'team': {'ID': '24', 'City': 'Edmonton', 'Name': 'Oilers', 'Abbreviation': 'EDM'}, 'rank': '29', 'stats': {'GamesPlayed': {'@abbreviation': 'GP', '#text': '9'}, 'stats': {'Wins': {'@abbreviation': 'W', '#text': '3'}, 'Losses': {'@abbreviation': 'L', '#text': '5'}, 'OvertimeWins': {'@abbreviation': 'OTW', '#text': '0'}, 'OvertimeLosses': {'@abbreviation': 'OTL', '#text': '1'}, 'GoalsFor': {'@abbreviation': 'GF', '#text': '20'}, 'GoalsAgainst': {'@abbreviation': 'GA', '#text': '28'}, 'FaceoffWins': {'@abbreviation': 'F/O W', '#text': '265'}, 'FaceoffLosses': {'@abbreviation': 'F/O L', '#text': '285'}, 'FaceoffPercent': {'@abbreviation': 'F/O %', '#text': '48.2'}, 'Powerplays': {'@abbreviation': 'PP', '#text': '30'}, 'PowerplayGoals': {'@abbreviation': 'PPG', '#text': '4'}, 'PowerplayPercent': {'@abbreviation': 'PP%', '#text': '13.3'}, 'PenaltyKills': {'@abbreviation': 'PK', '#text': '37'}, 'PenaltyKillGoalsAllowed': {'@abbreviation': 'PKGA', '#text': '11'}, 'PenaltyKillPercent': {'@abbreviation': 'PK%', '#text': '70.3'}, 'ShorthandedGoalsFor': {'@abbreviation': 'SHGF', '#text': '0'}, 'ShorthandedGoalsAgainst': {'@abbreviation': 'SHGA', '#text': '1'}, 'Points': {'@abbreviation': 'Pts', '#text': '7'}, 'Shots': {'@abbreviation': 'Sh', '#text': '336'}, 'BlockedShots': {'@abbreviation': 'BS', '#text': '22'}, 'Penalties': {'@abbreviation': 'Pn', '#text': '47'}, 'PenaltyMinutes': {'@abbreviation': 'PIM', '#text': '117'}, 'Hits': {'@abbreviation': 'Ht', '#text': '274'}}}}\n",
      " {'team': {'ID': '14', 'City': 'Montreal', 'Name': 'Canadiens', 'Abbreviation': 'MTL'}, 'rank': '30', 'stats': {'GamesPlayed': {'@abbreviation': 'GP', '#text': '10'}, 'stats': {'Wins': {'@abbreviation': 'W', '#text': '2'}, 'Losses': {'@abbreviation': 'L', '#text': '7'}, 'OvertimeWins': {'@abbreviation': 'OTW', '#text': '0'}, 'OvertimeLosses': {'@abbreviation': 'OTL', '#text': '1'}, 'GoalsFor': {'@abbreviation': 'GF', '#text': '17'}, 'GoalsAgainst': {'@abbreviation': 'GA', '#text': '38'}, 'FaceoffWins': {'@abbreviation': 'F/O W', '#text': '299'}, 'FaceoffLosses': {'@abbreviation': 'F/O L', '#text': '351'}, 'FaceoffPercent': {'@abbreviation': 'F/O %', '#text': '46.0'}, 'Powerplays': {'@abbreviation': 'PP', '#text': '41'}, 'PowerplayGoals': {'@abbreviation': 'PPG', '#text': '5'}, 'PowerplayPercent': {'@abbreviation': 'PP%', '#text': '12.2'}, 'PenaltyKills': {'@abbreviation': 'PK', '#text': '31'}, 'PenaltyKillGoalsAllowed': {'@abbreviation': 'PKGA', '#text': '7'}, 'PenaltyKillPercent': {'@abbreviation': 'PK%', '#text': '77.4'}, 'ShorthandedGoalsFor': {'@abbreviation': 'SHGF', '#text': '2'}, 'ShorthandedGoalsAgainst': {'@abbreviation': 'SHGA', '#text': '0'}, 'Points': {'@abbreviation': 'Pts', '#text': '5'}, 'Shots': {'@abbreviation': 'Sh', '#text': '384'}, 'BlockedShots': {'@abbreviation': 'BS', '#text': '18'}, 'Penalties': {'@abbreviation': 'Pn', '#text': '37'}, 'PenaltyMinutes': {'@abbreviation': 'PIM', '#text': '82'}, 'Hits': {'@abbreviation': 'Ht', '#text': '240'}}}}\n",
      " {'team': {'ID': '30', 'City': 'Arizona', 'Name': 'Coyotes', 'Abbreviation': 'ARI'}, 'rank': '31', 'stats': {'GamesPlayed': {'@abbreviation': 'GP', '#text': '10'}, 'stats': {'Wins': {'@abbreviation': 'W', '#text': '0'}, 'Losses': {'@abbreviation': 'L', '#text': '9'}, 'OvertimeWins': {'@abbreviation': 'OTW', '#text': '0'}, 'OvertimeLosses': {'@abbreviation': 'OTL', '#text': '1'}, 'GoalsFor': {'@abbreviation': 'GF', '#text': '23'}, 'GoalsAgainst': {'@abbreviation': 'GA', '#text': '44'}, 'FaceoffWins': {'@abbreviation': 'F/O W', '#text': '312'}, 'FaceoffLosses': {'@abbreviation': 'F/O L', '#text': '359'}, 'FaceoffPercent': {'@abbreviation': 'F/O %', '#text': '46.5'}, 'Powerplays': {'@abbreviation': 'PP', '#text': '36'}, 'PowerplayGoals': {'@abbreviation': 'PPG', '#text': '6'}, 'PowerplayPercent': {'@abbreviation': 'PP%', '#text': '16.7'}, 'PenaltyKills': {'@abbreviation': 'PK', '#text': '27'}, 'PenaltyKillGoalsAllowed': {'@abbreviation': 'PKGA', '#text': '7'}, 'PenaltyKillPercent': {'@abbreviation': 'PK%', '#text': '74.1'}, 'ShorthandedGoalsFor': {'@abbreviation': 'SHGF', '#text': '0'}, 'ShorthandedGoalsAgainst': {'@abbreviation': 'SHGA', '#text': '1'}, 'Points': {'@abbreviation': 'Pts', '#text': '1'}, 'Shots': {'@abbreviation': 'Sh', '#text': '309'}, 'BlockedShots': {'@abbreviation': 'BS', '#text': '14'}, 'Penalties': {'@abbreviation': 'Pn', '#text': '32'}, 'PenaltyMinutes': {'@abbreviation': 'PIM', '#text': '75'}, 'Hits': {'@abbreviation': 'Ht', '#text': '258'}}}}]\n"
     ]
    }
   ],
   "source": [
    "team_data = np.hstack(fetch_team_data())\n",
    "\n",
    "print(team_data)"
   ]
  },
  {
   "cell_type": "code",
   "execution_count": 8,
   "metadata": {
    "collapsed": false
   },
   "outputs": [
    {
     "name": "stdout",
     "output_type": "stream",
     "text": [
      "{'team': {'ID': '1', 'City': 'Tampa Bay', 'Name': 'Lightning', 'Abbreviation': 'TBL'}, 'rank': '1', 'stats': {'GamesPlayed': {'@abbreviation': 'GP', '#text': '11'}, 'stats': {'Wins': {'@abbreviation': 'W', '#text': '9'}, 'Losses': {'@abbreviation': 'L', '#text': '1'}, 'OvertimeWins': {'@abbreviation': 'OTW', '#text': '0'}, 'OvertimeLosses': {'@abbreviation': 'OTL', '#text': '1'}, 'GoalsFor': {'@abbreviation': 'GF', '#text': '44'}, 'GoalsAgainst': {'@abbreviation': 'GA', '#text': '26'}, 'FaceoffWins': {'@abbreviation': 'F/O W', '#text': '333'}, 'FaceoffLosses': {'@abbreviation': 'F/O L', '#text': '354'}, 'FaceoffPercent': {'@abbreviation': 'F/O %', '#text': '48.5'}, 'Powerplays': {'@abbreviation': 'PP', '#text': '47'}, 'PowerplayGoals': {'@abbreviation': 'PPG', '#text': '14'}, 'PowerplayPercent': {'@abbreviation': 'PP%', '#text': '29.8'}, 'PenaltyKills': {'@abbreviation': 'PK', '#text': '44'}, 'PenaltyKillGoalsAllowed': {'@abbreviation': 'PKGA', '#text': '8'}, 'PenaltyKillPercent': {'@abbreviation': 'PK%', '#text': '81.8'}, 'ShorthandedGoalsFor': {'@abbreviation': 'SHGF', '#text': '1'}, 'ShorthandedGoalsAgainst': {'@abbreviation': 'SHGA', '#text': '1'}, 'Points': {'@abbreviation': 'Pts', '#text': '19'}, 'Shots': {'@abbreviation': 'Sh', '#text': '339'}, 'BlockedShots': {'@abbreviation': 'BS', '#text': '9'}, 'Penalties': {'@abbreviation': 'Pn', '#text': '54'}, 'PenaltyMinutes': {'@abbreviation': 'PIM', '#text': '111'}, 'Hits': {'@abbreviation': 'Ht', '#text': '226'}}}}\n"
     ]
    }
   ],
   "source": [
    "#Jos kotijoukkoe voittaa, winner = 1\n",
    "\n",
    "print(team_data[0])"
   ]
  },
  {
   "cell_type": "code",
   "execution_count": 9,
   "metadata": {
    "collapsed": false,
    "scrolled": false
   },
   "outputs": [],
   "source": [
    "from pandas.io.json import json_normalize\n",
    "\n",
    "def fix_team_data():\n",
    "    df = json_normalize(team_data)\n",
    "\n",
    "    #test.drop(['*.@abbreviation'], axis=1, inplace=True)\n",
    "\n",
    "    df = df[df.columns.drop(list(df.filter(regex='abbreviation|Abbreviation')))]\n",
    "\n",
    "    df.drop(['team.Name', 'team.City'], axis=1, inplace=True)\n",
    "\n",
    "    return(df)\n",
    "\n",
    "team_standings = fix_team_data()\n"
   ]
  },
  {
   "cell_type": "code",
   "execution_count": 10,
   "metadata": {
    "collapsed": true
   },
   "outputs": [],
   "source": [
    "id_to_teamname = dict()\n",
    "\n",
    "def parse_game(g):\n",
    "    data = dict()\n",
    "    \n",
    "    # DEFINE IDS\n",
    "    away_team_id = g['game']['awayTeam']['ID']\n",
    "    home_team_id = g['game']['homeTeam']['ID']\n",
    "    \n",
    "    \n",
    "    data['away_team_id'] = away_team_id\n",
    "    data['home_team_id'] = home_team_id\n",
    "    \n",
    "    \n",
    "    #ASSOCIATE TEAMNAMES WITH TEAM IDS\n",
    "    if g['game']['awayTeam']['Abbreviation'] not in id_to_teamname:\n",
    "        id_to_teamname[g['game']['awayTeam']['Abbreviation']] = g['game']['awayTeam']['ID']\n",
    "        \n",
    "    if g['game']['homeTeam']['Abbreviation'] not in id_to_teamname:\n",
    "        id_to_teamname[g['game']['homeTeam']['Abbreviation']] = g['game']['homeTeam']['ID']\n",
    "    \n",
    "    \n",
    "    # DEFINE WINNER\n",
    "    if g['homeScore'] > g['awayScore']:\n",
    "        data['winner'] = 1\n",
    "    else:\n",
    "        data['winner'] = 0\n",
    "        \n",
    "    #data['away_team_stats'] = team_standings.loc[(team_standings['team.ID'] == away_team_id)].values.flatten()\n",
    "    #data['home_team_stats'] = team_standings.loc[(team_standings['team.ID'] == home_team_id)].values.flatten()\n",
    "\n",
    "    return(pd.Series(data))\n"
   ]
  },
  {
   "cell_type": "code",
   "execution_count": 11,
   "metadata": {
    "collapsed": false,
    "scrolled": true
   },
   "outputs": [
    {
     "name": "stdout",
     "output_type": "stream",
     "text": [
      "(148, 3)\n"
     ]
    }
   ],
   "source": [
    "match_data = pd.DataFrame()\n",
    "\n",
    "\n",
    "for g in game_data:\n",
    "    match_data = match_data.append(parse_game(g), ignore_index=True)\n",
    "\n",
    "print(match_data.shape)"
   ]
  },
  {
   "cell_type": "code",
   "execution_count": 12,
   "metadata": {
    "collapsed": false
   },
   "outputs": [
    {
     "data": {
      "text/plain": [
       "array([['26', '11'],\n",
       "       ['30', '9'],\n",
       "       ['3', '12'],\n",
       "       ['47', '10'],\n",
       "       ['29', '4'],\n",
       "       ['16', '1'],\n",
       "       ['28', '14'],\n",
       "       ['6', '13'],\n",
       "       ['8', '25'],\n",
       "       ['27', '24'],\n",
       "       ['5', '21'],\n",
       "       ['23', '17'],\n",
       "       ['15', '19'],\n",
       "       ['30', '8'],\n",
       "       ['24', '10'],\n",
       "       ['29', '6'],\n",
       "       ['1', '3'],\n",
       "       ['16', '15'],\n",
       "       ['28', '13'],\n",
       "       ['4', '14'],\n",
       "       ['23', '18'],\n",
       "       ['21', '25'],\n",
       "       ['27', '22'],\n",
       "       ['20', '142'],\n",
       "       ['28', '12'],\n",
       "       ['26', '9'],\n",
       "       ['21', '16'],\n",
       "       ['18', '9'],\n",
       "       ['24', '6'],\n",
       "       ['12', '13'],\n",
       "       ['10', '1'],\n",
       "       ['26', '8'],\n",
       "       ['15', '11'],\n",
       "       ['28', '19'],\n",
       "       ['4', '5'],\n",
       "       ['3', '27'],\n",
       "       ['20', '30'],\n",
       "       ['25', '23'],\n",
       "       ['17', '142'],\n",
       "       ['21', '15'],\n",
       "       ['26', '7'],\n",
       "       ['10', '4'],\n",
       "       ['5', '16'],\n",
       "       ['25', '47'],\n",
       "       ['14', '29'],\n",
       "       ['18', '6'],\n",
       "       ['1', '19'],\n",
       "       ['8', '9'],\n",
       "       ['21', '11'],\n",
       "       ['7', '13'],\n",
       "       ['24', '20'],\n",
       "       ['3', '23'],\n",
       "       ['17', '22'],\n",
       "       ['27', '30'],\n",
       "       ['16', '12'],\n",
       "       ['20', '17'],\n",
       "       ['14', '28'],\n",
       "       ['12', '5'],\n",
       "       ['4', '6'],\n",
       "       ['10', '9'],\n",
       "       ['1', '7'],\n",
       "       ['21', '13'],\n",
       "       ['22', '18'],\n",
       "       ['19', '47'],\n",
       "       ['30', '27'],\n",
       "       ['3', '24'],\n",
       "       ['15', '142'],\n",
       "       ['14', '26'],\n",
       "       ['1', '16'],\n",
       "       ['11', '142'],\n",
       "       ['15', '29'],\n",
       "       ['8', '28'],\n",
       "       ['3', '47'],\n",
       "       ['17', '1'],\n",
       "       ['7', '9'],\n",
       "       ['4', '10'],\n",
       "       ['12', '14'],\n",
       "       ['5', '6'],\n",
       "       ['19', '25'],\n",
       "       ['22', '27'],\n",
       "       ['18', '20'],\n",
       "       ['11', '30'],\n",
       "       ['23', '21'],\n",
       "       ['13', '24'],\n",
       "       ['15', '28'],\n",
       "       ['8', '26'],\n",
       "       ['9', '19'],\n",
       "       ['5', '7'],\n",
       "       ['13', '23'],\n",
       "       ['29', '22'],\n",
       "       ['16', '142'],\n",
       "       ['17', '4'],\n",
       "       ['10', '1'],\n",
       "       ['27', '18'],\n",
       "       ['25', '20'],\n",
       "       ['16', '30'],\n",
       "       ['47', '21'],\n",
       "       ['15', '26'],\n",
       "       ['10', '5'],\n",
       "       ['7', '12'],\n",
       "       ['11', '22'],\n",
       "       ['8', '29'],\n",
       "       ['23', '28'],\n",
       "       ['17', '9'],\n",
       "       ['19', '3'],\n",
       "       ['20', '14'],\n",
       "       ['6', '18'],\n",
       "       ['16', '27'],\n",
       "       ['30', '142'],\n",
       "       ['13', '21'],\n",
       "       ['17', '8'],\n",
       "       ['22', '11'],\n",
       "       ['7', '15'],\n",
       "       ['20', '12'],\n",
       "       ['5', '1'],\n",
       "       ['47', '24'],\n",
       "       ['23', '29'],\n",
       "       ['14', '9'],\n",
       "       ['22', '7'],\n",
       "       ['14', '5'],\n",
       "       ['16', '13'],\n",
       "       ['1', '4'],\n",
       "       ['15', '8'],\n",
       "       ['18', '10'],\n",
       "       ['25', '3'],\n",
       "       ['9', '12'],\n",
       "       ['27', '17'],\n",
       "       ['19', '20'],\n",
       "       ['142', '30'],\n",
       "       ['47', '23'],\n",
       "       ['24', '21'],\n",
       "       ['6', '29'],\n",
       "       ['28', '26'],\n",
       "       ['8', '19'],\n",
       "       ['4', '1'],\n",
       "       ['142', '27'],\n",
       "       ['18', '11'],\n",
       "       ['22', '9'],\n",
       "       ['14', '15'],\n",
       "       ['25', '16'],\n",
       "       ['5', '13'],\n",
       "       ['10', '20'],\n",
       "       ['30', '29'],\n",
       "       ['6', '28'],\n",
       "       ['12', '47'],\n",
       "       ['17', '10'],\n",
       "       ['23', '24'],\n",
       "       ['6', '26']], dtype=object)"
      ]
     },
     "execution_count": 12,
     "metadata": {},
     "output_type": "execute_result"
    }
   ],
   "source": [
    "match_data.drop('winner', axis=1).values"
   ]
  },
  {
   "cell_type": "code",
   "execution_count": 13,
   "metadata": {
    "collapsed": false,
    "scrolled": true
   },
   "outputs": [
    {
     "name": "stdout",
     "output_type": "stream",
     "text": [
      "(148, 54)\n"
     ]
    }
   ],
   "source": [
    "#team_standings.loc[(team_standings['team.ID'] == '1')]\n",
    "\n",
    "great_match_arrays = []\n",
    "\n",
    "d = match_data.drop('winner', axis=1).values\n",
    "\n",
    "for i in d:\n",
    "    home = i[1]\n",
    "    away = i[0]\n",
    "    great_match_arrays.append(np.hstack([i, team_standings.loc[(team_standings['team.ID'] == home)].values.flatten(), team_standings.loc[(team_standings['team.ID'] == away)].values.flatten()]))\n",
    "    \n",
    "#b = match_data.values[0]\n",
    "#a = team_standings.loc[(team_standings['team.ID'] == '30')].values.flatten()\n",
    "#c = team_standings.loc[(team_standings['team.ID'] == '8')].values.flatten()\n",
    "\n",
    "final_data = np.stack(great_match_arrays)\n",
    "\n",
    "print(final_data.shape)"
   ]
  },
  {
   "cell_type": "code",
   "execution_count": 14,
   "metadata": {
    "collapsed": true
   },
   "outputs": [],
   "source": [
    "#pd.DataFrame(final_data).to_csv('final_data.csv')\n",
    "target = match_data['winner'].values\n",
    "pd.DataFrame(target).to_csv('target.csv')"
   ]
  },
  {
   "cell_type": "code",
   "execution_count": 15,
   "metadata": {
    "collapsed": true
   },
   "outputs": [],
   "source": [
    "def count_rookies():\n",
    "    \n",
    "    game_ids = []\n",
    "    for data in raw_game_data[0]:\n",
    "        game_ids.append(data['game']['ID'])\n",
    "\n",
    "    games = {}\n",
    "    \n",
    "    auth = authorize()\n",
    "    lineup_url = 'https://api.mysportsfeeds.com/v1.1/pull/nhl/2017-2018-regular/game_startinglineup.json?gameid='\n",
    "    players_json = requests.get('https://api.mysportsfeeds.com/v1.1/pull/nhl/2017-2018-regular/roster_players.json?fordate=20171025', auth=auth).json()\n",
    "\n",
    "    for id in game_ids:\n",
    "        game = []\n",
    "        lineup_json = requests.get(lineup_url + id, auth=auth).json()\n",
    "        home_rookies = 0\n",
    "        away_rookies = 0\n",
    "        for lineup_player in lineup_json['gamestartinglineup']['teamLineup'][0]['expected']['starter']:\n",
    "            for player in players_json['rosterplayers']['playerentry']:\n",
    "                if (player['player']['ID'] == lineup_player['player']['ID']) & (player['player']['IsRookie'] == 'true'):\n",
    "                    home_rookies += 1\n",
    "\n",
    "        for lineup_player in lineup_json['gamestartinglineup']['teamLineup'][1]['expected']['starter']:\n",
    "            for player in players_json['rosterplayers']['playerentry']:\n",
    "                if (player['player']['ID'] == lineup_player['player']['ID']) & (player['player']['IsRookie'] == 'true'):\n",
    "                    away_rookies += 1\n",
    "\n",
    "        game.append(home_rookies)\n",
    "        game.append(away_rookies)\n",
    "        games[id] = game\n",
    "        \n",
    "        return(games)\n",
    "    \n",
    "rookies = count_rookies()"
   ]
  },
  {
   "cell_type": "code",
   "execution_count": null,
   "metadata": {
    "collapsed": true
   },
   "outputs": [],
   "source": []
  },
  {
   "cell_type": "code",
   "execution_count": 16,
   "metadata": {
    "collapsed": false
   },
   "outputs": [
    {
     "name": "stdout",
     "output_type": "stream",
     "text": [
      "(111, 54) (37, 54) (111,) (37,)\n"
     ]
    }
   ],
   "source": [
    "target = match_data['winner'].values\n",
    "\n",
    "X_train, X_test, y_train, y_test = tts(final_data, target, train_size=0.75, test_size=0.25, random_state=42)\n",
    "\n",
    "print(X_train.shape, X_test.shape, y_train.shape, y_test.shape)"
   ]
  },
  {
   "cell_type": "code",
   "execution_count": 17,
   "metadata": {
    "collapsed": false
   },
   "outputs": [
    {
     "name": "stdout",
     "output_type": "stream",
     "text": [
      "Warning: xgboost.XGBClassifier is not available and will not be used by TPOT.\n"
     ]
    },
    {
     "name": "stderr",
     "output_type": "stream",
     "text": [
      "Optimization Progress:   8%|▊         | 50/650 [00:13<03:02,  3.28pipeline/s]"
     ]
    },
    {
     "name": "stdout",
     "output_type": "stream",
     "text": [
      "Generation 1 - Current best internal CV score: 0.6031620553359683\n"
     ]
    },
    {
     "name": "stderr",
     "output_type": "stream",
     "text": [
      "Optimization Progress:  12%|█▏        | 75/650 [00:31<10:47,  1.13s/pipeline]"
     ]
    },
    {
     "name": "stdout",
     "output_type": "stream",
     "text": [
      "Generation 2 - Current best internal CV score: 0.650197628458498\n"
     ]
    },
    {
     "name": "stderr",
     "output_type": "stream",
     "text": [
      "Optimization Progress:  15%|█▌        | 100/650 [00:46<16:39,  1.82s/pipeline]"
     ]
    },
    {
     "name": "stdout",
     "output_type": "stream",
     "text": [
      "Generation 3 - Current best internal CV score: 0.650197628458498\n"
     ]
    },
    {
     "name": "stderr",
     "output_type": "stream",
     "text": [
      "Optimization Progress:  19%|█▉        | 125/650 [01:11<06:48,  1.28pipeline/s]"
     ]
    },
    {
     "name": "stdout",
     "output_type": "stream",
     "text": [
      "Generation 4 - Current best internal CV score: 0.6596837944664031\n"
     ]
    },
    {
     "name": "stderr",
     "output_type": "stream",
     "text": [
      "Optimization Progress:  23%|██▎       | 150/650 [01:20<02:17,  3.62pipeline/s]"
     ]
    },
    {
     "name": "stdout",
     "output_type": "stream",
     "text": [
      "Generation 5 - Current best internal CV score: 0.6596837944664031\n"
     ]
    },
    {
     "name": "stderr",
     "output_type": "stream",
     "text": [
      "Optimization Progress:  27%|██▋       | 175/650 [01:41<11:19,  1.43s/pipeline]"
     ]
    },
    {
     "name": "stdout",
     "output_type": "stream",
     "text": [
      "Generation 6 - Current best internal CV score: 0.6596837944664031\n"
     ]
    },
    {
     "name": "stderr",
     "output_type": "stream",
     "text": [
      "Optimization Progress:  31%|███       | 200/650 [01:54<01:51,  4.02pipeline/s]"
     ]
    },
    {
     "name": "stdout",
     "output_type": "stream",
     "text": [
      "Generation 7 - Current best internal CV score: 0.6596837944664031\n"
     ]
    },
    {
     "name": "stderr",
     "output_type": "stream",
     "text": [
      "Optimization Progress:  35%|███▍      | 225/650 [02:17<13:21,  1.89s/pipeline]"
     ]
    },
    {
     "name": "stdout",
     "output_type": "stream",
     "text": [
      "Generation 8 - Current best internal CV score: 0.6596837944664031\n"
     ]
    },
    {
     "name": "stderr",
     "output_type": "stream",
     "text": [
      "Optimization Progress:  38%|███▊      | 250/650 [02:54<07:03,  1.06s/pipeline]"
     ]
    },
    {
     "name": "stdout",
     "output_type": "stream",
     "text": [
      "Generation 9 - Current best internal CV score: 0.6596837944664031\n"
     ]
    },
    {
     "name": "stderr",
     "output_type": "stream",
     "text": [
      "Optimization Progress:  42%|████▏     | 275/650 [03:54<16:35,  2.65s/pipeline]"
     ]
    },
    {
     "name": "stdout",
     "output_type": "stream",
     "text": [
      "Generation 10 - Current best internal CV score: 0.6596837944664031\n"
     ]
    },
    {
     "name": "stderr",
     "output_type": "stream",
     "text": [
      "Optimization Progress:  46%|████▌     | 300/650 [05:39<12:16,  2.11s/pipeline]  "
     ]
    },
    {
     "name": "stdout",
     "output_type": "stream",
     "text": [
      "Generation 11 - Current best internal CV score: 0.6596837944664031\n"
     ]
    },
    {
     "name": "stderr",
     "output_type": "stream",
     "text": [
      "Optimization Progress:  50%|█████     | 325/650 [07:19<25:51,  4.77s/pipeline]"
     ]
    },
    {
     "name": "stdout",
     "output_type": "stream",
     "text": [
      "Generation 12 - Current best internal CV score: 0.6596837944664031\n"
     ]
    },
    {
     "name": "stderr",
     "output_type": "stream",
     "text": [
      "Optimization Progress:  54%|█████▍    | 350/650 [08:09<04:09,  1.20pipeline/s]"
     ]
    },
    {
     "name": "stdout",
     "output_type": "stream",
     "text": [
      "Generation 13 - Current best internal CV score: 0.6774703557312252\n"
     ]
    },
    {
     "name": "stderr",
     "output_type": "stream",
     "text": [
      "Optimization Progress:  58%|█████▊    | 375/650 [08:50<10:43,  2.34s/pipeline]"
     ]
    },
    {
     "name": "stdout",
     "output_type": "stream",
     "text": [
      "Generation 14 - Current best internal CV score: 0.6774703557312252\n"
     ]
    },
    {
     "name": "stderr",
     "output_type": "stream",
     "text": [
      "Optimization Progress:  62%|██████▏   | 400/650 [09:32<06:40,  1.60s/pipeline]"
     ]
    },
    {
     "name": "stdout",
     "output_type": "stream",
     "text": [
      "Generation 15 - Current best internal CV score: 0.6774703557312252\n"
     ]
    },
    {
     "name": "stderr",
     "output_type": "stream",
     "text": [
      "Optimization Progress:  65%|██████▌   | 425/650 [09:50<01:26,  2.59pipeline/s]"
     ]
    },
    {
     "name": "stdout",
     "output_type": "stream",
     "text": [
      "Generation 16 - Current best internal CV score: 0.6774703557312252\n"
     ]
    },
    {
     "name": "stderr",
     "output_type": "stream",
     "text": [
      "Optimization Progress:  69%|██████▉   | 450/650 [10:03<01:44,  1.91pipeline/s]"
     ]
    },
    {
     "name": "stdout",
     "output_type": "stream",
     "text": [
      "Generation 17 - Current best internal CV score: 0.6774703557312252\n"
     ]
    },
    {
     "name": "stderr",
     "output_type": "stream",
     "text": [
      "Optimization Progress:  73%|███████▎  | 475/650 [10:14<01:10,  2.48pipeline/s]"
     ]
    },
    {
     "name": "stdout",
     "output_type": "stream",
     "text": [
      "Generation 18 - Current best internal CV score: 0.6774703557312252\n"
     ]
    },
    {
     "name": "stderr",
     "output_type": "stream",
     "text": [
      "Optimization Progress:  77%|███████▋  | 500/650 [10:21<01:00,  2.48pipeline/s]"
     ]
    },
    {
     "name": "stdout",
     "output_type": "stream",
     "text": [
      "Generation 19 - Current best internal CV score: 0.6774703557312252\n"
     ]
    },
    {
     "name": "stderr",
     "output_type": "stream",
     "text": [
      "Optimization Progress:  81%|████████  | 525/650 [10:37<00:53,  2.36pipeline/s]"
     ]
    },
    {
     "name": "stdout",
     "output_type": "stream",
     "text": [
      "Generation 20 - Current best internal CV score: 0.6774703557312252\n"
     ]
    },
    {
     "name": "stderr",
     "output_type": "stream",
     "text": [
      "Optimization Progress:  85%|████████▍ | 550/650 [10:55<01:14,  1.34pipeline/s]"
     ]
    },
    {
     "name": "stdout",
     "output_type": "stream",
     "text": [
      "Generation 21 - Current best internal CV score: 0.6774703557312252\n"
     ]
    },
    {
     "name": "stderr",
     "output_type": "stream",
     "text": [
      "Optimization Progress:  88%|████████▊ | 575/650 [11:12<00:58,  1.29pipeline/s]"
     ]
    },
    {
     "name": "stdout",
     "output_type": "stream",
     "text": [
      "Generation 22 - Current best internal CV score: 0.6774703557312252\n"
     ]
    },
    {
     "name": "stderr",
     "output_type": "stream",
     "text": [
      "Optimization Progress:  92%|█████████▏| 600/650 [11:44<00:21,  2.36pipeline/s]"
     ]
    },
    {
     "name": "stdout",
     "output_type": "stream",
     "text": [
      "Generation 23 - Current best internal CV score: 0.6774703557312252\n"
     ]
    },
    {
     "name": "stderr",
     "output_type": "stream",
     "text": [
      "Optimization Progress:  96%|█████████▌| 625/650 [11:55<00:10,  2.34pipeline/s]"
     ]
    },
    {
     "name": "stdout",
     "output_type": "stream",
     "text": [
      "Generation 24 - Current best internal CV score: 0.6774703557312252\n"
     ]
    },
    {
     "name": "stderr",
     "output_type": "stream",
     "text": [
      "                                                                              "
     ]
    },
    {
     "name": "stdout",
     "output_type": "stream",
     "text": [
      "Generation 25 - Current best internal CV score: 0.6774703557312252\n",
      "\n",
      "Best pipeline: DecisionTreeClassifier(PolynomialFeatures(input_matrix, degree=2, include_bias=False, interaction_only=False), criterion=entropy, max_depth=1, min_samples_leaf=19, min_samples_split=17)\n"
     ]
    },
    {
     "name": "stderr",
     "output_type": "stream",
     "text": [
      "\r"
     ]
    },
    {
     "data": {
      "text/plain": [
       "TPOTClassifier(config_dict={'sklearn.naive_bayes.GaussianNB': {}, 'sklearn.naive_bayes.BernoulliNB': {'alpha': [0.001, 0.01, 0.1, 1.0, 10.0, 100.0], 'fit_prior': [True, False]}, 'sklearn.naive_bayes.MultinomialNB': {'alpha': [0.001, 0.01, 0.1, 1.0, 10.0, 100.0], 'fit_prior': [True, False]}, 'sklearn.tree.DecisionT....45,\n",
       "        0.5 ,  0.55,  0.6 ,  0.65,  0.7 ,  0.75,  0.8 ,  0.85,  0.9 ,\n",
       "        0.95,  1.  ])}}}},\n",
       "        crossover_rate=0.1, cv=5, disable_update_check=False,\n",
       "        early_stop=None, generations=25, max_eval_time_mins=5,\n",
       "        max_time_mins=None, mutation_rate=0.9, n_jobs=1, offspring_size=25,\n",
       "        periodic_checkpoint_folder=None, population_size=25,\n",
       "        random_state=None, scoring=None, subsample=1.0, verbosity=2,\n",
       "        warm_start=False)"
      ]
     },
     "execution_count": 17,
     "metadata": {},
     "output_type": "execute_result"
    }
   ],
   "source": [
    "\n",
    "tpot = TPOTClassifier(generations=25, population_size=25, verbosity=2)\n",
    "tpot.fit(X_train, y_train)\n"
   ]
  },
  {
   "cell_type": "code",
   "execution_count": 20,
   "metadata": {
    "collapsed": false
   },
   "outputs": [
    {
     "name": "stdout",
     "output_type": "stream",
     "text": [
      "0.756756756757\n"
     ]
    }
   ],
   "source": [
    "\n",
    "print(tpot.score(X_test, y_test))\n",
    "#tpot.export('ExtraTreesClassifier001.py')\n",
    "\n",
    "\n",
    "\n"
   ]
  },
  {
   "cell_type": "code",
   "execution_count": 23,
   "metadata": {
    "collapsed": true
   },
   "outputs": [],
   "source": [
    "#print(id_to_teamname)\n",
    "\n",
    "def predict_game(away, home):\n",
    "    away_id = id_to_teamname[away]\n",
    "    home_id = id_to_teamname[home]\n",
    "    \n",
    "    away_stats = team_standings.loc[(team_standings['team.ID'] == away_id)].values.flatten()\n",
    "    home_stats = team_standings.loc[(team_standings['team.ID'] == home_id)].values.flatten()\n",
    "    \n",
    "    vec = np.hstack([away_id, home_id, home_stats, away_stats]).reshape(1, -1)\n",
    "\n",
    "    res = tpot.predict(vec.reshape(1, -1))\n",
    "    \n",
    "    if res == 1:\n",
    "        return(home)\n",
    "    else:\n",
    "        return(away)\n"
   ]
  },
  {
   "cell_type": "code",
   "execution_count": 32,
   "metadata": {
    "collapsed": false
   },
   "outputs": [
    {
     "data": {
      "text/plain": [
       "'CBJ'"
      ]
     },
     "execution_count": 32,
     "metadata": {},
     "output_type": "execute_result"
    }
   ],
   "source": [
    "predict_game('BOS', 'CBJ')\n",
    "\n",
    "#print(id_to_teamname)"
   ]
  },
  {
   "cell_type": "code",
   "execution_count": 25,
   "metadata": {
    "collapsed": false
   },
   "outputs": [
    {
     "name": "stdout",
     "output_type": "stream",
     "text": [
      "(31,)\n"
     ]
    }
   ],
   "source": [
    "#REFRESH TEAM STANDINGS\n",
    "\n",
    "team_data = np.hstack(fetch_team_data())\n",
    "\n",
    "print(team_data.shape)"
   ]
  },
  {
   "cell_type": "code",
   "execution_count": 26,
   "metadata": {
    "collapsed": false
   },
   "outputs": [
    {
     "name": "stdout",
     "output_type": "stream",
     "text": [
      "['BOS', 'TOR', 'NYR', 'PIT', 'LAK', 'OTT', 'TBL', 'ANA', 'NYI', 'DAL', 'VAN']\n"
     ]
    }
   ],
   "source": [
    "def multi_predict(m):\n",
    "    ret = []\n",
    "    \n",
    "    for i in m:\n",
    "        ret.append(predict_game(i[0], i[1]))\n",
    "        \n",
    "    return(ret)\n",
    "\n",
    "\n",
    "predictions = [['SJS', 'BOS'], ['CAR', 'TOR'], ['ARI', 'NYR'], ['WPJ', 'PIT'], ['LAK', 'MTL'], ['PHI', 'OTT'], ['DET', 'TBL'], ['ANA', 'FLO'], ['NYI', 'MIN'], ['DAL', 'EDM'], ['WSH', 'VAN']]\n",
    "\n",
    "\n",
    "print(multi_predict(predictions))"
   ]
  },
  {
   "cell_type": "code",
   "execution_count": 27,
   "metadata": {
    "collapsed": false
   },
   "outputs": [
    {
     "name": "stdout",
     "output_type": "stream",
     "text": [
      "{'SJS': '26', 'BOS': '11', 'ARI': '30', 'NYR': '9', 'CAR': '3', 'TOR': '12', 'WPJ': '47', 'PIT': '10', 'ANA': '29', 'FLO': '4', 'DET': '16', 'TBL': '1', 'LAK': '28', 'MTL': '14', 'PHI': '6', 'OTT': '13', 'NYI': '8', 'MIN': '25', 'DAL': '27', 'EDM': '24', 'WSH': '5', 'VAN': '21', 'CGY': '23', 'STL': '17', 'BUF': '15', 'CBJ': '19', 'NSH': '18', 'COL': '22', 'CHI': '20', 'VGK': '142', 'NJD': '7'}\n"
     ]
    }
   ],
   "source": [
    "print(id_to_teamname)"
   ]
  },
  {
   "cell_type": "markdown",
   "metadata": {},
   "source": [
    "###### 25.10.17\n",
    "\n",
    "CAL - STL --- STL VOITTAA\n",
    "\n",
    "BUF - COL --- COL VOITTAA"
   ]
  },
  {
   "cell_type": "markdown",
   "metadata": {},
   "source": [
    "###### 26.10.2017\n",
    "\n",
    "SJS BOS --- BOS\n",
    "\n",
    "\n",
    "CAR TOR --- TOR\n",
    "\n",
    "\n",
    "ARI NYR --- NYR\n",
    "\n",
    "\n",
    "WPG PIT --- PIT\n",
    "\n",
    "\n",
    "LAK MTL --- LAK\n",
    "\n",
    "\n",
    "PHI OTT --- PHI\n",
    "\n",
    "\n",
    "DET TBL --- TBL\n",
    "\n",
    "\n",
    "ANA FLA --- ANA\n",
    "\n",
    "\n",
    "NYI MIN --- NYI\n",
    "\n",
    "\n",
    "DAL EDM --- DAL\n",
    "\n",
    "\n",
    "WSH VAN --- VAN\n",
    "\n",
    "\n"
   ]
  }
 ],
 "metadata": {
  "kernelspec": {
   "display_name": "venv",
   "language": "python",
   "name": "venv"
  },
  "language_info": {
   "codemirror_mode": {
    "name": "ipython",
    "version": 3
   },
   "file_extension": ".py",
   "mimetype": "text/x-python",
   "name": "python",
   "nbconvert_exporter": "python",
   "pygments_lexer": "ipython3",
   "version": "3.6.0"
  }
 },
 "nbformat": 4,
 "nbformat_minor": 2
}
