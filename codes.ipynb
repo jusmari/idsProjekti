{
 "cells": [
  {
   "cell_type": "markdown",
   "metadata": {},
   "source": [
    "# ids projekti, kivaa :---)\n",
    "\n",
    "tästä alkaa suuri seikkailu. Olkaamme innokaita ja tehokkaita. "
   ]
  },
  {
   "cell_type": "code",
   "execution_count": 1,
   "metadata": {
    "scrolled": true
   },
   "outputs": [],
   "source": [
    "import json\n",
    "import pandas as pd\n",
    "import numpy as np\n",
    "import urllib.request as ur\n",
    "import requests\n",
    "from datetime import timedelta, date\n",
    "from sklearn.model_selection import train_test_split as tts\n",
    "from tpot import TPOTClassifier"
   ]
  },
  {
   "cell_type": "code",
   "execution_count": 317,
   "metadata": {},
   "outputs": [],
   "source": [
    "def authorize():\n",
    "    path = 'APIauth.txt'\n",
    "    temp = open(path,'r').read().splitlines()\n",
    "    return (temp[0], temp[1])"
   ]
  },
  {
   "cell_type": "markdown",
   "metadata": {},
   "source": [
    "\n",
    "\n",
    "\n"
   ]
  },
  {
   "cell_type": "code",
   "execution_count": 2,
   "metadata": {},
   "outputs": [],
   "source": [
    "\n",
    "def date_range(n):\n",
    "    date_list = []\n",
    "\n",
    "    for single_date in (date.today() - timedelta(n+1) for n in range(n)):\n",
    "        date_list.append(single_date.strftime('%Y%m%d'))\n",
    "\n",
    "    return(date_list)"
   ]
  },
  {
   "cell_type": "code",
   "execution_count": 300,
   "metadata": {},
   "outputs": [],
   "source": [
    "\n",
    "def fetch_game_scoreboards():\n",
    "    games_lists = []\n",
    "\n",
    "    un, pw = authorize()\n",
    "\n",
    "    url = 'https://api.mysportsfeeds.com/v1.1/pull/nhl/2017-2018-regular/scoreboard.json?fordate={date}'\n",
    "    \n",
    "    DATE_RANGE = 100\n",
    "    n=0\n",
    "    for i in date_range(DATE_RANGE):\n",
    "        if n%50 == 0:\n",
    "            print(n)\n",
    "            \n",
    "        n += 1\n",
    "        \n",
    "        try:\n",
    "            json = requests.get(url.format(date=i), auth=(un, pw)).json()\n",
    "            json['scoreboard']['gameScore']\n",
    "        except:\n",
    "            continue\n",
    "        \n",
    "        games_lists.append(json['scoreboard']['gameScore'])\n",
    "        \n",
    "       \n",
    "\n",
    "    return(games_lists)"
   ]
  },
  {
   "cell_type": "code",
   "execution_count": null,
   "metadata": {},
   "outputs": [],
   "source": []
  },
  {
   "cell_type": "code",
   "execution_count": 318,
   "metadata": {},
   "outputs": [],
   "source": [
    "def fetch_team_data():\n",
    "    un, pw = authorize()\n",
    "    \n",
    "    url = 'https://api.mysportsfeeds.com/v1.1/pull/nhl/2017-2018-regular/overall_team_standings.json'\n",
    "    \n",
    "    json = requests.get(url, auth=(un,pw)).json()\n",
    "    \n",
    "    data = json['overallteamstandings']['teamstandingsentry']\n",
    "    \n",
    "    return(data)"
   ]
  },
  {
   "cell_type": "code",
   "execution_count": 356,
   "metadata": {},
   "outputs": [
    {
     "name": "stdout",
     "output_type": "stream",
     "text": [
      "0\n",
      "50\n",
      "(148,)\n"
     ]
    }
   ],
   "source": [
    "#LATAA PELIT\n",
    "#TÄSSÄ KESTÄÄ KAUAN, KANNATTAA TEHDÄ VAIN KERRAN\n",
    "\n",
    "raw_game_data = fetch_game_scoreboards()\n",
    "\n",
    "game_data = np.hstack(raw_game_data)\n",
    "\n",
    "print(game_data.shape)"
   ]
  },
  {
   "cell_type": "code",
   "execution_count": 320,
   "metadata": {
    "collapsed": true
   },
   "outputs": [
    {
     "name": "stdout",
     "output_type": "stream",
     "text": [
      "[ {'team': {'ID': '1', 'City': 'Tampa Bay', 'Name': 'Lightning', 'Abbreviation': 'TBL'}, 'rank': '1', 'stats': {'GamesPlayed': {'@abbreviation': 'GP', '#text': '10'}, 'stats': {'Wins': {'@abbreviation': 'W', '#text': '8'}, 'Losses': {'@abbreviation': 'L', '#text': '1'}, 'OvertimeWins': {'@abbreviation': 'OTW', '#text': '0'}, 'OvertimeLosses': {'@abbreviation': 'OTL', '#text': '1'}, 'GoalsFor': {'@abbreviation': 'GF', '#text': '41'}, 'GoalsAgainst': {'@abbreviation': 'GA', '#text': '24'}, 'FaceoffWins': {'@abbreviation': 'F/O W', '#text': '309'}, 'FaceoffLosses': {'@abbreviation': 'F/O L', '#text': '329'}, 'FaceoffPercent': {'@abbreviation': 'F/O %', '#text': '48.4'}, 'Powerplays': {'@abbreviation': 'PP', '#text': '41'}, 'PowerplayGoals': {'@abbreviation': 'PPG', '#text': '12'}, 'PowerplayPercent': {'@abbreviation': 'PP%', '#text': '29.3'}, 'PenaltyKills': {'@abbreviation': 'PK', '#text': '39'}, 'PenaltyKillGoalsAllowed': {'@abbreviation': 'PKGA', '#text': '7'}, 'PenaltyKillPercent': {'@abbreviation': 'PK%', '#text': '82.1'}, 'ShorthandedGoalsFor': {'@abbreviation': 'SHGF', '#text': '1'}, 'ShorthandedGoalsAgainst': {'@abbreviation': 'SHGA', '#text': '0'}, 'Points': {'@abbreviation': 'Pts', '#text': '17'}, 'Shots': {'@abbreviation': 'Sh', '#text': '301'}, 'BlockedShots': {'@abbreviation': 'BS', '#text': '0'}, 'Penalties': {'@abbreviation': 'Pn', '#text': '48'}, 'PenaltyMinutes': {'@abbreviation': 'PIM', '#text': '99'}, 'Hits': {'@abbreviation': 'Ht', '#text': '211'}}}}\n",
      " {'team': {'ID': '28', 'City': 'Los Angeles', 'Name': 'Kings', 'Abbreviation': 'LAK'}, 'rank': '2', 'stats': {'GamesPlayed': {'@abbreviation': 'GP', '#text': '9'}, 'stats': {'Wins': {'@abbreviation': 'W', '#text': '7'}, 'Losses': {'@abbreviation': 'L', '#text': '1'}, 'OvertimeWins': {'@abbreviation': 'OTW', '#text': '0'}, 'OvertimeLosses': {'@abbreviation': 'OTL', '#text': '1'}, 'GoalsFor': {'@abbreviation': 'GF', '#text': '31'}, 'GoalsAgainst': {'@abbreviation': 'GA', '#text': '19'}, 'FaceoffWins': {'@abbreviation': 'F/O W', '#text': '292'}, 'FaceoffLosses': {'@abbreviation': 'F/O L', '#text': '280'}, 'FaceoffPercent': {'@abbreviation': 'F/O %', '#text': '51.0'}, 'Powerplays': {'@abbreviation': 'PP', '#text': '30'}, 'PowerplayGoals': {'@abbreviation': 'PPG', '#text': '5'}, 'PowerplayPercent': {'@abbreviation': 'PP%', '#text': '16.7'}, 'PenaltyKills': {'@abbreviation': 'PK', '#text': '33'}, 'PenaltyKillGoalsAllowed': {'@abbreviation': 'PKGA', '#text': '3'}, 'PenaltyKillPercent': {'@abbreviation': 'PK%', '#text': '90.9'}, 'ShorthandedGoalsFor': {'@abbreviation': 'SHGF', '#text': '2'}, 'ShorthandedGoalsAgainst': {'@abbreviation': 'SHGA', '#text': '1'}, 'Points': {'@abbreviation': 'Pts', '#text': '15'}, 'Shots': {'@abbreviation': 'Sh', '#text': '322'}, 'BlockedShots': {'@abbreviation': 'BS', '#text': '0'}, 'Penalties': {'@abbreviation': 'Pn', '#text': '38'}, 'PenaltyMinutes': {'@abbreviation': 'PIM', '#text': '79'}, 'Hits': {'@abbreviation': 'Ht', '#text': '206'}}}}\n",
      " {'team': {'ID': '17', 'City': 'St. Louis', 'Name': 'Blues', 'Abbreviation': 'STL'}, 'rank': '3', 'stats': {'GamesPlayed': {'@abbreviation': 'GP', '#text': '10'}, 'stats': {'Wins': {'@abbreviation': 'W', '#text': '7'}, 'Losses': {'@abbreviation': 'L', '#text': '2'}, 'OvertimeWins': {'@abbreviation': 'OTW', '#text': '0'}, 'OvertimeLosses': {'@abbreviation': 'OTL', '#text': '1'}, 'GoalsFor': {'@abbreviation': 'GF', '#text': '33'}, 'GoalsAgainst': {'@abbreviation': 'GA', '#text': '26'}, 'FaceoffWins': {'@abbreviation': 'F/O W', '#text': '287'}, 'FaceoffLosses': {'@abbreviation': 'F/O L', '#text': '317'}, 'FaceoffPercent': {'@abbreviation': 'F/O %', '#text': '47.5'}, 'Powerplays': {'@abbreviation': 'PP', '#text': '37'}, 'PowerplayGoals': {'@abbreviation': 'PPG', '#text': '7'}, 'PowerplayPercent': {'@abbreviation': 'PP%', '#text': '18.9'}, 'PenaltyKills': {'@abbreviation': 'PK', '#text': '39'}, 'PenaltyKillGoalsAllowed': {'@abbreviation': 'PKGA', '#text': '10'}, 'PenaltyKillPercent': {'@abbreviation': 'PK%', '#text': '74.4'}, 'ShorthandedGoalsFor': {'@abbreviation': 'SHGF', '#text': '0'}, 'ShorthandedGoalsAgainst': {'@abbreviation': 'SHGA', '#text': '1'}, 'Points': {'@abbreviation': 'Pts', '#text': '15'}, 'Shots': {'@abbreviation': 'Sh', '#text': '320'}, 'BlockedShots': {'@abbreviation': 'BS', '#text': '17'}, 'Penalties': {'@abbreviation': 'Pn', '#text': '44'}, 'PenaltyMinutes': {'@abbreviation': 'PIM', '#text': '101'}, 'Hits': {'@abbreviation': 'Ht', '#text': '243'}}}}\n",
      " {'team': {'ID': '142', 'City': 'Vegas', 'Name': 'Golden Knights', 'Abbreviation': 'VGK'}, 'rank': '4', 'stats': {'GamesPlayed': {'@abbreviation': 'GP', '#text': '8'}, 'stats': {'Wins': {'@abbreviation': 'W', '#text': '7'}, 'Losses': {'@abbreviation': 'L', '#text': '1'}, 'OvertimeWins': {'@abbreviation': 'OTW', '#text': '0'}, 'OvertimeLosses': {'@abbreviation': 'OTL', '#text': '0'}, 'GoalsFor': {'@abbreviation': 'GF', '#text': '27'}, 'GoalsAgainst': {'@abbreviation': 'GA', '#text': '19'}, 'FaceoffWins': {'@abbreviation': 'F/O W', '#text': '267'}, 'FaceoffLosses': {'@abbreviation': 'F/O L', '#text': '237'}, 'FaceoffPercent': {'@abbreviation': 'F/O %', '#text': '53.0'}, 'Powerplays': {'@abbreviation': 'PP', '#text': '33'}, 'PowerplayGoals': {'@abbreviation': 'PPG', '#text': '6'}, 'PowerplayPercent': {'@abbreviation': 'PP%', '#text': '18.2'}, 'PenaltyKills': {'@abbreviation': 'PK', '#text': '25'}, 'PenaltyKillGoalsAllowed': {'@abbreviation': 'PKGA', '#text': '4'}, 'PenaltyKillPercent': {'@abbreviation': 'PK%', '#text': '84.0'}, 'ShorthandedGoalsFor': {'@abbreviation': 'SHGF', '#text': '0'}, 'ShorthandedGoalsAgainst': {'@abbreviation': 'SHGA', '#text': '1'}, 'Points': {'@abbreviation': 'Pts', '#text': '14'}, 'Shots': {'@abbreviation': 'Sh', '#text': '239'}, 'BlockedShots': {'@abbreviation': 'BS', '#text': '0'}, 'Penalties': {'@abbreviation': 'Pn', '#text': '30'}, 'PenaltyMinutes': {'@abbreviation': 'PIM', '#text': '63'}, 'Hits': {'@abbreviation': 'Ht', '#text': '151'}}}}\n",
      " {'team': {'ID': '12', 'City': 'Toronto', 'Name': 'Maple Leafs', 'Abbreviation': 'TOR'}, 'rank': '5', 'stats': {'GamesPlayed': {'@abbreviation': 'GP', '#text': '9'}, 'stats': {'Wins': {'@abbreviation': 'W', '#text': '7'}, 'Losses': {'@abbreviation': 'L', '#text': '2'}, 'OvertimeWins': {'@abbreviation': 'OTW', '#text': '0'}, 'OvertimeLosses': {'@abbreviation': 'OTL', '#text': '0'}, 'GoalsFor': {'@abbreviation': 'GF', '#text': '40'}, 'GoalsAgainst': {'@abbreviation': 'GA', '#text': '30'}, 'FaceoffWins': {'@abbreviation': 'F/O W', '#text': '328'}, 'FaceoffLosses': {'@abbreviation': 'F/O L', '#text': '269'}, 'FaceoffPercent': {'@abbreviation': 'F/O %', '#text': '54.9'}, 'Powerplays': {'@abbreviation': 'PP', '#text': '39'}, 'PowerplayGoals': {'@abbreviation': 'PPG', '#text': '11'}, 'PowerplayPercent': {'@abbreviation': 'PP%', '#text': '28.2'}, 'PenaltyKills': {'@abbreviation': 'PK', '#text': '33'}, 'PenaltyKillGoalsAllowed': {'@abbreviation': 'PKGA', '#text': '5'}, 'PenaltyKillPercent': {'@abbreviation': 'PK%', '#text': '84.8'}, 'ShorthandedGoalsFor': {'@abbreviation': 'SHGF', '#text': '0'}, 'ShorthandedGoalsAgainst': {'@abbreviation': 'SHGA', '#text': '2'}, 'Points': {'@abbreviation': 'Pts', '#text': '14'}, 'Shots': {'@abbreviation': 'Sh', '#text': '308'}, 'BlockedShots': {'@abbreviation': 'BS', '#text': '0'}, 'Penalties': {'@abbreviation': 'Pn', '#text': '40'}, 'PenaltyMinutes': {'@abbreviation': 'PIM', '#text': '86'}, 'Hits': {'@abbreviation': 'Ht', '#text': '212'}}}}\n",
      " {'team': {'ID': '10', 'City': 'Pittsburgh', 'Name': 'Penguins', 'Abbreviation': 'PIT'}, 'rank': '6', 'stats': {'GamesPlayed': {'@abbreviation': 'GP', '#text': '10'}, 'stats': {'Wins': {'@abbreviation': 'W', '#text': '6'}, 'Losses': {'@abbreviation': 'L', '#text': '3'}, 'OvertimeWins': {'@abbreviation': 'OTW', '#text': '0'}, 'OvertimeLosses': {'@abbreviation': 'OTL', '#text': '1'}, 'GoalsFor': {'@abbreviation': 'GF', '#text': '32'}, 'GoalsAgainst': {'@abbreviation': 'GA', '#text': '40'}, 'FaceoffWins': {'@abbreviation': 'F/O W', '#text': '326'}, 'FaceoffLosses': {'@abbreviation': 'F/O L', '#text': '341'}, 'FaceoffPercent': {'@abbreviation': 'F/O %', '#text': '48.9'}, 'Powerplays': {'@abbreviation': 'PP', '#text': '40'}, 'PowerplayGoals': {'@abbreviation': 'PPG', '#text': '12'}, 'PowerplayPercent': {'@abbreviation': 'PP%', '#text': '30.0'}, 'PenaltyKills': {'@abbreviation': 'PK', '#text': '46'}, 'PenaltyKillGoalsAllowed': {'@abbreviation': 'PKGA', '#text': '9'}, 'PenaltyKillPercent': {'@abbreviation': 'PK%', '#text': '80.4'}, 'ShorthandedGoalsFor': {'@abbreviation': 'SHGF', '#text': '1'}, 'ShorthandedGoalsAgainst': {'@abbreviation': 'SHGA', '#text': '0'}, 'Points': {'@abbreviation': 'Pts', '#text': '13'}, 'Shots': {'@abbreviation': 'Sh', '#text': '359'}, 'BlockedShots': {'@abbreviation': 'BS', '#text': '0'}, 'Penalties': {'@abbreviation': 'Pn', '#text': '56'}, 'PenaltyMinutes': {'@abbreviation': 'PIM', '#text': '155'}, 'Hits': {'@abbreviation': 'Ht', '#text': '225'}}}}\n",
      " {'team': {'ID': '7', 'City': 'New Jersey', 'Name': 'Devils', 'Abbreviation': 'NJD'}, 'rank': '7', 'stats': {'GamesPlayed': {'@abbreviation': 'GP', '#text': '8'}, 'stats': {'Wins': {'@abbreviation': 'W', '#text': '6'}, 'Losses': {'@abbreviation': 'L', '#text': '2'}, 'OvertimeWins': {'@abbreviation': 'OTW', '#text': '0'}, 'OvertimeLosses': {'@abbreviation': 'OTL', '#text': '0'}, 'GoalsFor': {'@abbreviation': 'GF', '#text': '30'}, 'GoalsAgainst': {'@abbreviation': 'GA', '#text': '24'}, 'FaceoffWins': {'@abbreviation': 'F/O W', '#text': '239'}, 'FaceoffLosses': {'@abbreviation': 'F/O L', '#text': '271'}, 'FaceoffPercent': {'@abbreviation': 'F/O %', '#text': '46.9'}, 'Powerplays': {'@abbreviation': 'PP', '#text': '37'}, 'PowerplayGoals': {'@abbreviation': 'PPG', '#text': '8'}, 'PowerplayPercent': {'@abbreviation': 'PP%', '#text': '21.6'}, 'PenaltyKills': {'@abbreviation': 'PK', '#text': '42'}, 'PenaltyKillGoalsAllowed': {'@abbreviation': 'PKGA', '#text': '9'}, 'PenaltyKillPercent': {'@abbreviation': 'PK%', '#text': '78.6'}, 'ShorthandedGoalsFor': {'@abbreviation': 'SHGF', '#text': '3'}, 'ShorthandedGoalsAgainst': {'@abbreviation': 'SHGA', '#text': '0'}, 'Points': {'@abbreviation': 'Pts', '#text': '12'}, 'Shots': {'@abbreviation': 'Sh', '#text': '251'}, 'BlockedShots': {'@abbreviation': 'BS', '#text': '0'}, 'Penalties': {'@abbreviation': 'Pn', '#text': '47'}, 'PenaltyMinutes': {'@abbreviation': 'PIM', '#text': '120'}, 'Hits': {'@abbreviation': 'Ht', '#text': '191'}}}}\n",
      " {'team': {'ID': '19', 'City': 'Columbus', 'Name': 'Blue Jackets', 'Abbreviation': 'CBJ'}, 'rank': '8', 'stats': {'GamesPlayed': {'@abbreviation': 'GP', '#text': '9'}, 'stats': {'Wins': {'@abbreviation': 'W', '#text': '6'}, 'Losses': {'@abbreviation': 'L', '#text': '3'}, 'OvertimeWins': {'@abbreviation': 'OTW', '#text': '0'}, 'OvertimeLosses': {'@abbreviation': 'OTL', '#text': '0'}, 'GoalsFor': {'@abbreviation': 'GF', '#text': '30'}, 'GoalsAgainst': {'@abbreviation': 'GA', '#text': '22'}, 'FaceoffWins': {'@abbreviation': 'F/O W', '#text': '247'}, 'FaceoffLosses': {'@abbreviation': 'F/O L', '#text': '321'}, 'FaceoffPercent': {'@abbreviation': 'F/O %', '#text': '43.5'}, 'Powerplays': {'@abbreviation': 'PP', '#text': '24'}, 'PowerplayGoals': {'@abbreviation': 'PPG', '#text': '3'}, 'PowerplayPercent': {'@abbreviation': 'PP%', '#text': '12.5'}, 'PenaltyKills': {'@abbreviation': 'PK', '#text': '19'}, 'PenaltyKillGoalsAllowed': {'@abbreviation': 'PKGA', '#text': '3'}, 'PenaltyKillPercent': {'@abbreviation': 'PK%', '#text': '84.2'}, 'ShorthandedGoalsFor': {'@abbreviation': 'SHGF', '#text': '0'}, 'ShorthandedGoalsAgainst': {'@abbreviation': 'SHGA', '#text': '1'}, 'Points': {'@abbreviation': 'Pts', '#text': '12'}, 'Shots': {'@abbreviation': 'Sh', '#text': '331'}, 'BlockedShots': {'@abbreviation': 'BS', '#text': '11'}, 'Penalties': {'@abbreviation': 'Pn', '#text': '24'}, 'PenaltyMinutes': {'@abbreviation': 'PIM', '#text': '54'}, 'Hits': {'@abbreviation': 'Ht', '#text': '173'}}}}\n",
      " {'team': {'ID': '13', 'City': 'Ottawa', 'Name': 'Senators', 'Abbreviation': 'OTT'}, 'rank': '9', 'stats': {'GamesPlayed': {'@abbreviation': 'GP', '#text': '9'}, 'stats': {'Wins': {'@abbreviation': 'W', '#text': '4'}, 'Losses': {'@abbreviation': 'L', '#text': '1'}, 'OvertimeWins': {'@abbreviation': 'OTW', '#text': '0'}, 'OvertimeLosses': {'@abbreviation': 'OTL', '#text': '4'}, 'GoalsFor': {'@abbreviation': 'GF', '#text': '31'}, 'GoalsAgainst': {'@abbreviation': 'GA', '#text': '21'}, 'FaceoffWins': {'@abbreviation': 'F/O W', '#text': '303'}, 'FaceoffLosses': {'@abbreviation': 'F/O L', '#text': '272'}, 'FaceoffPercent': {'@abbreviation': 'F/O %', '#text': '52.7'}, 'Powerplays': {'@abbreviation': 'PP', '#text': '40'}, 'PowerplayGoals': {'@abbreviation': 'PPG', '#text': '7'}, 'PowerplayPercent': {'@abbreviation': 'PP%', '#text': '17.5'}, 'PenaltyKills': {'@abbreviation': 'PK', '#text': '25'}, 'PenaltyKillGoalsAllowed': {'@abbreviation': 'PKGA', '#text': '2'}, 'PenaltyKillPercent': {'@abbreviation': 'PK%', '#text': '92.0'}, 'ShorthandedGoalsFor': {'@abbreviation': 'SHGF', '#text': '1'}, 'ShorthandedGoalsAgainst': {'@abbreviation': 'SHGA', '#text': '0'}, 'Points': {'@abbreviation': 'Pts', '#text': '12'}, 'Shots': {'@abbreviation': 'Sh', '#text': '301'}, 'BlockedShots': {'@abbreviation': 'BS', '#text': '0'}, 'Penalties': {'@abbreviation': 'Pn', '#text': '31'}, 'PenaltyMinutes': {'@abbreviation': 'PIM', '#text': '71'}, 'Hits': {'@abbreviation': 'Ht', '#text': '199'}}}}\n",
      " {'team': {'ID': '20', 'City': 'Chicago', 'Name': 'Blackhawks', 'Abbreviation': 'CHI'}, 'rank': '10', 'stats': {'GamesPlayed': {'@abbreviation': 'GP', '#text': '10'}, 'stats': {'Wins': {'@abbreviation': 'W', '#text': '5'}, 'Losses': {'@abbreviation': 'L', '#text': '3'}, 'OvertimeWins': {'@abbreviation': 'OTW', '#text': '0'}, 'OvertimeLosses': {'@abbreviation': 'OTL', '#text': '2'}, 'GoalsFor': {'@abbreviation': 'GF', '#text': '34'}, 'GoalsAgainst': {'@abbreviation': 'GA', '#text': '26'}, 'FaceoffWins': {'@abbreviation': 'F/O W', '#text': '325'}, 'FaceoffLosses': {'@abbreviation': 'F/O L', '#text': '323'}, 'FaceoffPercent': {'@abbreviation': 'F/O %', '#text': '50.2'}, 'Powerplays': {'@abbreviation': 'PP', '#text': '45'}, 'PowerplayGoals': {'@abbreviation': 'PPG', '#text': '7'}, 'PowerplayPercent': {'@abbreviation': 'PP%', '#text': '15.6'}, 'PenaltyKills': {'@abbreviation': 'PK', '#text': '40'}, 'PenaltyKillGoalsAllowed': {'@abbreviation': 'PKGA', '#text': '7'}, 'PenaltyKillPercent': {'@abbreviation': 'PK%', '#text': '82.5'}, 'ShorthandedGoalsFor': {'@abbreviation': 'SHGF', '#text': '1'}, 'ShorthandedGoalsAgainst': {'@abbreviation': 'SHGA', '#text': '0'}, 'Points': {'@abbreviation': 'Pts', '#text': '12'}, 'Shots': {'@abbreviation': 'Sh', '#text': '307'}, 'BlockedShots': {'@abbreviation': 'BS', '#text': '0'}, 'Penalties': {'@abbreviation': 'Pn', '#text': '48'}, 'PenaltyMinutes': {'@abbreviation': 'PIM', '#text': '102'}, 'Hits': {'@abbreviation': 'Ht', '#text': '213'}}}}\n",
      " {'team': {'ID': '8', 'City': 'New York', 'Name': 'Islanders', 'Abbreviation': 'NYI'}, 'rank': '11', 'stats': {'GamesPlayed': {'@abbreviation': 'GP', '#text': '9'}, 'stats': {'Wins': {'@abbreviation': 'W', '#text': '5'}, 'Losses': {'@abbreviation': 'L', '#text': '3'}, 'OvertimeWins': {'@abbreviation': 'OTW', '#text': '0'}, 'OvertimeLosses': {'@abbreviation': 'OTL', '#text': '1'}, 'GoalsFor': {'@abbreviation': 'GF', '#text': '28'}, 'GoalsAgainst': {'@abbreviation': 'GA', '#text': '26'}, 'FaceoffWins': {'@abbreviation': 'F/O W', '#text': '242'}, 'FaceoffLosses': {'@abbreviation': 'F/O L', '#text': '278'}, 'FaceoffPercent': {'@abbreviation': 'F/O %', '#text': '46.5'}, 'Powerplays': {'@abbreviation': 'PP', '#text': '27'}, 'PowerplayGoals': {'@abbreviation': 'PPG', '#text': '2'}, 'PowerplayPercent': {'@abbreviation': 'PP%', '#text': '7.4'}, 'PenaltyKills': {'@abbreviation': 'PK', '#text': '26'}, 'PenaltyKillGoalsAllowed': {'@abbreviation': 'PKGA', '#text': '6'}, 'PenaltyKillPercent': {'@abbreviation': 'PK%', '#text': '76.9'}, 'ShorthandedGoalsFor': {'@abbreviation': 'SHGF', '#text': '2'}, 'ShorthandedGoalsAgainst': {'@abbreviation': 'SHGA', '#text': '3'}, 'Points': {'@abbreviation': 'Pts', '#text': '11'}, 'Shots': {'@abbreviation': 'Sh', '#text': '279'}, 'BlockedShots': {'@abbreviation': 'BS', '#text': '0'}, 'Penalties': {'@abbreviation': 'Pn', '#text': '30'}, 'PenaltyMinutes': {'@abbreviation': 'PIM', '#text': '63'}, 'Hits': {'@abbreviation': 'Ht', '#text': '203'}}}}\n",
      " {'team': {'ID': '21', 'City': 'Vancouver', 'Name': 'Canucks', 'Abbreviation': 'VAN'}, 'rank': '12', 'stats': {'GamesPlayed': {'@abbreviation': 'GP', '#text': '9'}, 'stats': {'Wins': {'@abbreviation': 'W', '#text': '5'}, 'Losses': {'@abbreviation': 'L', '#text': '3'}, 'OvertimeWins': {'@abbreviation': 'OTW', '#text': '0'}, 'OvertimeLosses': {'@abbreviation': 'OTL', '#text': '1'}, 'GoalsFor': {'@abbreviation': 'GF', '#text': '24'}, 'GoalsAgainst': {'@abbreviation': 'GA', '#text': '22'}, 'FaceoffWins': {'@abbreviation': 'F/O W', '#text': '288'}, 'FaceoffLosses': {'@abbreviation': 'F/O L', '#text': '268'}, 'FaceoffPercent': {'@abbreviation': 'F/O %', '#text': '51.8'}, 'Powerplays': {'@abbreviation': 'PP', '#text': '40'}, 'PowerplayGoals': {'@abbreviation': 'PPG', '#text': '4'}, 'PowerplayPercent': {'@abbreviation': 'PP%', '#text': '10.0'}, 'PenaltyKills': {'@abbreviation': 'PK', '#text': '32'}, 'PenaltyKillGoalsAllowed': {'@abbreviation': 'PKGA', '#text': '6'}, 'PenaltyKillPercent': {'@abbreviation': 'PK%', '#text': '81.2'}, 'ShorthandedGoalsFor': {'@abbreviation': 'SHGF', '#text': '1'}, 'ShorthandedGoalsAgainst': {'@abbreviation': 'SHGA', '#text': '2'}, 'Points': {'@abbreviation': 'Pts', '#text': '11'}, 'Shots': {'@abbreviation': 'Sh', '#text': '271'}, 'BlockedShots': {'@abbreviation': 'BS', '#text': '0'}, 'Penalties': {'@abbreviation': 'Pn', '#text': '43'}, 'PenaltyMinutes': {'@abbreviation': 'PIM', '#text': '127'}, 'Hits': {'@abbreviation': 'Ht', '#text': '137'}}}}\n",
      " {'team': {'ID': '6', 'City': 'Philadelphia', 'Name': 'Flyers', 'Abbreviation': 'PHI'}, 'rank': '13', 'stats': {'GamesPlayed': {'@abbreviation': 'GP', '#text': '9'}, 'stats': {'Wins': {'@abbreviation': 'W', '#text': '5'}, 'Losses': {'@abbreviation': 'L', '#text': '4'}, 'OvertimeWins': {'@abbreviation': 'OTW', '#text': '0'}, 'OvertimeLosses': {'@abbreviation': 'OTL', '#text': '0'}, 'GoalsFor': {'@abbreviation': 'GF', '#text': '30'}, 'GoalsAgainst': {'@abbreviation': 'GA', '#text': '24'}, 'FaceoffWins': {'@abbreviation': 'F/O W', '#text': '279'}, 'FaceoffLosses': {'@abbreviation': 'F/O L', '#text': '266'}, 'FaceoffPercent': {'@abbreviation': 'F/O %', '#text': '51.2'}, 'Powerplays': {'@abbreviation': 'PP', '#text': '39'}, 'PowerplayGoals': {'@abbreviation': 'PPG', '#text': '8'}, 'PowerplayPercent': {'@abbreviation': 'PP%', '#text': '20.5'}, 'PenaltyKills': {'@abbreviation': 'PK', '#text': '33'}, 'PenaltyKillGoalsAllowed': {'@abbreviation': 'PKGA', '#text': '7'}, 'PenaltyKillPercent': {'@abbreviation': 'PK%', '#text': '78.8'}, 'ShorthandedGoalsFor': {'@abbreviation': 'SHGF', '#text': '1'}, 'ShorthandedGoalsAgainst': {'@abbreviation': 'SHGA', '#text': '1'}, 'Points': {'@abbreviation': 'Pts', '#text': '10'}, 'Shots': {'@abbreviation': 'Sh', '#text': '294'}, 'BlockedShots': {'@abbreviation': 'BS', '#text': '0'}, 'Penalties': {'@abbreviation': 'Pn', '#text': '40'}, 'PenaltyMinutes': {'@abbreviation': 'PIM', '#text': '96'}, 'Hits': {'@abbreviation': 'Ht', '#text': '157'}}}}\n",
      " {'team': {'ID': '22', 'City': 'Colorado', 'Name': 'Avalanche', 'Abbreviation': 'COL'}, 'rank': '14', 'stats': {'GamesPlayed': {'@abbreviation': 'GP', '#text': '9'}, 'stats': {'Wins': {'@abbreviation': 'W', '#text': '5'}, 'Losses': {'@abbreviation': 'L', '#text': '4'}, 'OvertimeWins': {'@abbreviation': 'OTW', '#text': '0'}, 'OvertimeLosses': {'@abbreviation': 'OTL', '#text': '0'}, 'GoalsFor': {'@abbreviation': 'GF', '#text': '28'}, 'GoalsAgainst': {'@abbreviation': 'GA', '#text': '24'}, 'FaceoffWins': {'@abbreviation': 'F/O W', '#text': '246'}, 'FaceoffLosses': {'@abbreviation': 'F/O L', '#text': '299'}, 'FaceoffPercent': {'@abbreviation': 'F/O %', '#text': '45.1'}, 'Powerplays': {'@abbreviation': 'PP', '#text': '42'}, 'PowerplayGoals': {'@abbreviation': 'PPG', '#text': '6'}, 'PowerplayPercent': {'@abbreviation': 'PP%', '#text': '14.3'}, 'PenaltyKills': {'@abbreviation': 'PK', '#text': '36'}, 'PenaltyKillGoalsAllowed': {'@abbreviation': 'PKGA', '#text': '8'}, 'PenaltyKillPercent': {'@abbreviation': 'PK%', '#text': '77.8'}, 'ShorthandedGoalsFor': {'@abbreviation': 'SHGF', '#text': '1'}, 'ShorthandedGoalsAgainst': {'@abbreviation': 'SHGA', '#text': '2'}, 'Points': {'@abbreviation': 'Pts', '#text': '10'}, 'Shots': {'@abbreviation': 'Sh', '#text': '284'}, 'BlockedShots': {'@abbreviation': 'BS', '#text': '0'}, 'Penalties': {'@abbreviation': 'Pn', '#text': '41'}, 'PenaltyMinutes': {'@abbreviation': 'PIM', '#text': '93'}, 'Hits': {'@abbreviation': 'Ht', '#text': '148'}}}}\n",
      " {'team': {'ID': '27', 'City': 'Dallas', 'Name': 'Stars', 'Abbreviation': 'DAL'}, 'rank': '15', 'stats': {'GamesPlayed': {'@abbreviation': 'GP', '#text': '9'}, 'stats': {'Wins': {'@abbreviation': 'W', '#text': '5'}, 'Losses': {'@abbreviation': 'L', '#text': '4'}, 'OvertimeWins': {'@abbreviation': 'OTW', '#text': '0'}, 'OvertimeLosses': {'@abbreviation': 'OTL', '#text': '0'}, 'GoalsFor': {'@abbreviation': 'GF', '#text': '26'}, 'GoalsAgainst': {'@abbreviation': 'GA', '#text': '26'}, 'FaceoffWins': {'@abbreviation': 'F/O W', '#text': '314'}, 'FaceoffLosses': {'@abbreviation': 'F/O L', '#text': '275'}, 'FaceoffPercent': {'@abbreviation': 'F/O %', '#text': '53.3'}, 'Powerplays': {'@abbreviation': 'PP', '#text': '26'}, 'PowerplayGoals': {'@abbreviation': 'PPG', '#text': '6'}, 'PowerplayPercent': {'@abbreviation': 'PP%', '#text': '23.1'}, 'PenaltyKills': {'@abbreviation': 'PK', '#text': '34'}, 'PenaltyKillGoalsAllowed': {'@abbreviation': 'PKGA', '#text': '3'}, 'PenaltyKillPercent': {'@abbreviation': 'PK%', '#text': '91.2'}, 'ShorthandedGoalsFor': {'@abbreviation': 'SHGF', '#text': '0'}, 'ShorthandedGoalsAgainst': {'@abbreviation': 'SHGA', '#text': '0'}, 'Points': {'@abbreviation': 'Pts', '#text': '10'}, 'Shots': {'@abbreviation': 'Sh', '#text': '314'}, 'BlockedShots': {'@abbreviation': 'BS', '#text': '0'}, 'Penalties': {'@abbreviation': 'Pn', '#text': '38'}, 'PenaltyMinutes': {'@abbreviation': 'PIM', '#text': '88'}, 'Hits': {'@abbreviation': 'Ht', '#text': '201'}}}}\n",
      " {'team': {'ID': '18', 'City': 'Nashville', 'Name': 'Predators', 'Abbreviation': 'NSH'}, 'rank': '16', 'stats': {'GamesPlayed': {'@abbreviation': 'GP', '#text': '9'}, 'stats': {'Wins': {'@abbreviation': 'W', '#text': '4'}, 'Losses': {'@abbreviation': 'L', '#text': '3'}, 'OvertimeWins': {'@abbreviation': 'OTW', '#text': '0'}, 'OvertimeLosses': {'@abbreviation': 'OTL', '#text': '2'}, 'GoalsFor': {'@abbreviation': 'GF', '#text': '23'}, 'GoalsAgainst': {'@abbreviation': 'GA', '#text': '23'}, 'FaceoffWins': {'@abbreviation': 'F/O W', '#text': '296'}, 'FaceoffLosses': {'@abbreviation': 'F/O L', '#text': '271'}, 'FaceoffPercent': {'@abbreviation': 'F/O %', '#text': '52.2'}, 'Powerplays': {'@abbreviation': 'PP', '#text': '36'}, 'PowerplayGoals': {'@abbreviation': 'PPG', '#text': '10'}, 'PowerplayPercent': {'@abbreviation': 'PP%', '#text': '27.8'}, 'PenaltyKills': {'@abbreviation': 'PK', '#text': '43'}, 'PenaltyKillGoalsAllowed': {'@abbreviation': 'PKGA', '#text': '6'}, 'PenaltyKillPercent': {'@abbreviation': 'PK%', '#text': '86.0'}, 'ShorthandedGoalsFor': {'@abbreviation': 'SHGF', '#text': '0'}, 'ShorthandedGoalsAgainst': {'@abbreviation': 'SHGA', '#text': '1'}, 'Points': {'@abbreviation': 'Pts', '#text': '10'}, 'Shots': {'@abbreviation': 'Sh', '#text': '268'}, 'BlockedShots': {'@abbreviation': 'BS', '#text': '0'}, 'Penalties': {'@abbreviation': 'Pn', '#text': '56'}, 'PenaltyMinutes': {'@abbreviation': 'PIM', '#text': '140'}, 'Hits': {'@abbreviation': 'Ht', '#text': '197'}}}}\n",
      " {'team': {'ID': '23', 'City': 'Calgary', 'Name': 'Flames', 'Abbreviation': 'CGY'}, 'rank': '17', 'stats': {'GamesPlayed': {'@abbreviation': 'GP', '#text': '10'}, 'stats': {'Wins': {'@abbreviation': 'W', '#text': '5'}, 'Losses': {'@abbreviation': 'L', '#text': '5'}, 'OvertimeWins': {'@abbreviation': 'OTW', '#text': '0'}, 'OvertimeLosses': {'@abbreviation': 'OTL', '#text': '0'}, 'GoalsFor': {'@abbreviation': 'GF', '#text': '24'}, 'GoalsAgainst': {'@abbreviation': 'GA', '#text': '30'}, 'FaceoffWins': {'@abbreviation': 'F/O W', '#text': '291'}, 'FaceoffLosses': {'@abbreviation': 'F/O L', '#text': '331'}, 'FaceoffPercent': {'@abbreviation': 'F/O %', '#text': '46.8'}, 'Powerplays': {'@abbreviation': 'PP', '#text': '37'}, 'PowerplayGoals': {'@abbreviation': 'PPG', '#text': '6'}, 'PowerplayPercent': {'@abbreviation': 'PP%', '#text': '16.2'}, 'PenaltyKills': {'@abbreviation': 'PK', '#text': '44'}, 'PenaltyKillGoalsAllowed': {'@abbreviation': 'PKGA', '#text': '9'}, 'PenaltyKillPercent': {'@abbreviation': 'PK%', '#text': '79.5'}, 'ShorthandedGoalsFor': {'@abbreviation': 'SHGF', '#text': '1'}, 'ShorthandedGoalsAgainst': {'@abbreviation': 'SHGA', '#text': '1'}, 'Points': {'@abbreviation': 'Pts', '#text': '10'}, 'Shots': {'@abbreviation': 'Sh', '#text': '309'}, 'BlockedShots': {'@abbreviation': 'BS', '#text': '13'}, 'Penalties': {'@abbreviation': 'Pn', '#text': '50'}, 'PenaltyMinutes': {'@abbreviation': 'PIM', '#text': '111'}, 'Hits': {'@abbreviation': 'Ht', '#text': '194'}}}}\n",
      " {'team': {'ID': '29', 'City': 'Anaheim', 'Name': 'Ducks', 'Abbreviation': 'ANA'}, 'rank': '18', 'stats': {'GamesPlayed': {'@abbreviation': 'GP', '#text': '8'}, 'stats': {'Wins': {'@abbreviation': 'W', '#text': '4'}, 'Losses': {'@abbreviation': 'L', '#text': '3'}, 'OvertimeWins': {'@abbreviation': 'OTW', '#text': '0'}, 'OvertimeLosses': {'@abbreviation': 'OTL', '#text': '1'}, 'GoalsFor': {'@abbreviation': 'GF', '#text': '24'}, 'GoalsAgainst': {'@abbreviation': 'GA', '#text': '21'}, 'FaceoffWins': {'@abbreviation': 'F/O W', '#text': '270'}, 'FaceoffLosses': {'@abbreviation': 'F/O L', '#text': '239'}, 'FaceoffPercent': {'@abbreviation': 'F/O %', '#text': '53.0'}, 'Powerplays': {'@abbreviation': 'PP', '#text': '27'}, 'PowerplayGoals': {'@abbreviation': 'PPG', '#text': '2'}, 'PowerplayPercent': {'@abbreviation': 'PP%', '#text': '7.4'}, 'PenaltyKills': {'@abbreviation': 'PK', '#text': '41'}, 'PenaltyKillGoalsAllowed': {'@abbreviation': 'PKGA', '#text': '6'}, 'PenaltyKillPercent': {'@abbreviation': 'PK%', '#text': '85.4'}, 'ShorthandedGoalsFor': {'@abbreviation': 'SHGF', '#text': '3'}, 'ShorthandedGoalsAgainst': {'@abbreviation': 'SHGA', '#text': '0'}, 'Points': {'@abbreviation': 'Pts', '#text': '9'}, 'Shots': {'@abbreviation': 'Sh', '#text': '251'}, 'BlockedShots': {'@abbreviation': 'BS', '#text': '0'}, 'Penalties': {'@abbreviation': 'Pn', '#text': '51'}, 'PenaltyMinutes': {'@abbreviation': 'PIM', '#text': '132'}, 'Hits': {'@abbreviation': 'Ht', '#text': '177'}}}}\n",
      " {'team': {'ID': '5', 'City': 'Washington', 'Name': 'Capitals', 'Abbreviation': 'WSH'}, 'rank': '19', 'stats': {'GamesPlayed': {'@abbreviation': 'GP', '#text': '9'}, 'stats': {'Wins': {'@abbreviation': 'W', '#text': '4'}, 'Losses': {'@abbreviation': 'L', '#text': '4'}, 'OvertimeWins': {'@abbreviation': 'OTW', '#text': '0'}, 'OvertimeLosses': {'@abbreviation': 'OTL', '#text': '1'}, 'GoalsFor': {'@abbreviation': 'GF', '#text': '27'}, 'GoalsAgainst': {'@abbreviation': 'GA', '#text': '31'}, 'FaceoffWins': {'@abbreviation': 'F/O W', '#text': '292'}, 'FaceoffLosses': {'@abbreviation': 'F/O L', '#text': '278'}, 'FaceoffPercent': {'@abbreviation': 'F/O %', '#text': '51.2'}, 'Powerplays': {'@abbreviation': 'PP', '#text': '30'}, 'PowerplayGoals': {'@abbreviation': 'PPG', '#text': '8'}, 'PowerplayPercent': {'@abbreviation': 'PP%', '#text': '26.7'}, 'PenaltyKills': {'@abbreviation': 'PK', '#text': '41'}, 'PenaltyKillGoalsAllowed': {'@abbreviation': 'PKGA', '#text': '9'}, 'PenaltyKillPercent': {'@abbreviation': 'PK%', '#text': '78.0'}, 'ShorthandedGoalsFor': {'@abbreviation': 'SHGF', '#text': '1'}, 'ShorthandedGoalsAgainst': {'@abbreviation': 'SHGA', '#text': '4'}, 'Points': {'@abbreviation': 'Pts', '#text': '9'}, 'Shots': {'@abbreviation': 'Sh', '#text': '263'}, 'BlockedShots': {'@abbreviation': 'BS', '#text': '0'}, 'Penalties': {'@abbreviation': 'Pn', '#text': '46'}, 'PenaltyMinutes': {'@abbreviation': 'PIM', '#text': '114'}, 'Hits': {'@abbreviation': 'Ht', '#text': '187'}}}}\n",
      " {'team': {'ID': '16', 'City': 'Detroit', 'Name': 'Red Wings', 'Abbreviation': 'DET'}, 'rank': '20', 'stats': {'GamesPlayed': {'@abbreviation': 'GP', '#text': '10'}, 'stats': {'Wins': {'@abbreviation': 'W', '#text': '4'}, 'Losses': {'@abbreviation': 'L', '#text': '5'}, 'OvertimeWins': {'@abbreviation': 'OTW', '#text': '0'}, 'OvertimeLosses': {'@abbreviation': 'OTL', '#text': '1'}, 'GoalsFor': {'@abbreviation': 'GF', '#text': '26'}, 'GoalsAgainst': {'@abbreviation': 'GA', '#text': '30'}, 'FaceoffWins': {'@abbreviation': 'F/O W', '#text': '295'}, 'FaceoffLosses': {'@abbreviation': 'F/O L', '#text': '338'}, 'FaceoffPercent': {'@abbreviation': 'F/O %', '#text': '46.6'}, 'Powerplays': {'@abbreviation': 'PP', '#text': '36'}, 'PowerplayGoals': {'@abbreviation': 'PPG', '#text': '5'}, 'PowerplayPercent': {'@abbreviation': 'PP%', '#text': '13.9'}, 'PenaltyKills': {'@abbreviation': 'PK', '#text': '41'}, 'PenaltyKillGoalsAllowed': {'@abbreviation': 'PKGA', '#text': '6'}, 'PenaltyKillPercent': {'@abbreviation': 'PK%', '#text': '85.4'}, 'ShorthandedGoalsFor': {'@abbreviation': 'SHGF', '#text': '2'}, 'ShorthandedGoalsAgainst': {'@abbreviation': 'SHGA', '#text': '2'}, 'Points': {'@abbreviation': 'Pts', '#text': '9'}, 'Shots': {'@abbreviation': 'Sh', '#text': '300'}, 'BlockedShots': {'@abbreviation': 'BS', '#text': '0'}, 'Penalties': {'@abbreviation': 'Pn', '#text': '49'}, 'PenaltyMinutes': {'@abbreviation': 'PIM', '#text': '104'}, 'Hits': {'@abbreviation': 'Ht', '#text': '203'}}}}\n",
      " {'team': {'ID': '47', 'City': 'Winnipeg', 'Name': 'Jets', 'Abbreviation': 'WPJ'}, 'rank': '21', 'stats': {'GamesPlayed': {'@abbreviation': 'GP', '#text': '7'}, 'stats': {'Wins': {'@abbreviation': 'W', '#text': '4'}, 'Losses': {'@abbreviation': 'L', '#text': '3'}, 'OvertimeWins': {'@abbreviation': 'OTW', '#text': '0'}, 'OvertimeLosses': {'@abbreviation': 'OTL', '#text': '0'}, 'GoalsFor': {'@abbreviation': 'GF', '#text': '22'}, 'GoalsAgainst': {'@abbreviation': 'GA', '#text': '26'}, 'FaceoffWins': {'@abbreviation': 'F/O W', '#text': '221'}, 'FaceoffLosses': {'@abbreviation': 'F/O L', '#text': '214'}, 'FaceoffPercent': {'@abbreviation': 'F/O %', '#text': '50.8'}, 'Powerplays': {'@abbreviation': 'PP', '#text': '23'}, 'PowerplayGoals': {'@abbreviation': 'PPG', '#text': '4'}, 'PowerplayPercent': {'@abbreviation': 'PP%', '#text': '17.4'}, 'PenaltyKills': {'@abbreviation': 'PK', '#text': '25'}, 'PenaltyKillGoalsAllowed': {'@abbreviation': 'PKGA', '#text': '7'}, 'PenaltyKillPercent': {'@abbreviation': 'PK%', '#text': '72.0'}, 'ShorthandedGoalsFor': {'@abbreviation': 'SHGF', '#text': '3'}, 'ShorthandedGoalsAgainst': {'@abbreviation': 'SHGA', '#text': '0'}, 'Points': {'@abbreviation': 'Pts', '#text': '8'}, 'Shots': {'@abbreviation': 'Sh', '#text': '205'}, 'BlockedShots': {'@abbreviation': 'BS', '#text': '0'}, 'Penalties': {'@abbreviation': 'Pn', '#text': '25'}, 'PenaltyMinutes': {'@abbreviation': 'PIM', '#text': '50'}, 'Hits': {'@abbreviation': 'Ht', '#text': '137'}}}}\n",
      " {'team': {'ID': '26', 'City': 'San Jose', 'Name': 'Sharks', 'Abbreviation': 'SJS'}, 'rank': '22', 'stats': {'GamesPlayed': {'@abbreviation': 'GP', '#text': '8'}, 'stats': {'Wins': {'@abbreviation': 'W', '#text': '4'}, 'Losses': {'@abbreviation': 'L', '#text': '4'}, 'OvertimeWins': {'@abbreviation': 'OTW', '#text': '0'}, 'OvertimeLosses': {'@abbreviation': 'OTL', '#text': '0'}, 'GoalsFor': {'@abbreviation': 'GF', '#text': '23'}, 'GoalsAgainst': {'@abbreviation': 'GA', '#text': '22'}, 'FaceoffWins': {'@abbreviation': 'F/O W', '#text': '252'}, 'FaceoffLosses': {'@abbreviation': 'F/O L', '#text': '220'}, 'FaceoffPercent': {'@abbreviation': 'F/O %', '#text': '53.4'}, 'Powerplays': {'@abbreviation': 'PP', '#text': '31'}, 'PowerplayGoals': {'@abbreviation': 'PPG', '#text': '7'}, 'PowerplayPercent': {'@abbreviation': 'PP%', '#text': '22.6'}, 'PenaltyKills': {'@abbreviation': 'PK', '#text': '36'}, 'PenaltyKillGoalsAllowed': {'@abbreviation': 'PKGA', '#text': '4'}, 'PenaltyKillPercent': {'@abbreviation': 'PK%', '#text': '88.9'}, 'ShorthandedGoalsFor': {'@abbreviation': 'SHGF', '#text': '0'}, 'ShorthandedGoalsAgainst': {'@abbreviation': 'SHGA', '#text': '0'}, 'Points': {'@abbreviation': 'Pts', '#text': '8'}, 'Shots': {'@abbreviation': 'Sh', '#text': '250'}, 'BlockedShots': {'@abbreviation': 'BS', '#text': '0'}, 'Penalties': {'@abbreviation': 'Pn', '#text': '37'}, 'PenaltyMinutes': {'@abbreviation': 'PIM', '#text': '74'}, 'Hits': {'@abbreviation': 'Ht', '#text': '163'}}}}\n",
      " {'team': {'ID': '15', 'City': 'Buffalo', 'Name': 'Sabres', 'Abbreviation': 'BUF'}, 'rank': '23', 'stats': {'GamesPlayed': {'@abbreviation': 'GP', '#text': '11'}, 'stats': {'Wins': {'@abbreviation': 'W', '#text': '3'}, 'Losses': {'@abbreviation': 'L', '#text': '6'}, 'OvertimeWins': {'@abbreviation': 'OTW', '#text': '0'}, 'OvertimeLosses': {'@abbreviation': 'OTL', '#text': '2'}, 'GoalsFor': {'@abbreviation': 'GF', '#text': '27'}, 'GoalsAgainst': {'@abbreviation': 'GA', '#text': '40'}, 'FaceoffWins': {'@abbreviation': 'F/O W', '#text': '357'}, 'FaceoffLosses': {'@abbreviation': 'F/O L', '#text': '353'}, 'FaceoffPercent': {'@abbreviation': 'F/O %', '#text': '50.3'}, 'Powerplays': {'@abbreviation': 'PP', '#text': '36'}, 'PowerplayGoals': {'@abbreviation': 'PPG', '#text': '5'}, 'PowerplayPercent': {'@abbreviation': 'PP%', '#text': '13.9'}, 'PenaltyKills': {'@abbreviation': 'PK', '#text': '37'}, 'PenaltyKillGoalsAllowed': {'@abbreviation': 'PKGA', '#text': '7'}, 'PenaltyKillPercent': {'@abbreviation': 'PK%', '#text': '81.1'}, 'ShorthandedGoalsFor': {'@abbreviation': 'SHGF', '#text': '2'}, 'ShorthandedGoalsAgainst': {'@abbreviation': 'SHGA', '#text': '6'}, 'Points': {'@abbreviation': 'Pts', '#text': '8'}, 'Shots': {'@abbreviation': 'Sh', '#text': '345'}, 'BlockedShots': {'@abbreviation': 'BS', '#text': '10'}, 'Penalties': {'@abbreviation': 'Pn', '#text': '40'}, 'PenaltyMinutes': {'@abbreviation': 'PIM', '#text': '83'}, 'Hits': {'@abbreviation': 'Ht', '#text': '249'}}}}\n",
      " {'team': {'ID': '11', 'City': 'Boston', 'Name': 'Bruins', 'Abbreviation': 'BOS'}, 'rank': '24', 'stats': {'GamesPlayed': {'@abbreviation': 'GP', '#text': '7'}, 'stats': {'Wins': {'@abbreviation': 'W', '#text': '3'}, 'Losses': {'@abbreviation': 'L', '#text': '3'}, 'OvertimeWins': {'@abbreviation': 'OTW', '#text': '0'}, 'OvertimeLosses': {'@abbreviation': 'OTL', '#text': '1'}, 'GoalsFor': {'@abbreviation': 'GF', '#text': '24'}, 'GoalsAgainst': {'@abbreviation': 'GA', '#text': '26'}, 'FaceoffWins': {'@abbreviation': 'F/O W', '#text': '239'}, 'FaceoffLosses': {'@abbreviation': 'F/O L', '#text': '215'}, 'FaceoffPercent': {'@abbreviation': 'F/O %', '#text': '52.6'}, 'Powerplays': {'@abbreviation': 'PP', '#text': '25'}, 'PowerplayGoals': {'@abbreviation': 'PPG', '#text': '9'}, 'PowerplayPercent': {'@abbreviation': 'PP%', '#text': '36.0'}, 'PenaltyKills': {'@abbreviation': 'PK', '#text': '28'}, 'PenaltyKillGoalsAllowed': {'@abbreviation': 'PKGA', '#text': '5'}, 'PenaltyKillPercent': {'@abbreviation': 'PK%', '#text': '82.1'}, 'ShorthandedGoalsFor': {'@abbreviation': 'SHGF', '#text': '1'}, 'ShorthandedGoalsAgainst': {'@abbreviation': 'SHGA', '#text': '1'}, 'Points': {'@abbreviation': 'Pts', '#text': '7'}, 'Shots': {'@abbreviation': 'Sh', '#text': '201'}, 'BlockedShots': {'@abbreviation': 'BS', '#text': '0'}, 'Penalties': {'@abbreviation': 'Pn', '#text': '34'}, 'PenaltyMinutes': {'@abbreviation': 'PIM', '#text': '83'}, 'Hits': {'@abbreviation': 'Ht', '#text': '169'}}}}\n",
      " {'team': {'ID': '3', 'City': 'Carolina', 'Name': 'Hurricanes', 'Abbreviation': 'CAR'}, 'rank': '25', 'stats': {'GamesPlayed': {'@abbreviation': 'GP', '#text': '7'}, 'stats': {'Wins': {'@abbreviation': 'W', '#text': '3'}, 'Losses': {'@abbreviation': 'L', '#text': '3'}, 'OvertimeWins': {'@abbreviation': 'OTW', '#text': '0'}, 'OvertimeLosses': {'@abbreviation': 'OTL', '#text': '1'}, 'GoalsFor': {'@abbreviation': 'GF', '#text': '17'}, 'GoalsAgainst': {'@abbreviation': 'GA', '#text': '21'}, 'FaceoffWins': {'@abbreviation': 'F/O W', '#text': '215'}, 'FaceoffLosses': {'@abbreviation': 'F/O L', '#text': '212'}, 'FaceoffPercent': {'@abbreviation': 'F/O %', '#text': '50.4'}, 'Powerplays': {'@abbreviation': 'PP', '#text': '30'}, 'PowerplayGoals': {'@abbreviation': 'PPG', '#text': '5'}, 'PowerplayPercent': {'@abbreviation': 'PP%', '#text': '16.7'}, 'PenaltyKills': {'@abbreviation': 'PK', '#text': '19'}, 'PenaltyKillGoalsAllowed': {'@abbreviation': 'PKGA', '#text': '4'}, 'PenaltyKillPercent': {'@abbreviation': 'PK%', '#text': '78.9'}, 'ShorthandedGoalsFor': {'@abbreviation': 'SHGF', '#text': '1'}, 'ShorthandedGoalsAgainst': {'@abbreviation': 'SHGA', '#text': '0'}, 'Points': {'@abbreviation': 'Pts', '#text': '7'}, 'Shots': {'@abbreviation': 'Sh', '#text': '234'}, 'BlockedShots': {'@abbreviation': 'BS', '#text': '0'}, 'Penalties': {'@abbreviation': 'Pn', '#text': '20'}, 'PenaltyMinutes': {'@abbreviation': 'PIM', '#text': '40'}, 'Hits': {'@abbreviation': 'Ht', '#text': '105'}}}}\n",
      " {'team': {'ID': '25', 'City': 'Minnesota', 'Name': 'Wild', 'Abbreviation': 'MIN'}, 'rank': '26', 'stats': {'GamesPlayed': {'@abbreviation': 'GP', '#text': '7'}, 'stats': {'Wins': {'@abbreviation': 'W', '#text': '2'}, 'Losses': {'@abbreviation': 'L', '#text': '3'}, 'OvertimeWins': {'@abbreviation': 'OTW', '#text': '0'}, 'OvertimeLosses': {'@abbreviation': 'OTL', '#text': '2'}, 'GoalsFor': {'@abbreviation': 'GF', '#text': '22'}, 'GoalsAgainst': {'@abbreviation': 'GA', '#text': '22'}, 'FaceoffWins': {'@abbreviation': 'F/O W', '#text': '241'}, 'FaceoffLosses': {'@abbreviation': 'F/O L', '#text': '205'}, 'FaceoffPercent': {'@abbreviation': 'F/O %', '#text': '54.0'}, 'Powerplays': {'@abbreviation': 'PP', '#text': '22'}, 'PowerplayGoals': {'@abbreviation': 'PPG', '#text': '6'}, 'PowerplayPercent': {'@abbreviation': 'PP%', '#text': '27.3'}, 'PenaltyKills': {'@abbreviation': 'PK', '#text': '30'}, 'PenaltyKillGoalsAllowed': {'@abbreviation': 'PKGA', '#text': '7'}, 'PenaltyKillPercent': {'@abbreviation': 'PK%', '#text': '76.7'}, 'ShorthandedGoalsFor': {'@abbreviation': 'SHGF', '#text': '0'}, 'ShorthandedGoalsAgainst': {'@abbreviation': 'SHGA', '#text': '0'}, 'Points': {'@abbreviation': 'Pts', '#text': '6'}, 'Shots': {'@abbreviation': 'Sh', '#text': '209'}, 'BlockedShots': {'@abbreviation': 'BS', '#text': '0'}, 'Penalties': {'@abbreviation': 'Pn', '#text': '32'}, 'PenaltyMinutes': {'@abbreviation': 'PIM', '#text': '67'}, 'Hits': {'@abbreviation': 'Ht', '#text': '140'}}}}\n",
      " {'team': {'ID': '4', 'City': 'Florida', 'Name': 'Panthers', 'Abbreviation': 'FLO'}, 'rank': '27', 'stats': {'GamesPlayed': {'@abbreviation': 'GP', '#text': '8'}, 'stats': {'Wins': {'@abbreviation': 'W', '#text': '3'}, 'Losses': {'@abbreviation': 'L', '#text': '5'}, 'OvertimeWins': {'@abbreviation': 'OTW', '#text': '0'}, 'OvertimeLosses': {'@abbreviation': 'OTL', '#text': '0'}, 'GoalsFor': {'@abbreviation': 'GF', '#text': '25'}, 'GoalsAgainst': {'@abbreviation': 'GA', '#text': '30'}, 'FaceoffWins': {'@abbreviation': 'F/O W', '#text': '285'}, 'FaceoffLosses': {'@abbreviation': 'F/O L', '#text': '257'}, 'FaceoffPercent': {'@abbreviation': 'F/O %', '#text': '52.6'}, 'Powerplays': {'@abbreviation': 'PP', '#text': '34'}, 'PowerplayGoals': {'@abbreviation': 'PPG', '#text': '6'}, 'PowerplayPercent': {'@abbreviation': 'PP%', '#text': '17.6'}, 'PenaltyKills': {'@abbreviation': 'PK', '#text': '33'}, 'PenaltyKillGoalsAllowed': {'@abbreviation': 'PKGA', '#text': '10'}, 'PenaltyKillPercent': {'@abbreviation': 'PK%', '#text': '69.7'}, 'ShorthandedGoalsFor': {'@abbreviation': 'SHGF', '#text': '2'}, 'ShorthandedGoalsAgainst': {'@abbreviation': 'SHGA', '#text': '1'}, 'Points': {'@abbreviation': 'Pts', '#text': '6'}, 'Shots': {'@abbreviation': 'Sh', '#text': '290'}, 'BlockedShots': {'@abbreviation': 'BS', '#text': '0'}, 'Penalties': {'@abbreviation': 'Pn', '#text': '40'}, 'PenaltyMinutes': {'@abbreviation': 'PIM', '#text': '97'}, 'Hits': {'@abbreviation': 'Ht', '#text': '166'}}}}\n",
      " {'team': {'ID': '9', 'City': 'New York', 'Name': 'Rangers', 'Abbreviation': 'NYR'}, 'rank': '28', 'stats': {'GamesPlayed': {'@abbreviation': 'GP', '#text': '10'}, 'stats': {'Wins': {'@abbreviation': 'W', '#text': '2'}, 'Losses': {'@abbreviation': 'L', '#text': '6'}, 'OvertimeWins': {'@abbreviation': 'OTW', '#text': '0'}, 'OvertimeLosses': {'@abbreviation': 'OTL', '#text': '2'}, 'GoalsFor': {'@abbreviation': 'GF', '#text': '25'}, 'GoalsAgainst': {'@abbreviation': 'GA', '#text': '35'}, 'FaceoffWins': {'@abbreviation': 'F/O W', '#text': '305'}, 'FaceoffLosses': {'@abbreviation': 'F/O L', '#text': '284'}, 'FaceoffPercent': {'@abbreviation': 'F/O %', '#text': '51.8'}, 'Powerplays': {'@abbreviation': 'PP', '#text': '42'}, 'PowerplayGoals': {'@abbreviation': 'PPG', '#text': '8'}, 'PowerplayPercent': {'@abbreviation': 'PP%', '#text': '19.0'}, 'PenaltyKills': {'@abbreviation': 'PK', '#text': '38'}, 'PenaltyKillGoalsAllowed': {'@abbreviation': 'PKGA', '#text': '8'}, 'PenaltyKillPercent': {'@abbreviation': 'PK%', '#text': '78.9'}, 'ShorthandedGoalsFor': {'@abbreviation': 'SHGF', '#text': '0'}, 'ShorthandedGoalsAgainst': {'@abbreviation': 'SHGA', '#text': '0'}, 'Points': {'@abbreviation': 'Pts', '#text': '6'}, 'Shots': {'@abbreviation': 'Sh', '#text': '323'}, 'BlockedShots': {'@abbreviation': 'BS', '#text': '0'}, 'Penalties': {'@abbreviation': 'Pn', '#text': '42'}, 'PenaltyMinutes': {'@abbreviation': 'PIM', '#text': '84'}, 'Hits': {'@abbreviation': 'Ht', '#text': '239'}}}}\n",
      " {'team': {'ID': '24', 'City': 'Edmonton', 'Name': 'Oilers', 'Abbreviation': 'EDM'}, 'rank': '29', 'stats': {'GamesPlayed': {'@abbreviation': 'GP', '#text': '8'}, 'stats': {'Wins': {'@abbreviation': 'W', '#text': '2'}, 'Losses': {'@abbreviation': 'L', '#text': '5'}, 'OvertimeWins': {'@abbreviation': 'OTW', '#text': '0'}, 'OvertimeLosses': {'@abbreviation': 'OTL', '#text': '1'}, 'GoalsFor': {'@abbreviation': 'GF', '#text': '15'}, 'GoalsAgainst': {'@abbreviation': 'GA', '#text': '24'}, 'FaceoffWins': {'@abbreviation': 'F/O W', '#text': '234'}, 'FaceoffLosses': {'@abbreviation': 'F/O L', '#text': '240'}, 'FaceoffPercent': {'@abbreviation': 'F/O %', '#text': '49.4'}, 'Powerplays': {'@abbreviation': 'PP', '#text': '27'}, 'PowerplayGoals': {'@abbreviation': 'PPG', '#text': '4'}, 'PowerplayPercent': {'@abbreviation': 'PP%', '#text': '14.8'}, 'PenaltyKills': {'@abbreviation': 'PK', '#text': '32'}, 'PenaltyKillGoalsAllowed': {'@abbreviation': 'PKGA', '#text': '8'}, 'PenaltyKillPercent': {'@abbreviation': 'PK%', '#text': '75.0'}, 'ShorthandedGoalsFor': {'@abbreviation': 'SHGF', '#text': '0'}, 'ShorthandedGoalsAgainst': {'@abbreviation': 'SHGA', '#text': '1'}, 'Points': {'@abbreviation': 'Pts', '#text': '5'}, 'Shots': {'@abbreviation': 'Sh', '#text': '301'}, 'BlockedShots': {'@abbreviation': 'BS', '#text': '0'}, 'Penalties': {'@abbreviation': 'Pn', '#text': '39'}, 'PenaltyMinutes': {'@abbreviation': 'PIM', '#text': '98'}, 'Hits': {'@abbreviation': 'Ht', '#text': '244'}}}}\n",
      " {'team': {'ID': '14', 'City': 'Montreal', 'Name': 'Canadiens', 'Abbreviation': 'MTL'}, 'rank': '30', 'stats': {'GamesPlayed': {'@abbreviation': 'GP', '#text': '9'}, 'stats': {'Wins': {'@abbreviation': 'W', '#text': '2'}, 'Losses': {'@abbreviation': 'L', '#text': '6'}, 'OvertimeWins': {'@abbreviation': 'OTW', '#text': '0'}, 'OvertimeLosses': {'@abbreviation': 'OTL', '#text': '1'}, 'GoalsFor': {'@abbreviation': 'GF', '#text': '17'}, 'GoalsAgainst': {'@abbreviation': 'GA', '#text': '34'}, 'FaceoffWins': {'@abbreviation': 'F/O W', '#text': '271'}, 'FaceoffLosses': {'@abbreviation': 'F/O L', '#text': '318'}, 'FaceoffPercent': {'@abbreviation': 'F/O %', '#text': '46.0'}, 'Powerplays': {'@abbreviation': 'PP', '#text': '36'}, 'PowerplayGoals': {'@abbreviation': 'PPG', '#text': '5'}, 'PowerplayPercent': {'@abbreviation': 'PP%', '#text': '13.9'}, 'PenaltyKills': {'@abbreviation': 'PK', '#text': '30'}, 'PenaltyKillGoalsAllowed': {'@abbreviation': 'PKGA', '#text': '7'}, 'PenaltyKillPercent': {'@abbreviation': 'PK%', '#text': '76.7'}, 'ShorthandedGoalsFor': {'@abbreviation': 'SHGF', '#text': '2'}, 'ShorthandedGoalsAgainst': {'@abbreviation': 'SHGA', '#text': '0'}, 'Points': {'@abbreviation': 'Pts', '#text': '5'}, 'Shots': {'@abbreviation': 'Sh', '#text': '344'}, 'BlockedShots': {'@abbreviation': 'BS', '#text': '0'}, 'Penalties': {'@abbreviation': 'Pn', '#text': '36'}, 'PenaltyMinutes': {'@abbreviation': 'PIM', '#text': '80'}, 'Hits': {'@abbreviation': 'Ht', '#text': '210'}}}}\n",
      " {'team': {'ID': '30', 'City': 'Arizona', 'Name': 'Coyotes', 'Abbreviation': 'ARI'}, 'rank': '31', 'stats': {'GamesPlayed': {'@abbreviation': 'GP', '#text': '9'}, 'stats': {'Wins': {'@abbreviation': 'W', '#text': '0'}, 'Losses': {'@abbreviation': 'L', '#text': '8'}, 'OvertimeWins': {'@abbreviation': 'OTW', '#text': '0'}, 'OvertimeLosses': {'@abbreviation': 'OTL', '#text': '1'}, 'GoalsFor': {'@abbreviation': 'GF', '#text': '21'}, 'GoalsAgainst': {'@abbreviation': 'GA', '#text': '39'}, 'FaceoffWins': {'@abbreviation': 'F/O W', '#text': '288'}, 'FaceoffLosses': {'@abbreviation': 'F/O L', '#text': '323'}, 'FaceoffPercent': {'@abbreviation': 'F/O %', '#text': '47.1'}, 'Powerplays': {'@abbreviation': 'PP', '#text': '33'}, 'PowerplayGoals': {'@abbreviation': 'PPG', '#text': '5'}, 'PowerplayPercent': {'@abbreviation': 'PP%', '#text': '15.2'}, 'PenaltyKills': {'@abbreviation': 'PK', '#text': '25'}, 'PenaltyKillGoalsAllowed': {'@abbreviation': 'PKGA', '#text': '7'}, 'PenaltyKillPercent': {'@abbreviation': 'PK%', '#text': '72.0'}, 'ShorthandedGoalsFor': {'@abbreviation': 'SHGF', '#text': '0'}, 'ShorthandedGoalsAgainst': {'@abbreviation': 'SHGA', '#text': '1'}, 'Points': {'@abbreviation': 'Pts', '#text': '1'}, 'Shots': {'@abbreviation': 'Sh', '#text': '280'}, 'BlockedShots': {'@abbreviation': 'BS', '#text': '0'}, 'Penalties': {'@abbreviation': 'Pn', '#text': '28'}, 'PenaltyMinutes': {'@abbreviation': 'PIM', '#text': '64'}, 'Hits': {'@abbreviation': 'Ht', '#text': '230'}}}}]\n"
     ]
    }
   ],
   "source": [
    "team_data = np.hstack(fetch_team_data())\n",
    "\n",
    "print(team_data)"
   ]
  },
  {
   "cell_type": "code",
   "execution_count": 40,
   "metadata": {},
   "outputs": [
    {
     "name": "stdout",
     "output_type": "stream",
     "text": [
      "{'team': {'ID': '1', 'City': 'Tampa Bay', 'Name': 'Lightning', 'Abbreviation': 'TBL'}, 'rank': '1', 'stats': {'GamesPlayed': {'@abbreviation': 'GP', '#text': '10'}, 'stats': {'Wins': {'@abbreviation': 'W', '#text': '8'}, 'Losses': {'@abbreviation': 'L', '#text': '1'}, 'OvertimeWins': {'@abbreviation': 'OTW', '#text': '0'}, 'OvertimeLosses': {'@abbreviation': 'OTL', '#text': '1'}, 'GoalsFor': {'@abbreviation': 'GF', '#text': '41'}, 'GoalsAgainst': {'@abbreviation': 'GA', '#text': '24'}, 'FaceoffWins': {'@abbreviation': 'F/O W', '#text': '309'}, 'FaceoffLosses': {'@abbreviation': 'F/O L', '#text': '329'}, 'FaceoffPercent': {'@abbreviation': 'F/O %', '#text': '48.4'}, 'Powerplays': {'@abbreviation': 'PP', '#text': '41'}, 'PowerplayGoals': {'@abbreviation': 'PPG', '#text': '12'}, 'PowerplayPercent': {'@abbreviation': 'PP%', '#text': '29.3'}, 'PenaltyKills': {'@abbreviation': 'PK', '#text': '39'}, 'PenaltyKillGoalsAllowed': {'@abbreviation': 'PKGA', '#text': '7'}, 'PenaltyKillPercent': {'@abbreviation': 'PK%', '#text': '82.1'}, 'ShorthandedGoalsFor': {'@abbreviation': 'SHGF', '#text': '1'}, 'ShorthandedGoalsAgainst': {'@abbreviation': 'SHGA', '#text': '0'}, 'Points': {'@abbreviation': 'Pts', '#text': '17'}, 'Shots': {'@abbreviation': 'Sh', '#text': '301'}, 'Penalties': {'@abbreviation': 'Pn', '#text': '50'}, 'PenaltyMinutes': {'@abbreviation': 'PIM', '#text': '103'}, 'Hits': {'@abbreviation': 'Ht', '#text': '211'}}}}\n"
     ]
    }
   ],
   "source": [
    "#Jos kotijoukkoe voittaa, winner = 1\n",
    "\n",
    "print(team_data[0])"
   ]
  },
  {
   "cell_type": "code",
   "execution_count": 125,
   "metadata": {
    "scrolled": false
   },
   "outputs": [],
   "source": [
    "from pandas.io.json import json_normalize\n",
    "\n",
    "def fix_team_data():\n",
    "    df = json_normalize(team_data)\n",
    "\n",
    "    #test.drop(['*.@abbreviation'], axis=1, inplace=True)\n",
    "\n",
    "    df = df[df.columns.drop(list(df.filter(regex='abbreviation|Abbreviation')))]\n",
    "\n",
    "    df.drop(['team.Name', 'team.City'], axis=1, inplace=True)\n",
    "\n",
    "    return(df)\n",
    "\n",
    "team_standings = fix_team_data()\n"
   ]
  },
  {
   "cell_type": "code",
   "execution_count": 180,
   "metadata": {},
   "outputs": [],
   "source": [
    "id_to_teamname = dict()\n",
    "\n",
    "def parse_game(g):\n",
    "    data = dict()\n",
    "    \n",
    "    # DEFINE IDS\n",
    "    away_team_id = g['game']['awayTeam']['ID']\n",
    "    home_team_id = g['game']['homeTeam']['ID']\n",
    "    \n",
    "    \n",
    "    data['away_team_id'] = away_team_id\n",
    "    data['home_team_id'] = home_team_id\n",
    "    \n",
    "    \n",
    "    #ASSOCIATE TEAMNAMES WITH TEAM IDS\n",
    "    if g['game']['awayTeam']['Abbreviation'] not in id_to_teamname:\n",
    "        id_to_teamname[g['game']['awayTeam']['Abbreviation']] = g['game']['awayTeam']['ID']\n",
    "        \n",
    "    if g['game']['homeTeam']['Abbreviation'] not in id_to_teamname:\n",
    "        id_to_teamname[g['game']['homeTeam']['Abbreviation']] = g['game']['homeTeam']['ID']\n",
    "    \n",
    "    \n",
    "    # DEFINE WINNER\n",
    "    if g['homeScore'] > g['awayScore']:\n",
    "        data['winner'] = 1\n",
    "    else:\n",
    "        data['winner'] = 0\n",
    "        \n",
    "    #data['away_team_stats'] = team_standings.loc[(team_standings['team.ID'] == away_team_id)].values.flatten()\n",
    "    #data['home_team_stats'] = team_standings.loc[(team_standings['team.ID'] == home_team_id)].values.flatten()\n",
    "\n",
    "    return(pd.Series(data))\n"
   ]
  },
  {
   "cell_type": "code",
   "execution_count": 357,
   "metadata": {
    "scrolled": true
   },
   "outputs": [
    {
     "name": "stdout",
     "output_type": "stream",
     "text": [
      "(148, 3)\n"
     ]
    }
   ],
   "source": [
    "match_data = pd.DataFrame()\n",
    "\n",
    "\n",
    "for g in game_data:\n",
    "    match_data = match_data.append(parse_game(g), ignore_index=True)\n",
    "\n",
    "print(match_data.shape)"
   ]
  },
  {
   "cell_type": "code",
   "execution_count": 238,
   "metadata": {
    "collapsed": true
   },
   "outputs": [
    {
     "data": {
      "text/plain": [
       "array([['30', '8'],\n",
       "       ['24', '10'],\n",
       "       ['29', '6'],\n",
       "       ['1', '3'],\n",
       "       ['16', '15'],\n",
       "       ['28', '13'],\n",
       "       ['4', '14'],\n",
       "       ['23', '18'],\n",
       "       ['21', '25'],\n",
       "       ['27', '22'],\n",
       "       ['20', '142'],\n",
       "       ['28', '12'],\n",
       "       ['26', '9'],\n",
       "       ['21', '16'],\n",
       "       ['18', '9'],\n",
       "       ['24', '6'],\n",
       "       ['12', '13'],\n",
       "       ['10', '1'],\n",
       "       ['26', '8'],\n",
       "       ['15', '11'],\n",
       "       ['28', '19'],\n",
       "       ['4', '5'],\n",
       "       ['3', '27'],\n",
       "       ['20', '30'],\n",
       "       ['25', '23'],\n",
       "       ['17', '142'],\n",
       "       ['21', '15'],\n",
       "       ['26', '7'],\n",
       "       ['10', '4'],\n",
       "       ['5', '16'],\n",
       "       ['25', '47'],\n",
       "       ['14', '29'],\n",
       "       ['18', '6'],\n",
       "       ['1', '19'],\n",
       "       ['8', '9'],\n",
       "       ['21', '11'],\n",
       "       ['7', '13'],\n",
       "       ['24', '20'],\n",
       "       ['3', '23'],\n",
       "       ['17', '22'],\n",
       "       ['27', '30'],\n",
       "       ['16', '12'],\n",
       "       ['20', '17'],\n",
       "       ['14', '28'],\n",
       "       ['12', '5'],\n",
       "       ['4', '6'],\n",
       "       ['10', '9'],\n",
       "       ['1', '7'],\n",
       "       ['21', '13'],\n",
       "       ['22', '18'],\n",
       "       ['19', '47'],\n",
       "       ['30', '27'],\n",
       "       ['3', '24'],\n",
       "       ['15', '142'],\n",
       "       ['14', '26'],\n",
       "       ['1', '16'],\n",
       "       ['11', '142'],\n",
       "       ['15', '29'],\n",
       "       ['8', '28'],\n",
       "       ['3', '47'],\n",
       "       ['17', '1'],\n",
       "       ['7', '9'],\n",
       "       ['4', '10'],\n",
       "       ['12', '14'],\n",
       "       ['5', '6'],\n",
       "       ['19', '25'],\n",
       "       ['22', '27'],\n",
       "       ['18', '20'],\n",
       "       ['11', '30'],\n",
       "       ['23', '21'],\n",
       "       ['13', '24'],\n",
       "       ['15', '28'],\n",
       "       ['8', '26'],\n",
       "       ['9', '19'],\n",
       "       ['5', '7'],\n",
       "       ['13', '23'],\n",
       "       ['29', '22'],\n",
       "       ['16', '142'],\n",
       "       ['17', '4'],\n",
       "       ['10', '1'],\n",
       "       ['27', '18'],\n",
       "       ['25', '20'],\n",
       "       ['16', '30'],\n",
       "       ['47', '21'],\n",
       "       ['15', '26'],\n",
       "       ['10', '5'],\n",
       "       ['7', '12'],\n",
       "       ['11', '22'],\n",
       "       ['8', '29'],\n",
       "       ['23', '28'],\n",
       "       ['17', '9'],\n",
       "       ['19', '3'],\n",
       "       ['20', '14'],\n",
       "       ['6', '18'],\n",
       "       ['16', '27'],\n",
       "       ['30', '142'],\n",
       "       ['13', '21'],\n",
       "       ['17', '8'],\n",
       "       ['22', '11'],\n",
       "       ['7', '15'],\n",
       "       ['20', '12'],\n",
       "       ['5', '1'],\n",
       "       ['47', '24'],\n",
       "       ['23', '29'],\n",
       "       ['14', '9'],\n",
       "       ['22', '7'],\n",
       "       ['14', '5'],\n",
       "       ['16', '13'],\n",
       "       ['1', '4'],\n",
       "       ['15', '8'],\n",
       "       ['18', '10'],\n",
       "       ['25', '3'],\n",
       "       ['9', '12'],\n",
       "       ['27', '17'],\n",
       "       ['19', '20'],\n",
       "       ['142', '30'],\n",
       "       ['47', '23'],\n",
       "       ['24', '21'],\n",
       "       ['6', '29'],\n",
       "       ['28', '26'],\n",
       "       ['8', '19'],\n",
       "       ['4', '1'],\n",
       "       ['142', '27'],\n",
       "       ['18', '11'],\n",
       "       ['22', '9'],\n",
       "       ['14', '15'],\n",
       "       ['25', '16'],\n",
       "       ['5', '13'],\n",
       "       ['10', '20'],\n",
       "       ['30', '29'],\n",
       "       ['6', '28'],\n",
       "       ['12', '47'],\n",
       "       ['17', '10'],\n",
       "       ['23', '24'],\n",
       "       ['6', '26']], dtype=object)"
      ]
     },
     "execution_count": 238,
     "metadata": {},
     "output_type": "execute_result"
    }
   ],
   "source": [
    "match_data.drop('winner', axis=1).values"
   ]
  },
  {
   "cell_type": "code",
   "execution_count": 358,
   "metadata": {
    "scrolled": true
   },
   "outputs": [
    {
     "name": "stdout",
     "output_type": "stream",
     "text": [
      "(148, 52)\n"
     ]
    }
   ],
   "source": [
    "#team_standings.loc[(team_standings['team.ID'] == '1')]\n",
    "\n",
    "great_match_arrays = []\n",
    "\n",
    "d = match_data.drop('winner', axis=1).values\n",
    "\n",
    "for i in d:\n",
    "    home = i[1]\n",
    "    away = i[0]\n",
    "    great_match_arrays.append(np.hstack([i, team_standings.loc[(team_standings['team.ID'] == home)].values.flatten(), team_standings.loc[(team_standings['team.ID'] == away)].values.flatten()]))\n",
    "    \n",
    "#b = match_data.values[0]\n",
    "#a = team_standings.loc[(team_standings['team.ID'] == '30')].values.flatten()\n",
    "#c = team_standings.loc[(team_standings['team.ID'] == '8')].values.flatten()\n",
    "\n",
    "final_data = np.stack(great_match_arrays)\n",
    "\n",
    "print(final_data.shape)"
   ]
  },
  {
   "cell_type": "code",
   "execution_count": 335,
   "metadata": {},
   "outputs": [],
   "source": [
    "#pd.DataFrame(final_data).to_csv('final_data.csv')\n",
    "target = match_data['winner'].values\n",
    "pd.DataFrame(target).to_csv('target.csv')"
   ]
  },
  {
   "cell_type": "code",
   "execution_count": 359,
   "metadata": {},
   "outputs": [],
   "source": [
    "def count_rookies():\n",
    "    \n",
    "    game_ids = []\n",
    "    for data in game_data:\n",
    "        game_ids.append(data['game']['ID'])\n",
    "\n",
    "    games = {}\n",
    "    \n",
    "    auth = authorize()\n",
    "    lineup_url = 'https://api.mysportsfeeds.com/v1.1/pull/nhl/2017-2018-regular/game_startinglineup.json?gameid='\n",
    "    players_json = requests.get('https://api.mysportsfeeds.com/v1.1/pull/nhl/2017-2018-regular/roster_players.json?fordate=20171025', auth=auth).json()\n",
    "\n",
    "    for id in game_ids:\n",
    "        game = []\n",
    "        lineup_json = requests.get(lineup_url + id, auth=auth).json()\n",
    "        home_rookies = 0\n",
    "        away_rookies = 0\n",
    "        for lineup_player in lineup_json['gamestartinglineup']['teamLineup'][0]['expected']['starter']:\n",
    "            for player in players_json['rosterplayers']['playerentry']:\n",
    "                if (player['player']['ID'] == lineup_player['player']['ID']) & (player['player']['IsRookie'] == 'true'):\n",
    "                    home_rookies += 1\n",
    "\n",
    "        for lineup_player in lineup_json['gamestartinglineup']['teamLineup'][1]['expected']['starter']:\n",
    "            for player in players_json['rosterplayers']['playerentry']:\n",
    "                if (player['player']['ID'] == lineup_player['player']['ID']) & (player['player']['IsRookie'] == 'true'):\n",
    "                    away_rookies += 1\n",
    "\n",
    "        game.append(home_rookies)\n",
    "        game.append(away_rookies)\n",
    "        games[id] = game\n",
    "        \n",
    "        return(games)\n",
    "    \n",
    "rookies = count_rookies()"
   ]
  },
  {
   "cell_type": "code",
   "execution_count": null,
   "metadata": {},
   "outputs": [],
   "source": []
  },
  {
   "cell_type": "code",
   "execution_count": 360,
   "metadata": {},
   "outputs": [
    {
     "name": "stdout",
     "output_type": "stream",
     "text": [
      "(111, 52) (37, 52) (111,) (37,)\n"
     ]
    }
   ],
   "source": [
    "target = match_data['winner'].values\n",
    "\n",
    "X_train, X_test, y_train, y_test = tts(final_data, target, train_size=0.75, test_size=0.25, random_state=42)\n",
    "\n",
    "print(X_train.shape, X_test.shape, y_train.shape, y_test.shape)"
   ]
  },
  {
   "cell_type": "code",
   "execution_count": 362,
   "metadata": {
    "scrolled": true
   },
   "outputs": [
    {
     "name": "stdout",
     "output_type": "stream",
     "text": [
      "Warning: xgboost.XGBClassifier is not available and will not be used by TPOT.\n"
     ]
    },
    {
     "name": "stderr",
     "output_type": "stream",
     "text": [
      "Optimization Progress:   4%|▍         | 100/2550 [00:30<13:02,  3.13pipeline/s]"
     ]
    },
    {
     "name": "stdout",
     "output_type": "stream",
     "text": [
      "Generation 1 - Current best internal CV score: 0.6308300395256916\n"
     ]
    },
    {
     "name": "stderr",
     "output_type": "stream",
     "text": [
      "Optimization Progress:   6%|▌         | 150/2550 [00:52<12:25,  3.22pipeline/s]"
     ]
    },
    {
     "name": "stdout",
     "output_type": "stream",
     "text": [
      "Generation 2 - Current best internal CV score: 0.6391304347826086\n"
     ]
    },
    {
     "name": "stderr",
     "output_type": "stream",
     "text": [
      "Optimization Progress:   8%|▊         | 200/2550 [01:22<14:24,  2.72pipeline/s]  "
     ]
    },
    {
     "name": "stdout",
     "output_type": "stream",
     "text": [
      "Generation 3 - Current best internal CV score: 0.6573122529644269\n"
     ]
    },
    {
     "name": "stderr",
     "output_type": "stream",
     "text": [
      "Optimization Progress:  10%|▉         | 250/2550 [01:44<21:12,  1.81pipeline/s]"
     ]
    },
    {
     "name": "stdout",
     "output_type": "stream",
     "text": [
      "Generation 4 - Current best internal CV score: 0.6573122529644269\n"
     ]
    },
    {
     "name": "stderr",
     "output_type": "stream",
     "text": [
      "Optimization Progress:  12%|█▏        | 300/2550 [02:14<19:34,  1.92pipeline/s]  "
     ]
    },
    {
     "name": "stdout",
     "output_type": "stream",
     "text": [
      "Generation 5 - Current best internal CV score: 0.6577075098814229\n"
     ]
    },
    {
     "name": "stderr",
     "output_type": "stream",
     "text": [
      "Optimization Progress:  14%|█▎        | 350/2550 [03:04<1:55:01,  3.14s/pipeline]"
     ]
    },
    {
     "name": "stdout",
     "output_type": "stream",
     "text": [
      "Generation 6 - Current best internal CV score: 0.6577075098814229\n"
     ]
    },
    {
     "name": "stderr",
     "output_type": "stream",
     "text": [
      "Optimization Progress:  16%|█▌        | 400/2550 [03:36<17:35,  2.04pipeline/s]  "
     ]
    },
    {
     "name": "stdout",
     "output_type": "stream",
     "text": [
      "Generation 7 - Current best internal CV score: 0.6577075098814229\n"
     ]
    },
    {
     "name": "stderr",
     "output_type": "stream",
     "text": [
      "Optimization Progress:  18%|█▊        | 450/2550 [03:59<17:22,  2.01pipeline/s]"
     ]
    },
    {
     "name": "stdout",
     "output_type": "stream",
     "text": [
      "Generation 8 - Current best internal CV score: 0.6577075098814229\n"
     ]
    },
    {
     "name": "stderr",
     "output_type": "stream",
     "text": [
      "Optimization Progress:  20%|█▉        | 500/2550 [04:30<15:42,  2.17pipeline/s]"
     ]
    },
    {
     "name": "stdout",
     "output_type": "stream",
     "text": [
      "Generation 9 - Current best internal CV score: 0.6577075098814229\n"
     ]
    },
    {
     "name": "stderr",
     "output_type": "stream",
     "text": [
      "Optimization Progress:  22%|██▏       | 550/2550 [04:47<12:38,  2.64pipeline/s]"
     ]
    },
    {
     "name": "stdout",
     "output_type": "stream",
     "text": [
      "Generation 10 - Current best internal CV score: 0.6577075098814229\n"
     ]
    },
    {
     "name": "stderr",
     "output_type": "stream",
     "text": [
      "Optimization Progress:  24%|██▎       | 600/2550 [05:08<11:32,  2.82pipeline/s]"
     ]
    },
    {
     "name": "stdout",
     "output_type": "stream",
     "text": [
      "Generation 11 - Current best internal CV score: 0.6683794466403162\n"
     ]
    },
    {
     "name": "stderr",
     "output_type": "stream",
     "text": [
      "Optimization Progress:  25%|██▌       | 650/2550 [05:34<14:37,  2.16pipeline/s]"
     ]
    },
    {
     "name": "stdout",
     "output_type": "stream",
     "text": [
      "Generation 12 - Current best internal CV score: 0.6683794466403162\n"
     ]
    },
    {
     "name": "stderr",
     "output_type": "stream",
     "text": [
      "Optimization Progress:  27%|██▋       | 700/2550 [05:58<07:36,  4.05pipeline/s]"
     ]
    },
    {
     "name": "stdout",
     "output_type": "stream",
     "text": [
      "Generation 13 - Current best internal CV score: 0.6683794466403162\n"
     ]
    },
    {
     "name": "stderr",
     "output_type": "stream",
     "text": [
      "Optimization Progress:  29%|██▉       | 750/2550 [06:12<26:49,  1.12pipeline/s]"
     ]
    },
    {
     "name": "stdout",
     "output_type": "stream",
     "text": [
      "Generation 14 - Current best internal CV score: 0.6683794466403162\n"
     ]
    },
    {
     "name": "stderr",
     "output_type": "stream",
     "text": [
      "Optimization Progress:  31%|███▏      | 800/2550 [06:27<20:50,  1.40pipeline/s]"
     ]
    },
    {
     "name": "stdout",
     "output_type": "stream",
     "text": [
      "Generation 15 - Current best internal CV score: 0.6683794466403162\n"
     ]
    },
    {
     "name": "stderr",
     "output_type": "stream",
     "text": [
      "Optimization Progress:  33%|███▎      | 850/2550 [06:51<27:02,  1.05pipeline/s]"
     ]
    },
    {
     "name": "stdout",
     "output_type": "stream",
     "text": [
      "Generation 16 - Current best internal CV score: 0.6683794466403162\n"
     ]
    },
    {
     "name": "stderr",
     "output_type": "stream",
     "text": [
      "Optimization Progress:  35%|███▌      | 900/2550 [07:24<41:37,  1.51s/pipeline]"
     ]
    },
    {
     "name": "stdout",
     "output_type": "stream",
     "text": [
      "Generation 17 - Current best internal CV score: 0.6683794466403162\n"
     ]
    },
    {
     "name": "stderr",
     "output_type": "stream",
     "text": [
      "Optimization Progress:  37%|███▋      | 950/2550 [07:36<10:53,  2.45pipeline/s]"
     ]
    },
    {
     "name": "stdout",
     "output_type": "stream",
     "text": [
      "Generation 18 - Current best internal CV score: 0.6774703557312253\n"
     ]
    },
    {
     "name": "stderr",
     "output_type": "stream",
     "text": [
      "Optimization Progress:  39%|███▉      | 1000/2550 [08:02<09:27,  2.73pipeline/s] "
     ]
    },
    {
     "name": "stdout",
     "output_type": "stream",
     "text": [
      "Generation 19 - Current best internal CV score: 0.6774703557312253\n"
     ]
    },
    {
     "name": "stderr",
     "output_type": "stream",
     "text": [
      "Optimization Progress:  41%|████      | 1050/2550 [08:24<11:21,  2.20pipeline/s]"
     ]
    },
    {
     "name": "stdout",
     "output_type": "stream",
     "text": [
      "Generation 20 - Current best internal CV score: 0.6774703557312253\n"
     ]
    },
    {
     "name": "stderr",
     "output_type": "stream",
     "text": [
      "Optimization Progress:  43%|████▎     | 1100/2550 [08:46<18:58,  1.27pipeline/s]"
     ]
    },
    {
     "name": "stdout",
     "output_type": "stream",
     "text": [
      "Generation 21 - Current best internal CV score: 0.6774703557312253\n"
     ]
    },
    {
     "name": "stderr",
     "output_type": "stream",
     "text": [
      "Optimization Progress:  45%|████▌     | 1151/2550 [13:58<35:02:51, 90.19s/pipeline]"
     ]
    },
    {
     "name": "stdout",
     "output_type": "stream",
     "text": [
      "Generation 22 - Current best internal CV score: 0.6774703557312253\n"
     ]
    },
    {
     "name": "stderr",
     "output_type": "stream",
     "text": [
      "Optimization Progress:  47%|████▋     | 1201/2550 [14:09<17:32,  1.28pipeline/s]   "
     ]
    },
    {
     "name": "stdout",
     "output_type": "stream",
     "text": [
      "Generation 23 - Current best internal CV score: 0.6774703557312253\n"
     ]
    },
    {
     "name": "stderr",
     "output_type": "stream",
     "text": [
      "Optimization Progress:  49%|████▉     | 1251/2550 [14:20<04:14,  5.11pipeline/s]"
     ]
    },
    {
     "name": "stdout",
     "output_type": "stream",
     "text": [
      "Generation 24 - Current best internal CV score: 0.6774703557312253\n"
     ]
    },
    {
     "name": "stderr",
     "output_type": "stream",
     "text": [
      "Optimization Progress:  51%|█████     | 1301/2550 [14:32<08:15,  2.52pipeline/s]"
     ]
    },
    {
     "name": "stdout",
     "output_type": "stream",
     "text": [
      "Generation 25 - Current best internal CV score: 0.6774703557312253\n"
     ]
    },
    {
     "name": "stderr",
     "output_type": "stream",
     "text": [
      "Optimization Progress:  53%|█████▎    | 1351/2550 [14:57<04:27,  4.48pipeline/s]"
     ]
    },
    {
     "name": "stdout",
     "output_type": "stream",
     "text": [
      "Generation 26 - Current best internal CV score: 0.6774703557312253\n"
     ]
    },
    {
     "name": "stderr",
     "output_type": "stream",
     "text": [
      "Optimization Progress:  55%|█████▍    | 1401/2550 [15:03<01:42, 11.24pipeline/s]"
     ]
    },
    {
     "name": "stdout",
     "output_type": "stream",
     "text": [
      "Generation 27 - Current best internal CV score: 0.6849802371541502\n"
     ]
    },
    {
     "name": "stderr",
     "output_type": "stream",
     "text": [
      "Optimization Progress:  57%|█████▋    | 1451/2550 [15:08<01:40, 10.92pipeline/s]"
     ]
    },
    {
     "name": "stdout",
     "output_type": "stream",
     "text": [
      "Generation 28 - Current best internal CV score: 0.6849802371541502\n"
     ]
    },
    {
     "name": "stderr",
     "output_type": "stream",
     "text": [
      "Optimization Progress:  59%|█████▉    | 1501/2550 [15:18<09:50,  1.78pipeline/s]"
     ]
    },
    {
     "name": "stdout",
     "output_type": "stream",
     "text": [
      "Generation 29 - Current best internal CV score: 0.6849802371541502\n"
     ]
    },
    {
     "name": "stderr",
     "output_type": "stream",
     "text": [
      "Optimization Progress:  61%|██████    | 1551/2550 [15:30<05:04,  3.28pipeline/s]"
     ]
    },
    {
     "name": "stdout",
     "output_type": "stream",
     "text": [
      "Generation 30 - Current best internal CV score: 0.6849802371541502\n"
     ]
    },
    {
     "name": "stderr",
     "output_type": "stream",
     "text": [
      "Optimization Progress:  63%|██████▎   | 1601/2550 [15:51<10:08,  1.56pipeline/s]"
     ]
    },
    {
     "name": "stdout",
     "output_type": "stream",
     "text": [
      "Generation 31 - Current best internal CV score: 0.6849802371541502\n"
     ]
    },
    {
     "name": "stderr",
     "output_type": "stream",
     "text": [
      "Optimization Progress:  65%|██████▍   | 1651/2550 [16:15<05:57,  2.52pipeline/s]"
     ]
    },
    {
     "name": "stdout",
     "output_type": "stream",
     "text": [
      "Generation 32 - Current best internal CV score: 0.6849802371541502\n"
     ]
    },
    {
     "name": "stderr",
     "output_type": "stream",
     "text": [
      "Optimization Progress:  67%|██████▋   | 1701/2550 [16:23<03:50,  3.69pipeline/s]"
     ]
    },
    {
     "name": "stdout",
     "output_type": "stream",
     "text": [
      "Generation 33 - Current best internal CV score: 0.6928853754940711\n"
     ]
    },
    {
     "name": "stderr",
     "output_type": "stream",
     "text": [
      "Optimization Progress:  69%|██████▊   | 1751/2550 [16:34<02:24,  5.52pipeline/s]"
     ]
    },
    {
     "name": "stdout",
     "output_type": "stream",
     "text": [
      "Generation 34 - Current best internal CV score: 0.6928853754940711\n"
     ]
    },
    {
     "name": "stderr",
     "output_type": "stream",
     "text": [
      "Optimization Progress:  71%|███████   | 1801/2550 [16:58<06:20,  1.97pipeline/s]"
     ]
    },
    {
     "name": "stdout",
     "output_type": "stream",
     "text": [
      "Generation 35 - Current best internal CV score: 0.6928853754940711\n"
     ]
    },
    {
     "name": "stderr",
     "output_type": "stream",
     "text": [
      "Optimization Progress:  73%|███████▎  | 1851/2550 [17:13<04:13,  2.76pipeline/s]"
     ]
    },
    {
     "name": "stdout",
     "output_type": "stream",
     "text": [
      "Generation 36 - Current best internal CV score: 0.6928853754940711\n"
     ]
    },
    {
     "name": "stderr",
     "output_type": "stream",
     "text": [
      "Optimization Progress:  75%|███████▍  | 1901/2550 [17:25<02:30,  4.32pipeline/s]"
     ]
    },
    {
     "name": "stdout",
     "output_type": "stream",
     "text": [
      "Generation 37 - Current best internal CV score: 0.6928853754940711\n"
     ]
    },
    {
     "name": "stderr",
     "output_type": "stream",
     "text": [
      "Optimization Progress:  77%|███████▋  | 1951/2550 [17:39<03:52,  2.58pipeline/s]"
     ]
    },
    {
     "name": "stdout",
     "output_type": "stream",
     "text": [
      "Generation 38 - Current best internal CV score: 0.6928853754940711\n"
     ]
    },
    {
     "name": "stderr",
     "output_type": "stream",
     "text": [
      "Optimization Progress:  78%|███████▊  | 2001/2550 [17:57<04:07,  2.22pipeline/s]"
     ]
    },
    {
     "name": "stdout",
     "output_type": "stream",
     "text": [
      "Generation 39 - Current best internal CV score: 0.6928853754940711\n"
     ]
    },
    {
     "name": "stderr",
     "output_type": "stream",
     "text": [
      "Optimization Progress:  80%|████████  | 2051/2550 [18:20<03:43,  2.23pipeline/s]"
     ]
    },
    {
     "name": "stdout",
     "output_type": "stream",
     "text": [
      "Generation 40 - Current best internal CV score: 0.6928853754940711\n"
     ]
    },
    {
     "name": "stderr",
     "output_type": "stream",
     "text": [
      "Optimization Progress:  82%|████████▏ | 2101/2550 [18:47<03:50,  1.95pipeline/s]"
     ]
    },
    {
     "name": "stdout",
     "output_type": "stream",
     "text": [
      "Generation 41 - Current best internal CV score: 0.6928853754940711\n"
     ]
    },
    {
     "name": "stderr",
     "output_type": "stream",
     "text": [
      "Optimization Progress:  84%|████████▍ | 2151/2550 [19:07<02:33,  2.59pipeline/s]"
     ]
    },
    {
     "name": "stdout",
     "output_type": "stream",
     "text": [
      "Generation 42 - Current best internal CV score: 0.6928853754940711\n"
     ]
    },
    {
     "name": "stderr",
     "output_type": "stream",
     "text": [
      "Optimization Progress:  86%|████████▋ | 2201/2550 [19:51<04:54,  1.18pipeline/s]"
     ]
    },
    {
     "name": "stdout",
     "output_type": "stream",
     "text": [
      "Generation 43 - Current best internal CV score: 0.6928853754940711\n"
     ]
    },
    {
     "name": "stderr",
     "output_type": "stream",
     "text": [
      "Optimization Progress:  88%|████████▊ | 2251/2550 [20:33<05:01,  1.01s/pipeline]"
     ]
    },
    {
     "name": "stdout",
     "output_type": "stream",
     "text": [
      "Generation 44 - Current best internal CV score: 0.6928853754940711\n"
     ]
    },
    {
     "name": "stderr",
     "output_type": "stream",
     "text": [
      "Optimization Progress:  90%|█████████ | 2301/2550 [21:27<07:13,  1.74s/pipeline]"
     ]
    },
    {
     "name": "stdout",
     "output_type": "stream",
     "text": [
      "Generation 45 - Current best internal CV score: 0.6928853754940711\n"
     ]
    },
    {
     "name": "stderr",
     "output_type": "stream",
     "text": [
      "Optimization Progress:  92%|█████████▏| 2351/2550 [22:18<05:22,  1.62s/pipeline]"
     ]
    },
    {
     "name": "stdout",
     "output_type": "stream",
     "text": [
      "Generation 46 - Current best internal CV score: 0.6928853754940711\n"
     ]
    },
    {
     "name": "stderr",
     "output_type": "stream",
     "text": [
      "Optimization Progress:  94%|█████████▍| 2401/2550 [23:04<01:49,  1.36pipeline/s]"
     ]
    },
    {
     "name": "stdout",
     "output_type": "stream",
     "text": [
      "Generation 47 - Current best internal CV score: 0.6928853754940711\n"
     ]
    },
    {
     "name": "stderr",
     "output_type": "stream",
     "text": [
      "Optimization Progress:  96%|█████████▌| 2451/2550 [23:56<01:04,  1.55pipeline/s]"
     ]
    },
    {
     "name": "stdout",
     "output_type": "stream",
     "text": [
      "Generation 48 - Current best internal CV score: 0.6928853754940711\n"
     ]
    },
    {
     "name": "stderr",
     "output_type": "stream",
     "text": [
      "Optimization Progress:  98%|█████████▊| 2501/2550 [24:47<00:29,  1.64pipeline/s]"
     ]
    },
    {
     "name": "stdout",
     "output_type": "stream",
     "text": [
      "Generation 49 - Current best internal CV score: 0.6928853754940711\n"
     ]
    },
    {
     "name": "stderr",
     "output_type": "stream",
     "text": [
      "                                                                                \r"
     ]
    },
    {
     "name": "stdout",
     "output_type": "stream",
     "text": [
      "Generation 50 - Current best internal CV score: 0.6928853754940711\n",
      "\n",
      "Best pipeline: DecisionTreeClassifier(RandomForestClassifier(input_matrix, bootstrap=True, criterion=gini, max_features=0.5, min_samples_leaf=20, min_samples_split=5, n_estimators=100), criterion=gini, max_depth=6, min_samples_leaf=16, min_samples_split=15)\n"
     ]
    },
    {
     "data": {
      "text/plain": [
       "TPOTClassifier(config_dict={'sklearn.naive_bayes.GaussianNB': {}, 'sklearn.naive_bayes.BernoulliNB': {'alpha': [0.001, 0.01, 0.1, 1.0, 10.0, 100.0], 'fit_prior': [True, False]}, 'sklearn.naive_bayes.MultinomialNB': {'alpha': [0.001, 0.01, 0.1, 1.0, 10.0, 100.0], 'fit_prior': [True, False]}, 'sklearn.tree.DecisionT....45,\n",
       "        0.5 ,  0.55,  0.6 ,  0.65,  0.7 ,  0.75,  0.8 ,  0.85,  0.9 ,\n",
       "        0.95,  1.  ])}}}},\n",
       "        crossover_rate=0.1, cv=5, disable_update_check=False,\n",
       "        early_stop=None, generations=50, max_eval_time_mins=5,\n",
       "        max_time_mins=None, mutation_rate=0.9, n_jobs=1, offspring_size=50,\n",
       "        periodic_checkpoint_folder=None, population_size=50,\n",
       "        random_state=None, scoring=None, subsample=1.0, verbosity=2,\n",
       "        warm_start=True)"
      ]
     },
     "execution_count": 362,
     "metadata": {},
     "output_type": "execute_result"
    }
   ],
   "source": [
    "\n",
    "tpot = TPOTClassifier(generations=50, population_size=50, verbosity=2, warm_start=True)\n",
    "tpot.fit(X_train, y_train)\n"
   ]
  },
  {
   "cell_type": "code",
   "execution_count": 363,
   "metadata": {},
   "outputs": [
    {
     "name": "stdout",
     "output_type": "stream",
     "text": [
      "0.72972972973\n"
     ]
    },
    {
     "data": {
      "text/plain": [
       "True"
      ]
     },
     "execution_count": 363,
     "metadata": {},
     "output_type": "execute_result"
    }
   ],
   "source": [
    "\n",
    "print(tpot.score(X_test, y_test))\n",
    "tpot.export('DecisionTreeClassifier001.py')\n",
    "\n",
    "\n",
    "\n"
   ]
  },
  {
   "cell_type": "code",
   "execution_count": 286,
   "metadata": {},
   "outputs": [],
   "source": [
    "#print(id_to_teamname)\n",
    "\n",
    "def predict_game(away, home):\n",
    "    away_id = id_to_teamname[away]\n",
    "    home_id = id_to_teamname[home]\n",
    "    \n",
    "    away_stats = team_standings.loc[(team_standings['team.ID'] == away_id)].values.flatten()\n",
    "    home_stats = team_standings.loc[(team_standings['team.ID'] == home_id)].values.flatten()\n",
    "    \n",
    "    vec = np.hstack([away_id, home_id, home_stats, away_stats]).reshape(1, -1)\n",
    "\n",
    "    res = tpot.predict(vec.reshape(1, -1))\n",
    "    \n",
    "    if res == 1:\n",
    "        return(home)\n",
    "    else:\n",
    "        return(away)\n"
   ]
  },
  {
   "cell_type": "code",
   "execution_count": 304,
   "metadata": {},
   "outputs": [
    {
     "data": {
      "text/plain": [
       "'CBJ'"
      ]
     },
     "execution_count": 304,
     "metadata": {},
     "output_type": "execute_result"
    }
   ],
   "source": [
    "predict_game('BUF', 'CBJ')\n",
    "\n",
    "#print(id_to_teamname)"
   ]
  },
  {
   "cell_type": "code",
   "execution_count": 355,
   "metadata": {},
   "outputs": [
    {
     "name": "stdout",
     "output_type": "stream",
     "text": [
      "(31,)\n"
     ]
    }
   ],
   "source": [
    "#REFRESH TEAM STANDINGS\n",
    "\n",
    "team_data = np.hstack(fetch_team_data())\n",
    "\n",
    "print(team_data.shape)"
   ]
  },
  {
   "cell_type": "code",
   "execution_count": 366,
   "metadata": {},
   "outputs": [
    {
     "name": "stdout",
     "output_type": "stream",
     "text": [
      "['VGK', 'OTT', 'CBJ', 'STL', 'NSH', 'CGY']\n"
     ]
    }
   ],
   "source": [
    "def multi_predict(m):\n",
    "    ret = []\n",
    "    \n",
    "    for i in m:\n",
    "        ret.append(predict_game(i[0], i[1]))\n",
    "        \n",
    "    return(ret)\n",
    "\n",
    "\n",
    "predictions = [['COL', 'VGK'], ['OTT', 'NJD'], ['WPJ', 'CBJ'], ['STL', 'CAR'], ['NSH', 'CHI'], ['DAL', 'CGY']]\n",
    "\n",
    "\n",
    "print(multi_predict(predictions))"
   ]
  },
  {
   "cell_type": "code",
   "execution_count": 314,
   "metadata": {},
   "outputs": [
    {
     "name": "stdout",
     "output_type": "stream",
     "text": [
      "{'ARI': '30', 'NYI': '8', 'EDM': '24', 'PIT': '10', 'ANA': '29', 'PHI': '6', 'TBL': '1', 'CAR': '3', 'DET': '16', 'BUF': '15', 'LAK': '28', 'OTT': '13', 'FLO': '4', 'MTL': '14', 'CGY': '23', 'NSH': '18', 'VAN': '21', 'MIN': '25', 'DAL': '27', 'COL': '22', 'CHI': '20', 'VGK': '142', 'TOR': '12', 'SJS': '26', 'NYR': '9', 'BOS': '11', 'CBJ': '19', 'WSH': '5', 'STL': '17', 'NJD': '7', 'WPJ': '47'}\n"
     ]
    }
   ],
   "source": [
    "print(id_to_teamname)"
   ]
  },
  {
   "cell_type": "markdown",
   "metadata": {},
   "source": [
    "###### 27.10.17\n",
    "\n",
    "['VGK', 'OTT', 'CBJ', 'STL', 'NSH', 'CGY']"
   ]
  },
  {
   "cell_type": "markdown",
   "metadata": {},
   "source": [
    "###### 26.10.2017\n",
    "\n",
    "SJS BOS --- BOS\n",
    "\n",
    "\n",
    "CAR TOR --- TOR\n",
    "\n",
    "\n",
    "ARI NYR --- NYR\n",
    "\n",
    "\n",
    "WPG PIT --- PIT\n",
    "\n",
    "\n",
    "LAK MTL --- LAK\n",
    "\n",
    "\n",
    "PHI OTT --- PHI\n",
    "\n",
    "\n",
    "DET TBL --- TBL\n",
    "\n",
    "\n",
    "ANA FLA --- ANA\n",
    "\n",
    "\n",
    "NYI MIN --- NYI\n",
    "\n",
    "\n",
    "DAL EDM --- DAL\n",
    "\n",
    "\n",
    "WSH VAN --- VAN\n",
    "\n",
    "\n"
   ]
  }
 ],
 "metadata": {
  "kernelspec": {
   "display_name": "tf",
   "language": "python",
   "name": "tf"
  },
  "language_info": {
   "codemirror_mode": {
    "name": "ipython",
    "version": 3
   },
   "file_extension": ".py",
   "mimetype": "text/x-python",
   "name": "python",
   "nbconvert_exporter": "python",
   "pygments_lexer": "ipython3",
   "version": "3.6.2"
  }
 },
 "nbformat": 4,
 "nbformat_minor": 2
}
