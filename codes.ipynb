{
 "cells": [
  {
   "cell_type": "markdown",
   "metadata": {},
   "source": [
    "# ids projekti, kivaa :---)\n",
    "\n",
    "tästä alkaa suuri seikkailu. Olkaamme innokaita ja tehokkaita. "
   ]
  },
  {
   "cell_type": "code",
   "execution_count": 1,
   "metadata": {
    "scrolled": true
   },
   "outputs": [],
   "source": [
    "import json\n",
    "import pandas as pd\n",
    "import numpy as np\n",
    "import urllib.request as ur\n",
    "import requests\n",
    "from datetime import timedelta, date\n",
    "from sklearn.model_selection import train_test_split as tts\n",
    "from tpot import TPOTClassifier"
   ]
  },
  {
   "cell_type": "markdown",
   "metadata": {},
   "source": [
    "\n",
    "\n",
    "\n"
   ]
  },
  {
   "cell_type": "code",
   "execution_count": 2,
   "metadata": {},
   "outputs": [],
   "source": [
    "\n",
    "def date_range(n):\n",
    "    date_list = []\n",
    "\n",
    "    for single_date in (date.today() - timedelta(n+1) for n in range(n)):\n",
    "        date_list.append(single_date.strftime('%Y%m%d'))\n",
    "\n",
    "    return(date_list)"
   ]
  },
  {
   "cell_type": "code",
   "execution_count": 12,
   "metadata": {},
   "outputs": [],
   "source": [
    "\n",
    "def fetch_game_scoreboards():\n",
    "    games_lists = []\n",
    "\n",
    "    auth=('Enzine', 'Enzine')\n",
    "\n",
    "    url = 'https://api.mysportsfeeds.com/v1.1/pull/nhl/2017-2018-regular/scoreboard.json?fordate={date}'\n",
    "    \n",
    "    DATE_RANGE = 100\n",
    "    n=0\n",
    "    for i in date_range(DATE_RANGE):\n",
    "        if n%50 == 0:\n",
    "            print(n)\n",
    "            \n",
    "        n += 1\n",
    "        \n",
    "        try:\n",
    "            json = requests.get(url.format(date=i), auth=auth).json()\n",
    "            json['scoreboard']['gameScore']\n",
    "        except:\n",
    "            continue\n",
    "        \n",
    "        games_lists.append(json['scoreboard']['gameScore'])\n",
    "        \n",
    "       \n",
    "\n",
    "    return(games_lists)"
   ]
  },
  {
   "cell_type": "code",
   "execution_count": 13,
   "metadata": {},
   "outputs": [],
   "source": [
    "def fetch_team_data():\n",
    "    auth=('Enzine', 'Enzine')\n",
    "    url = 'https://api.mysportsfeeds.com/v1.1/pull/nhl/2017-2018-regular/overall_team_standings.json'\n",
    "    \n",
    "    json = requests.get(url, auth=auth).json()\n",
    "    \n",
    "    data = json['overallteamstandings']['teamstandingsentry']\n",
    "    \n",
    "    return(data)"
   ]
  },
  {
   "cell_type": "code",
   "execution_count": 11,
   "metadata": {},
   "outputs": [
    {
     "name": "stdout",
     "output_type": "stream",
     "text": [
      "0\n",
      "(135,)\n"
     ]
    }
   ],
   "source": [
    "#LATAA PELIT\n",
    "#TÄSSÄ KESTÄÄ KAUAN, KANNATTAA TEHDÄ VAIN KERRAN\n",
    "\n",
    "game_data = np.hstack(fetch_game_scoreboards())\n",
    "\n",
    "print(game_data.shape)"
   ]
  },
  {
   "cell_type": "code",
   "execution_count": 55,
   "metadata": {},
   "outputs": [
    {
     "name": "stdout",
     "output_type": "stream",
     "text": [
      "(31,)\n"
     ]
    }
   ],
   "source": [
    "team_data = np.hstack(fetch_team_data())\n",
    "\n",
    "print(team_data.shape)"
   ]
  },
  {
   "cell_type": "code",
   "execution_count": 40,
   "metadata": {},
   "outputs": [
    {
     "name": "stdout",
     "output_type": "stream",
     "text": [
      "{'team': {'ID': '1', 'City': 'Tampa Bay', 'Name': 'Lightning', 'Abbreviation': 'TBL'}, 'rank': '1', 'stats': {'GamesPlayed': {'@abbreviation': 'GP', '#text': '10'}, 'stats': {'Wins': {'@abbreviation': 'W', '#text': '8'}, 'Losses': {'@abbreviation': 'L', '#text': '1'}, 'OvertimeWins': {'@abbreviation': 'OTW', '#text': '0'}, 'OvertimeLosses': {'@abbreviation': 'OTL', '#text': '1'}, 'GoalsFor': {'@abbreviation': 'GF', '#text': '41'}, 'GoalsAgainst': {'@abbreviation': 'GA', '#text': '24'}, 'FaceoffWins': {'@abbreviation': 'F/O W', '#text': '309'}, 'FaceoffLosses': {'@abbreviation': 'F/O L', '#text': '329'}, 'FaceoffPercent': {'@abbreviation': 'F/O %', '#text': '48.4'}, 'Powerplays': {'@abbreviation': 'PP', '#text': '41'}, 'PowerplayGoals': {'@abbreviation': 'PPG', '#text': '12'}, 'PowerplayPercent': {'@abbreviation': 'PP%', '#text': '29.3'}, 'PenaltyKills': {'@abbreviation': 'PK', '#text': '39'}, 'PenaltyKillGoalsAllowed': {'@abbreviation': 'PKGA', '#text': '7'}, 'PenaltyKillPercent': {'@abbreviation': 'PK%', '#text': '82.1'}, 'ShorthandedGoalsFor': {'@abbreviation': 'SHGF', '#text': '1'}, 'ShorthandedGoalsAgainst': {'@abbreviation': 'SHGA', '#text': '0'}, 'Points': {'@abbreviation': 'Pts', '#text': '17'}, 'Shots': {'@abbreviation': 'Sh', '#text': '301'}, 'Penalties': {'@abbreviation': 'Pn', '#text': '50'}, 'PenaltyMinutes': {'@abbreviation': 'PIM', '#text': '103'}, 'Hits': {'@abbreviation': 'Ht', '#text': '211'}}}}\n"
     ]
    }
   ],
   "source": [
    "#Jos kotijoukkoe voittaa, winner = 1\n",
    "\n",
    "print(team_data[0])"
   ]
  },
  {
   "cell_type": "code",
   "execution_count": 125,
   "metadata": {
    "scrolled": false
   },
   "outputs": [],
   "source": [
    "from pandas.io.json import json_normalize\n",
    "\n",
    "def fix_team_data():\n",
    "    df = json_normalize(team_data)\n",
    "\n",
    "    #test.drop(['*.@abbreviation'], axis=1, inplace=True)\n",
    "\n",
    "    df = df[df.columns.drop(list(df.filter(regex='abbreviation|Abbreviation')))]\n",
    "\n",
    "    df.drop(['team.Name', 'team.City'], axis=1, inplace=True)\n",
    "\n",
    "    return(df)\n",
    "\n",
    "team_standings = fix_team_data()\n"
   ]
  },
  {
   "cell_type": "code",
   "execution_count": 180,
   "metadata": {},
   "outputs": [],
   "source": [
    "id_to_teamname = dict()\n",
    "\n",
    "def parse_game(g):\n",
    "    data = dict()\n",
    "    \n",
    "    # DEFINE IDS\n",
    "    away_team_id = g['game']['awayTeam']['ID']\n",
    "    home_team_id = g['game']['homeTeam']['ID']\n",
    "    \n",
    "    \n",
    "    data['away_team_id'] = away_team_id\n",
    "    data['home_team_id'] = home_team_id\n",
    "    \n",
    "    \n",
    "    #ASSOCIATE TEAMNAMES WITH TEAM IDS\n",
    "    if g['game']['awayTeam']['Abbreviation'] not in id_to_teamname:\n",
    "        id_to_teamname[g['game']['awayTeam']['Abbreviation']] = g['game']['awayTeam']['ID']\n",
    "        \n",
    "    if g['game']['homeTeam']['Abbreviation'] not in id_to_teamname:\n",
    "        id_to_teamname[g['game']['homeTeam']['Abbreviation']] = g['game']['homeTeam']['ID']\n",
    "    \n",
    "    \n",
    "    # DEFINE WINNER\n",
    "    if g['homeScore'] > g['awayScore']:\n",
    "        data['winner'] = 1\n",
    "    else:\n",
    "        data['winner'] = 0\n",
    "        \n",
    "    #data['away_team_stats'] = team_standings.loc[(team_standings['team.ID'] == away_team_id)].values.flatten()\n",
    "    #data['home_team_stats'] = team_standings.loc[(team_standings['team.ID'] == home_team_id)].values.flatten()\n",
    "\n",
    "    return(pd.Series(data))\n"
   ]
  },
  {
   "cell_type": "code",
   "execution_count": 181,
   "metadata": {
    "scrolled": true
   },
   "outputs": [
    {
     "name": "stdout",
     "output_type": "stream",
     "text": [
      "(135, 3)\n"
     ]
    }
   ],
   "source": [
    "match_data = pd.DataFrame()\n",
    "\n",
    "\n",
    "for g in game_data:\n",
    "    match_data = match_data.append(parse_game(g), ignore_index=True)\n",
    "\n",
    "print(match_data.shape)"
   ]
  },
  {
   "cell_type": "code",
   "execution_count": 238,
   "metadata": {},
   "outputs": [
    {
     "data": {
      "text/plain": [
       "array([['30', '8'],\n",
       "       ['24', '10'],\n",
       "       ['29', '6'],\n",
       "       ['1', '3'],\n",
       "       ['16', '15'],\n",
       "       ['28', '13'],\n",
       "       ['4', '14'],\n",
       "       ['23', '18'],\n",
       "       ['21', '25'],\n",
       "       ['27', '22'],\n",
       "       ['20', '142'],\n",
       "       ['28', '12'],\n",
       "       ['26', '9'],\n",
       "       ['21', '16'],\n",
       "       ['18', '9'],\n",
       "       ['24', '6'],\n",
       "       ['12', '13'],\n",
       "       ['10', '1'],\n",
       "       ['26', '8'],\n",
       "       ['15', '11'],\n",
       "       ['28', '19'],\n",
       "       ['4', '5'],\n",
       "       ['3', '27'],\n",
       "       ['20', '30'],\n",
       "       ['25', '23'],\n",
       "       ['17', '142'],\n",
       "       ['21', '15'],\n",
       "       ['26', '7'],\n",
       "       ['10', '4'],\n",
       "       ['5', '16'],\n",
       "       ['25', '47'],\n",
       "       ['14', '29'],\n",
       "       ['18', '6'],\n",
       "       ['1', '19'],\n",
       "       ['8', '9'],\n",
       "       ['21', '11'],\n",
       "       ['7', '13'],\n",
       "       ['24', '20'],\n",
       "       ['3', '23'],\n",
       "       ['17', '22'],\n",
       "       ['27', '30'],\n",
       "       ['16', '12'],\n",
       "       ['20', '17'],\n",
       "       ['14', '28'],\n",
       "       ['12', '5'],\n",
       "       ['4', '6'],\n",
       "       ['10', '9'],\n",
       "       ['1', '7'],\n",
       "       ['21', '13'],\n",
       "       ['22', '18'],\n",
       "       ['19', '47'],\n",
       "       ['30', '27'],\n",
       "       ['3', '24'],\n",
       "       ['15', '142'],\n",
       "       ['14', '26'],\n",
       "       ['1', '16'],\n",
       "       ['11', '142'],\n",
       "       ['15', '29'],\n",
       "       ['8', '28'],\n",
       "       ['3', '47'],\n",
       "       ['17', '1'],\n",
       "       ['7', '9'],\n",
       "       ['4', '10'],\n",
       "       ['12', '14'],\n",
       "       ['5', '6'],\n",
       "       ['19', '25'],\n",
       "       ['22', '27'],\n",
       "       ['18', '20'],\n",
       "       ['11', '30'],\n",
       "       ['23', '21'],\n",
       "       ['13', '24'],\n",
       "       ['15', '28'],\n",
       "       ['8', '26'],\n",
       "       ['9', '19'],\n",
       "       ['5', '7'],\n",
       "       ['13', '23'],\n",
       "       ['29', '22'],\n",
       "       ['16', '142'],\n",
       "       ['17', '4'],\n",
       "       ['10', '1'],\n",
       "       ['27', '18'],\n",
       "       ['25', '20'],\n",
       "       ['16', '30'],\n",
       "       ['47', '21'],\n",
       "       ['15', '26'],\n",
       "       ['10', '5'],\n",
       "       ['7', '12'],\n",
       "       ['11', '22'],\n",
       "       ['8', '29'],\n",
       "       ['23', '28'],\n",
       "       ['17', '9'],\n",
       "       ['19', '3'],\n",
       "       ['20', '14'],\n",
       "       ['6', '18'],\n",
       "       ['16', '27'],\n",
       "       ['30', '142'],\n",
       "       ['13', '21'],\n",
       "       ['17', '8'],\n",
       "       ['22', '11'],\n",
       "       ['7', '15'],\n",
       "       ['20', '12'],\n",
       "       ['5', '1'],\n",
       "       ['47', '24'],\n",
       "       ['23', '29'],\n",
       "       ['14', '9'],\n",
       "       ['22', '7'],\n",
       "       ['14', '5'],\n",
       "       ['16', '13'],\n",
       "       ['1', '4'],\n",
       "       ['15', '8'],\n",
       "       ['18', '10'],\n",
       "       ['25', '3'],\n",
       "       ['9', '12'],\n",
       "       ['27', '17'],\n",
       "       ['19', '20'],\n",
       "       ['142', '30'],\n",
       "       ['47', '23'],\n",
       "       ['24', '21'],\n",
       "       ['6', '29'],\n",
       "       ['28', '26'],\n",
       "       ['8', '19'],\n",
       "       ['4', '1'],\n",
       "       ['142', '27'],\n",
       "       ['18', '11'],\n",
       "       ['22', '9'],\n",
       "       ['14', '15'],\n",
       "       ['25', '16'],\n",
       "       ['5', '13'],\n",
       "       ['10', '20'],\n",
       "       ['30', '29'],\n",
       "       ['6', '28'],\n",
       "       ['12', '47'],\n",
       "       ['17', '10'],\n",
       "       ['23', '24'],\n",
       "       ['6', '26']], dtype=object)"
      ]
     },
     "execution_count": 238,
     "metadata": {},
     "output_type": "execute_result"
    }
   ],
   "source": [
    "match_data.drop('winner', axis=1).values"
   ]
  },
  {
   "cell_type": "code",
   "execution_count": 244,
   "metadata": {
    "scrolled": true
   },
   "outputs": [
    {
     "name": "stdout",
     "output_type": "stream",
     "text": [
      "(135, 52)\n"
     ]
    }
   ],
   "source": [
    "#team_standings.loc[(team_standings['team.ID'] == '1')]\n",
    "\n",
    "great_match_arrays = []\n",
    "\n",
    "d = match_data.drop('winner', axis=1).values\n",
    "\n",
    "for i in d:\n",
    "    home = i[1]\n",
    "    away = i[0]\n",
    "    great_match_arrays.append(np.hstack([i, team_standings.loc[(team_standings['team.ID'] == home)].values.flatten(), team_standings.loc[(team_standings['team.ID'] == away)].values.flatten()]))\n",
    "    \n",
    "#b = match_data.values[0]\n",
    "#a = team_standings.loc[(team_standings['team.ID'] == '30')].values.flatten()\n",
    "#c = team_standings.loc[(team_standings['team.ID'] == '8')].values.flatten()\n",
    "\n",
    "final_data = np.stack(great_match_arrays)\n",
    "\n",
    "print(final_data.shape)"
   ]
  },
  {
   "cell_type": "code",
   "execution_count": 245,
   "metadata": {},
   "outputs": [
    {
     "name": "stdout",
     "output_type": "stream",
     "text": [
      "(101, 52) (34, 52) (101,) (34,)\n"
     ]
    }
   ],
   "source": [
    "target = match_data['winner'].values\n",
    "\n",
    "X_train, X_test, y_train, y_test = tts(final_data, target, train_size=0.75, test_size=0.25, random_state=42)\n",
    "\n",
    "print(X_train.shape, X_test.shape, y_train.shape, y_test.shape)"
   ]
  },
  {
   "cell_type": "code",
   "execution_count": 246,
   "metadata": {
    "collapsed": true
   },
   "outputs": [
    {
     "name": "stdout",
     "output_type": "stream",
     "text": [
      "Warning: xgboost.XGBClassifier is not available and will not be used by TPOT.\n"
     ]
    },
    {
     "name": "stderr",
     "output_type": "stream",
     "text": [
      "Optimization Progress:   8%|▊         | 50/650 [00:13<04:53,  2.04pipeline/s]"
     ]
    },
    {
     "name": "stdout",
     "output_type": "stream",
     "text": [
      "Generation 1 - Current best internal CV score: 0.7025563909774436\n"
     ]
    },
    {
     "name": "stderr",
     "output_type": "stream",
     "text": [
      "Optimization Progress:  12%|█▏        | 75/650 [00:50<06:30,  1.47pipeline/s]"
     ]
    },
    {
     "name": "stdout",
     "output_type": "stream",
     "text": [
      "Generation 2 - Current best internal CV score: 0.7025563909774436\n"
     ]
    },
    {
     "name": "stderr",
     "output_type": "stream",
     "text": [
      "Optimization Progress:  15%|█▌        | 100/650 [01:10<09:29,  1.03s/pipeline]"
     ]
    },
    {
     "name": "stdout",
     "output_type": "stream",
     "text": [
      "Generation 3 - Current best internal CV score: 0.7025563909774436\n"
     ]
    },
    {
     "name": "stderr",
     "output_type": "stream",
     "text": [
      "Optimization Progress:  19%|█▉        | 125/650 [01:28<05:41,  1.54pipeline/s]"
     ]
    },
    {
     "name": "stdout",
     "output_type": "stream",
     "text": [
      "Generation 4 - Current best internal CV score: 0.7025563909774436\n"
     ]
    },
    {
     "name": "stderr",
     "output_type": "stream",
     "text": [
      "Optimization Progress:  23%|██▎       | 150/650 [01:46<05:02,  1.65pipeline/s]"
     ]
    },
    {
     "name": "stdout",
     "output_type": "stream",
     "text": [
      "Generation 5 - Current best internal CV score: 0.7025563909774436\n"
     ]
    },
    {
     "name": "stderr",
     "output_type": "stream",
     "text": [
      "Optimization Progress:  27%|██▋       | 175/650 [02:05<05:16,  1.50pipeline/s]"
     ]
    },
    {
     "name": "stdout",
     "output_type": "stream",
     "text": [
      "Generation 6 - Current best internal CV score: 0.7025563909774436\n"
     ]
    },
    {
     "name": "stderr",
     "output_type": "stream",
     "text": [
      "Optimization Progress:  31%|███       | 200/650 [02:40<08:50,  1.18s/pipeline]"
     ]
    },
    {
     "name": "stdout",
     "output_type": "stream",
     "text": [
      "Generation 7 - Current best internal CV score: 0.7025563909774436\n"
     ]
    },
    {
     "name": "stderr",
     "output_type": "stream",
     "text": [
      "Optimization Progress:  35%|███▍      | 225/650 [03:01<07:23,  1.04s/pipeline]"
     ]
    },
    {
     "name": "stdout",
     "output_type": "stream",
     "text": [
      "Generation 8 - Current best internal CV score: 0.7025563909774436\n"
     ]
    },
    {
     "name": "stderr",
     "output_type": "stream",
     "text": [
      "Optimization Progress:  38%|███▊      | 250/650 [03:21<04:54,  1.36pipeline/s]"
     ]
    },
    {
     "name": "stdout",
     "output_type": "stream",
     "text": [
      "Generation 9 - Current best internal CV score: 0.7025563909774436\n"
     ]
    },
    {
     "name": "stderr",
     "output_type": "stream",
     "text": [
      "Optimization Progress:  42%|████▏     | 275/650 [03:43<05:01,  1.25pipeline/s]"
     ]
    },
    {
     "name": "stdout",
     "output_type": "stream",
     "text": [
      "Generation 10 - Current best internal CV score: 0.7025563909774436\n"
     ]
    },
    {
     "name": "stderr",
     "output_type": "stream",
     "text": [
      "Optimization Progress:  46%|████▌     | 300/650 [04:02<02:57,  1.97pipeline/s]"
     ]
    },
    {
     "name": "stdout",
     "output_type": "stream",
     "text": [
      "Generation 11 - Current best internal CV score: 0.7025563909774436\n"
     ]
    },
    {
     "name": "stderr",
     "output_type": "stream",
     "text": [
      "Optimization Progress:  50%|█████     | 325/650 [04:25<08:22,  1.54s/pipeline]"
     ]
    },
    {
     "name": "stdout",
     "output_type": "stream",
     "text": [
      "Generation 12 - Current best internal CV score: 0.7025563909774436\n"
     ]
    },
    {
     "name": "stderr",
     "output_type": "stream",
     "text": [
      "Optimization Progress:  54%|█████▍    | 350/650 [04:42<02:25,  2.06pipeline/s]"
     ]
    },
    {
     "name": "stdout",
     "output_type": "stream",
     "text": [
      "Generation 13 - Current best internal CV score: 0.7025563909774436\n"
     ]
    },
    {
     "name": "stderr",
     "output_type": "stream",
     "text": [
      "Optimization Progress:  58%|█████▊    | 375/650 [05:14<02:50,  1.61pipeline/s]"
     ]
    },
    {
     "name": "stdout",
     "output_type": "stream",
     "text": [
      "Generation 14 - Current best internal CV score: 0.7025563909774436\n"
     ]
    },
    {
     "name": "stderr",
     "output_type": "stream",
     "text": [
      "Optimization Progress:  62%|██████▏   | 400/650 [05:43<05:14,  1.26s/pipeline]"
     ]
    },
    {
     "name": "stdout",
     "output_type": "stream",
     "text": [
      "Generation 15 - Current best internal CV score: 0.7035588972431077\n"
     ]
    },
    {
     "name": "stderr",
     "output_type": "stream",
     "text": [
      "Optimization Progress:  65%|██████▌   | 425/650 [06:17<04:35,  1.22s/pipeline]"
     ]
    },
    {
     "name": "stdout",
     "output_type": "stream",
     "text": [
      "Generation 16 - Current best internal CV score: 0.7130827067669173\n"
     ]
    },
    {
     "name": "stderr",
     "output_type": "stream",
     "text": [
      "Optimization Progress:  69%|██████▉   | 450/650 [06:39<02:51,  1.16pipeline/s]"
     ]
    },
    {
     "name": "stdout",
     "output_type": "stream",
     "text": [
      "Generation 17 - Current best internal CV score: 0.7130827067669173\n"
     ]
    },
    {
     "name": "stderr",
     "output_type": "stream",
     "text": [
      "Optimization Progress:  73%|███████▎  | 475/650 [07:21<02:29,  1.17pipeline/s]"
     ]
    },
    {
     "name": "stdout",
     "output_type": "stream",
     "text": [
      "Generation 18 - Current best internal CV score: 0.7130827067669173\n"
     ]
    },
    {
     "name": "stderr",
     "output_type": "stream",
     "text": [
      "Optimization Progress:  77%|███████▋  | 500/650 [07:55<02:01,  1.23pipeline/s]"
     ]
    },
    {
     "name": "stdout",
     "output_type": "stream",
     "text": [
      "Generation 19 - Current best internal CV score: 0.7130827067669173\n"
     ]
    },
    {
     "name": "stderr",
     "output_type": "stream",
     "text": [
      "Optimization Progress:  81%|████████  | 525/650 [08:23<02:30,  1.20s/pipeline]"
     ]
    },
    {
     "name": "stdout",
     "output_type": "stream",
     "text": [
      "Generation 20 - Current best internal CV score: 0.7130827067669173\n"
     ]
    },
    {
     "name": "stderr",
     "output_type": "stream",
     "text": [
      "Optimization Progress:  85%|████████▍ | 550/650 [08:58<05:23,  3.23s/pipeline]"
     ]
    },
    {
     "name": "stdout",
     "output_type": "stream",
     "text": [
      "Generation 21 - Current best internal CV score: 0.7130827067669173\n"
     ]
    },
    {
     "name": "stderr",
     "output_type": "stream",
     "text": [
      "Optimization Progress:  88%|████████▊ | 575/650 [09:30<01:26,  1.16s/pipeline]"
     ]
    },
    {
     "name": "stdout",
     "output_type": "stream",
     "text": [
      "Generation 22 - Current best internal CV score: 0.7130827067669173\n"
     ]
    },
    {
     "name": "stderr",
     "output_type": "stream",
     "text": [
      "Optimization Progress:  92%|█████████▏| 600/650 [10:00<00:59,  1.18s/pipeline]"
     ]
    },
    {
     "name": "stdout",
     "output_type": "stream",
     "text": [
      "Generation 23 - Current best internal CV score: 0.7130827067669173\n"
     ]
    },
    {
     "name": "stderr",
     "output_type": "stream",
     "text": [
      "Optimization Progress:  96%|█████████▌| 625/650 [10:40<00:44,  1.78s/pipeline]"
     ]
    },
    {
     "name": "stdout",
     "output_type": "stream",
     "text": [
      "Generation 24 - Current best internal CV score: 0.7130827067669173\n"
     ]
    },
    {
     "name": "stderr",
     "output_type": "stream",
     "text": [
      "                                                                              \r"
     ]
    },
    {
     "name": "stdout",
     "output_type": "stream",
     "text": [
      "Generation 25 - Current best internal CV score: 0.7130827067669173\n",
      "\n",
      "Best pipeline: ExtraTreesClassifier(GaussianNB(RFE(input_matrix, criterion=gini, max_features=0.55, n_estimators=100, step=0.35)), bootstrap=False, criterion=entropy, max_features=0.35, min_samples_leaf=6, min_samples_split=4, n_estimators=100)\n"
     ]
    },
    {
     "data": {
      "text/plain": [
       "TPOTClassifier(config_dict={'sklearn.naive_bayes.GaussianNB': {}, 'sklearn.naive_bayes.BernoulliNB': {'alpha': [0.001, 0.01, 0.1, 1.0, 10.0, 100.0], 'fit_prior': [True, False]}, 'sklearn.naive_bayes.MultinomialNB': {'alpha': [0.001, 0.01, 0.1, 1.0, 10.0, 100.0], 'fit_prior': [True, False]}, 'sklearn.tree.DecisionT....45,\n",
       "        0.5 ,  0.55,  0.6 ,  0.65,  0.7 ,  0.75,  0.8 ,  0.85,  0.9 ,\n",
       "        0.95,  1.  ])}}}},\n",
       "        crossover_rate=0.1, cv=5, disable_update_check=False,\n",
       "        early_stop=None, generations=25, max_eval_time_mins=5,\n",
       "        max_time_mins=None, mutation_rate=0.9, n_jobs=1, offspring_size=25,\n",
       "        periodic_checkpoint_folder=None, population_size=25,\n",
       "        random_state=None, scoring=None, subsample=1.0, verbosity=2,\n",
       "        warm_start=False)"
      ]
     },
     "execution_count": 246,
     "metadata": {},
     "output_type": "execute_result"
    }
   ],
   "source": [
    "\n",
    "tpot = TPOTClassifier(generations=25, population_size=25, verbosity=2)\n",
    "tpot.fit(X_train, y_train)\n"
   ]
  },
  {
   "cell_type": "code",
   "execution_count": 249,
   "metadata": {},
   "outputs": [
    {
     "name": "stdout",
     "output_type": "stream",
     "text": [
      "0.676470588235\n"
     ]
    },
    {
     "data": {
      "text/plain": [
       "True"
      ]
     },
     "execution_count": 249,
     "metadata": {},
     "output_type": "execute_result"
    }
   ],
   "source": [
    "\n",
    "print(tpot.score(X_test, y_test))\n",
    "#tpot.export('ExtraTreesClassifier001.py')\n",
    "\n",
    "\n",
    "\n"
   ]
  },
  {
   "cell_type": "code",
   "execution_count": 286,
   "metadata": {},
   "outputs": [],
   "source": [
    "#print(id_to_teamname)\n",
    "\n",
    "def predict_game(away, home):\n",
    "    away_id = id_to_teamname[away]\n",
    "    home_id = id_to_teamname[home]\n",
    "    \n",
    "    away_stats = team_standings.loc[(team_standings['team.ID'] == away_id)].values.flatten()\n",
    "    home_stats = team_standings.loc[(team_standings['team.ID'] == home_id)].values.flatten()\n",
    "    \n",
    "    vec = np.hstack([away_id, home_id, home_stats, away_stats]).reshape(1, -1)\n",
    "\n",
    "    res = tpot.predict(vec.reshape(1, -1))\n",
    "    \n",
    "    if res == 1:\n",
    "        return(home)\n",
    "    else:\n",
    "        return(away)\n"
   ]
  },
  {
   "cell_type": "code",
   "execution_count": 288,
   "metadata": {},
   "outputs": [
    {
     "data": {
      "text/plain": [
       "'COL'"
      ]
     },
     "execution_count": 288,
     "metadata": {},
     "output_type": "execute_result"
    }
   ],
   "source": [
    "predict_game('BUF', 'COL')\n",
    "\n",
    "#print(id_to_teamname)"
   ]
  },
  {
   "cell_type": "markdown",
   "metadata": {},
   "source": [
    "###### 25.10.17\n",
    "\n",
    "CAL - STL --- STL VOITTAA\n",
    "\n",
    "BUF - COL --- COL VOITTAA"
   ]
  }
 ],
 "metadata": {
  "kernelspec": {
   "display_name": "tf",
   "language": "python",
   "name": "tf"
  },
  "language_info": {
   "codemirror_mode": {
    "name": "ipython",
    "version": 3
   },
   "file_extension": ".py",
   "mimetype": "text/x-python",
   "name": "python",
   "nbconvert_exporter": "python",
   "pygments_lexer": "ipython3",
   "version": "3.6.2"
  }
 },
 "nbformat": 4,
 "nbformat_minor": 2
}
