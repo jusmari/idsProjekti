{
 "cells": [
  {
   "cell_type": "markdown",
   "metadata": {},
   "source": [
    "# ids projekti, kivaa :---)\n",
    "\n",
    "tästä alkaa suuri seikkailu. Olkaamme innokaita ja tehokkaita. "
   ]
  },
  {
   "cell_type": "code",
   "execution_count": 224,
   "metadata": {
    "scrolled": true
   },
   "outputs": [],
   "source": [
    "import json\n",
    "import pandas as pd\n",
    "import numpy as np\n",
    "import urllib.request as ur\n",
    "import requests\n",
    "from datetime import timedelta, date\n",
    "from sklearn.model_selection import train_test_split as tts\n",
    "from tpot import TPOTClassifier"
   ]
  },
  {
   "cell_type": "markdown",
   "metadata": {},
   "source": [
    "\n",
    "\n",
    "\n"
   ]
  },
  {
   "cell_type": "code",
   "execution_count": 392,
   "metadata": {},
   "outputs": [],
   "source": [
    "\n",
    "def date_range(n):\n",
    "    date_list = []\n",
    "\n",
    "    for single_date in (date.today() - timedelta(n+1) for n in range(n)):\n",
    "        date_list.append(single_date.strftime('%Y%m%d'))\n",
    "\n",
    "    return(date_list)"
   ]
  },
  {
   "cell_type": "code",
   "execution_count": 393,
   "metadata": {},
   "outputs": [],
   "source": [
    "\n",
    "def fetch_game_scoreboards():\n",
    "    games_lists = []\n",
    "\n",
    "    auth=('Enzine', 'Enzine')\n",
    "\n",
    "    url = 'https://api.mysportsfeeds.com/v1.1/pull/nhl/2017-2018-regular/scoreboard.json?fordate={date}'\n",
    "    \n",
    "    DATE_RANGE = 100\n",
    "    n=0\n",
    "    for i in date_range(DATE_RANGE):\n",
    "        if n%50 == 0:\n",
    "            print(n)\n",
    "        \n",
    "        try:\n",
    "            json = requests.get(url.format(date=i), auth=auth).json()\n",
    "            json['scoreboard']['gameScore']\n",
    "        except:\n",
    "            continue\n",
    "        \n",
    "        games_lists.append(json['scoreboard']['gameScore'])\n",
    "        \n",
    "        n += 1\n",
    "\n",
    "    return(games_lists)"
   ]
  },
  {
   "cell_type": "code",
   "execution_count": 248,
   "metadata": {},
   "outputs": [],
   "source": [
    "#date_range(30)"
   ]
  },
  {
   "cell_type": "code",
   "execution_count": 394,
   "metadata": {},
   "outputs": [
    {
     "name": "stdout",
     "output_type": "stream",
     "text": [
      "0\n"
     ]
    }
   ],
   "source": [
    "game_data = fetch_game_scoreboards()\n",
    "\n",
    "game_data_list = np.hstack(game_data)"
   ]
  },
  {
   "cell_type": "markdown",
   "metadata": {},
   "source": [
    "Jos kotijoukkoe voittaa, winner = 1"
   ]
  },
  {
   "cell_type": "code",
   "execution_count": 395,
   "metadata": {
    "scrolled": true
   },
   "outputs": [
    {
     "name": "stdout",
     "output_type": "stream",
     "text": [
      "(103,)\n"
     ]
    }
   ],
   "source": [
    "print(game_data_list.shape)"
   ]
  },
  {
   "cell_type": "code",
   "execution_count": 396,
   "metadata": {},
   "outputs": [],
   "source": [
    "id_to_teamname = dict()\n",
    "\n",
    "def parse_game(g):\n",
    "    data = dict()\n",
    "    \n",
    "\n",
    "    data['away_team_id'] = g['game']['awayTeam']['ID']\n",
    "    data['home_team_id'] = g['game']['homeTeam']['ID']\n",
    "    \n",
    "    try:\n",
    "        data['home_score'] = g['homeScore']\n",
    "    except:\n",
    "        print(g['game']['ID'])\n",
    "    data['away_score'] = g['awayScore']\n",
    "    data['away_shots'] = g['awayShots']\n",
    "    data['home_shots'] = g['awayShots']\n",
    "    \n",
    "    if g['game']['awayTeam']['Abbreviation'] not in id_to_teamname:\n",
    "        id_to_teamname[g['game']['awayTeam']['Abbreviation']] = g['game']['awayTeam']['ID']\n",
    "        \n",
    "    if g['game']['homeTeam']['Abbreviation'] not in id_to_teamname:\n",
    "        id_to_teamname[g['game']['homeTeam']['Abbreviation']] = g['game']['homeTeam']['ID']\n",
    "    \n",
    "    if data['home_score'] > data['away_score']:\n",
    "        data['winner'] = 1\n",
    "    else:\n",
    "        data['winner'] = 0\n",
    "\n",
    "    return(pd.Series(data))\n"
   ]
  },
  {
   "cell_type": "code",
   "execution_count": 496,
   "metadata": {
    "scrolled": true
   },
   "outputs": [],
   "source": [
    "df = pd.DataFrame()\n",
    "\n",
    "for g in game_data_list:\n",
    "    df = df.append(parse_game(g), ignore_index=True)\n",
    "    \n",
    "df['winner'] = df['winner'].astype('category')"
   ]
  },
  {
   "cell_type": "code",
   "execution_count": 402,
   "metadata": {
    "collapsed": true
   },
   "outputs": [
    {
     "name": "stdout",
     "output_type": "stream",
     "text": [
      "[ {'game': {'ID': '40868', 'scheduleStatus': 'Normal', 'originalDate': None, 'originalTime': None, 'delayedOrPostponedReason': None, 'date': '2017-10-19', 'time': '7:00PM', 'awayTeam': {'ID': '21', 'City': 'Vancouver', 'Name': 'Canucks', 'Abbreviation': 'VAN'}, 'homeTeam': {'ID': '11', 'City': 'Boston', 'Name': 'Bruins', 'Abbreviation': 'BOS'}, 'location': 'TD Garden'}, 'isUnplayed': 'false', 'isInProgress': 'false', 'isCompleted': 'true', 'awayScore': '3', 'awayShots': '29', 'homeScore': '6', 'homeShots': '35', 'periodSummary': {'period': [{'@number': '1', 'awayScore': '1', 'awayShots': '8', 'homeScore': '4', 'homeShots': '18'}, {'@number': '2', 'awayScore': '2', 'awayShots': '9', 'homeScore': '1', 'homeShots': '7'}, {'@number': '3', 'awayScore': '0', 'awayShots': '12', 'homeScore': '1', 'homeShots': '10'}]}}\n",
      " {'game': {'ID': '40869', 'scheduleStatus': 'Normal', 'originalDate': None, 'originalTime': None, 'delayedOrPostponedReason': None, 'date': '2017-10-19', 'time': '7:00PM', 'awayTeam': {'ID': '18', 'City': 'Nashville', 'Name': 'Predators', 'Abbreviation': 'NSH'}, 'homeTeam': {'ID': '6', 'City': 'Philadelphia', 'Name': 'Flyers', 'Abbreviation': 'PHI'}, 'location': 'Wells Fargo Center'}, 'isUnplayed': 'false', 'isInProgress': 'false', 'isCompleted': 'true', 'awayScore': '1', 'awayShots': '24', 'homeScore': '0', 'homeShots': '28', 'periodSummary': {'period': [{'@number': '1', 'awayScore': '0', 'awayShots': '7', 'homeScore': '0', 'homeShots': '6'}, {'@number': '2', 'awayScore': '0', 'awayShots': '9', 'homeScore': '0', 'homeShots': '10'}, {'@number': '3', 'awayScore': '1', 'awayShots': '8', 'homeScore': '0', 'homeShots': '12'}]}}\n",
      " {'game': {'ID': '40870', 'scheduleStatus': 'Normal', 'originalDate': None, 'originalTime': None, 'delayedOrPostponedReason': None, 'date': '2017-10-19', 'time': '7:00PM', 'awayTeam': {'ID': '1', 'City': 'Tampa Bay', 'Name': 'Lightning', 'Abbreviation': 'TBL'}, 'homeTeam': {'ID': '19', 'City': 'Columbus', 'Name': 'Blue Jackets', 'Abbreviation': 'CBJ'}, 'location': 'Nationwide Arena'}, 'isUnplayed': 'false', 'isInProgress': 'false', 'isCompleted': 'true', 'awayScore': '2', 'awayShots': '21', 'homeScore': '0', 'homeShots': '43', 'periodSummary': {'period': [{'@number': '1', 'awayScore': '1', 'awayShots': '13', 'homeScore': '0', 'homeShots': '10'}, {'@number': '2', 'awayScore': '1', 'awayShots': '5', 'homeScore': '0', 'homeShots': '18'}, {'@number': '3', 'awayScore': '0', 'awayShots': '3', 'homeScore': '0', 'homeShots': '15'}]}}\n",
      " {'game': {'ID': '40871', 'scheduleStatus': 'Normal', 'originalDate': None, 'originalTime': None, 'delayedOrPostponedReason': None, 'date': '2017-10-19', 'time': '7:00PM', 'awayTeam': {'ID': '8', 'City': 'New York', 'Name': 'Islanders', 'Abbreviation': 'NYI'}, 'homeTeam': {'ID': '9', 'City': 'New York', 'Name': 'Rangers', 'Abbreviation': 'NYR'}, 'location': 'Madison Square Garden'}, 'isUnplayed': 'false', 'isInProgress': 'false', 'isCompleted': 'true', 'awayScore': '4', 'awayShots': '38', 'homeScore': '3', 'homeShots': '41', 'periodSummary': {'period': [{'@number': '1', 'awayScore': '2', 'awayShots': '13', 'homeScore': '1', 'homeShots': '12'}, {'@number': '2', 'awayScore': '1', 'awayShots': '10', 'homeScore': '0', 'homeShots': '12'}, {'@number': '3', 'awayScore': '0', 'awayShots': '13', 'homeScore': '2', 'homeShots': '13'}, {'@number': '4', 'awayScore': '0', 'awayShots': '2', 'homeScore': '0', 'homeShots': '4'}, {'@number': '5', 'awayScore': '2', 'awayShots': '0', 'homeScore': '1', 'homeShots': '0'}]}}\n",
      " {'game': {'ID': '40872', 'scheduleStatus': 'Normal', 'originalDate': None, 'originalTime': None, 'delayedOrPostponedReason': None, 'date': '2017-10-19', 'time': '7:30PM', 'awayTeam': {'ID': '7', 'City': 'New Jersey', 'Name': 'Devils', 'Abbreviation': 'NJD'}, 'homeTeam': {'ID': '13', 'City': 'Ottawa', 'Name': 'Senators', 'Abbreviation': 'OTT'}, 'location': 'Canadian Tire Center'}, 'isUnplayed': 'false', 'isInProgress': 'false', 'isCompleted': 'true', 'awayScore': '5', 'awayShots': '46', 'homeScore': '4', 'homeShots': '33', 'periodSummary': {'period': [{'@number': '1', 'awayScore': '2', 'awayShots': '16', 'homeScore': '1', 'homeShots': '14'}, {'@number': '2', 'awayScore': '0', 'awayShots': '14', 'homeScore': '3', 'homeShots': '10'}, {'@number': '3', 'awayScore': '2', 'awayShots': '15', 'homeScore': '0', 'homeShots': '9'}, {'@number': '4', 'awayScore': '1', 'awayShots': '1', 'homeScore': '0', 'homeShots': '0'}]}}\n",
      " {'game': {'ID': '40873', 'scheduleStatus': 'Normal', 'originalDate': None, 'originalTime': None, 'delayedOrPostponedReason': None, 'date': '2017-10-19', 'time': '8:30PM', 'awayTeam': {'ID': '24', 'City': 'Edmonton', 'Name': 'Oilers', 'Abbreviation': 'EDM'}, 'homeTeam': {'ID': '20', 'City': 'Chicago', 'Name': 'Blackhawks', 'Abbreviation': 'CHI'}, 'location': 'United Center'}, 'isUnplayed': 'false', 'isInProgress': 'false', 'isCompleted': 'true', 'awayScore': '2', 'awayShots': '42', 'homeScore': '1', 'homeShots': '31', 'periodSummary': {'period': [{'@number': '1', 'awayScore': '1', 'awayShots': '9', 'homeScore': '1', 'homeShots': '7'}, {'@number': '2', 'awayScore': '0', 'awayShots': '14', 'homeScore': '0', 'homeShots': '10'}, {'@number': '3', 'awayScore': '0', 'awayShots': '14', 'homeScore': '0', 'homeShots': '11'}, {'@number': '4', 'awayScore': '1', 'awayShots': '5', 'homeScore': '0', 'homeShots': '3'}]}}\n",
      " {'game': {'ID': '40874', 'scheduleStatus': 'Normal', 'originalDate': None, 'originalTime': None, 'delayedOrPostponedReason': None, 'date': '2017-10-19', 'time': '9:00PM', 'awayTeam': {'ID': '3', 'City': 'Carolina', 'Name': 'Hurricanes', 'Abbreviation': 'CAR'}, 'homeTeam': {'ID': '23', 'City': 'Calgary', 'Name': 'Flames', 'Abbreviation': 'CGY'}, 'location': 'Scotiabank Saddledome'}, 'isUnplayed': 'false', 'isInProgress': 'false', 'isCompleted': 'true', 'awayScore': '2', 'awayShots': '33', 'homeScore': '1', 'homeShots': '26', 'periodSummary': {'period': [{'@number': '1', 'awayScore': '0', 'awayShots': '8', 'homeScore': '0', 'homeShots': '9'}, {'@number': '2', 'awayScore': '1', 'awayShots': '15', 'homeScore': '0', 'homeShots': '6'}, {'@number': '3', 'awayScore': '1', 'awayShots': '10', 'homeScore': '1', 'homeShots': '11'}]}}\n",
      " {'game': {'ID': '40875', 'scheduleStatus': 'Normal', 'originalDate': None, 'originalTime': None, 'delayedOrPostponedReason': None, 'date': '2017-10-19', 'time': '9:00PM', 'awayTeam': {'ID': '17', 'City': 'St. Louis', 'Name': 'Blues', 'Abbreviation': 'STL'}, 'homeTeam': {'ID': '22', 'City': 'Colorado', 'Name': 'Avalanche', 'Abbreviation': 'COL'}, 'location': 'Pepsi Center'}, 'isUnplayed': 'false', 'isInProgress': 'false', 'isCompleted': 'true', 'awayScore': '4', 'awayShots': '28', 'homeScore': '3', 'homeShots': '41', 'periodSummary': {'period': [{'@number': '1', 'awayScore': '0', 'awayShots': '8', 'homeScore': '1', 'homeShots': '16'}, {'@number': '2', 'awayScore': '3', 'awayShots': '17', 'homeScore': '0', 'homeShots': '14'}, {'@number': '3', 'awayScore': '1', 'awayShots': '3', 'homeScore': '2', 'homeShots': '11'}]}}\n",
      " {'game': {'ID': '40876', 'scheduleStatus': 'Normal', 'originalDate': None, 'originalTime': None, 'delayedOrPostponedReason': None, 'date': '2017-10-19', 'time': '10:00PM', 'awayTeam': {'ID': '27', 'City': 'Dallas', 'Name': 'Stars', 'Abbreviation': 'DAL'}, 'homeTeam': {'ID': '30', 'City': 'Arizona', 'Name': 'Coyotes', 'Abbreviation': 'ARI'}, 'location': 'Gila River Arena'}, 'isUnplayed': 'false', 'isInProgress': 'false', 'isCompleted': 'true', 'awayScore': '5', 'awayShots': '31', 'homeScore': '4', 'homeShots': '31', 'periodSummary': {'period': [{'@number': '1', 'awayScore': '2', 'awayShots': '10', 'homeScore': '1', 'homeShots': '12'}, {'@number': '2', 'awayScore': '0', 'awayShots': '13', 'homeScore': '1', 'homeShots': '10'}, {'@number': '3', 'awayScore': '3', 'awayShots': '8', 'homeScore': '2', 'homeShots': '9'}]}}\n",
      " {'game': {'ID': '40865', 'scheduleStatus': 'Normal', 'originalDate': None, 'originalTime': None, 'delayedOrPostponedReason': None, 'date': '2017-10-18', 'time': '7:30PM', 'awayTeam': {'ID': '16', 'City': 'Detroit', 'Name': 'Red Wings', 'Abbreviation': 'DET'}, 'homeTeam': {'ID': '12', 'City': 'Toronto', 'Name': 'Maple Leafs', 'Abbreviation': 'TOR'}, 'location': 'Air Canada Center'}, 'isUnplayed': 'false', 'isInProgress': 'false', 'isCompleted': 'true', 'awayScore': '3', 'awayShots': '33', 'homeScore': '6', 'homeShots': '26', 'periodSummary': {'period': [{'@number': '1', 'awayScore': '1', 'awayShots': '11', 'homeScore': '4', 'homeShots': '5'}, {'@number': '2', 'awayScore': '2', 'awayShots': '7', 'homeScore': '1', 'homeShots': '13'}, {'@number': '3', 'awayScore': '0', 'awayShots': '15', 'homeScore': '1', 'homeShots': '8'}]}}\n",
      " {'game': {'ID': '40866', 'scheduleStatus': 'Normal', 'originalDate': None, 'originalTime': None, 'delayedOrPostponedReason': None, 'date': '2017-10-18', 'time': '8:00PM', 'awayTeam': {'ID': '20', 'City': 'Chicago', 'Name': 'Blackhawks', 'Abbreviation': 'CHI'}, 'homeTeam': {'ID': '17', 'City': 'St. Louis', 'Name': 'Blues', 'Abbreviation': 'STL'}, 'location': 'Scottrade Center'}, 'isUnplayed': 'false', 'isInProgress': 'false', 'isCompleted': 'true', 'awayScore': '2', 'awayShots': '24', 'homeScore': '5', 'homeShots': '33', 'periodSummary': {'period': [{'@number': '1', 'awayScore': '0', 'awayShots': '4', 'homeScore': '1', 'homeShots': '9'}, {'@number': '2', 'awayScore': '0', 'awayShots': '4', 'homeScore': '2', 'homeShots': '17'}, {'@number': '3', 'awayScore': '2', 'awayShots': '16', 'homeScore': '2', 'homeShots': '7'}]}}\n",
      " {'game': {'ID': '40867', 'scheduleStatus': 'Normal', 'originalDate': None, 'originalTime': None, 'delayedOrPostponedReason': None, 'date': '2017-10-18', 'time': '10:30PM', 'awayTeam': {'ID': '14', 'City': 'Montreal', 'Name': 'Canadiens', 'Abbreviation': 'MTL'}, 'homeTeam': {'ID': '28', 'City': 'Los Angeles', 'Name': 'Kings', 'Abbreviation': 'LAK'}, 'location': 'Staples Center'}, 'isUnplayed': 'false', 'isInProgress': 'false', 'isCompleted': 'true', 'awayScore': '1', 'awayShots': '37', 'homeScore': '5', 'homeShots': '42', 'periodSummary': {'period': [{'@number': '1', 'awayScore': '1', 'awayShots': '17', 'homeScore': '1', 'homeShots': '14'}, {'@number': '2', 'awayScore': '0', 'awayShots': '8', 'homeScore': '0', 'homeShots': '17'}, {'@number': '3', 'awayScore': '0', 'awayShots': '12', 'homeScore': '4', 'homeShots': '11'}]}}\n",
      " {'game': {'ID': '40854', 'scheduleStatus': 'Normal', 'originalDate': None, 'originalTime': None, 'delayedOrPostponedReason': None, 'date': '2017-10-17', 'time': '7:00PM', 'awayTeam': {'ID': '12', 'City': 'Toronto', 'Name': 'Maple Leafs', 'Abbreviation': 'TOR'}, 'homeTeam': {'ID': '5', 'City': 'Washington', 'Name': 'Capitals', 'Abbreviation': 'WSH'}, 'location': 'Verizon Center'}, 'isUnplayed': 'false', 'isInProgress': 'false', 'isCompleted': 'true', 'awayScore': '2', 'awayShots': '30', 'homeScore': '0', 'homeShots': '30', 'periodSummary': {'period': [{'@number': '1', 'awayScore': '0', 'awayShots': '7', 'homeScore': '0', 'homeShots': '7'}, {'@number': '2', 'awayScore': '0', 'awayShots': '10', 'homeScore': '0', 'homeShots': '10'}, {'@number': '3', 'awayScore': '2', 'awayShots': '13', 'homeScore': '0', 'homeShots': '13'}]}}\n",
      " {'game': {'ID': '40855', 'scheduleStatus': 'Normal', 'originalDate': None, 'originalTime': None, 'delayedOrPostponedReason': None, 'date': '2017-10-17', 'time': '7:00PM', 'awayTeam': {'ID': '4', 'City': 'Florida', 'Name': 'Panthers', 'Abbreviation': 'FLO'}, 'homeTeam': {'ID': '6', 'City': 'Philadelphia', 'Name': 'Flyers', 'Abbreviation': 'PHI'}, 'location': 'Wells Fargo Center'}, 'isUnplayed': 'false', 'isInProgress': 'false', 'isCompleted': 'true', 'awayScore': '1', 'awayShots': '41', 'homeScore': '5', 'homeShots': '39', 'periodSummary': {'period': [{'@number': '1', 'awayScore': '0', 'awayShots': '15', 'homeScore': '0', 'homeShots': '11'}, {'@number': '2', 'awayScore': '0', 'awayShots': '12', 'homeScore': '4', 'homeShots': '15'}, {'@number': '3', 'awayScore': '1', 'awayShots': '14', 'homeScore': '1', 'homeShots': '13'}]}}\n",
      " {'game': {'ID': '40857', 'scheduleStatus': 'Normal', 'originalDate': None, 'originalTime': None, 'delayedOrPostponedReason': None, 'date': '2017-10-17', 'time': '7:00PM', 'awayTeam': {'ID': '10', 'City': 'Pittsburgh', 'Name': 'Penguins', 'Abbreviation': 'PIT'}, 'homeTeam': {'ID': '9', 'City': 'New York', 'Name': 'Rangers', 'Abbreviation': 'NYR'}, 'location': 'Madison Square Garden'}, 'isUnplayed': 'false', 'isInProgress': 'false', 'isCompleted': 'true', 'awayScore': '5', 'awayShots': '33', 'homeScore': '4', 'homeShots': '32', 'periodSummary': {'period': [{'@number': '1', 'awayScore': '2', 'awayShots': '12', 'homeScore': '0', 'homeShots': '10'}, {'@number': '2', 'awayScore': '1', 'awayShots': '11', 'homeScore': '3', 'homeShots': '8'}, {'@number': '3', 'awayScore': '1', 'awayShots': '9', 'homeScore': '1', 'homeShots': '14'}, {'@number': '4', 'awayScore': '1', 'awayShots': '1', 'homeScore': '0', 'homeShots': '0'}]}}\n",
      " {'game': {'ID': '40856', 'scheduleStatus': 'Normal', 'originalDate': None, 'originalTime': None, 'delayedOrPostponedReason': None, 'date': '2017-10-17', 'time': '7:30PM', 'awayTeam': {'ID': '1', 'City': 'Tampa Bay', 'Name': 'Lightning', 'Abbreviation': 'TBL'}, 'homeTeam': {'ID': '7', 'City': 'New Jersey', 'Name': 'Devils', 'Abbreviation': 'NJD'}, 'location': 'Prudential Center'}, 'isUnplayed': 'false', 'isInProgress': 'false', 'isCompleted': 'true', 'awayScore': '4', 'awayShots': '37', 'homeScore': '5', 'homeShots': '34', 'periodSummary': {'period': [{'@number': '1', 'awayScore': '2', 'awayShots': '11', 'homeScore': '3', 'homeShots': '15'}, {'@number': '2', 'awayScore': '2', 'awayShots': '11', 'homeScore': '0', 'homeShots': '9'}, {'@number': '3', 'awayScore': '0', 'awayShots': '13', 'homeScore': '1', 'homeShots': '8'}, {'@number': '4', 'awayScore': '0', 'awayShots': '2', 'homeScore': '0', 'homeShots': '2'}, {'@number': '5', 'awayScore': '0', 'awayShots': '0', 'homeScore': '1', 'homeShots': '0'}]}}\n",
      " {'game': {'ID': '40858', 'scheduleStatus': 'Normal', 'originalDate': None, 'originalTime': None, 'delayedOrPostponedReason': None, 'date': '2017-10-17', 'time': '7:30PM', 'awayTeam': {'ID': '21', 'City': 'Vancouver', 'Name': 'Canucks', 'Abbreviation': 'VAN'}, 'homeTeam': {'ID': '13', 'City': 'Ottawa', 'Name': 'Senators', 'Abbreviation': 'OTT'}, 'location': 'Canadian Tire Center'}, 'isUnplayed': 'false', 'isInProgress': 'false', 'isCompleted': 'true', 'awayScore': '3', 'awayShots': '24', 'homeScore': '0', 'homeShots': '32', 'periodSummary': {'period': [{'@number': '1', 'awayScore': '1', 'awayShots': '4', 'homeScore': '0', 'homeShots': '17'}, {'@number': '2', 'awayScore': '1', 'awayShots': '12', 'homeScore': '0', 'homeShots': '7'}, {'@number': '3', 'awayScore': '1', 'awayShots': '8', 'homeScore': '0', 'homeShots': '8'}]}}\n",
      " {'game': {'ID': '40859', 'scheduleStatus': 'Normal', 'originalDate': None, 'originalTime': None, 'delayedOrPostponedReason': None, 'date': '2017-10-17', 'time': '8:00PM', 'awayTeam': {'ID': '22', 'City': 'Colorado', 'Name': 'Avalanche', 'Abbreviation': 'COL'}, 'homeTeam': {'ID': '18', 'City': 'Nashville', 'Name': 'Predators', 'Abbreviation': 'NSH'}, 'location': 'Bridgestone Arena'}, 'isUnplayed': 'false', 'isInProgress': 'false', 'isCompleted': 'true', 'awayScore': '1', 'awayShots': '21', 'homeScore': '4', 'homeShots': '34', 'periodSummary': {'period': [{'@number': '1', 'awayScore': '0', 'awayShots': '8', 'homeScore': '0', 'homeShots': '7'}, {'@number': '2', 'awayScore': '1', 'awayShots': '6', 'homeScore': '3', 'homeShots': '14'}, {'@number': '3', 'awayScore': '0', 'awayShots': '7', 'homeScore': '1', 'homeShots': '13'}]}}\n",
      " {'game': {'ID': '40860', 'scheduleStatus': 'Normal', 'originalDate': None, 'originalTime': None, 'delayedOrPostponedReason': None, 'date': '2017-10-17', 'time': '8:00PM', 'awayTeam': {'ID': '19', 'City': 'Columbus', 'Name': 'Blue Jackets', 'Abbreviation': 'CBJ'}, 'homeTeam': {'ID': '47', 'City': 'Winnipeg', 'Name': 'Jets', 'Abbreviation': 'WPJ'}, 'location': 'Bell MTS Place'}, 'isUnplayed': 'false', 'isInProgress': 'false', 'isCompleted': 'true', 'awayScore': '5', 'awayShots': '39', 'homeScore': '2', 'homeShots': '26', 'periodSummary': {'period': [{'@number': '1', 'awayScore': '0', 'awayShots': '11', 'homeScore': '0', 'homeShots': '8'}, {'@number': '2', 'awayScore': '4', 'awayShots': '16', 'homeScore': '1', 'homeShots': '11'}, {'@number': '3', 'awayScore': '1', 'awayShots': '12', 'homeScore': '1', 'homeShots': '7'}]}}\n",
      " {'game': {'ID': '40861', 'scheduleStatus': 'Normal', 'originalDate': None, 'originalTime': None, 'delayedOrPostponedReason': None, 'date': '2017-10-17', 'time': '8:30PM', 'awayTeam': {'ID': '30', 'City': 'Arizona', 'Name': 'Coyotes', 'Abbreviation': 'ARI'}, 'homeTeam': {'ID': '27', 'City': 'Dallas', 'Name': 'Stars', 'Abbreviation': 'DAL'}, 'location': 'American Airlines Center'}, 'isUnplayed': 'false', 'isInProgress': 'false', 'isCompleted': 'true', 'awayScore': '1', 'awayShots': '28', 'homeScore': '3', 'homeShots': '34', 'periodSummary': {'period': [{'@number': '1', 'awayScore': '0', 'awayShots': '6', 'homeScore': '1', 'homeShots': '12'}, {'@number': '2', 'awayScore': '1', 'awayShots': '7', 'homeScore': '1', 'homeShots': '13'}, {'@number': '3', 'awayScore': '0', 'awayShots': '15', 'homeScore': '1', 'homeShots': '9'}]}}\n",
      " {'game': {'ID': '40862', 'scheduleStatus': 'Normal', 'originalDate': None, 'originalTime': None, 'delayedOrPostponedReason': None, 'date': '2017-10-17', 'time': '9:00PM', 'awayTeam': {'ID': '3', 'City': 'Carolina', 'Name': 'Hurricanes', 'Abbreviation': 'CAR'}, 'homeTeam': {'ID': '24', 'City': 'Edmonton', 'Name': 'Oilers', 'Abbreviation': 'EDM'}, 'location': 'Rogers Place'}, 'isUnplayed': 'false', 'isInProgress': 'false', 'isCompleted': 'true', 'awayScore': '5', 'awayShots': '21', 'homeScore': '3', 'homeShots': '51', 'periodSummary': {'period': [{'@number': '1', 'awayScore': '3', 'awayShots': '8', 'homeScore': '0', 'homeShots': '15'}, {'@number': '2', 'awayScore': '0', 'awayShots': '7', 'homeScore': '1', 'homeShots': '21'}, {'@number': '3', 'awayScore': '2', 'awayShots': '6', 'homeScore': '2', 'homeShots': '15'}]}}\n",
      " {'game': {'ID': '40863', 'scheduleStatus': 'Normal', 'originalDate': None, 'originalTime': None, 'delayedOrPostponedReason': None, 'date': '2017-10-17', 'time': '10:00PM', 'awayTeam': {'ID': '15', 'City': 'Buffalo', 'Name': 'Sabres', 'Abbreviation': 'BUF'}, 'homeTeam': {'ID': '142', 'City': 'Vegas', 'Name': 'Golden Knights', 'Abbreviation': 'VGK'}, 'location': 'T-Mobile Arena'}, 'isUnplayed': 'false', 'isInProgress': 'false', 'isCompleted': 'true', 'awayScore': '4', 'awayShots': '34', 'homeScore': '5', 'homeShots': '31', 'periodSummary': {'period': [{'@number': '1', 'awayScore': '1', 'awayShots': '8', 'homeScore': '1', 'homeShots': '9'}, {'@number': '2', 'awayScore': '0', 'awayShots': '7', 'homeScore': '2', 'homeShots': '12'}, {'@number': '3', 'awayScore': '3', 'awayShots': '19', 'homeScore': '1', 'homeShots': '6'}, {'@number': '4', 'awayScore': '0', 'awayShots': '0', 'homeScore': '1', 'homeShots': '4'}]}}\n",
      " {'game': {'ID': '40864', 'scheduleStatus': 'Normal', 'originalDate': None, 'originalTime': None, 'delayedOrPostponedReason': None, 'date': '2017-10-17', 'time': '10:30PM', 'awayTeam': {'ID': '14', 'City': 'Montreal', 'Name': 'Canadiens', 'Abbreviation': 'MTL'}, 'homeTeam': {'ID': '26', 'City': 'San Jose', 'Name': 'Sharks', 'Abbreviation': 'SJS'}, 'location': 'SAP Center at San Jose'}, 'isUnplayed': 'false', 'isInProgress': 'false', 'isCompleted': 'true', 'awayScore': '2', 'awayShots': '30', 'homeScore': '5', 'homeShots': '35', 'periodSummary': {'period': [{'@number': '1', 'awayScore': '1', 'awayShots': '11', 'homeScore': '1', 'homeShots': '8'}, {'@number': '2', 'awayScore': '1', 'awayShots': '12', 'homeScore': '3', 'homeShots': '20'}, {'@number': '3', 'awayScore': '0', 'awayShots': '7', 'homeScore': '1', 'homeShots': '7'}]}}\n",
      " {'game': {'ID': '40853', 'scheduleStatus': 'Normal', 'originalDate': None, 'originalTime': None, 'delayedOrPostponedReason': None, 'date': '2017-10-16', 'time': '7:30PM', 'awayTeam': {'ID': '1', 'City': 'Tampa Bay', 'Name': 'Lightning', 'Abbreviation': 'TBL'}, 'homeTeam': {'ID': '16', 'City': 'Detroit', 'Name': 'Red Wings', 'Abbreviation': 'DET'}, 'location': 'Joe Louis Arena'}, 'isUnplayed': 'false', 'isInProgress': 'false', 'isCompleted': 'true', 'awayScore': '3', 'awayShots': '26', 'homeScore': '2', 'homeShots': '31', 'periodSummary': {'period': [{'@number': '1', 'awayScore': '2', 'awayShots': '8', 'homeScore': '0', 'homeShots': '10'}, {'@number': '2', 'awayScore': '0', 'awayShots': '11', 'homeScore': '2', 'homeShots': '12'}, {'@number': '3', 'awayScore': '1', 'awayShots': '7', 'homeScore': '0', 'homeShots': '9'}]}}\n",
      " {'game': {'ID': '40850', 'scheduleStatus': 'Normal', 'originalDate': None, 'originalTime': None, 'delayedOrPostponedReason': None, 'date': '2017-10-15', 'time': '7:00PM', 'awayTeam': {'ID': '11', 'City': 'Boston', 'Name': 'Bruins', 'Abbreviation': 'BOS'}, 'homeTeam': {'ID': '142', 'City': 'Vegas', 'Name': 'Golden Knights', 'Abbreviation': 'VGK'}, 'location': 'T-Mobile Arena'}, 'isUnplayed': 'false', 'isInProgress': 'false', 'isCompleted': 'true', 'awayScore': '1', 'awayShots': '22', 'homeScore': '3', 'homeShots': '26', 'periodSummary': {'period': [{'@number': '1', 'awayScore': '0', 'awayShots': '5', 'homeScore': '0', 'homeShots': '4'}, {'@number': '2', 'awayScore': '0', 'awayShots': '10', 'homeScore': '2', 'homeShots': '14'}, {'@number': '3', 'awayScore': '1', 'awayShots': '7', 'homeScore': '1', 'homeShots': '8'}]}}\n",
      " {'game': {'ID': '40851', 'scheduleStatus': 'Normal', 'originalDate': None, 'originalTime': None, 'delayedOrPostponedReason': None, 'date': '2017-10-15', 'time': '9:00PM', 'awayTeam': {'ID': '15', 'City': 'Buffalo', 'Name': 'Sabres', 'Abbreviation': 'BUF'}, 'homeTeam': {'ID': '29', 'City': 'Anaheim', 'Name': 'Ducks', 'Abbreviation': 'ANA'}, 'location': 'Honda Center'}, 'isUnplayed': 'false', 'isInProgress': 'false', 'isCompleted': 'true', 'awayScore': '3', 'awayShots': '31', 'homeScore': '1', 'homeShots': '26', 'periodSummary': {'period': [{'@number': '1', 'awayScore': '1', 'awayShots': '13', 'homeScore': '0', 'homeShots': '7'}, {'@number': '2', 'awayScore': '1', 'awayShots': '11', 'homeScore': '1', 'homeShots': '10'}, {'@number': '3', 'awayScore': '1', 'awayShots': '7', 'homeScore': '0', 'homeShots': '9'}]}}\n",
      " {'game': {'ID': '40852', 'scheduleStatus': 'Normal', 'originalDate': None, 'originalTime': None, 'delayedOrPostponedReason': None, 'date': '2017-10-15', 'time': '10:30PM', 'awayTeam': {'ID': '8', 'City': 'New York', 'Name': 'Islanders', 'Abbreviation': 'NYI'}, 'homeTeam': {'ID': '28', 'City': 'Los Angeles', 'Name': 'Kings', 'Abbreviation': 'LAK'}, 'location': 'Staples Center'}, 'isUnplayed': 'false', 'isInProgress': 'false', 'isCompleted': 'true', 'awayScore': '2', 'awayShots': '25', 'homeScore': '3', 'homeShots': '27', 'periodSummary': {'period': [{'@number': '1', 'awayScore': '0', 'awayShots': '7', 'homeScore': '1', 'homeShots': '11'}, {'@number': '2', 'awayScore': '1', 'awayShots': '7', 'homeScore': '1', 'homeShots': '9'}, {'@number': '3', 'awayScore': '1', 'awayShots': '11', 'homeScore': '1', 'homeShots': '7'}]}}\n",
      " {'game': {'ID': '40836', 'scheduleStatus': 'Normal', 'originalDate': None, 'originalTime': None, 'delayedOrPostponedReason': None, 'date': '2017-10-14', 'time': '7:00PM', 'awayTeam': {'ID': '3', 'City': 'Carolina', 'Name': 'Hurricanes', 'Abbreviation': 'CAR'}, 'homeTeam': {'ID': '47', 'City': 'Winnipeg', 'Name': 'Jets', 'Abbreviation': 'WPJ'}, 'location': 'Bell MTS Place'}, 'isUnplayed': 'false', 'isInProgress': 'false', 'isCompleted': 'true', 'awayScore': '1', 'awayShots': '29', 'homeScore': '2', 'homeShots': '21', 'periodSummary': {'period': [{'@number': '1', 'awayScore': '1', 'awayShots': '10', 'homeScore': '1', 'homeShots': '8'}, {'@number': '2', 'awayScore': '0', 'awayShots': '8', 'homeScore': '0', 'homeShots': '4'}, {'@number': '3', 'awayScore': '0', 'awayShots': '11', 'homeScore': '1', 'homeShots': '9'}]}}\n",
      " {'game': {'ID': '40837', 'scheduleStatus': 'Normal', 'originalDate': None, 'originalTime': None, 'delayedOrPostponedReason': None, 'date': '2017-10-14', 'time': '7:00PM', 'awayTeam': {'ID': '17', 'City': 'St. Louis', 'Name': 'Blues', 'Abbreviation': 'STL'}, 'homeTeam': {'ID': '1', 'City': 'Tampa Bay', 'Name': 'Lightning', 'Abbreviation': 'TBL'}, 'location': 'Amalie Arena'}, 'isUnplayed': 'false', 'isInProgress': 'false', 'isCompleted': 'true', 'awayScore': '1', 'awayShots': '29', 'homeScore': '2', 'homeShots': '27', 'periodSummary': {'period': [{'@number': '1', 'awayScore': '0', 'awayShots': '15', 'homeScore': '0', 'homeShots': '9'}, {'@number': '2', 'awayScore': '0', 'awayShots': '5', 'homeScore': '1', 'homeShots': '13'}, {'@number': '3', 'awayScore': '1', 'awayShots': '9', 'homeScore': '1', 'homeShots': '5'}]}}\n",
      " {'game': {'ID': '40838', 'scheduleStatus': 'Normal', 'originalDate': None, 'originalTime': None, 'delayedOrPostponedReason': None, 'date': '2017-10-14', 'time': '7:00PM', 'awayTeam': {'ID': '7', 'City': 'New Jersey', 'Name': 'Devils', 'Abbreviation': 'NJD'}, 'homeTeam': {'ID': '9', 'City': 'New York', 'Name': 'Rangers', 'Abbreviation': 'NYR'}, 'location': 'Madison Square Garden'}, 'isUnplayed': 'false', 'isInProgress': 'false', 'isCompleted': 'true', 'awayScore': '3', 'awayShots': '19', 'homeScore': '2', 'homeShots': '31', 'periodSummary': {'period': [{'@number': '1', 'awayScore': '0', 'awayShots': '3', 'homeScore': '0', 'homeShots': '14'}, {'@number': '2', 'awayScore': '2', 'awayShots': '12', 'homeScore': '1', 'homeShots': '3'}, {'@number': '3', 'awayScore': '1', 'awayShots': '4', 'homeScore': '1', 'homeShots': '14'}]}}\n",
      " {'game': {'ID': '40839', 'scheduleStatus': 'Normal', 'originalDate': None, 'originalTime': None, 'delayedOrPostponedReason': None, 'date': '2017-10-14', 'time': '7:00PM', 'awayTeam': {'ID': '4', 'City': 'Florida', 'Name': 'Panthers', 'Abbreviation': 'FLO'}, 'homeTeam': {'ID': '10', 'City': 'Pittsburgh', 'Name': 'Penguins', 'Abbreviation': 'PIT'}, 'location': 'Consol Energy Center'}, 'isUnplayed': 'false', 'isInProgress': 'false', 'isCompleted': 'true', 'awayScore': '3', 'awayShots': '46', 'homeScore': '4', 'homeShots': '33', 'periodSummary': {'period': [{'@number': '1', 'awayScore': '0', 'awayShots': '13', 'homeScore': '1', 'homeShots': '13'}, {'@number': '2', 'awayScore': '2', 'awayShots': '19', 'homeScore': '2', 'homeShots': '8'}, {'@number': '3', 'awayScore': '1', 'awayShots': '14', 'homeScore': '1', 'homeShots': '12'}]}}\n",
      " {'game': {'ID': '40840', 'scheduleStatus': 'Normal', 'originalDate': None, 'originalTime': None, 'delayedOrPostponedReason': None, 'date': '2017-10-14', 'time': '7:00PM', 'awayTeam': {'ID': '12', 'City': 'Toronto', 'Name': 'Maple Leafs', 'Abbreviation': 'TOR'}, 'homeTeam': {'ID': '14', 'City': 'Montreal', 'Name': 'Canadiens', 'Abbreviation': 'MTL'}, 'location': 'Bell Centre'}, 'isUnplayed': 'false', 'isInProgress': 'false', 'isCompleted': 'true', 'awayScore': '4', 'awayShots': '22', 'homeScore': '3', 'homeShots': '34', 'periodSummary': {'period': [{'@number': '1', 'awayScore': '2', 'awayShots': '8', 'homeScore': '2', 'homeShots': '12'}, {'@number': '2', 'awayScore': '1', 'awayShots': '7', 'homeScore': '1', 'homeShots': '8'}, {'@number': '3', 'awayScore': '0', 'awayShots': '6', 'homeScore': '0', 'homeShots': '13'}, {'@number': '4', 'awayScore': '1', 'awayShots': '1', 'homeScore': '0', 'homeShots': '1'}]}}\n",
      " {'game': {'ID': '40841', 'scheduleStatus': 'Normal', 'originalDate': None, 'originalTime': None, 'delayedOrPostponedReason': None, 'date': '2017-10-14', 'time': '7:00PM', 'awayTeam': {'ID': '5', 'City': 'Washington', 'Name': 'Capitals', 'Abbreviation': 'WSH'}, 'homeTeam': {'ID': '6', 'City': 'Philadelphia', 'Name': 'Flyers', 'Abbreviation': 'PHI'}, 'location': 'Wells Fargo Center'}, 'isUnplayed': 'false', 'isInProgress': 'false', 'isCompleted': 'true', 'awayScore': '2', 'awayShots': '23', 'homeScore': '8', 'homeShots': '37', 'periodSummary': {'period': [{'@number': '1', 'awayScore': '1', 'awayShots': '9', 'homeScore': '2', 'homeShots': '13'}, {'@number': '2', 'awayScore': '1', 'awayShots': '7', 'homeScore': '3', 'homeShots': '11'}, {'@number': '3', 'awayScore': '0', 'awayShots': '7', 'homeScore': '3', 'homeShots': '13'}]}}\n",
      " {'game': {'ID': '40842', 'scheduleStatus': 'Normal', 'originalDate': None, 'originalTime': None, 'delayedOrPostponedReason': None, 'date': '2017-10-14', 'time': '8:00PM', 'awayTeam': {'ID': '19', 'City': 'Columbus', 'Name': 'Blue Jackets', 'Abbreviation': 'CBJ'}, 'homeTeam': {'ID': '25', 'City': 'Minnesota', 'Name': 'Wild', 'Abbreviation': 'MIN'}, 'location': 'Xcel Energy Center'}, 'isUnplayed': 'false', 'isInProgress': 'false', 'isCompleted': 'true', 'awayScore': '5', 'awayShots': '35', 'homeScore': '4', 'homeShots': '21', 'periodSummary': {'period': [{'@number': '1', 'awayScore': '1', 'awayShots': '10', 'homeScore': '1', 'homeShots': '6'}, {'@number': '2', 'awayScore': '1', 'awayShots': '10', 'homeScore': '2', 'homeShots': '10'}, {'@number': '3', 'awayScore': '2', 'awayShots': '13', 'homeScore': '1', 'homeShots': '5'}, {'@number': '4', 'awayScore': '1', 'awayShots': '2', 'homeScore': '0', 'homeShots': '0'}]}}\n",
      " {'game': {'ID': '40843', 'scheduleStatus': 'Normal', 'originalDate': None, 'originalTime': None, 'delayedOrPostponedReason': None, 'date': '2017-10-14', 'time': '8:00PM', 'awayTeam': {'ID': '22', 'City': 'Colorado', 'Name': 'Avalanche', 'Abbreviation': 'COL'}, 'homeTeam': {'ID': '27', 'City': 'Dallas', 'Name': 'Stars', 'Abbreviation': 'DAL'}, 'location': 'American Airlines Center'}, 'isUnplayed': 'false', 'isInProgress': 'false', 'isCompleted': 'true', 'awayScore': '1', 'awayShots': '23', 'homeScore': '3', 'homeShots': '36', 'periodSummary': {'period': [{'@number': '1', 'awayScore': '0', 'awayShots': '4', 'homeScore': '0', 'homeShots': '14'}, {'@number': '2', 'awayScore': '0', 'awayShots': '8', 'homeScore': '2', 'homeShots': '14'}, {'@number': '3', 'awayScore': '1', 'awayShots': '11', 'homeScore': '1', 'homeShots': '8'}]}}\n",
      " {'game': {'ID': '40844', 'scheduleStatus': 'Normal', 'originalDate': None, 'originalTime': None, 'delayedOrPostponedReason': None, 'date': '2017-10-14', 'time': '8:30PM', 'awayTeam': {'ID': '18', 'City': 'Nashville', 'Name': 'Predators', 'Abbreviation': 'NSH'}, 'homeTeam': {'ID': '20', 'City': 'Chicago', 'Name': 'Blackhawks', 'Abbreviation': 'CHI'}, 'location': 'United Center'}, 'isUnplayed': 'false', 'isInProgress': 'false', 'isCompleted': 'true', 'awayScore': '1', 'awayShots': '38', 'homeScore': '2', 'homeShots': '35', 'periodSummary': {'period': [{'@number': '1', 'awayScore': '0', 'awayShots': '18', 'homeScore': '0', 'homeShots': '11'}, {'@number': '2', 'awayScore': '1', 'awayShots': '12', 'homeScore': '0', 'homeShots': '8'}, {'@number': '3', 'awayScore': '0', 'awayShots': '8', 'homeScore': '1', 'homeShots': '12'}, {'@number': '4', 'awayScore': '0', 'awayShots': '0', 'homeScore': '1', 'homeShots': '4'}]}}\n",
      " {'game': {'ID': '40845', 'scheduleStatus': 'Normal', 'originalDate': None, 'originalTime': None, 'delayedOrPostponedReason': None, 'date': '2017-10-14', 'time': '9:00PM', 'awayTeam': {'ID': '11', 'City': 'Boston', 'Name': 'Bruins', 'Abbreviation': 'BOS'}, 'homeTeam': {'ID': '30', 'City': 'Arizona', 'Name': 'Coyotes', 'Abbreviation': 'ARI'}, 'location': 'Gila River Arena'}, 'isUnplayed': 'false', 'isInProgress': 'false', 'isCompleted': 'true', 'awayScore': '6', 'awayShots': '29', 'homeScore': '2', 'homeShots': '31', 'periodSummary': {'period': [{'@number': '1', 'awayScore': '1', 'awayShots': '8', 'homeScore': '1', 'homeShots': '10'}, {'@number': '2', 'awayScore': '3', 'awayShots': '11', 'homeScore': '0', 'homeShots': '9'}, {'@number': '3', 'awayScore': '2', 'awayShots': '10', 'homeScore': '1', 'homeShots': '12'}]}}\n",
      " {'game': {'ID': '40846', 'scheduleStatus': 'Normal', 'originalDate': None, 'originalTime': None, 'delayedOrPostponedReason': None, 'date': '2017-10-14', 'time': '10:00PM', 'awayTeam': {'ID': '23', 'City': 'Calgary', 'Name': 'Flames', 'Abbreviation': 'CGY'}, 'homeTeam': {'ID': '21', 'City': 'Vancouver', 'Name': 'Canucks', 'Abbreviation': 'VAN'}, 'location': 'Rogers Arena'}, 'isUnplayed': 'false', 'isInProgress': 'false', 'isCompleted': 'true', 'awayScore': '5', 'awayShots': '27', 'homeScore': '2', 'homeShots': '29', 'periodSummary': {'period': [{'@number': '1', 'awayScore': '1', 'awayShots': '8', 'homeScore': '1', 'homeShots': '12'}, {'@number': '2', 'awayScore': '2', 'awayShots': '11', 'homeScore': '0', 'homeShots': '4'}, {'@number': '3', 'awayScore': '2', 'awayShots': '8', 'homeScore': '1', 'homeShots': '13'}]}}\n",
      " {'game': {'ID': '40847', 'scheduleStatus': 'Normal', 'originalDate': None, 'originalTime': None, 'delayedOrPostponedReason': None, 'date': '2017-10-14', 'time': '10:00PM', 'awayTeam': {'ID': '13', 'City': 'Ottawa', 'Name': 'Senators', 'Abbreviation': 'OTT'}, 'homeTeam': {'ID': '24', 'City': 'Edmonton', 'Name': 'Oilers', 'Abbreviation': 'EDM'}, 'location': 'Rogers Place'}, 'isUnplayed': 'false', 'isInProgress': 'false', 'isCompleted': 'true', 'awayScore': '6', 'awayShots': '31', 'homeScore': '1', 'homeShots': '36', 'periodSummary': {'period': [{'@number': '1', 'awayScore': '2', 'awayShots': '11', 'homeScore': '0', 'homeShots': '11'}, {'@number': '2', 'awayScore': '1', 'awayShots': '10', 'homeScore': '0', 'homeShots': '19'}, {'@number': '3', 'awayScore': '3', 'awayShots': '10', 'homeScore': '1', 'homeShots': '6'}]}}\n",
      " {'game': {'ID': '40848', 'scheduleStatus': 'Normal', 'originalDate': None, 'originalTime': None, 'delayedOrPostponedReason': None, 'date': '2017-10-14', 'time': '10:30PM', 'awayTeam': {'ID': '15', 'City': 'Buffalo', 'Name': 'Sabres', 'Abbreviation': 'BUF'}, 'homeTeam': {'ID': '28', 'City': 'Los Angeles', 'Name': 'Kings', 'Abbreviation': 'LAK'}, 'location': 'Staples Center'}, 'isUnplayed': 'false', 'isInProgress': 'false', 'isCompleted': 'true', 'awayScore': '2', 'awayShots': '25', 'homeScore': '4', 'homeShots': '30', 'periodSummary': {'period': [{'@number': '1', 'awayScore': '1', 'awayShots': '10', 'homeScore': '0', 'homeShots': '10'}, {'@number': '2', 'awayScore': '0', 'awayShots': '7', 'homeScore': '1', 'homeShots': '11'}, {'@number': '3', 'awayScore': '1', 'awayShots': '8', 'homeScore': '3', 'homeShots': '9'}]}}\n",
      " {'game': {'ID': '40849', 'scheduleStatus': 'Normal', 'originalDate': None, 'originalTime': None, 'delayedOrPostponedReason': None, 'date': '2017-10-14', 'time': '10:30PM', 'awayTeam': {'ID': '8', 'City': 'New York', 'Name': 'Islanders', 'Abbreviation': 'NYI'}, 'homeTeam': {'ID': '26', 'City': 'San Jose', 'Name': 'Sharks', 'Abbreviation': 'SJS'}, 'location': 'SAP Center at San Jose'}, 'isUnplayed': 'false', 'isInProgress': 'false', 'isCompleted': 'true', 'awayScore': '3', 'awayShots': '23', 'homeScore': '1', 'homeShots': '41', 'periodSummary': {'period': [{'@number': '1', 'awayScore': '1', 'awayShots': '9', 'homeScore': '1', 'homeShots': '12'}, {'@number': '2', 'awayScore': '1', 'awayShots': '10', 'homeScore': '0', 'homeShots': '13'}, {'@number': '3', 'awayScore': '1', 'awayShots': '4', 'homeScore': '0', 'homeShots': '16'}]}}\n",
      " {'game': {'ID': '40831', 'scheduleStatus': 'Normal', 'originalDate': None, 'originalTime': None, 'delayedOrPostponedReason': None, 'date': '2017-10-13', 'time': '7:00PM', 'awayTeam': {'ID': '9', 'City': 'New York', 'Name': 'Rangers', 'Abbreviation': 'NYR'}, 'homeTeam': {'ID': '19', 'City': 'Columbus', 'Name': 'Blue Jackets', 'Abbreviation': 'CBJ'}, 'location': 'Nationwide Arena'}, 'isUnplayed': 'false', 'isInProgress': 'false', 'isCompleted': 'true', 'awayScore': '1', 'awayShots': '38', 'homeScore': '3', 'homeShots': '43', 'periodSummary': {'period': [{'@number': '1', 'awayScore': '1', 'awayShots': '11', 'homeScore': '0', 'homeShots': '13'}, {'@number': '2', 'awayScore': '0', 'awayShots': '18', 'homeScore': '1', 'homeShots': '12'}, {'@number': '3', 'awayScore': '0', 'awayShots': '9', 'homeScore': '2', 'homeShots': '18'}]}}\n",
      " {'game': {'ID': '40832', 'scheduleStatus': 'Normal', 'originalDate': None, 'originalTime': None, 'delayedOrPostponedReason': None, 'date': '2017-10-13', 'time': '7:00PM', 'awayTeam': {'ID': '5', 'City': 'Washington', 'Name': 'Capitals', 'Abbreviation': 'WSH'}, 'homeTeam': {'ID': '7', 'City': 'New Jersey', 'Name': 'Devils', 'Abbreviation': 'NJD'}, 'location': 'Prudential Center'}, 'isUnplayed': 'false', 'isInProgress': 'false', 'isCompleted': 'true', 'awayScore': '5', 'awayShots': '28', 'homeScore': '2', 'homeShots': '23', 'periodSummary': {'period': [{'@number': '1', 'awayScore': '1', 'awayShots': '8', 'homeScore': '0', 'homeShots': '8'}, {'@number': '2', 'awayScore': '2', 'awayShots': '12', 'homeScore': '1', 'homeShots': '9'}, {'@number': '3', 'awayScore': '2', 'awayShots': '8', 'homeScore': '1', 'homeShots': '6'}]}}\n",
      " {'game': {'ID': '40833', 'scheduleStatus': 'Normal', 'originalDate': None, 'originalTime': None, 'delayedOrPostponedReason': None, 'date': '2017-10-13', 'time': '9:00PM', 'awayTeam': {'ID': '13', 'City': 'Ottawa', 'Name': 'Senators', 'Abbreviation': 'OTT'}, 'homeTeam': {'ID': '23', 'City': 'Calgary', 'Name': 'Flames', 'Abbreviation': 'CGY'}, 'location': 'Scotiabank Saddledome'}, 'isUnplayed': 'false', 'isInProgress': 'false', 'isCompleted': 'true', 'awayScore': '6', 'awayShots': '28', 'homeScore': '0', 'homeShots': '25', 'periodSummary': {'period': [{'@number': '1', 'awayScore': '1', 'awayShots': '6', 'homeScore': '0', 'homeShots': '9'}, {'@number': '2', 'awayScore': '1', 'awayShots': '11', 'homeScore': '0', 'homeShots': '8'}, {'@number': '3', 'awayScore': '4', 'awayShots': '11', 'homeScore': '0', 'homeShots': '8'}]}}\n",
      " {'game': {'ID': '40834', 'scheduleStatus': 'Normal', 'originalDate': None, 'originalTime': None, 'delayedOrPostponedReason': None, 'date': '2017-10-13', 'time': '9:00PM', 'awayTeam': {'ID': '29', 'City': 'Anaheim', 'Name': 'Ducks', 'Abbreviation': 'ANA'}, 'homeTeam': {'ID': '22', 'City': 'Colorado', 'Name': 'Avalanche', 'Abbreviation': 'COL'}, 'location': 'Pepsi Center'}, 'isUnplayed': 'false', 'isInProgress': 'false', 'isCompleted': 'true', 'awayScore': '1', 'awayShots': '18', 'homeScore': '3', 'homeShots': '39', 'periodSummary': {'period': [{'@number': '1', 'awayScore': '0', 'awayShots': '4', 'homeScore': '1', 'homeShots': '18'}, {'@number': '2', 'awayScore': '0', 'awayShots': '4', 'homeScore': '0', 'homeShots': '12'}, {'@number': '3', 'awayScore': '1', 'awayShots': '10', 'homeScore': '2', 'homeShots': '9'}]}}\n",
      " {'game': {'ID': '40835', 'scheduleStatus': 'Normal', 'originalDate': None, 'originalTime': None, 'delayedOrPostponedReason': None, 'date': '2017-10-13', 'time': '10:30PM', 'awayTeam': {'ID': '16', 'City': 'Detroit', 'Name': 'Red Wings', 'Abbreviation': 'DET'}, 'homeTeam': {'ID': '142', 'City': 'Vegas', 'Name': 'Golden Knights', 'Abbreviation': 'VGK'}, 'location': 'T-Mobile Arena'}, 'isUnplayed': 'false', 'isInProgress': 'false', 'isCompleted': 'true', 'awayScore': '6', 'awayShots': '27', 'homeScore': '3', 'homeShots': '27', 'periodSummary': {'period': [{'@number': '1', 'awayScore': '1', 'awayShots': '6', 'homeScore': '0', 'homeShots': '9'}, {'@number': '2', 'awayScore': '1', 'awayShots': '9', 'homeScore': '3', 'homeShots': '12'}, {'@number': '3', 'awayScore': '4', 'awayShots': '12', 'homeScore': '0', 'homeShots': '6'}]}}\n",
      " {'game': {'ID': '40824', 'scheduleStatus': 'Normal', 'originalDate': None, 'originalTime': None, 'delayedOrPostponedReason': None, 'date': '2017-10-12', 'time': '7:30PM', 'awayTeam': {'ID': '17', 'City': 'St. Louis', 'Name': 'Blues', 'Abbreviation': 'STL'}, 'homeTeam': {'ID': '4', 'City': 'Florida', 'Name': 'Panthers', 'Abbreviation': 'FLO'}, 'location': 'BB and T Center'}, 'isUnplayed': 'false', 'isInProgress': 'false', 'isCompleted': 'true', 'awayScore': '2', 'awayShots': '39', 'homeScore': '5', 'homeShots': '38', 'periodSummary': {'period': [{'@number': '1', 'awayScore': '0', 'awayShots': '13', 'homeScore': '0', 'homeShots': '11'}, {'@number': '2', 'awayScore': '1', 'awayShots': '16', 'homeScore': '3', 'homeShots': '11'}, {'@number': '3', 'awayScore': '1', 'awayShots': '10', 'homeScore': '2', 'homeShots': '16'}]}}\n",
      " {'game': {'ID': '40825', 'scheduleStatus': 'Normal', 'originalDate': None, 'originalTime': None, 'delayedOrPostponedReason': None, 'date': '2017-10-12', 'time': '7:30PM', 'awayTeam': {'ID': '10', 'City': 'Pittsburgh', 'Name': 'Penguins', 'Abbreviation': 'PIT'}, 'homeTeam': {'ID': '1', 'City': 'Tampa Bay', 'Name': 'Lightning', 'Abbreviation': 'TBL'}, 'location': 'Amalie Arena'}, 'isUnplayed': 'false', 'isInProgress': 'false', 'isCompleted': 'true', 'awayScore': '4', 'awayShots': '40', 'homeScore': '5', 'homeShots': '34', 'periodSummary': {'period': [{'@number': '1', 'awayScore': '1', 'awayShots': '12', 'homeScore': '2', 'homeShots': '16'}, {'@number': '2', 'awayScore': '2', 'awayShots': '16', 'homeScore': '3', 'homeShots': '12'}, {'@number': '3', 'awayScore': '1', 'awayShots': '12', 'homeScore': '0', 'homeShots': '6'}]}}\n",
      " {'game': {'ID': '40826', 'scheduleStatus': 'Normal', 'originalDate': None, 'originalTime': None, 'delayedOrPostponedReason': None, 'date': '2017-10-12', 'time': '8:00PM', 'awayTeam': {'ID': '27', 'City': 'Dallas', 'Name': 'Stars', 'Abbreviation': 'DAL'}, 'homeTeam': {'ID': '18', 'City': 'Nashville', 'Name': 'Predators', 'Abbreviation': 'NSH'}, 'location': 'Bridgestone Arena'}, 'isUnplayed': 'false', 'isInProgress': 'false', 'isCompleted': 'true', 'awayScore': '1', 'awayShots': '31', 'homeScore': '4', 'homeShots': '31', 'periodSummary': {'period': [{'@number': '1', 'awayScore': '1', 'awayShots': '13', 'homeScore': '0', 'homeShots': '10'}, {'@number': '2', 'awayScore': '0', 'awayShots': '10', 'homeScore': '2', 'homeShots': '10'}, {'@number': '3', 'awayScore': '0', 'awayShots': '8', 'homeScore': '2', 'homeShots': '11'}]}}\n",
      " {'game': {'ID': '40827', 'scheduleStatus': 'Normal', 'originalDate': None, 'originalTime': None, 'delayedOrPostponedReason': None, 'date': '2017-10-12', 'time': '8:30PM', 'awayTeam': {'ID': '25', 'City': 'Minnesota', 'Name': 'Wild', 'Abbreviation': 'MIN'}, 'homeTeam': {'ID': '20', 'City': 'Chicago', 'Name': 'Blackhawks', 'Abbreviation': 'CHI'}, 'location': 'United Center'}, 'isUnplayed': 'false', 'isInProgress': 'false', 'isCompleted': 'true', 'awayScore': '5', 'awayShots': '34', 'homeScore': '2', 'homeShots': '38', 'periodSummary': {'period': [{'@number': '1', 'awayScore': '0', 'awayShots': '8', 'homeScore': '0', 'homeShots': '6'}, {'@number': '2', 'awayScore': '1', 'awayShots': '9', 'homeScore': '0', 'homeShots': '16'}, {'@number': '3', 'awayScore': '4', 'awayShots': '17', 'homeScore': '2', 'homeShots': '16'}]}}\n",
      " {'game': {'ID': '40828', 'scheduleStatus': 'Normal', 'originalDate': None, 'originalTime': None, 'delayedOrPostponedReason': None, 'date': '2017-10-12', 'time': '10:00PM', 'awayTeam': {'ID': '16', 'City': 'Detroit', 'Name': 'Red Wings', 'Abbreviation': 'DET'}, 'homeTeam': {'ID': '30', 'City': 'Arizona', 'Name': 'Coyotes', 'Abbreviation': 'ARI'}, 'location': 'Gila River Arena'}, 'isUnplayed': 'false', 'isInProgress': 'false', 'isCompleted': 'true', 'awayScore': '4', 'awayShots': '33', 'homeScore': '2', 'homeShots': '35', 'periodSummary': {'period': [{'@number': '1', 'awayScore': '0', 'awayShots': '9', 'homeScore': '0', 'homeShots': '11'}, {'@number': '2', 'awayScore': '2', 'awayShots': '14', 'homeScore': '2', 'homeShots': '10'}, {'@number': '3', 'awayScore': '2', 'awayShots': '10', 'homeScore': '0', 'homeShots': '14'}]}}\n",
      " {'game': {'ID': '40829', 'scheduleStatus': 'Normal', 'originalDate': None, 'originalTime': None, 'delayedOrPostponedReason': None, 'date': '2017-10-12', 'time': '10:00PM', 'awayTeam': {'ID': '47', 'City': 'Winnipeg', 'Name': 'Jets', 'Abbreviation': 'WPJ'}, 'homeTeam': {'ID': '21', 'City': 'Vancouver', 'Name': 'Canucks', 'Abbreviation': 'VAN'}, 'location': 'Rogers Arena'}, 'isUnplayed': 'false', 'isInProgress': 'false', 'isCompleted': 'true', 'awayScore': '4', 'awayShots': '20', 'homeScore': '2', 'homeShots': '32', 'periodSummary': {'period': [{'@number': '1', 'awayScore': '1', 'awayShots': '9', 'homeScore': '1', 'homeShots': '8'}, {'@number': '2', 'awayScore': '2', 'awayShots': '6', 'homeScore': '0', 'homeShots': '12'}, {'@number': '3', 'awayScore': '1', 'awayShots': '5', 'homeScore': '1', 'homeShots': '12'}]}}\n",
      " {'game': {'ID': '40830', 'scheduleStatus': 'Normal', 'originalDate': None, 'originalTime': None, 'delayedOrPostponedReason': None, 'date': '2017-10-12', 'time': '10:30PM', 'awayTeam': {'ID': '15', 'City': 'Buffalo', 'Name': 'Sabres', 'Abbreviation': 'BUF'}, 'homeTeam': {'ID': '26', 'City': 'San Jose', 'Name': 'Sharks', 'Abbreviation': 'SJS'}, 'location': 'SAP Center at San Jose'}, 'isUnplayed': 'false', 'isInProgress': 'false', 'isCompleted': 'true', 'awayScore': '2', 'awayShots': '25', 'homeScore': '3', 'homeShots': '26', 'periodSummary': {'period': [{'@number': '1', 'awayScore': '1', 'awayShots': '10', 'homeScore': '2', 'homeShots': '6'}, {'@number': '2', 'awayScore': '1', 'awayShots': '10', 'homeScore': '1', 'homeShots': '12'}, {'@number': '3', 'awayScore': '0', 'awayShots': '5', 'homeScore': '0', 'homeShots': '8'}]}}\n",
      " {'game': {'ID': '40819', 'scheduleStatus': 'Normal', 'originalDate': None, 'originalTime': None, 'delayedOrPostponedReason': None, 'date': '2017-10-11', 'time': '7:30PM', 'awayTeam': {'ID': '10', 'City': 'Pittsburgh', 'Name': 'Penguins', 'Abbreviation': 'PIT'}, 'homeTeam': {'ID': '5', 'City': 'Washington', 'Name': 'Capitals', 'Abbreviation': 'WSH'}, 'location': 'Verizon Center'}, 'isUnplayed': 'false', 'isInProgress': 'false', 'isCompleted': 'true', 'awayScore': '3', 'awayShots': '36', 'homeScore': '2', 'homeShots': '22', 'periodSummary': {'period': [{'@number': '1', 'awayScore': '1', 'awayShots': '9', 'homeScore': '0', 'homeShots': '7'}, {'@number': '2', 'awayScore': '1', 'awayShots': '15', 'homeScore': '1', 'homeShots': '8'}, {'@number': '3', 'awayScore': '1', 'awayShots': '12', 'homeScore': '1', 'homeShots': '7'}]}}\n",
      " {'game': {'ID': '40820', 'scheduleStatus': 'Normal', 'originalDate': None, 'originalTime': None, 'delayedOrPostponedReason': None, 'date': '2017-10-11', 'time': '7:30PM', 'awayTeam': {'ID': '7', 'City': 'New Jersey', 'Name': 'Devils', 'Abbreviation': 'NJD'}, 'homeTeam': {'ID': '12', 'City': 'Toronto', 'Name': 'Maple Leafs', 'Abbreviation': 'TOR'}, 'location': 'Air Canada Center'}, 'isUnplayed': 'false', 'isInProgress': 'false', 'isCompleted': 'true', 'awayScore': '6', 'awayShots': '31', 'homeScore': '3', 'homeShots': '50', 'periodSummary': {'period': [{'@number': '1', 'awayScore': '2', 'awayShots': '10', 'homeScore': '2', 'homeShots': '13'}, {'@number': '2', 'awayScore': '2', 'awayShots': '12', 'homeScore': '0', 'homeShots': '17'}, {'@number': '3', 'awayScore': '2', 'awayShots': '9', 'homeScore': '1', 'homeShots': '20'}]}}\n",
      " {'game': {'ID': '40821', 'scheduleStatus': 'Normal', 'originalDate': None, 'originalTime': None, 'delayedOrPostponedReason': None, 'date': '2017-10-11', 'time': '9:30PM', 'awayTeam': {'ID': '11', 'City': 'Boston', 'Name': 'Bruins', 'Abbreviation': 'BOS'}, 'homeTeam': {'ID': '22', 'City': 'Colorado', 'Name': 'Avalanche', 'Abbreviation': 'COL'}, 'location': 'Pepsi Center'}, 'isUnplayed': 'false', 'isInProgress': 'false', 'isCompleted': 'true', 'awayScore': '3', 'awayShots': '23', 'homeScore': '6', 'homeShots': '37', 'periodSummary': {'period': [{'@number': '1', 'awayScore': '1', 'awayShots': '4', 'homeScore': '1', 'homeShots': '11'}, {'@number': '2', 'awayScore': '0', 'awayShots': '5', 'homeScore': '3', 'homeShots': '15'}, {'@number': '3', 'awayScore': '2', 'awayShots': '14', 'homeScore': '2', 'homeShots': '11'}]}}\n",
      " {'game': {'ID': '40822', 'scheduleStatus': 'Normal', 'originalDate': None, 'originalTime': None, 'delayedOrPostponedReason': None, 'date': '2017-10-11', 'time': '10:00PM', 'awayTeam': {'ID': '8', 'City': 'New York', 'Name': 'Islanders', 'Abbreviation': 'NYI'}, 'homeTeam': {'ID': '29', 'City': 'Anaheim', 'Name': 'Ducks', 'Abbreviation': 'ANA'}, 'location': 'Honda Center'}, 'isUnplayed': 'false', 'isInProgress': 'false', 'isCompleted': 'true', 'awayScore': '2', 'awayShots': '41', 'homeScore': '3', 'homeShots': '30', 'periodSummary': {'period': [{'@number': '1', 'awayScore': '1', 'awayShots': '21', 'homeScore': '1', 'homeShots': '6'}, {'@number': '2', 'awayScore': '0', 'awayShots': '11', 'homeScore': '1', 'homeShots': '16'}, {'@number': '3', 'awayScore': '1', 'awayShots': '9', 'homeScore': '1', 'homeShots': '8'}]}}\n",
      " {'game': {'ID': '40823', 'scheduleStatus': 'Normal', 'originalDate': None, 'originalTime': None, 'delayedOrPostponedReason': None, 'date': '2017-10-11', 'time': '10:30PM', 'awayTeam': {'ID': '23', 'City': 'Calgary', 'Name': 'Flames', 'Abbreviation': 'CGY'}, 'homeTeam': {'ID': '28', 'City': 'Los Angeles', 'Name': 'Kings', 'Abbreviation': 'LAK'}, 'location': 'Staples Center'}, 'isUnplayed': 'false', 'isInProgress': 'false', 'isCompleted': 'true', 'awayScore': '4', 'awayShots': '37', 'homeScore': '3', 'homeShots': '45', 'periodSummary': {'period': [{'@number': '1', 'awayScore': '2', 'awayShots': '13', 'homeScore': '0', 'homeShots': '15'}, {'@number': '2', 'awayScore': '0', 'awayShots': '10', 'homeScore': '1', 'homeShots': '10'}, {'@number': '3', 'awayScore': '1', 'awayShots': '13', 'homeScore': '2', 'homeShots': '20'}, {'@number': '4', 'awayScore': '1', 'awayShots': '1', 'homeScore': '0', 'homeShots': '0'}]}}\n",
      " {'game': {'ID': '40812', 'scheduleStatus': 'Normal', 'originalDate': None, 'originalTime': None, 'delayedOrPostponedReason': None, 'date': '2017-10-10', 'time': '7:00PM', 'awayTeam': {'ID': '17', 'City': 'St. Louis', 'Name': 'Blues', 'Abbreviation': 'STL'}, 'homeTeam': {'ID': '9', 'City': 'New York', 'Name': 'Rangers', 'Abbreviation': 'NYR'}, 'location': 'Madison Square Garden'}, 'isUnplayed': 'false', 'isInProgress': 'false', 'isCompleted': 'true', 'awayScore': '3', 'awayShots': '23', 'homeScore': '1', 'homeShots': '33', 'periodSummary': {'period': [{'@number': '1', 'awayScore': '2', 'awayShots': '7', 'homeScore': '1', 'homeShots': '11'}, {'@number': '2', 'awayScore': '0', 'awayShots': '8', 'homeScore': '0', 'homeShots': '6'}, {'@number': '3', 'awayScore': '1', 'awayShots': '8', 'homeScore': '0', 'homeShots': '16'}]}}\n",
      " {'game': {'ID': '40813', 'scheduleStatus': 'Normal', 'originalDate': None, 'originalTime': None, 'delayedOrPostponedReason': None, 'date': '2017-10-10', 'time': '7:00PM', 'awayTeam': {'ID': '19', 'City': 'Columbus', 'Name': 'Blue Jackets', 'Abbreviation': 'CBJ'}, 'homeTeam': {'ID': '3', 'City': 'Carolina', 'Name': 'Hurricanes', 'Abbreviation': 'CAR'}, 'location': 'PNC Arena'}, 'isUnplayed': 'false', 'isInProgress': 'false', 'isCompleted': 'true', 'awayScore': '2', 'awayShots': '27', 'homeScore': '1', 'homeShots': '38', 'periodSummary': {'period': [{'@number': '1', 'awayScore': '0', 'awayShots': '11', 'homeScore': '0', 'homeShots': '10'}, {'@number': '2', 'awayScore': '0', 'awayShots': '9', 'homeScore': '0', 'homeShots': '10'}, {'@number': '3', 'awayScore': '1', 'awayShots': '6', 'homeScore': '1', 'homeShots': '11'}, {'@number': '4', 'awayScore': '1', 'awayShots': '1', 'homeScore': '0', 'homeShots': '7'}]}}\n",
      " {'game': {'ID': '40814', 'scheduleStatus': 'Normal', 'originalDate': None, 'originalTime': None, 'delayedOrPostponedReason': None, 'date': '2017-10-10', 'time': '7:30PM', 'awayTeam': {'ID': '20', 'City': 'Chicago', 'Name': 'Blackhawks', 'Abbreviation': 'CHI'}, 'homeTeam': {'ID': '14', 'City': 'Montreal', 'Name': 'Canadiens', 'Abbreviation': 'MTL'}, 'location': 'Bell Centre'}, 'isUnplayed': 'false', 'isInProgress': 'false', 'isCompleted': 'true', 'awayScore': '3', 'awayShots': '25', 'homeScore': '1', 'homeShots': '42', 'periodSummary': {'period': [{'@number': '1', 'awayScore': '2', 'awayShots': '7', 'homeScore': '1', 'homeShots': '16'}, {'@number': '2', 'awayScore': '1', 'awayShots': '12', 'homeScore': '0', 'homeShots': '10'}, {'@number': '3', 'awayScore': '0', 'awayShots': '6', 'homeScore': '0', 'homeShots': '16'}]}}\n",
      " {'game': {'ID': '40815', 'scheduleStatus': 'Normal', 'originalDate': None, 'originalTime': None, 'delayedOrPostponedReason': None, 'date': '2017-10-10', 'time': '8:00PM', 'awayTeam': {'ID': '6', 'City': 'Philadelphia', 'Name': 'Flyers', 'Abbreviation': 'PHI'}, 'homeTeam': {'ID': '18', 'City': 'Nashville', 'Name': 'Predators', 'Abbreviation': 'NSH'}, 'location': 'Bridgestone Arena'}, 'isUnplayed': 'false', 'isInProgress': 'false', 'isCompleted': 'true', 'awayScore': '5', 'awayShots': '30', 'homeScore': '6', 'homeShots': '31', 'periodSummary': {'period': [{'@number': '1', 'awayScore': '0', 'awayShots': '9', 'homeScore': '1', 'homeShots': '9'}, {'@number': '2', 'awayScore': '3', 'awayShots': '15', 'homeScore': '2', 'homeShots': '8'}, {'@number': '3', 'awayScore': '2', 'awayShots': '6', 'homeScore': '3', 'homeShots': '14'}]}}\n",
      " {'game': {'ID': '40816', 'scheduleStatus': 'Normal', 'originalDate': None, 'originalTime': None, 'delayedOrPostponedReason': None, 'date': '2017-10-10', 'time': '8:30PM', 'awayTeam': {'ID': '16', 'City': 'Detroit', 'Name': 'Red Wings', 'Abbreviation': 'DET'}, 'homeTeam': {'ID': '27', 'City': 'Dallas', 'Name': 'Stars', 'Abbreviation': 'DAL'}, 'location': 'American Airlines Center'}, 'isUnplayed': 'false', 'isInProgress': 'false', 'isCompleted': 'true', 'awayScore': '2', 'awayShots': '25', 'homeScore': '4', 'homeShots': '33', 'periodSummary': {'period': [{'@number': '1', 'awayScore': '0', 'awayShots': '6', 'homeScore': '2', 'homeShots': '11'}, {'@number': '2', 'awayScore': '1', 'awayShots': '9', 'homeScore': '1', 'homeShots': '16'}, {'@number': '3', 'awayScore': '1', 'awayShots': '10', 'homeScore': '1', 'homeShots': '6'}]}}\n",
      " {'game': {'ID': '40817', 'scheduleStatus': 'Normal', 'originalDate': None, 'originalTime': None, 'delayedOrPostponedReason': None, 'date': '2017-10-10', 'time': '10:00PM', 'awayTeam': {'ID': '30', 'City': 'Arizona', 'Name': 'Coyotes', 'Abbreviation': 'ARI'}, 'homeTeam': {'ID': '142', 'City': 'Vegas', 'Name': 'Golden Knights', 'Abbreviation': 'VGK'}, 'location': 'T-Mobile Arena'}, 'isUnplayed': 'false', 'isInProgress': 'false', 'isCompleted': 'true', 'awayScore': '2', 'awayShots': '33', 'homeScore': '5', 'homeShots': '28', 'periodSummary': {'period': [{'@number': '1', 'awayScore': '1', 'awayShots': '7', 'homeScore': '4', 'homeShots': '9'}, {'@number': '2', 'awayScore': '0', 'awayShots': '8', 'homeScore': '1', 'homeShots': '14'}, {'@number': '3', 'awayScore': '1', 'awayShots': '18', 'homeScore': '0', 'homeShots': '5'}]}}\n",
      " {'game': {'ID': '40818', 'scheduleStatus': 'Normal', 'originalDate': None, 'originalTime': None, 'delayedOrPostponedReason': None, 'date': '2017-10-10', 'time': '10:00PM', 'awayTeam': {'ID': '13', 'City': 'Ottawa', 'Name': 'Senators', 'Abbreviation': 'OTT'}, 'homeTeam': {'ID': '21', 'City': 'Vancouver', 'Name': 'Canucks', 'Abbreviation': 'VAN'}, 'location': 'Rogers Arena'}, 'isUnplayed': 'false', 'isInProgress': 'false', 'isCompleted': 'true', 'awayScore': '3', 'awayShots': '42', 'homeScore': '2', 'homeShots': '28', 'periodSummary': {'period': [{'@number': '1', 'awayScore': '1', 'awayShots': '11', 'homeScore': '1', 'homeShots': '8'}, {'@number': '2', 'awayScore': '0', 'awayShots': '15', 'homeScore': '1', 'homeShots': '8'}, {'@number': '3', 'awayScore': '1', 'awayShots': '14', 'homeScore': '0', 'homeShots': '10'}, {'@number': '4', 'awayScore': '0', 'awayShots': '2', 'homeScore': '0', 'homeShots': '2'}, {'@number': '5', 'awayScore': '2', 'awayShots': '0', 'homeScore': '1', 'homeShots': '0'}]}}\n",
      " {'game': {'ID': '40805', 'scheduleStatus': 'Normal', 'originalDate': None, 'originalTime': None, 'delayedOrPostponedReason': None, 'date': '2017-10-09', 'time': '1:00PM', 'awayTeam': {'ID': '17', 'City': 'St. Louis', 'Name': 'Blues', 'Abbreviation': 'STL'}, 'homeTeam': {'ID': '8', 'City': 'New York', 'Name': 'Islanders', 'Abbreviation': 'NYI'}, 'location': 'Nassau Coliseum'}, 'isUnplayed': 'false', 'isInProgress': 'false', 'isCompleted': 'true', 'awayScore': '3', 'awayShots': '35', 'homeScore': '2', 'homeShots': '42', 'periodSummary': {'period': [{'@number': '1', 'awayScore': '0', 'awayShots': '11', 'homeScore': '0', 'homeShots': '8'}, {'@number': '2', 'awayScore': '2', 'awayShots': '10', 'homeScore': '0', 'homeShots': '15'}, {'@number': '3', 'awayScore': '0', 'awayShots': '10', 'homeScore': '2', 'homeShots': '16'}, {'@number': '4', 'awayScore': '0', 'awayShots': '4', 'homeScore': '0', 'homeShots': '3'}, {'@number': '5', 'awayScore': '2', 'awayShots': '0', 'homeScore': '0', 'homeShots': '0'}]}}\n",
      " {'game': {'ID': '40806', 'scheduleStatus': 'Normal', 'originalDate': None, 'originalTime': None, 'delayedOrPostponedReason': None, 'date': '2017-10-09', 'time': '1:00PM', 'awayTeam': {'ID': '22', 'City': 'Colorado', 'Name': 'Avalanche', 'Abbreviation': 'COL'}, 'homeTeam': {'ID': '11', 'City': 'Boston', 'Name': 'Bruins', 'Abbreviation': 'BOS'}, 'location': 'TD Garden'}, 'isUnplayed': 'false', 'isInProgress': 'false', 'isCompleted': 'true', 'awayScore': '4', 'awayShots': '23', 'homeScore': '0', 'homeShots': '29', 'periodSummary': {'period': [{'@number': '1', 'awayScore': '2', 'awayShots': '5', 'homeScore': '0', 'homeShots': '11'}, {'@number': '2', 'awayScore': '0', 'awayShots': '8', 'homeScore': '0', 'homeShots': '11'}, {'@number': '3', 'awayScore': '2', 'awayShots': '10', 'homeScore': '0', 'homeShots': '7'}]}}\n",
      " {'game': {'ID': '43339', 'scheduleStatus': 'Normal', 'originalDate': None, 'originalTime': None, 'delayedOrPostponedReason': None, 'date': '2017-10-09', 'time': '3:00PM', 'awayTeam': {'ID': '7', 'City': 'New Jersey', 'Name': 'Devils', 'Abbreviation': 'NJD'}, 'homeTeam': {'ID': '15', 'City': 'Buffalo', 'Name': 'Sabres', 'Abbreviation': 'BUF'}, 'location': 'KeyBank Center'}, 'isUnplayed': 'false', 'isInProgress': 'false', 'isCompleted': 'true', 'awayScore': '6', 'awayShots': '31', 'homeScore': '2', 'homeShots': '25', 'periodSummary': {'period': [{'@number': '1', 'awayScore': '2', 'awayShots': '8', 'homeScore': '0', 'homeShots': '6'}, {'@number': '2', 'awayScore': '4', 'awayShots': '14', 'homeScore': '1', 'homeShots': '11'}, {'@number': '3', 'awayScore': '0', 'awayShots': '9', 'homeScore': '1', 'homeShots': '8'}]}}\n",
      " {'game': {'ID': '40808', 'scheduleStatus': 'Normal', 'originalDate': None, 'originalTime': None, 'delayedOrPostponedReason': None, 'date': '2017-10-09', 'time': '7:00PM', 'awayTeam': {'ID': '20', 'City': 'Chicago', 'Name': 'Blackhawks', 'Abbreviation': 'CHI'}, 'homeTeam': {'ID': '12', 'City': 'Toronto', 'Name': 'Maple Leafs', 'Abbreviation': 'TOR'}, 'location': 'Air Canada Center'}, 'isUnplayed': 'false', 'isInProgress': 'false', 'isCompleted': 'true', 'awayScore': '3', 'awayShots': '21', 'homeScore': '4', 'homeShots': '43', 'periodSummary': {'period': [{'@number': '1', 'awayScore': '2', 'awayShots': '9', 'homeScore': '0', 'homeShots': '7'}, {'@number': '2', 'awayScore': '0', 'awayShots': '6', 'homeScore': '1', 'homeShots': '19'}, {'@number': '3', 'awayScore': '1', 'awayShots': '6', 'homeScore': '2', 'homeShots': '14'}, {'@number': '4', 'awayScore': '0', 'awayShots': '0', 'homeScore': '1', 'homeShots': '3'}]}}\n",
      " {'game': {'ID': '43340', 'scheduleStatus': 'Normal', 'originalDate': None, 'originalTime': None, 'delayedOrPostponedReason': None, 'date': '2017-10-09', 'time': '7:00PM', 'awayTeam': {'ID': '5', 'City': 'Washington', 'Name': 'Capitals', 'Abbreviation': 'WSH'}, 'homeTeam': {'ID': '1', 'City': 'Tampa Bay', 'Name': 'Lightning', 'Abbreviation': 'TBL'}, 'location': 'Amalie Arena'}, 'isUnplayed': 'false', 'isInProgress': 'false', 'isCompleted': 'true', 'awayScore': '3', 'awayShots': '26', 'homeScore': '4', 'homeShots': '40', 'periodSummary': {'period': [{'@number': '1', 'awayScore': '2', 'awayShots': '9', 'homeScore': '0', 'homeShots': '9'}, {'@number': '2', 'awayScore': '1', 'awayShots': '10', 'homeScore': '2', 'homeShots': '9'}, {'@number': '3', 'awayScore': '0', 'awayShots': '6', 'homeScore': '1', 'homeShots': '17'}, {'@number': '4', 'awayScore': '0', 'awayShots': '1', 'homeScore': '1', 'homeShots': '5'}]}}\n",
      " {'game': {'ID': '40810', 'scheduleStatus': 'Normal', 'originalDate': None, 'originalTime': None, 'delayedOrPostponedReason': None, 'date': '2017-10-09', 'time': '9:00PM', 'awayTeam': {'ID': '47', 'City': 'Winnipeg', 'Name': 'Jets', 'Abbreviation': 'WPJ'}, 'homeTeam': {'ID': '24', 'City': 'Edmonton', 'Name': 'Oilers', 'Abbreviation': 'EDM'}, 'location': 'Rogers Place'}, 'isUnplayed': 'false', 'isInProgress': 'false', 'isCompleted': 'true', 'awayScore': '5', 'awayShots': '43', 'homeScore': '2', 'homeShots': '38', 'periodSummary': {'period': [{'@number': '1', 'awayScore': '2', 'awayShots': '11', 'homeScore': '0', 'homeShots': '19'}, {'@number': '2', 'awayScore': '2', 'awayShots': '19', 'homeScore': '2', 'homeShots': '7'}, {'@number': '3', 'awayScore': '1', 'awayShots': '13', 'homeScore': '0', 'homeShots': '12'}]}}\n",
      " {'game': {'ID': '40811', 'scheduleStatus': 'Normal', 'originalDate': None, 'originalTime': None, 'delayedOrPostponedReason': None, 'date': '2017-10-09', 'time': '10:00PM', 'awayTeam': {'ID': '23', 'City': 'Calgary', 'Name': 'Flames', 'Abbreviation': 'CGY'}, 'homeTeam': {'ID': '29', 'City': 'Anaheim', 'Name': 'Ducks', 'Abbreviation': 'ANA'}, 'location': 'Honda Center'}, 'isUnplayed': 'false', 'isInProgress': 'false', 'isCompleted': 'true', 'awayScore': '2', 'awayShots': '29', 'homeScore': '0', 'homeShots': '43', 'periodSummary': {'period': [{'@number': '1', 'awayScore': '0', 'awayShots': '10', 'homeScore': '0', 'homeShots': '9'}, {'@number': '2', 'awayScore': '1', 'awayShots': '10', 'homeScore': '0', 'homeShots': '17'}, {'@number': '3', 'awayScore': '1', 'awayShots': '9', 'homeScore': '0', 'homeShots': '17'}]}}\n",
      " {'game': {'ID': '40804', 'scheduleStatus': 'Normal', 'originalDate': None, 'originalTime': None, 'delayedOrPostponedReason': None, 'date': '2017-10-08', 'time': '7:00PM', 'awayTeam': {'ID': '14', 'City': 'Montreal', 'Name': 'Canadiens', 'Abbreviation': 'MTL'}, 'homeTeam': {'ID': '9', 'City': 'New York', 'Name': 'Rangers', 'Abbreviation': 'NYR'}, 'location': 'Madison Square Garden'}, 'isUnplayed': 'false', 'isInProgress': 'false', 'isCompleted': 'true', 'awayScore': '0', 'awayShots': '34', 'homeScore': '2', 'homeShots': '25', 'periodSummary': {'period': [{'@number': '1', 'awayScore': '0', 'awayShots': '12', 'homeScore': '1', 'homeShots': '8'}, {'@number': '2', 'awayScore': '0', 'awayShots': '9', 'homeScore': '0', 'homeShots': '10'}, {'@number': '3', 'awayScore': '0', 'awayShots': '13', 'homeScore': '1', 'homeShots': '7'}]}}\n",
      " {'game': {'ID': '40789', 'scheduleStatus': 'Normal', 'originalDate': None, 'originalTime': None, 'delayedOrPostponedReason': None, 'date': '2017-10-07', 'time': '2:00PM', 'awayTeam': {'ID': '22', 'City': 'Colorado', 'Name': 'Avalanche', 'Abbreviation': 'COL'}, 'homeTeam': {'ID': '7', 'City': 'New Jersey', 'Name': 'Devils', 'Abbreviation': 'NJD'}, 'location': 'Prudential Center'}, 'isUnplayed': 'false', 'isInProgress': 'false', 'isCompleted': 'true', 'awayScore': '1', 'awayShots': '41', 'homeScore': '4', 'homeShots': '39', 'periodSummary': {'period': [{'@number': '1', 'awayScore': '0', 'awayShots': '10', 'homeScore': '1', 'homeShots': '17'}, {'@number': '2', 'awayScore': '1', 'awayShots': '15', 'homeScore': '2', 'homeShots': '8'}, {'@number': '3', 'awayScore': '0', 'awayShots': '16', 'homeScore': '1', 'homeShots': '14'}]}}\n",
      " {'game': {'ID': '40790', 'scheduleStatus': 'Normal', 'originalDate': None, 'originalTime': None, 'delayedOrPostponedReason': None, 'date': '2017-10-07', 'time': '7:00PM', 'awayTeam': {'ID': '14', 'City': 'Montreal', 'Name': 'Canadiens', 'Abbreviation': 'MTL'}, 'homeTeam': {'ID': '5', 'City': 'Washington', 'Name': 'Capitals', 'Abbreviation': 'WSH'}, 'location': 'Verizon Center'}, 'isUnplayed': 'false', 'isInProgress': 'false', 'isCompleted': 'true', 'awayScore': '1', 'awayShots': '39', 'homeScore': '6', 'homeShots': '23', 'periodSummary': {'period': [{'@number': '1', 'awayScore': '0', 'awayShots': '7', 'homeScore': '4', 'homeShots': '14'}, {'@number': '2', 'awayScore': '1', 'awayShots': '20', 'homeScore': '2', 'homeShots': '6'}, {'@number': '3', 'awayScore': '0', 'awayShots': '12', 'homeScore': '0', 'homeShots': '3'}]}}\n",
      " {'game': {'ID': '40791', 'scheduleStatus': 'Normal', 'originalDate': None, 'originalTime': None, 'delayedOrPostponedReason': None, 'date': '2017-10-07', 'time': '7:00PM', 'awayTeam': {'ID': '16', 'City': 'Detroit', 'Name': 'Red Wings', 'Abbreviation': 'DET'}, 'homeTeam': {'ID': '13', 'City': 'Ottawa', 'Name': 'Senators', 'Abbreviation': 'OTT'}, 'location': 'Canadian Tire Center'}, 'isUnplayed': 'false', 'isInProgress': 'false', 'isCompleted': 'true', 'awayScore': '2', 'awayShots': '30', 'homeScore': '1', 'homeShots': '38', 'periodSummary': {'period': [{'@number': '1', 'awayScore': '0', 'awayShots': '10', 'homeScore': '0', 'homeShots': '11'}, {'@number': '2', 'awayScore': '0', 'awayShots': '14', 'homeScore': '0', 'homeShots': '14'}, {'@number': '3', 'awayScore': '1', 'awayShots': '4', 'homeScore': '1', 'homeShots': '11'}, {'@number': '4', 'awayScore': '0', 'awayShots': '2', 'homeScore': '0', 'homeShots': '2'}, {'@number': '5', 'awayScore': '1', 'awayShots': '0', 'homeScore': '0', 'homeShots': '0'}]}}\n",
      " {'game': {'ID': '40792', 'scheduleStatus': 'Normal', 'originalDate': None, 'originalTime': None, 'delayedOrPostponedReason': None, 'date': '2017-10-07', 'time': '7:00PM', 'awayTeam': {'ID': '1', 'City': 'Tampa Bay', 'Name': 'Lightning', 'Abbreviation': 'TBL'}, 'homeTeam': {'ID': '4', 'City': 'Florida', 'Name': 'Panthers', 'Abbreviation': 'FLO'}, 'location': 'BB and T Center'}, 'isUnplayed': 'false', 'isInProgress': 'false', 'isCompleted': 'true', 'awayScore': '4', 'awayShots': '30', 'homeScore': '5', 'homeShots': '48', 'periodSummary': {'period': [{'@number': '1', 'awayScore': '2', 'awayShots': '8', 'homeScore': '1', 'homeShots': '24'}, {'@number': '2', 'awayScore': '1', 'awayShots': '7', 'homeScore': '1', 'homeShots': '16'}, {'@number': '3', 'awayScore': '1', 'awayShots': '15', 'homeScore': '3', 'homeShots': '8'}]}}\n",
      " {'game': {'ID': '40793', 'scheduleStatus': 'Normal', 'originalDate': None, 'originalTime': None, 'delayedOrPostponedReason': None, 'date': '2017-10-07', 'time': '7:00PM', 'awayTeam': {'ID': '15', 'City': 'Buffalo', 'Name': 'Sabres', 'Abbreviation': 'BUF'}, 'homeTeam': {'ID': '8', 'City': 'New York', 'Name': 'Islanders', 'Abbreviation': 'NYI'}, 'location': 'Nassau Coliseum'}, 'isUnplayed': 'false', 'isInProgress': 'false', 'isCompleted': 'true', 'awayScore': '3', 'awayShots': '29', 'homeScore': '6', 'homeShots': '33', 'periodSummary': {'period': [{'@number': '1', 'awayScore': '0', 'awayShots': '11', 'homeScore': '1', 'homeShots': '9'}, {'@number': '2', 'awayScore': '2', 'awayShots': '11', 'homeScore': '3', 'homeShots': '14'}, {'@number': '3', 'awayScore': '1', 'awayShots': '7', 'homeScore': '2', 'homeShots': '10'}]}}\n",
      " {'game': {'ID': '40794', 'scheduleStatus': 'Normal', 'originalDate': None, 'originalTime': None, 'delayedOrPostponedReason': None, 'date': '2017-10-07', 'time': '7:00PM', 'awayTeam': {'ID': '18', 'City': 'Nashville', 'Name': 'Predators', 'Abbreviation': 'NSH'}, 'homeTeam': {'ID': '10', 'City': 'Pittsburgh', 'Name': 'Penguins', 'Abbreviation': 'PIT'}, 'location': 'Consol Energy Center'}, 'isUnplayed': 'false', 'isInProgress': 'false', 'isCompleted': 'true', 'awayScore': '0', 'awayShots': '26', 'homeScore': '4', 'homeShots': '34', 'periodSummary': {'period': [{'@number': '1', 'awayScore': '0', 'awayShots': '7', 'homeScore': '2', 'homeShots': '11'}, {'@number': '2', 'awayScore': '0', 'awayShots': '9', 'homeScore': '1', 'homeShots': '9'}, {'@number': '3', 'awayScore': '0', 'awayShots': '10', 'homeScore': '1', 'homeShots': '14'}]}}\n",
      " {'game': {'ID': '40795', 'scheduleStatus': 'Normal', 'originalDate': None, 'originalTime': None, 'delayedOrPostponedReason': None, 'date': '2017-10-07', 'time': '7:00PM', 'awayTeam': {'ID': '25', 'City': 'Minnesota', 'Name': 'Wild', 'Abbreviation': 'MIN'}, 'homeTeam': {'ID': '3', 'City': 'Carolina', 'Name': 'Hurricanes', 'Abbreviation': 'CAR'}, 'location': 'PNC Arena'}, 'isUnplayed': 'false', 'isInProgress': 'false', 'isCompleted': 'true', 'awayScore': '4', 'awayShots': '27', 'homeScore': '5', 'homeShots': '42', 'periodSummary': {'period': [{'@number': '1', 'awayScore': '2', 'awayShots': '11', 'homeScore': '1', 'homeShots': '14'}, {'@number': '2', 'awayScore': '1', 'awayShots': '7', 'homeScore': '1', 'homeShots': '17'}, {'@number': '3', 'awayScore': '1', 'awayShots': '9', 'homeScore': '2', 'homeShots': '10'}, {'@number': '4', 'awayScore': '0', 'awayShots': '0', 'homeScore': '0', 'homeShots': '1'}, {'@number': '5', 'awayScore': '0', 'awayShots': '0', 'homeScore': '1', 'homeShots': '0'}]}}\n",
      " {'game': {'ID': '40796', 'scheduleStatus': 'Normal', 'originalDate': None, 'originalTime': None, 'delayedOrPostponedReason': None, 'date': '2017-10-07', 'time': '7:00PM', 'awayTeam': {'ID': '9', 'City': 'New York', 'Name': 'Rangers', 'Abbreviation': 'NYR'}, 'homeTeam': {'ID': '12', 'City': 'Toronto', 'Name': 'Maple Leafs', 'Abbreviation': 'TOR'}, 'location': 'Air Canada Center'}, 'isUnplayed': 'false', 'isInProgress': 'false', 'isCompleted': 'true', 'awayScore': '5', 'awayShots': '35', 'homeScore': '8', 'homeShots': '41', 'periodSummary': {'period': [{'@number': '1', 'awayScore': '2', 'awayShots': '12', 'homeScore': '5', 'homeShots': '17'}, {'@number': '2', 'awayScore': '3', 'awayShots': '15', 'homeScore': '0', 'homeShots': '11'}, {'@number': '3', 'awayScore': '0', 'awayShots': '8', 'homeScore': '3', 'homeShots': '13'}]}}\n",
      " {'game': {'ID': '40797', 'scheduleStatus': 'Normal', 'originalDate': None, 'originalTime': None, 'delayedOrPostponedReason': None, 'date': '2017-10-07', 'time': '8:00PM', 'awayTeam': {'ID': '27', 'City': 'Dallas', 'Name': 'Stars', 'Abbreviation': 'DAL'}, 'homeTeam': {'ID': '17', 'City': 'St. Louis', 'Name': 'Blues', 'Abbreviation': 'STL'}, 'location': 'Scottrade Center'}, 'isUnplayed': 'false', 'isInProgress': 'false', 'isCompleted': 'true', 'awayScore': '2', 'awayShots': '40', 'homeScore': '4', 'homeShots': '21', 'periodSummary': {'period': [{'@number': '1', 'awayScore': '0', 'awayShots': '12', 'homeScore': '3', 'homeShots': '9'}, {'@number': '2', 'awayScore': '0', 'awayShots': '16', 'homeScore': '0', 'homeShots': '8'}, {'@number': '3', 'awayScore': '2', 'awayShots': '12', 'homeScore': '1', 'homeShots': '4'}]}}\n",
      " {'game': {'ID': '40798', 'scheduleStatus': 'Normal', 'originalDate': None, 'originalTime': None, 'delayedOrPostponedReason': None, 'date': '2017-10-07', 'time': '8:30PM', 'awayTeam': {'ID': '19', 'City': 'Columbus', 'Name': 'Blue Jackets', 'Abbreviation': 'CBJ'}, 'homeTeam': {'ID': '20', 'City': 'Chicago', 'Name': 'Blackhawks', 'Abbreviation': 'CHI'}, 'location': 'United Center'}, 'isUnplayed': 'false', 'isInProgress': 'false', 'isCompleted': 'true', 'awayScore': '1', 'awayShots': '33', 'homeScore': '5', 'homeShots': '29', 'periodSummary': {'period': [{'@number': '1', 'awayScore': '0', 'awayShots': '9', 'homeScore': '2', 'homeShots': '11'}, {'@number': '2', 'awayScore': '1', 'awayShots': '16', 'homeScore': '2', 'homeShots': '11'}, {'@number': '3', 'awayScore': '0', 'awayShots': '8', 'homeScore': '1', 'homeShots': '7'}]}}\n",
      " {'game': {'ID': '40799', 'scheduleStatus': 'Normal', 'originalDate': None, 'originalTime': None, 'delayedOrPostponedReason': None, 'date': '2017-10-07', 'time': '9:00PM', 'awayTeam': {'ID': '142', 'City': 'Vegas', 'Name': 'Golden Knights', 'Abbreviation': 'VGK'}, 'homeTeam': {'ID': '30', 'City': 'Arizona', 'Name': 'Coyotes', 'Abbreviation': 'ARI'}, 'location': 'Gila River Arena'}, 'isUnplayed': 'false', 'isInProgress': 'false', 'isCompleted': 'true', 'awayScore': '2', 'awayShots': '42', 'homeScore': '1', 'homeShots': '28', 'periodSummary': {'period': [{'@number': '1', 'awayScore': '0', 'awayShots': '12', 'homeScore': '1', 'homeShots': '11'}, {'@number': '2', 'awayScore': '0', 'awayShots': '18', 'homeScore': '0', 'homeShots': '6'}, {'@number': '3', 'awayScore': '1', 'awayShots': '10', 'homeScore': '0', 'homeShots': '9'}, {'@number': '4', 'awayScore': '1', 'awayShots': '2', 'homeScore': '0', 'homeShots': '2'}]}}\n",
      " {'game': {'ID': '40800', 'scheduleStatus': 'Normal', 'originalDate': None, 'originalTime': None, 'delayedOrPostponedReason': None, 'date': '2017-10-07', 'time': '10:00PM', 'awayTeam': {'ID': '47', 'City': 'Winnipeg', 'Name': 'Jets', 'Abbreviation': 'WPJ'}, 'homeTeam': {'ID': '23', 'City': 'Calgary', 'Name': 'Flames', 'Abbreviation': 'CGY'}, 'location': 'Scotiabank Saddledome'}, 'isUnplayed': 'false', 'isInProgress': 'false', 'isCompleted': 'true', 'awayScore': '3', 'awayShots': '28', 'homeScore': '6', 'homeShots': '45', 'periodSummary': {'period': [{'@number': '1', 'awayScore': '3', 'awayShots': '11', 'homeScore': '1', 'homeShots': '15'}, {'@number': '2', 'awayScore': '0', 'awayShots': '12', 'homeScore': '4', 'homeShots': '13'}, {'@number': '3', 'awayScore': '0', 'awayShots': '5', 'homeScore': '1', 'homeShots': '17'}]}}\n",
      " {'game': {'ID': '40801', 'scheduleStatus': 'Normal', 'originalDate': None, 'originalTime': None, 'delayedOrPostponedReason': None, 'date': '2017-10-07', 'time': '10:00PM', 'awayTeam': {'ID': '24', 'City': 'Edmonton', 'Name': 'Oilers', 'Abbreviation': 'EDM'}, 'homeTeam': {'ID': '21', 'City': 'Vancouver', 'Name': 'Canucks', 'Abbreviation': 'VAN'}, 'location': 'Rogers Arena'}, 'isUnplayed': 'false', 'isInProgress': 'false', 'isCompleted': 'true', 'awayScore': '2', 'awayShots': '35', 'homeScore': '3', 'homeShots': '26', 'periodSummary': {'period': [{'@number': '1', 'awayScore': '1', 'awayShots': '13', 'homeScore': '2', 'homeShots': '6'}, {'@number': '2', 'awayScore': '0', 'awayShots': '8', 'homeScore': '1', 'homeShots': '12'}, {'@number': '3', 'awayScore': '1', 'awayShots': '14', 'homeScore': '0', 'homeShots': '8'}]}}\n",
      " {'game': {'ID': '40802', 'scheduleStatus': 'Normal', 'originalDate': None, 'originalTime': None, 'delayedOrPostponedReason': None, 'date': '2017-10-07', 'time': '10:00PM', 'awayTeam': {'ID': '6', 'City': 'Philadelphia', 'Name': 'Flyers', 'Abbreviation': 'PHI'}, 'homeTeam': {'ID': '29', 'City': 'Anaheim', 'Name': 'Ducks', 'Abbreviation': 'ANA'}, 'location': 'Honda Center'}, 'isUnplayed': 'false', 'isInProgress': 'false', 'isCompleted': 'true', 'awayScore': '3', 'awayShots': '37', 'homeScore': '2', 'homeShots': '23', 'periodSummary': {'period': [{'@number': '1', 'awayScore': '1', 'awayShots': '15', 'homeScore': '1', 'homeShots': '13'}, {'@number': '2', 'awayScore': '1', 'awayShots': '6', 'homeScore': '0', 'homeShots': '6'}, {'@number': '3', 'awayScore': '0', 'awayShots': '15', 'homeScore': '1', 'homeShots': '4'}, {'@number': '4', 'awayScore': '1', 'awayShots': '1', 'homeScore': '0', 'homeShots': '0'}]}}\n",
      " {'game': {'ID': '40803', 'scheduleStatus': 'Normal', 'originalDate': None, 'originalTime': None, 'delayedOrPostponedReason': None, 'date': '2017-10-07', 'time': '10:30PM', 'awayTeam': {'ID': '28', 'City': 'Los Angeles', 'Name': 'Kings', 'Abbreviation': 'LAK'}, 'homeTeam': {'ID': '26', 'City': 'San Jose', 'Name': 'Sharks', 'Abbreviation': 'SJS'}, 'location': 'SAP Center at San Jose'}, 'isUnplayed': 'false', 'isInProgress': 'false', 'isCompleted': 'true', 'awayScore': '4', 'awayShots': '38', 'homeScore': '1', 'homeShots': '25', 'periodSummary': {'period': [{'@number': '1', 'awayScore': '2', 'awayShots': '17', 'homeScore': '1', 'homeShots': '6'}, {'@number': '2', 'awayScore': '2', 'awayShots': '14', 'homeScore': '0', 'homeShots': '12'}, {'@number': '3', 'awayScore': '0', 'awayShots': '7', 'homeScore': '0', 'homeShots': '7'}]}}\n",
      " {'game': {'ID': '40786', 'scheduleStatus': 'Normal', 'originalDate': None, 'originalTime': None, 'delayedOrPostponedReason': None, 'date': '2017-10-06', 'time': '7:00PM', 'awayTeam': {'ID': '8', 'City': 'New York', 'Name': 'Islanders', 'Abbreviation': 'NYI'}, 'homeTeam': {'ID': '19', 'City': 'Columbus', 'Name': 'Blue Jackets', 'Abbreviation': 'CBJ'}, 'location': 'Nationwide Arena'}, 'isUnplayed': 'false', 'isInProgress': 'false', 'isCompleted': 'true', 'awayScore': '0', 'awayShots': '29', 'homeScore': '5', 'homeShots': '37', 'periodSummary': {'period': [{'@number': '1', 'awayScore': '0', 'awayShots': '8', 'homeScore': '2', 'homeShots': '14'}, {'@number': '2', 'awayScore': '0', 'awayShots': '10', 'homeScore': '3', 'homeShots': '17'}, {'@number': '3', 'awayScore': '0', 'awayShots': '11', 'homeScore': '0', 'homeShots': '6'}]}}\n",
      " {'game': {'ID': '40787', 'scheduleStatus': 'Normal', 'originalDate': None, 'originalTime': None, 'delayedOrPostponedReason': None, 'date': '2017-10-06', 'time': '7:30PM', 'awayTeam': {'ID': '4', 'City': 'Florida', 'Name': 'Panthers', 'Abbreviation': 'FLO'}, 'homeTeam': {'ID': '1', 'City': 'Tampa Bay', 'Name': 'Lightning', 'Abbreviation': 'TBL'}, 'location': 'Amalie Arena'}, 'isUnplayed': 'false', 'isInProgress': 'false', 'isCompleted': 'true', 'awayScore': '3', 'awayShots': '36', 'homeScore': '5', 'homeShots': '25', 'periodSummary': {'period': [{'@number': '1', 'awayScore': '0', 'awayShots': '10', 'homeScore': '1', 'homeShots': '6'}, {'@number': '2', 'awayScore': '2', 'awayShots': '12', 'homeScore': '1', 'homeShots': '11'}, {'@number': '3', 'awayScore': '1', 'awayShots': '14', 'homeScore': '3', 'homeShots': '8'}]}}\n",
      " {'game': {'ID': '43338', 'scheduleStatus': 'Normal', 'originalDate': None, 'originalTime': None, 'delayedOrPostponedReason': None, 'date': '2017-10-06', 'time': '8:30PM', 'awayTeam': {'ID': '142', 'City': 'Vegas', 'Name': 'Golden Knights', 'Abbreviation': 'VGK'}, 'homeTeam': {'ID': '27', 'City': 'Dallas', 'Name': 'Stars', 'Abbreviation': 'DAL'}, 'location': 'American Airlines Center'}, 'isUnplayed': 'false', 'isInProgress': 'false', 'isCompleted': 'true', 'awayScore': '2', 'awayShots': '30', 'homeScore': '1', 'homeShots': '46', 'periodSummary': {'period': [{'@number': '1', 'awayScore': '0', 'awayShots': '10', 'homeScore': '0', 'homeShots': '14'}, {'@number': '2', 'awayScore': '0', 'awayShots': '8', 'homeScore': '1', 'homeShots': '21'}, {'@number': '3', 'awayScore': '2', 'awayShots': '12', 'homeScore': '0', 'homeShots': '11'}]}}\n",
      " {'game': {'ID': '40778', 'scheduleStatus': 'Normal', 'originalDate': None, 'originalTime': None, 'delayedOrPostponedReason': None, 'date': '2017-10-05', 'time': '7:00PM', 'awayTeam': {'ID': '18', 'City': 'Nashville', 'Name': 'Predators', 'Abbreviation': 'NSH'}, 'homeTeam': {'ID': '11', 'City': 'Boston', 'Name': 'Bruins', 'Abbreviation': 'BOS'}, 'location': 'TD Garden'}, 'isUnplayed': 'false', 'isInProgress': 'false', 'isCompleted': 'true', 'awayScore': '3', 'awayShots': '29', 'homeScore': '4', 'homeShots': '32', 'periodSummary': {'period': [{'@number': '1', 'awayScore': '1', 'awayShots': '8', 'homeScore': '1', 'homeShots': '12'}, {'@number': '2', 'awayScore': '0', 'awayShots': '8', 'homeScore': '2', 'homeShots': '12'}, {'@number': '3', 'awayScore': '2', 'awayShots': '13', 'homeScore': '1', 'homeShots': '8'}]}}\n",
      " {'game': {'ID': '40779', 'scheduleStatus': 'Normal', 'originalDate': None, 'originalTime': None, 'delayedOrPostponedReason': None, 'date': '2017-10-05', 'time': '7:00PM', 'awayTeam': {'ID': '22', 'City': 'Colorado', 'Name': 'Avalanche', 'Abbreviation': 'COL'}, 'homeTeam': {'ID': '9', 'City': 'New York', 'Name': 'Rangers', 'Abbreviation': 'NYR'}, 'location': 'Madison Square Garden'}, 'isUnplayed': 'false', 'isInProgress': 'false', 'isCompleted': 'true', 'awayScore': '4', 'awayShots': '26', 'homeScore': '2', 'homeShots': '39', 'periodSummary': {'period': [{'@number': '1', 'awayScore': '2', 'awayShots': '7', 'homeScore': '2', 'homeShots': '14'}, {'@number': '2', 'awayScore': '1', 'awayShots': '12', 'homeScore': '0', 'homeShots': '11'}, {'@number': '3', 'awayScore': '1', 'awayShots': '7', 'homeScore': '0', 'homeShots': '14'}]}}\n",
      " {'game': {'ID': '40780', 'scheduleStatus': 'Normal', 'originalDate': None, 'originalTime': None, 'delayedOrPostponedReason': None, 'date': '2017-10-05', 'time': '7:00PM', 'awayTeam': {'ID': '14', 'City': 'Montreal', 'Name': 'Canadiens', 'Abbreviation': 'MTL'}, 'homeTeam': {'ID': '15', 'City': 'Buffalo', 'Name': 'Sabres', 'Abbreviation': 'BUF'}, 'location': 'KeyBank Center'}, 'isUnplayed': 'false', 'isInProgress': 'false', 'isCompleted': 'true', 'awayScore': '3', 'awayShots': '40', 'homeScore': '2', 'homeShots': '45', 'periodSummary': {'period': [{'@number': '1', 'awayScore': '1', 'awayShots': '17', 'homeScore': '1', 'homeShots': '11'}, {'@number': '2', 'awayScore': '0', 'awayShots': '10', 'homeScore': '1', 'homeShots': '18'}, {'@number': '3', 'awayScore': '1', 'awayShots': '10', 'homeScore': '0', 'homeShots': '12'}, {'@number': '4', 'awayScore': '0', 'awayShots': '3', 'homeScore': '0', 'homeShots': '4'}, {'@number': '5', 'awayScore': '1', 'awayShots': '0', 'homeScore': '0', 'homeShots': '0'}]}}\n",
      " {'game': {'ID': '40781', 'scheduleStatus': 'Normal', 'originalDate': None, 'originalTime': None, 'delayedOrPostponedReason': None, 'date': '2017-10-05', 'time': '7:30PM', 'awayTeam': {'ID': '25', 'City': 'Minnesota', 'Name': 'Wild', 'Abbreviation': 'MIN'}, 'homeTeam': {'ID': '16', 'City': 'Detroit', 'Name': 'Red Wings', 'Abbreviation': 'DET'}, 'location': 'Joe Louis Arena'}, 'isUnplayed': 'false', 'isInProgress': 'false', 'isCompleted': 'true', 'awayScore': '2', 'awayShots': '39', 'homeScore': '4', 'homeShots': '31', 'periodSummary': {'period': [{'@number': '1', 'awayScore': '0', 'awayShots': '15', 'homeScore': '0', 'homeShots': '13'}, {'@number': '2', 'awayScore': '0', 'awayShots': '11', 'homeScore': '2', 'homeShots': '10'}, {'@number': '3', 'awayScore': '2', 'awayShots': '13', 'homeScore': '2', 'homeShots': '8'}]}}\n",
      " {'game': {'ID': '40782', 'scheduleStatus': 'Normal', 'originalDate': None, 'originalTime': None, 'delayedOrPostponedReason': None, 'date': '2017-10-05', 'time': '7:30PM', 'awayTeam': {'ID': '5', 'City': 'Washington', 'Name': 'Capitals', 'Abbreviation': 'WSH'}, 'homeTeam': {'ID': '13', 'City': 'Ottawa', 'Name': 'Senators', 'Abbreviation': 'OTT'}, 'location': 'Canadian Tire Center'}, 'isUnplayed': 'false', 'isInProgress': 'false', 'isCompleted': 'true', 'awayScore': '5', 'awayShots': '28', 'homeScore': '4', 'homeShots': '32', 'periodSummary': {'period': [{'@number': '1', 'awayScore': '1', 'awayShots': '6', 'homeScore': '1', 'homeShots': '5'}, {'@number': '2', 'awayScore': '0', 'awayShots': '12', 'homeScore': '1', 'homeShots': '11'}, {'@number': '3', 'awayScore': '3', 'awayShots': '7', 'homeScore': '2', 'homeShots': '10'}, {'@number': '4', 'awayScore': '0', 'awayShots': '3', 'homeScore': '0', 'homeShots': '6'}, {'@number': '5', 'awayScore': '2', 'awayShots': '0', 'homeScore': '1', 'homeShots': '0'}]}}\n",
      " {'game': {'ID': '40783', 'scheduleStatus': 'Normal', 'originalDate': None, 'originalTime': None, 'delayedOrPostponedReason': None, 'date': '2017-10-05', 'time': '8:30PM', 'awayTeam': {'ID': '10', 'City': 'Pittsburgh', 'Name': 'Penguins', 'Abbreviation': 'PIT'}, 'homeTeam': {'ID': '20', 'City': 'Chicago', 'Name': 'Blackhawks', 'Abbreviation': 'CHI'}, 'location': 'United Center'}, 'isUnplayed': 'false', 'isInProgress': 'false', 'isCompleted': 'true', 'awayScore': '1', 'awayShots': '29', 'homeScore': '10', 'homeShots': '44', 'periodSummary': {'period': [{'@number': '1', 'awayScore': '0', 'awayShots': '12', 'homeScore': '5', 'homeShots': '21'}, {'@number': '2', 'awayScore': '1', 'awayShots': '14', 'homeScore': '3', 'homeShots': '14'}, {'@number': '3', 'awayScore': '0', 'awayShots': '3', 'homeScore': '2', 'homeShots': '9'}]}}\n",
      " {'game': {'ID': '40784', 'scheduleStatus': 'Normal', 'originalDate': None, 'originalTime': None, 'delayedOrPostponedReason': None, 'date': '2017-10-05', 'time': '10:00PM', 'awayTeam': {'ID': '30', 'City': 'Arizona', 'Name': 'Coyotes', 'Abbreviation': 'ARI'}, 'homeTeam': {'ID': '29', 'City': 'Anaheim', 'Name': 'Ducks', 'Abbreviation': 'ANA'}, 'location': 'Honda Center'}, 'isUnplayed': 'false', 'isInProgress': 'false', 'isCompleted': 'true', 'awayScore': '4', 'awayShots': '30', 'homeScore': '5', 'homeShots': '41', 'periodSummary': {'period': [{'@number': '1', 'awayScore': '2', 'awayShots': '10', 'homeScore': '1', 'homeShots': '9'}, {'@number': '2', 'awayScore': '2', 'awayShots': '15', 'homeScore': '2', 'homeShots': '18'}, {'@number': '3', 'awayScore': '0', 'awayShots': '5', 'homeScore': '2', 'homeShots': '14'}]}}\n",
      " {'game': {'ID': '40785', 'scheduleStatus': 'Normal', 'originalDate': None, 'originalTime': None, 'delayedOrPostponedReason': None, 'date': '2017-10-05', 'time': '10:00PM', 'awayTeam': {'ID': '6', 'City': 'Philadelphia', 'Name': 'Flyers', 'Abbreviation': 'PHI'}, 'homeTeam': {'ID': '28', 'City': 'Los Angeles', 'Name': 'Kings', 'Abbreviation': 'LAK'}, 'location': 'Staples Center'}, 'isUnplayed': 'false', 'isInProgress': 'false', 'isCompleted': 'true', 'awayScore': '0', 'awayShots': '35', 'homeScore': '2', 'homeShots': '27', 'periodSummary': {'period': [{'@number': '1', 'awayScore': '0', 'awayShots': '10', 'homeScore': '0', 'homeShots': '9'}, {'@number': '2', 'awayScore': '0', 'awayShots': '8', 'homeScore': '1', 'homeShots': '13'}, {'@number': '3', 'awayScore': '0', 'awayShots': '17', 'homeScore': '1', 'homeShots': '5'}]}}\n",
      " {'game': {'ID': '40774', 'scheduleStatus': 'Normal', 'originalDate': None, 'originalTime': None, 'delayedOrPostponedReason': None, 'date': '2017-10-04', 'time': '7:00PM', 'awayTeam': {'ID': '12', 'City': 'Toronto', 'Name': 'Maple Leafs', 'Abbreviation': 'TOR'}, 'homeTeam': {'ID': '47', 'City': 'Winnipeg', 'Name': 'Jets', 'Abbreviation': 'WPJ'}, 'location': 'Bell MTS Place'}, 'isUnplayed': 'false', 'isInProgress': 'false', 'isCompleted': 'true', 'awayScore': '7', 'awayShots': '31', 'homeScore': '2', 'homeShots': '37', 'periodSummary': {'period': [{'@number': '1', 'awayScore': '3', 'awayShots': '11', 'homeScore': '0', 'homeShots': '17'}, {'@number': '2', 'awayScore': '1', 'awayShots': '8', 'homeScore': '0', 'homeShots': '10'}, {'@number': '3', 'awayScore': '3', 'awayShots': '12', 'homeScore': '2', 'homeShots': '10'}]}}\n",
      " {'game': {'ID': '40775', 'scheduleStatus': 'Normal', 'originalDate': None, 'originalTime': None, 'delayedOrPostponedReason': None, 'date': '2017-10-04', 'time': '8:00PM', 'awayTeam': {'ID': '17', 'City': 'St. Louis', 'Name': 'Blues', 'Abbreviation': 'STL'}, 'homeTeam': {'ID': '10', 'City': 'Pittsburgh', 'Name': 'Penguins', 'Abbreviation': 'PIT'}, 'location': 'Consol Energy Center'}, 'isUnplayed': 'false', 'isInProgress': 'false', 'isCompleted': 'true', 'awayScore': '5', 'awayShots': '34', 'homeScore': '4', 'homeShots': '33', 'periodSummary': {'period': [{'@number': '1', 'awayScore': '2', 'awayShots': '12', 'homeScore': '1', 'homeShots': '12'}, {'@number': '2', 'awayScore': '1', 'awayShots': '13', 'homeScore': '1', 'homeShots': '10'}, {'@number': '3', 'awayScore': '1', 'awayShots': '8', 'homeScore': '2', 'homeShots': '11'}, {'@number': '4', 'awayScore': '1', 'awayShots': '1', 'homeScore': '0', 'homeShots': '0'}]}}\n",
      " {'game': {'ID': '40776', 'scheduleStatus': 'Normal', 'originalDate': None, 'originalTime': None, 'delayedOrPostponedReason': None, 'date': '2017-10-04', 'time': '10:00PM', 'awayTeam': {'ID': '23', 'City': 'Calgary', 'Name': 'Flames', 'Abbreviation': 'CGY'}, 'homeTeam': {'ID': '24', 'City': 'Edmonton', 'Name': 'Oilers', 'Abbreviation': 'EDM'}, 'location': 'Rogers Place'}, 'isUnplayed': 'false', 'isInProgress': 'false', 'isCompleted': 'true', 'awayScore': '0', 'awayShots': '26', 'homeScore': '3', 'homeShots': '45', 'periodSummary': {'period': [{'@number': '1', 'awayScore': '0', 'awayShots': '12', 'homeScore': '1', 'homeShots': '16'}, {'@number': '2', 'awayScore': '0', 'awayShots': '9', 'homeScore': '0', 'homeShots': '13'}, {'@number': '3', 'awayScore': '0', 'awayShots': '5', 'homeScore': '2', 'homeShots': '16'}]}}\n",
      " {'game': {'ID': '40777', 'scheduleStatus': 'Normal', 'originalDate': None, 'originalTime': None, 'delayedOrPostponedReason': None, 'date': '2017-10-04', 'time': '10:30PM', 'awayTeam': {'ID': '6', 'City': 'Philadelphia', 'Name': 'Flyers', 'Abbreviation': 'PHI'}, 'homeTeam': {'ID': '26', 'City': 'San Jose', 'Name': 'Sharks', 'Abbreviation': 'SJS'}, 'location': 'SAP Center at San Jose'}, 'isUnplayed': 'false', 'isInProgress': 'false', 'isCompleted': 'true', 'awayScore': '5', 'awayShots': '31', 'homeScore': '3', 'homeShots': '35', 'periodSummary': {'period': [{'@number': '1', 'awayScore': '2', 'awayShots': '8', 'homeScore': '2', 'homeShots': '11'}, {'@number': '2', 'awayScore': '1', 'awayShots': '6', 'homeScore': '0', 'homeShots': '13'}, {'@number': '3', 'awayScore': '2', 'awayShots': '17', 'homeScore': '1', 'homeShots': '11'}]}}]\n"
     ]
    }
   ],
   "source": [
    "print(game_data_list)"
   ]
  },
  {
   "cell_type": "code",
   "execution_count": 497,
   "metadata": {
    "collapsed": true
   },
   "outputs": [
    {
     "name": "stderr",
     "output_type": "stream",
     "text": [
      "/Users/Jussi/vens/tf/lib/python3.6/site-packages/pandas/core/indexing.py:601: SettingWithCopyWarning: \n",
      "A value is trying to be set on a copy of a slice from a DataFrame.\n",
      "Try using .loc[row_indexer,col_indexer] = value instead\n",
      "\n",
      "See the caveats in the documentation: http://pandas.pydata.org/pandas-docs/stable/indexing.html#indexing-view-versus-copy\n",
      "  self.obj[item_labels[indexer[info_axis]]] = value\n",
      "/Users/Jussi/vens/tf/lib/python3.6/site-packages/pandas/core/indexing.py:517: SettingWithCopyWarning: \n",
      "A value is trying to be set on a copy of a slice from a DataFrame.\n",
      "Try using .loc[row_indexer,col_indexer] = value instead\n",
      "\n",
      "See the caveats in the documentation: http://pandas.pydata.org/pandas-docs/stable/indexing.html#indexing-view-versus-copy\n",
      "  self.obj[item] = s\n"
     ]
    }
   ],
   "source": [
    "val = df['winner']\n",
    "df = df.drop('winner', axis=1)\n",
    "\n",
    "X_train, X_test, y_train, y_test = tts(df, val, train_size=0.75, test_size=0.25, random_state=42)\n",
    "\n",
    "X_test.loc[:, 'away_score'] = -1\n",
    "X_test.loc[:, 'home_score'] = -1\n",
    "X_test.loc[:, 'away_shots'] = -1\n",
    "X_test.loc[:, 'home_shots'] = -1"
   ]
  },
  {
   "cell_type": "code",
   "execution_count": 457,
   "metadata": {
    "collapsed": true
   },
   "outputs": [
    {
     "name": "stdout",
     "output_type": "stream",
     "text": [
      "Warning: xgboost.XGBClassifier is not available and will not be used by TPOT.\n"
     ]
    },
    {
     "name": "stderr",
     "output_type": "stream",
     "text": [
      "Optimization Progress:   6%|▋         | 60/930 [00:15<06:42,  2.16pipeline/s]"
     ]
    },
    {
     "name": "stdout",
     "output_type": "stream",
     "text": [
      "Generation 1 - Current best internal CV score: 1.0\n"
     ]
    },
    {
     "name": "stderr",
     "output_type": "stream",
     "text": [
      "Optimization Progress:  10%|▉         | 90/930 [00:30<10:20,  1.35pipeline/s]"
     ]
    },
    {
     "name": "stdout",
     "output_type": "stream",
     "text": [
      "Generation 2 - Current best internal CV score: 1.0\n"
     ]
    },
    {
     "name": "stderr",
     "output_type": "stream",
     "text": [
      "Optimization Progress:  13%|█▎        | 120/930 [00:44<08:34,  1.58pipeline/s]"
     ]
    },
    {
     "name": "stdout",
     "output_type": "stream",
     "text": [
      "Generation 3 - Current best internal CV score: 1.0\n"
     ]
    },
    {
     "name": "stderr",
     "output_type": "stream",
     "text": [
      "Optimization Progress:  16%|█▌        | 150/930 [00:57<10:50,  1.20pipeline/s]"
     ]
    },
    {
     "name": "stdout",
     "output_type": "stream",
     "text": [
      "Generation 4 - Current best internal CV score: 1.0\n"
     ]
    },
    {
     "name": "stderr",
     "output_type": "stream",
     "text": [
      "Optimization Progress:  19%|█▉        | 180/930 [01:13<08:05,  1.55pipeline/s]"
     ]
    },
    {
     "name": "stdout",
     "output_type": "stream",
     "text": [
      "Generation 5 - Current best internal CV score: 1.0\n"
     ]
    },
    {
     "name": "stderr",
     "output_type": "stream",
     "text": [
      "Optimization Progress:  23%|██▎       | 210/930 [01:28<08:25,  1.43pipeline/s]"
     ]
    },
    {
     "name": "stdout",
     "output_type": "stream",
     "text": [
      "Generation 6 - Current best internal CV score: 1.0\n"
     ]
    },
    {
     "name": "stderr",
     "output_type": "stream",
     "text": [
      "Optimization Progress:  26%|██▌       | 240/930 [01:33<03:04,  3.75pipeline/s]"
     ]
    },
    {
     "name": "stdout",
     "output_type": "stream",
     "text": [
      "Generation 7 - Current best internal CV score: 1.0\n"
     ]
    },
    {
     "name": "stderr",
     "output_type": "stream",
     "text": [
      "Optimization Progress:  29%|██▉       | 270/930 [01:36<01:18,  8.35pipeline/s]"
     ]
    },
    {
     "name": "stdout",
     "output_type": "stream",
     "text": [
      "Generation 8 - Current best internal CV score: 1.0\n"
     ]
    },
    {
     "name": "stderr",
     "output_type": "stream",
     "text": [
      "Optimization Progress:  32%|███▏      | 300/930 [01:42<01:48,  5.81pipeline/s]"
     ]
    },
    {
     "name": "stdout",
     "output_type": "stream",
     "text": [
      "Generation 9 - Current best internal CV score: 1.0\n"
     ]
    },
    {
     "name": "stderr",
     "output_type": "stream",
     "text": [
      "Optimization Progress:  35%|███▌      | 330/930 [01:44<01:06,  9.01pipeline/s]"
     ]
    },
    {
     "name": "stdout",
     "output_type": "stream",
     "text": [
      "Generation 10 - Current best internal CV score: 1.0\n"
     ]
    },
    {
     "name": "stderr",
     "output_type": "stream",
     "text": [
      "Optimization Progress:  39%|███▊      | 360/930 [01:48<01:38,  5.76pipeline/s]"
     ]
    },
    {
     "name": "stdout",
     "output_type": "stream",
     "text": [
      "Generation 11 - Current best internal CV score: 1.0\n"
     ]
    },
    {
     "name": "stderr",
     "output_type": "stream",
     "text": [
      "Optimization Progress:  42%|████▏     | 390/930 [01:52<00:53, 10.17pipeline/s]"
     ]
    },
    {
     "name": "stdout",
     "output_type": "stream",
     "text": [
      "Generation 12 - Current best internal CV score: 1.0\n"
     ]
    },
    {
     "name": "stderr",
     "output_type": "stream",
     "text": [
      "Optimization Progress:  45%|████▌     | 420/930 [01:55<00:47, 10.82pipeline/s]"
     ]
    },
    {
     "name": "stdout",
     "output_type": "stream",
     "text": [
      "Generation 13 - Current best internal CV score: 1.0\n"
     ]
    },
    {
     "name": "stderr",
     "output_type": "stream",
     "text": [
      "Optimization Progress:  48%|████▊     | 450/930 [01:59<01:13,  6.55pipeline/s]"
     ]
    },
    {
     "name": "stdout",
     "output_type": "stream",
     "text": [
      "Generation 14 - Current best internal CV score: 1.0\n"
     ]
    },
    {
     "name": "stderr",
     "output_type": "stream",
     "text": [
      "Optimization Progress:  52%|█████▏    | 480/930 [02:07<01:41,  4.43pipeline/s]"
     ]
    },
    {
     "name": "stdout",
     "output_type": "stream",
     "text": [
      "Generation 15 - Current best internal CV score: 1.0\n"
     ]
    },
    {
     "name": "stderr",
     "output_type": "stream",
     "text": [
      "Optimization Progress:  55%|█████▍    | 510/930 [02:11<00:59,  7.07pipeline/s]"
     ]
    },
    {
     "name": "stdout",
     "output_type": "stream",
     "text": [
      "Generation 16 - Current best internal CV score: 1.0\n"
     ]
    },
    {
     "name": "stderr",
     "output_type": "stream",
     "text": [
      "Optimization Progress:  58%|█████▊    | 540/930 [02:14<00:39, 10.00pipeline/s]"
     ]
    },
    {
     "name": "stdout",
     "output_type": "stream",
     "text": [
      "Generation 17 - Current best internal CV score: 1.0\n"
     ]
    },
    {
     "name": "stderr",
     "output_type": "stream",
     "text": [
      "Optimization Progress:  61%|██████▏   | 570/930 [02:19<01:00,  5.96pipeline/s]"
     ]
    },
    {
     "name": "stdout",
     "output_type": "stream",
     "text": [
      "Generation 18 - Current best internal CV score: 1.0\n"
     ]
    },
    {
     "name": "stderr",
     "output_type": "stream",
     "text": [
      "Optimization Progress:  65%|██████▍   | 600/930 [02:23<00:46,  7.02pipeline/s]"
     ]
    },
    {
     "name": "stdout",
     "output_type": "stream",
     "text": [
      "Generation 19 - Current best internal CV score: 1.0\n"
     ]
    },
    {
     "name": "stderr",
     "output_type": "stream",
     "text": [
      "Optimization Progress:  68%|██████▊   | 630/930 [02:27<00:38,  7.86pipeline/s]"
     ]
    },
    {
     "name": "stdout",
     "output_type": "stream",
     "text": [
      "Generation 20 - Current best internal CV score: 1.0\n"
     ]
    },
    {
     "name": "stderr",
     "output_type": "stream",
     "text": [
      "Optimization Progress:  71%|███████   | 660/930 [02:31<00:56,  4.78pipeline/s]"
     ]
    },
    {
     "name": "stdout",
     "output_type": "stream",
     "text": [
      "Generation 21 - Current best internal CV score: 1.0\n"
     ]
    },
    {
     "name": "stderr",
     "output_type": "stream",
     "text": [
      "Optimization Progress:  74%|███████▍  | 690/930 [02:34<00:27,  8.85pipeline/s]"
     ]
    },
    {
     "name": "stdout",
     "output_type": "stream",
     "text": [
      "Generation 22 - Current best internal CV score: 1.0\n"
     ]
    },
    {
     "name": "stderr",
     "output_type": "stream",
     "text": [
      "Optimization Progress:  77%|███████▋  | 720/930 [02:37<00:23,  8.91pipeline/s]"
     ]
    },
    {
     "name": "stdout",
     "output_type": "stream",
     "text": [
      "Generation 23 - Current best internal CV score: 1.0\n"
     ]
    },
    {
     "name": "stderr",
     "output_type": "stream",
     "text": [
      "Optimization Progress:  81%|████████  | 750/930 [02:41<00:22,  8.03pipeline/s]"
     ]
    },
    {
     "name": "stdout",
     "output_type": "stream",
     "text": [
      "Generation 24 - Current best internal CV score: 1.0\n"
     ]
    },
    {
     "name": "stderr",
     "output_type": "stream",
     "text": [
      "Optimization Progress:  84%|████████▍ | 780/930 [02:47<00:30,  4.89pipeline/s]"
     ]
    },
    {
     "name": "stdout",
     "output_type": "stream",
     "text": [
      "Generation 25 - Current best internal CV score: 1.0\n"
     ]
    },
    {
     "name": "stderr",
     "output_type": "stream",
     "text": [
      "Optimization Progress:  87%|████████▋ | 810/930 [02:54<00:24,  4.84pipeline/s]"
     ]
    },
    {
     "name": "stdout",
     "output_type": "stream",
     "text": [
      "Generation 26 - Current best internal CV score: 1.0\n"
     ]
    },
    {
     "name": "stderr",
     "output_type": "stream",
     "text": [
      "Optimization Progress:  90%|█████████ | 840/930 [02:57<00:09,  9.34pipeline/s]"
     ]
    },
    {
     "name": "stdout",
     "output_type": "stream",
     "text": [
      "Generation 27 - Current best internal CV score: 1.0\n"
     ]
    },
    {
     "name": "stderr",
     "output_type": "stream",
     "text": [
      "Optimization Progress:  94%|█████████▎| 870/930 [03:03<00:13,  4.60pipeline/s]"
     ]
    },
    {
     "name": "stdout",
     "output_type": "stream",
     "text": [
      "Generation 28 - Current best internal CV score: 1.0\n"
     ]
    },
    {
     "name": "stderr",
     "output_type": "stream",
     "text": [
      "Optimization Progress:  97%|█████████▋| 900/930 [03:11<00:09,  3.10pipeline/s]"
     ]
    },
    {
     "name": "stdout",
     "output_type": "stream",
     "text": [
      "Generation 29 - Current best internal CV score: 1.0\n"
     ]
    },
    {
     "name": "stderr",
     "output_type": "stream",
     "text": [
      "                                                                              "
     ]
    },
    {
     "name": "stdout",
     "output_type": "stream",
     "text": [
      "Generation 30 - Current best internal CV score: 1.0\n",
      "\n",
      "Best pipeline: LinearSVC(input_matrix, C=1.0, dual=False, loss=squared_hinge, penalty=l2, tol=0.0001)\n"
     ]
    },
    {
     "name": "stderr",
     "output_type": "stream",
     "text": [
      "\r"
     ]
    },
    {
     "data": {
      "text/plain": [
       "TPOTClassifier(config_dict={'sklearn.naive_bayes.GaussianNB': {}, 'sklearn.naive_bayes.BernoulliNB': {'alpha': [0.001, 0.01, 0.1, 1.0, 10.0, 100.0], 'fit_prior': [True, False]}, 'sklearn.naive_bayes.MultinomialNB': {'alpha': [0.001, 0.01, 0.1, 1.0, 10.0, 100.0], 'fit_prior': [True, False]}, 'sklearn.tree.DecisionT....45,\n",
       "        0.5 ,  0.55,  0.6 ,  0.65,  0.7 ,  0.75,  0.8 ,  0.85,  0.9 ,\n",
       "        0.95,  1.  ])}}}},\n",
       "        crossover_rate=0.1, cv=5, disable_update_check=False,\n",
       "        early_stop=None, generations=30, max_eval_time_mins=5,\n",
       "        max_time_mins=None, mutation_rate=0.9, n_jobs=2, offspring_size=30,\n",
       "        periodic_checkpoint_folder=None, population_size=30,\n",
       "        random_state=None, scoring=None, subsample=1.0, verbosity=2,\n",
       "        warm_start=False)"
      ]
     },
     "execution_count": 457,
     "metadata": {},
     "output_type": "execute_result"
    }
   ],
   "source": [
    "\n",
    "tpot = TPOTClassifier(generations=30, population_size=30, verbosity=2, n_jobs=2)\n",
    "tpot.fit(X_train, y_train)\n"
   ]
  },
  {
   "cell_type": "code",
   "execution_count": 498,
   "metadata": {},
   "outputs": [
    {
     "name": "stdout",
     "output_type": "stream",
     "text": [
      "0.423076923077\n"
     ]
    }
   ],
   "source": [
    "\n",
    "print(tpot.score(X_test, y_test))\n",
    "#tpot.export('LinearSVC001.py')\n",
    "\n",
    "\n",
    "\n"
   ]
  },
  {
   "cell_type": "code",
   "execution_count": 499,
   "metadata": {},
   "outputs": [],
   "source": [
    "#print(id_to_teamname)\n",
    "\n",
    "def predict_game(away, home):\n",
    "    predict_data = dict()\n",
    "    \n",
    "    predict_data['away_team_id'] = id_to_teamname[away]\n",
    "    predict_data['home_team_id'] = id_to_teamname[home]\n",
    "    predict_data['home_score'] = -1\n",
    "    predict_data['away_score'] = -1\n",
    "    predict_data['away_shots'] = -1\n",
    "    predict_data['home_shots'] = -1\n",
    "    \n",
    "    res = tpot.predict(pd.Series(predict_data).values.reshape(1, -1))\n",
    "    \n",
    "    print(pd.Series(predict_data).values.reshape(1, -1))\n",
    "    \n",
    "    winner = None\n",
    "    \n",
    "    if res[0] == 0:\n",
    "        winner = away\n",
    "    else:\n",
    "        winner = home\n",
    "    \n",
    "    return(winner)\n"
   ]
  },
  {
   "cell_type": "code",
   "execution_count": 507,
   "metadata": {},
   "outputs": [
    {
     "name": "stdout",
     "output_type": "stream",
     "text": [
      "[[-1 -1 '21' -1 -1 '15']]\n"
     ]
    },
    {
     "data": {
      "text/plain": [
       "'VAN'"
      ]
     },
     "execution_count": 507,
     "metadata": {},
     "output_type": "execute_result"
    }
   ],
   "source": [
    "predict_game('VAN', 'BUF')"
   ]
  },
  {
   "cell_type": "markdown",
   "metadata": {},
   "source": [
    "###### 20.10.17\n",
    "\n",
    "VAN-BUF=VAN\n",
    "\n",
    "SJS-NJD=SJS\n",
    "\n",
    "WSH-DET=WSH\n",
    "\n",
    "PIT-FLA=ERROR no FLA ????\n",
    "\n",
    "MIN-WPG=ERROR no WPG ????\n",
    "\n",
    "MTL-ANA=MTL\n"
   ]
  }
 ],
 "metadata": {
  "kernelspec": {
   "display_name": "tf",
   "language": "python",
   "name": "tf"
  },
  "language_info": {
   "codemirror_mode": {
    "name": "ipython",
    "version": 3
   },
   "file_extension": ".py",
   "mimetype": "text/x-python",
   "name": "python",
   "nbconvert_exporter": "python",
   "pygments_lexer": "ipython3",
   "version": "3.6.2"
  }
 },
 "nbformat": 4,
 "nbformat_minor": 2
}
