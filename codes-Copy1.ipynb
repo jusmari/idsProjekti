{
 "cells": [
  {
   "cell_type": "markdown",
   "metadata": {},
   "source": [
    "# ids projekti, kivaa :---)\n",
    "\n",
    "tästä alkaa suuri seikkailu. Olkaamme innokaita ja tehokkaita. "
   ]
  },
  {
   "cell_type": "code",
   "execution_count": 26,
   "metadata": {
    "scrolled": true
   },
   "outputs": [],
   "source": [
    "import json\n",
    "import pandas as pd\n",
    "import numpy as np\n",
    "import urllib.request as ur\n",
    "import requests\n",
    "from datetime import timedelta, date\n",
    "from sklearn.model_selection import train_test_split as tts\n",
    "from tpot import TPOTClassifier"
   ]
  },
  {
   "cell_type": "code",
   "execution_count": 27,
   "metadata": {},
   "outputs": [],
   "source": [
    "def date_range(n):\n",
    "    date_list = []\n",
    "\n",
    "    for single_date in (date.today() - timedelta(n+1) for n in range(n)):\n",
    "        date_list.append(single_date.strftime('%Y%m%d'))\n",
    "\n",
    "    return(date_list)"
   ]
  },
  {
   "cell_type": "code",
   "execution_count": 36,
   "metadata": {},
   "outputs": [],
   "source": [
    "def fetch_game_scoreboards():\n",
    "    games_lists = []\n",
    "\n",
    "    auth=('Enzine', 'Enzine')\n",
    "\n",
    "    url = 'https://api.mysportsfeeds.com/v1.1/pull/nhl/2017-2018-regular/scoreboard.json?fordate={date}'\n",
    "    \n",
    "    DATE_RANGE = 5\n",
    "    n=0\n",
    "    for i in date_range(DATE_RANGE):\n",
    "        if n%50 == 0:\n",
    "            print(n)\n",
    "        \n",
    "        try:\n",
    "            json = requests.get(url.format(date=i), auth=auth).json()\n",
    "        except:\n",
    "            continue\n",
    "            \n",
    "        games_lists.append(json['scoreboard']['gameScore'])\n",
    "        \n",
    "        n += 1\n",
    "\n",
    "    return(games_lists)"
   ]
  },
  {
   "cell_type": "code",
   "execution_count": 62,
   "metadata": {},
   "outputs": [
    {
     "name": "stdout",
     "output_type": "stream",
     "text": [
      "0\n"
     ]
    }
   ],
   "source": [
    "scoreboard_data = fetch_game_scoreboards()\n",
    "\n",
    "scoreboard_data_list = np.hstack(scoreboard_data)"
   ]
  },
  {
   "cell_type": "markdown",
   "metadata": {},
   "source": [
    "Jos kotijoukkoe voittaa, winner = 1"
   ]
  },
  {
   "cell_type": "code",
   "execution_count": 63,
   "metadata": {},
   "outputs": [],
   "source": [
    "game_ids = []\n",
    "for data in scoreboard_data[0]:\n",
    "    game_ids.append(data['game']['ID'])"
   ]
  },
  {
   "cell_type": "code",
   "execution_count": 71,
   "metadata": {},
   "outputs": [
    {
     "data": {
      "text/plain": [
       "['40898',\n",
       " '40899',\n",
       " '40900',\n",
       " '40902',\n",
       " '40901',\n",
       " '40903',\n",
       " '40904',\n",
       " '40905',\n",
       " '40906',\n",
       " '40907',\n",
       " '40908']"
      ]
     },
     "execution_count": 71,
     "metadata": {},
     "output_type": "execute_result"
    }
   ],
   "source": [
    "game_ids"
   ]
  },
  {
   "cell_type": "code",
   "execution_count": 107,
   "metadata": {},
   "outputs": [
    {
     "name": "stdout",
     "output_type": "stream",
     "text": [
      "[{'player': {'Position': 'G', 'LastName': 'Hill', 'FirstName': 'Adin', 'JerseyNumber': '31', 'ID': '5671'}, 'position': 'Goalie-Backup'}, {'player': {'Position': 'C', 'LastName': 'Keller', 'FirstName': 'Clayton', 'JerseyNumber': '9', 'ID': '9633'}, 'position': 'ForwardLine1-RW'}, {'player': {'Position': 'C', 'LastName': 'Dvorak', 'FirstName': 'Christian', 'JerseyNumber': '18', 'ID': '10069'}, 'position': 'ForwardLine2-C'}, {'player': {'Position': 'RW', 'LastName': 'Richardson', 'FirstName': 'Brad', 'JerseyNumber': '15', 'ID': '3789'}, 'position': 'ForwardLine4-C'}, {'player': {'Position': 'LW', 'LastName': 'Martinook', 'FirstName': 'Jordan', 'JerseyNumber': '48', 'ID': '5495'}, 'position': 'ForwardLine3-LW'}, {'player': {'Position': 'RW', 'LastName': 'Fischer', 'FirstName': 'Christian', 'JerseyNumber': '36', 'ID': '5627'}, 'position': 'ForwardLine4-RW'}, {'player': {'Position': 'C', 'LastName': 'Strome', 'FirstName': 'Dylan', 'JerseyNumber': '20', 'ID': '5598'}, 'position': 'ForwardLine3-C'}, {'player': {'Position': 'C', 'LastName': 'Rieder', 'FirstName': 'Tobias', 'JerseyNumber': '8', 'ID': '5482'}, 'position': 'ForwardLine3-RW'}, {'player': {'Position': 'C', 'LastName': 'Stepan', 'FirstName': 'Derek', 'JerseyNumber': '21', 'ID': '4885'}, 'position': 'ForwardLine1-C'}, {'player': {'Position': 'C', 'LastName': 'Domi', 'FirstName': 'Max', 'JerseyNumber': '16', 'ID': '5412'}, 'position': 'ForwardLine1-LW'}, {'player': {'Position': 'LW', 'LastName': 'Perlini', 'FirstName': 'Brendan', 'JerseyNumber': '11', 'ID': '11511'}, 'position': 'ForwardLine2-LW'}, {'player': {'Position': 'LW', 'LastName': 'Crouse', 'FirstName': 'Lawson', 'JerseyNumber': '67', 'ID': '5606'}, 'position': 'ForwardLine4-LW'}, {'player': {'Position': 'D', 'LastName': 'Schenn', 'FirstName': 'Luke', 'JerseyNumber': '2', 'ID': '4552'}, 'position': 'DefensePair3-L'}, {'player': {'Position': 'D', 'LastName': 'Hjalmarsson', 'FirstName': 'Niklas', 'JerseyNumber': '4', 'ID': '4401'}, 'position': 'DefensePair1-L'}, {'player': {'Position': 'D', 'LastName': 'Demers', 'FirstName': 'Jason', 'JerseyNumber': '55', 'ID': '4699'}, 'position': 'DefensePair2-R'}, {'player': {'Position': 'D', 'LastName': 'Connauton', 'FirstName': 'Kevin', 'JerseyNumber': '44', 'ID': '5278'}, 'position': 'DefensePair3-R'}, {'player': {'Position': 'LW', 'LastName': 'Duclair', 'FirstName': 'Anthony', 'JerseyNumber': '10', 'ID': '5441'}, 'position': 'ForwardLine2-RW'}, {'player': {'Position': 'D', 'LastName': 'Ekman-Larsson', 'FirstName': 'Oliver', 'JerseyNumber': '23', 'ID': '4866'}, 'position': 'DefensePair1-R'}, {'player': {'Position': 'D', 'LastName': 'Goligoski', 'FirstName': 'Alex', 'JerseyNumber': '33', 'ID': '4402'}, 'position': 'DefensePair2-L'}, {'player': {'Position': 'G', 'LastName': 'Domingue', 'FirstName': 'Louis', 'JerseyNumber': '35', 'ID': '5518'}, 'position': 'Goalie-Starter'}]\n",
      "[{'player': {'Position': 'G', 'LastName': 'Brossoit', 'FirstName': 'Laurent', 'JerseyNumber': '1', 'ID': '5552'}, 'position': 'Goalie-Backup'}, {'player': {'Position': 'LW', 'LastName': 'Maroon', 'FirstName': 'Patrick', 'JerseyNumber': '19', 'ID': '4854'}, 'position': 'ForwardLine1-RW'}, {'player': {'Position': 'C', 'LastName': 'Nugent-Hopkins', 'FirstName': 'Ryan', 'JerseyNumber': '93', 'ID': '4993'}, 'position': 'ForwardLine2-C'}, {'player': {'Position': 'C', 'LastName': 'Letestu', 'FirstName': 'Mark', 'JerseyNumber': '55', 'ID': '4730'}, 'position': 'ForwardLine4-C'}, {'player': {'Position': 'LW', 'LastName': 'Caggiula', 'FirstName': 'Drake', 'JerseyNumber': '91', 'ID': '11308'}, 'position': 'ForwardLine3-LW'}, {'player': {'Position': 'LW', 'LastName': 'Khaira', 'FirstName': 'Jujhar', 'JerseyNumber': '16', 'ID': '5875'}, 'position': 'ForwardLine4-RW'}, {'player': {'Position': 'LW', 'LastName': 'Jokinen', 'FirstName': 'Jussi', 'JerseyNumber': '36', 'ID': '3637'}, 'position': 'ForwardLine3-C'}, {'player': {'Position': 'C', 'LastName': 'Strome', 'FirstName': 'Ryan', 'JerseyNumber': '18', 'ID': '4997'}, 'position': 'ForwardLine3-RW'}, {'player': {'Position': 'C', 'LastName': 'McDavid', 'FirstName': 'Connor', 'JerseyNumber': '97', 'ID': '5576'}, 'position': 'ForwardLine1-C'}, {'player': {'Position': 'C', 'LastName': 'Draisaitl', 'FirstName': 'Leon', 'JerseyNumber': '29', 'ID': '5417'}, 'position': 'ForwardLine1-LW'}, {'player': {'Position': 'LW', 'LastName': 'Lucic', 'FirstName': 'Milan', 'JerseyNumber': '27', 'ID': '4299'}, 'position': 'ForwardLine2-LW'}, {'player': {'Position': 'RW', 'LastName': 'Kassian', 'FirstName': 'Zack', 'JerseyNumber': '44', 'ID': '5039'}, 'position': 'ForwardLine4-LW'}, {'player': {'Position': 'D', 'LastName': 'Nurse', 'FirstName': 'Darnell', 'JerseyNumber': '25', 'ID': '5464'}, 'position': 'DefensePair3-L'}, {'player': {'Position': 'D', 'LastName': 'Larsson', 'FirstName': 'Adam', 'JerseyNumber': '6', 'ID': '4989'}, 'position': 'DefensePair1-L'}, {'player': {'Position': 'D', 'LastName': 'Benning', 'FirstName': 'Matthew', 'JerseyNumber': '83', 'ID': '10168'}, 'position': 'DefensePair2-R'}, {'player': {'Position': 'D', 'LastName': 'Gryba', 'FirstName': 'Eric', 'JerseyNumber': '62', 'ID': '5171'}, 'position': 'DefensePair3-R'}, {'player': {'Position': 'RW', 'LastName': 'Yamamoto', 'FirstName': 'Kailer', 'JerseyNumber': '56', 'ID': '13637'}, 'position': 'ForwardLine2-RW'}, {'player': {'Position': 'D', 'LastName': 'Klefbom', 'FirstName': 'Oscar', 'JerseyNumber': '77', 'ID': '5001'}, 'position': 'DefensePair1-R'}, {'player': {'Position': 'D', 'LastName': 'Russell', 'FirstName': 'Kris', 'JerseyNumber': '4', 'ID': '4295'}, 'position': 'DefensePair2-L'}, {'player': {'Position': 'G', 'LastName': 'Talbot', 'FirstName': 'Cam', 'JerseyNumber': '33', 'ID': '5277'}, 'position': 'Goalie-Starter'}]\n",
      "[{'player': {'Position': 'G', 'LastName': 'Tokarski', 'FirstName': 'Dustin', 'JerseyNumber': '30', 'ID': '4759'}, 'position': 'Goalie-Backup'}, {'player': {'Position': 'RW', 'LastName': 'Perry', 'FirstName': 'Corey', 'JerseyNumber': '10', 'ID': '3626'}, 'position': 'ForwardLine1-RW'}, {'player': {'Position': 'RW', 'LastName': 'Rakell', 'FirstName': 'Rickard', 'JerseyNumber': '67', 'ID': '5144'}, 'position': 'ForwardLine2-C'}, {'player': {'Position': 'RW', 'LastName': 'Wagner', 'FirstName': 'Chris', 'JerseyNumber': '21', 'ID': '5469'}, 'position': 'ForwardLine4-C'}, {'player': {'Position': 'RW', 'LastName': 'Boll', 'FirstName': 'Jared', 'JerseyNumber': '40', 'ID': '4296'}, 'position': 'ForwardLine3-LW'}, {'player': {'Position': 'C', 'LastName': 'Rasmussen', 'FirstName': 'Dennis', 'JerseyNumber': '22', 'ID': '5882'}, 'position': 'ForwardLine4-RW'}, {'player': {'Position': 'C', 'LastName': 'Vermette', 'FirstName': 'Antoine', 'JerseyNumber': '50', 'ID': '231'}, 'position': 'ForwardLine3-C'}, {'player': {'Position': 'RW', 'LastName': 'Kase', 'FirstName': 'Ondrej', 'JerseyNumber': '25', 'ID': '10171'}, 'position': 'ForwardLine3-RW'}, {'player': {'Position': 'C', 'LastName': 'Getzlaf', 'FirstName': 'Ryan', 'JerseyNumber': '15', 'ID': '3623'}, 'position': 'ForwardLine1-C'}, {'player': {'Position': 'LW', 'LastName': 'Ritchie', 'FirstName': 'Nick', 'JerseyNumber': '37', 'ID': '5432'}, 'position': 'ForwardLine1-LW'}, {'player': {'Position': 'C', 'LastName': 'Cogliano', 'FirstName': 'Andrew', 'JerseyNumber': '7', 'ID': '4284'}, 'position': 'ForwardLine2-LW'}, {'player': {'Position': 'RW', 'LastName': 'Shaw', 'FirstName': 'Logan', 'JerseyNumber': '48', 'ID': '5848'}, 'position': 'ForwardLine4-LW'}, {'player': {'Position': 'D', 'LastName': 'Megna', 'FirstName': 'Jaycob', 'JerseyNumber': '75', 'ID': '11778'}, 'position': 'DefensePair3-L'}, {'player': {'Position': 'D', 'LastName': 'Manson', 'FirstName': 'Josh', 'JerseyNumber': '42', 'ID': '5477'}, 'position': 'DefensePair1-L'}, {'player': {'Position': 'D', 'LastName': 'Beauchemin', 'FirstName': 'Francois', 'JerseyNumber': '23', 'ID': '3703'}, 'position': 'DefensePair2-R'}, {'player': {'Position': 'D', 'LastName': 'Bieksa', 'FirstName': 'Kevin', 'JerseyNumber': '3', 'ID': '3821'}, 'position': 'DefensePair3-R'}, {'player': {'Position': 'RW', 'LastName': 'Silfverberg', 'FirstName': 'Jakob', 'JerseyNumber': '33', 'ID': '5106'}, 'position': 'ForwardLine2-RW'}, {'player': {'Position': 'D', 'LastName': 'Fowler', 'FirstName': 'Cam', 'JerseyNumber': '4', 'ID': '4800'}, 'position': 'DefensePair1-R'}, {'player': {'Position': 'D', 'LastName': 'Montour', 'FirstName': 'Brandon', 'JerseyNumber': '26', 'ID': '11648'}, 'position': 'DefensePair2-L'}, {'player': {'Position': 'G', 'LastName': 'Gibson', 'FirstName': 'John', 'JerseyNumber': '36', 'ID': '5227'}, 'position': 'Goalie-Starter'}]\n"
     ]
    },
    {
     "name": "stdout",
     "output_type": "stream",
     "text": [
      "[{'player': {'Position': 'G', 'LastName': 'Budaj', 'FirstName': 'Peter', 'JerseyNumber': '31', 'ID': '3635'}, 'position': 'Goalie-Backup'}, {'player': {'Position': 'RW', 'LastName': 'Kucherov', 'FirstName': 'Nikita', 'JerseyNumber': '86', 'ID': '5300'}, 'position': 'ForwardLine1-RW'}, {'player': {'Position': 'C', 'LastName': 'Johnson', 'FirstName': 'Tyler', 'JerseyNumber': '9', 'ID': '5187'}, 'position': 'ForwardLine2-C'}, {'player': {'Position': 'C', 'LastName': 'Dumont', 'FirstName': 'Gabriel', 'JerseyNumber': '40', 'ID': '5099'}, 'position': 'ForwardLine4-C'}, {'player': {'Position': 'LW', 'LastName': 'Palat', 'FirstName': 'Ondrej', 'JerseyNumber': '18', 'ID': '5178'}, 'position': 'ForwardLine3-LW'}, {'player': {'Position': 'C', 'LastName': 'Paquette', 'FirstName': 'Cedric', 'JerseyNumber': '13', 'ID': '5370'}, 'position': 'ForwardLine4-RW'}, {'player': {'Position': 'C', 'LastName': 'Point', 'FirstName': 'Brayden', 'JerseyNumber': '21', 'ID': '10079'}, 'position': 'ForwardLine3-C'}, {'player': {'Position': 'C', 'LastName': 'Gourde', 'FirstName': 'Yanni', 'JerseyNumber': '37', 'ID': '5890'}, 'position': 'ForwardLine3-RW'}, {'player': {'Position': 'C', 'LastName': 'Stamkos', 'FirstName': 'Steven', 'JerseyNumber': '91', 'ID': '4457'}, 'position': 'ForwardLine1-C'}, {'player': {'Position': 'C', 'LastName': 'Namestnikov', 'FirstName': 'Vladislav', 'JerseyNumber': '90', 'ID': '5136'}, 'position': 'ForwardLine1-LW'}, {'player': {'Position': 'C', 'LastName': 'Killorn', 'FirstName': 'Alex', 'JerseyNumber': '17', 'ID': '5165'}, 'position': 'ForwardLine2-LW'}, {'player': {'Position': 'LW', 'LastName': 'Kunitz', 'FirstName': 'Chris', 'JerseyNumber': '14', 'ID': '898'}, 'position': 'ForwardLine4-LW'}, {'player': {'Position': 'D', 'LastName': 'Sustr', 'FirstName': 'Andrej', 'JerseyNumber': '62', 'ID': '5195'}, 'position': 'DefensePair3-L'}, {'player': {'Position': 'D', 'LastName': 'Girardi', 'FirstName': 'Daniel', 'JerseyNumber': '5', 'ID': '4223'}, 'position': 'DefensePair1-L'}, {'player': {'Position': 'D', 'LastName': 'Sergachev', 'FirstName': 'Mikhail', 'JerseyNumber': '98', 'ID': '9635'}, 'position': 'DefensePair2-R'}, {'player': {'Position': 'D', 'LastName': 'Coburn', 'FirstName': 'Braydon', 'JerseyNumber': '55', 'ID': '3683'}, 'position': 'DefensePair3-R'}, {'player': {'Position': 'RW', 'LastName': 'Callahan', 'FirstName': 'Ryan', 'JerseyNumber': '24', 'ID': '4145'}, 'position': 'ForwardLine2-RW'}, {'player': {'Position': 'D', 'LastName': 'Hedman', 'FirstName': 'Victor', 'JerseyNumber': '77', 'ID': '4685'}, 'position': 'DefensePair1-R'}, {'player': {'Position': 'D', 'LastName': 'Stralman', 'FirstName': 'Anton', 'JerseyNumber': '6', 'ID': '4311'}, 'position': 'DefensePair2-L'}, {'player': {'Position': 'G', 'LastName': 'Vasilevskiy', 'FirstName': 'Andrei', 'JerseyNumber': '88', 'ID': '5420'}, 'position': 'Goalie-Starter'}]\n",
      "[{'player': {'Position': 'G', 'LastName': 'Mrazek', 'FirstName': 'Petr', 'JerseyNumber': '34', 'ID': '5163'}, 'position': 'Goalie-Backup'}, {'player': {'Position': 'LW', 'LastName': 'Tatar', 'FirstName': 'Tomas', 'JerseyNumber': '21', 'ID': '4864'}, 'position': 'ForwardLine1-RW'}, {'player': {'Position': 'LW', 'LastName': 'Larkin', 'FirstName': 'Dylan', 'JerseyNumber': '71', 'ID': '5829'}, 'position': 'ForwardLine2-C'}, {'player': {'Position': 'LW', 'LastName': 'Miller', 'FirstName': 'Drew', 'JerseyNumber': '20', 'ID': '4261'}, 'position': 'ForwardLine4-C'}, {'player': {'Position': 'LW', 'LastName': 'Abdelkader', 'FirstName': 'Justin', 'JerseyNumber': '8', 'ID': '4419'}, 'position': 'ForwardLine3-LW'}, {'player': {'Position': 'C', 'LastName': 'Glendening', 'FirstName': 'Luke', 'JerseyNumber': '41', 'ID': '5268'}, 'position': 'ForwardLine4-RW'}, {'player': {'Position': 'C', 'LastName': 'Nielsen', 'FirstName': 'Frans', 'JerseyNumber': '51', 'ID': '4211'}, 'position': 'ForwardLine3-C'}, {'player': {'Position': 'C', 'LastName': 'Helm', 'FirstName': 'Darren', 'JerseyNumber': '43', 'ID': '4404'}, 'position': 'ForwardLine3-RW'}, {'player': {'Position': 'LW', 'LastName': 'Zetterberg', 'FirstName': 'Henrik', 'JerseyNumber': '40', 'ID': '309'}, 'position': 'ForwardLine1-C'}, {'player': {'Position': 'C', 'LastName': 'Nyquist', 'FirstName': 'Gustav', 'JerseyNumber': '14', 'ID': '5026'}, 'position': 'ForwardLine1-LW'}, {'player': {'Position': 'RW', 'LastName': 'Mantha', 'FirstName': 'Anthony', 'JerseyNumber': '39', 'ID': '5413'}, 'position': 'ForwardLine2-LW'}, {'player': {'Position': 'LW', 'LastName': 'Booth', 'FirstName': 'David', 'JerseyNumber': '17', 'ID': '4139'}, 'position': 'ForwardLine4-LW'}, {'player': {'Position': 'D', 'LastName': 'Ericsson', 'FirstName': 'Jonathan', 'JerseyNumber': '52', 'ID': '4396'}, 'position': 'DefensePair3-L'}, {'player': {'Position': 'D', 'LastName': 'Daley', 'FirstName': 'Trevor', 'JerseyNumber': '83', 'ID': '701'}, 'position': 'DefensePair1-L'}, {'player': {'Position': 'D', 'LastName': 'Green', 'FirstName': 'Mike', 'JerseyNumber': '25', 'ID': '925'}, 'position': 'DefensePair2-R'}, {'player': {'Position': 'D', 'LastName': 'Jensen', 'FirstName': 'Nick', 'JerseyNumber': '3', 'ID': '11592'}, 'position': 'DefensePair3-R'}, {'player': {'Position': 'RW', 'LastName': 'Frk', 'FirstName': 'Martin', 'JerseyNumber': '42', 'ID': '10084'}, 'position': 'ForwardLine2-RW'}, {'player': {'Position': 'D', 'LastName': 'DeKeyser', 'FirstName': 'Danny', 'JerseyNumber': '65', 'ID': '5203'}, 'position': 'DefensePair1-R'}, {'player': {'Position': 'D', 'LastName': 'Ouellet', 'FirstName': 'Xavier', 'JerseyNumber': '61', 'ID': '5272'}, 'position': 'DefensePair2-L'}, {'player': {'Position': 'G', 'LastName': 'Howard', 'FirstName': 'Jimmy', 'JerseyNumber': '35', 'ID': '3793'}, 'position': 'Goalie-Starter'}]\n",
      "[{'player': {'Position': 'G', 'LastName': 'Quick', 'FirstName': 'Jonathan', 'JerseyNumber': '32', 'ID': '4333'}, 'position': 'Goalie-Backup'}, {'player': {'Position': 'C', 'LastName': 'Iafallo', 'FirstName': 'Alex', 'JerseyNumber': '19', 'ID': '13690'}, 'position': 'ForwardLine1-RW'}, {'player': {'Position': 'C', 'LastName': 'Carter', 'FirstName': 'Jeff', 'JerseyNumber': '77', 'ID': '3488'}, 'position': 'ForwardLine2-C'}, {'player': {'Position': 'C', 'LastName': 'Shore', 'FirstName': 'Nick', 'JerseyNumber': '21', 'ID': '5514'}, 'position': 'ForwardLine4-C'}, {'player': {'Position': 'LW', 'LastName': 'Kempe', 'FirstName': 'Adrian', 'JerseyNumber': '9', 'ID': '11731'}, 'position': 'ForwardLine3-LW'}, {'player': {'Position': 'C', 'LastName': 'Lewis', 'FirstName': 'Trevor', 'JerseyNumber': '22', 'ID': '4597'}, 'position': 'ForwardLine4-RW'}, {'player': {'Position': 'C', 'LastName': 'Brodzinski', 'FirstName': 'Jonny', 'JerseyNumber': '17', 'ID': '11807'}, 'position': 'ForwardLine3-C'}, {'player': {'Position': 'C', 'LastName': 'Cammalleri', 'FirstName': 'Mike', 'JerseyNumber': '14', 'ID': '721'}, 'position': 'ForwardLine3-RW'}, {'player': {'Position': 'C', 'LastName': 'Kopitar', 'FirstName': 'Anze', 'JerseyNumber': '11', 'ID': '4033'}, 'position': 'ForwardLine1-C'}, {'player': {'Position': 'LW', 'LastName': 'Brown', 'FirstName': 'Dustin', 'JerseyNumber': '23', 'ID': '277'}, 'position': 'ForwardLine1-LW'}, {'player': {'Position': 'LW', 'LastName': 'Pearson', 'FirstName': 'Tanner', 'JerseyNumber': '70', 'ID': '5292'}, 'position': 'ForwardLine2-LW'}, {'player': {'Position': 'LW', 'LastName': 'Clifford', 'FirstName': 'Kyle', 'JerseyNumber': '13', 'ID': '4889'}, 'position': 'ForwardLine4-LW'}, {'player': {'Position': 'D', 'LastName': 'Folin', 'FirstName': 'Christian', 'JerseyNumber': '5', 'ID': '5368'}, 'position': 'DefensePair3-L'}, {'player': {'Position': 'D', 'LastName': 'Forbort', 'FirstName': 'Derek', 'JerseyNumber': '24', 'ID': '5813'}, 'position': 'DefensePair1-L'}, {'player': {'Position': 'D', 'LastName': 'Muzzin', 'FirstName': 'Jake', 'JerseyNumber': '6', 'ID': '4888'}, 'position': 'DefensePair2-R'}, {'player': {'Position': 'D', 'LastName': 'Fantenberg', 'FirstName': 'Oscar', 'JerseyNumber': '7', 'ID': '13695'}, 'position': 'DefensePair3-R'}, {'player': {'Position': 'RW', 'LastName': 'Toffoli', 'FirstName': 'Tyler', 'JerseyNumber': '73', 'ID': '5191'}, 'position': 'ForwardLine2-RW'}, {'player': {'Position': 'D', 'LastName': 'Doughty', 'FirstName': 'Drew', 'JerseyNumber': '8', 'ID': '4510'}, 'position': 'DefensePair1-R'}, {'player': {'Position': 'D', 'LastName': 'LaDue', 'FirstName': 'Paul', 'JerseyNumber': '38', 'ID': '11732'}, 'position': 'DefensePair2-L'}, {'player': {'Position': 'G', 'LastName': 'Kuemper', 'FirstName': 'Darcy', 'JerseyNumber': '35', 'ID': '5168'}, 'position': 'Goalie-Starter'}]\n"
     ]
    },
    {
     "name": "stdout",
     "output_type": "stream",
     "text": [
      "[{'player': {'Position': 'G', 'LastName': 'Luongo', 'FirstName': 'Roberto', 'JerseyNumber': '1', 'ID': '272'}, 'position': 'Goalie-Backup'}, {'player': {'Position': 'LW', 'LastName': 'Huberdeau', 'FirstName': 'Jonathan', 'JerseyNumber': '11', 'ID': '4987'}, 'position': 'ForwardLine1-RW'}, {'player': {'Position': 'C', 'LastName': 'Trocheck', 'FirstName': 'Vincent', 'JerseyNumber': '21', 'ID': '5342'}, 'position': 'ForwardLine2-C'}, {'player': {'Position': 'C', 'LastName': 'Haley', 'FirstName': 'Michael', 'JerseyNumber': '18', 'ID': '4790'}, 'position': 'ForwardLine4-C'}, {'player': {'Position': 'LW', 'LastName': 'Brickley', 'FirstName': 'Conner', 'JerseyNumber': '23', 'ID': '5834'}, 'position': 'ForwardLine3-LW'}, {'player': {'Position': 'C', 'LastName': 'MacKenzie', 'FirstName': 'Derek', 'JerseyNumber': '17', 'ID': '879'}, 'position': 'ForwardLine4-RW'}, {'player': {'Position': 'C', 'LastName': 'McCann', 'FirstName': 'Jared', 'JerseyNumber': '90', 'ID': '5824'}, 'position': 'ForwardLine3-C'}, {'player': {'Position': 'C', 'LastName': 'Bjugstad', 'FirstName': 'Nick', 'JerseyNumber': '27', 'ID': '5201'}, 'position': 'ForwardLine3-RW'}, {'player': {'Position': 'C', 'LastName': 'Barkov', 'FirstName': 'Aleksander', 'JerseyNumber': '16', 'ID': '5241'}, 'position': 'ForwardLine1-C'}, {'player': {'Position': 'LW', 'LastName': 'Dadonov', 'FirstName': 'Evgenii', 'JerseyNumber': '63', 'ID': '4787'}, 'position': 'ForwardLine1-LW'}, {'player': {'Position': 'LW', 'LastName': 'McGinn', 'FirstName': 'Jamie', 'JerseyNumber': '88', 'ID': '4564'}, 'position': 'ForwardLine2-LW'}, {'player': {'Position': 'C', 'LastName': 'Sceviour', 'FirstName': 'Colton', 'JerseyNumber': '7', 'ID': '4948'}, 'position': 'ForwardLine4-LW'}, {'player': {'Position': 'D', 'LastName': 'McCoshen', 'FirstName': 'Ian', 'JerseyNumber': '12', 'ID': '11746'}, 'position': 'DefensePair3-L'}, {'player': {'Position': 'D', 'LastName': 'Ekblad', 'FirstName': 'Aaron', 'JerseyNumber': '5', 'ID': '5414'}, 'position': 'DefensePair1-L'}, {'player': {'Position': 'D', 'LastName': 'Matheson', 'FirstName': 'Michael', 'JerseyNumber': '19', 'ID': '5921'}, 'position': 'DefensePair2-R'}, {'player': {'Position': 'D', 'LastName': 'Petrovic', 'FirstName': 'Alex', 'JerseyNumber': '6', 'ID': '5213'}, 'position': 'DefensePair3-R'}, {'player': {'Position': 'RW', 'LastName': 'Vrbata', 'FirstName': 'Radim', 'JerseyNumber': '71', 'ID': '250'}, 'position': 'ForwardLine2-RW'}, {'player': {'Position': 'D', 'LastName': 'Yandle', 'FirstName': 'Keith', 'JerseyNumber': '3', 'ID': '4051'}, 'position': 'DefensePair1-R'}, {'player': {'Position': 'D', 'LastName': 'Pysyk', 'FirstName': 'Mark', 'JerseyNumber': '13', 'ID': '5192'}, 'position': 'DefensePair2-L'}, {'player': {'Position': 'G', 'LastName': 'Reimer', 'FirstName': 'James', 'JerseyNumber': '34', 'ID': '4862'}, 'position': 'Goalie-Starter'}]\n",
      "[{'player': {'Position': 'G', 'LastName': 'Lack', 'FirstName': 'Eddie', 'JerseyNumber': '31', 'ID': '5137'}, 'position': 'Goalie-Backup'}, {'player': {'Position': 'LW', 'LastName': 'Gaudreau', 'FirstName': 'Johnny', 'JerseyNumber': '13', 'ID': '5383'}, 'position': 'ForwardLine1-RW'}, {'player': {'Position': 'C', 'LastName': 'Backlund', 'FirstName': 'Mikael', 'JerseyNumber': '11', 'ID': '4609'}, 'position': 'ForwardLine2-C'}, {'player': {'Position': 'C', 'LastName': 'Stajan', 'FirstName': 'Matt', 'JerseyNumber': '18', 'ID': '590'}, 'position': 'ForwardLine4-C'}, {'player': {'Position': 'LW', 'LastName': 'Versteeg', 'FirstName': 'Kris', 'JerseyNumber': '10', 'ID': '4346'}, 'position': 'ForwardLine3-LW'}, {'player': {'Position': 'LW', 'LastName': 'Glass', 'FirstName': 'Tanner', 'JerseyNumber': '15', 'ID': '4356'}, 'position': 'ForwardLine4-RW'}, {'player': {'Position': 'C', 'LastName': 'Bennett', 'FirstName': 'Sam', 'JerseyNumber': '93', 'ID': '5415'}, 'position': 'ForwardLine3-C'}, {'player': {'Position': 'RW', 'LastName': 'Brouwer', 'FirstName': 'Troy', 'JerseyNumber': '36', 'ID': '4185'}, 'position': 'ForwardLine3-RW'}, {'player': {'Position': 'C', 'LastName': 'Monahan', 'FirstName': 'Sean', 'JerseyNumber': '23', 'ID': '5242'}, 'position': 'ForwardLine1-C'}, {'player': {'Position': 'LW', 'LastName': 'Ferland', 'FirstName': 'Micheal', 'JerseyNumber': '79', 'ID': '5478'}, 'position': 'ForwardLine1-LW'}, {'player': {'Position': 'C', 'LastName': 'Frolik', 'FirstName': 'Michael', 'JerseyNumber': '67', 'ID': '4507'}, 'position': 'ForwardLine2-LW'}, {'player': {'Position': 'RW', 'LastName': 'Hathaway', 'FirstName': 'Garnet', 'JerseyNumber': '21', 'ID': '5926'}, 'position': 'ForwardLine4-LW'}, {'player': {'Position': 'D', 'LastName': 'Kulak', 'FirstName': 'Brett', 'JerseyNumber': '61', 'ID': '5554'}, 'position': 'DefensePair3-L'}, {'player': {'Position': 'D', 'LastName': 'Hamilton', 'FirstName': 'Dougie', 'JerseyNumber': '27', 'ID': '4994'}, 'position': 'DefensePair1-L'}, {'player': {'Position': 'D', 'LastName': 'Hamonic', 'FirstName': 'Travis', 'JerseyNumber': '24', 'ID': '4915'}, 'position': 'DefensePair2-R'}, {'player': {'Position': 'D', 'LastName': 'Stone', 'FirstName': 'Michael', 'JerseyNumber': '26', 'ID': '5081'}, 'position': 'DefensePair3-R'}, {'player': {'Position': 'LW', 'LastName': 'Tkachuk', 'FirstName': 'Matthew', 'JerseyNumber': '19', 'ID': '9632'}, 'position': 'ForwardLine2-RW'}, {'player': {'Position': 'D', 'LastName': 'Giordano', 'FirstName': 'Mark', 'JerseyNumber': '5', 'ID': '3861'}, 'position': 'DefensePair1-R'}, {'player': {'Position': 'D', 'LastName': 'Brodie', 'FirstName': 'T.J.', 'JerseyNumber': '7', 'ID': '4878'}, 'position': 'DefensePair2-L'}, {'player': {'Position': 'G', 'LastName': 'Smith', 'FirstName': 'Mike', 'JerseyNumber': '41', 'ID': '3486'}, 'position': 'Goalie-Starter'}]\n",
      "[{'player': {'Position': 'G', 'LastName': 'Nilsson', 'FirstName': 'Anders', 'JerseyNumber': '31', 'ID': '5033'}, 'position': 'Goalie-Backup'}, {'player': {'Position': 'LW', 'LastName': 'Vanek', 'FirstName': 'Thomas', 'JerseyNumber': '26', 'ID': '3632'}, 'position': 'ForwardLine1-RW'}, {'player': {'Position': 'C', 'LastName': 'Horvat', 'FirstName': 'Bo', 'JerseyNumber': '53', 'ID': '5233'}, 'position': 'ForwardLine2-C'}, {'player': {'Position': 'C', 'LastName': 'Sutter', 'FirstName': 'Brandon', 'JerseyNumber': '20', 'ID': '4490'}, 'position': 'ForwardLine4-C'}, {'player': {'Position': 'RW', 'LastName': 'Boeser', 'FirstName': 'Brock', 'JerseyNumber': '6', 'ID': '5618'}, 'position': 'ForwardLine3-LW'}, {'player': {'Position': 'C', 'LastName': 'Granlund', 'FirstName': 'Markus', 'JerseyNumber': '60', 'ID': '5338'}, 'position': 'ForwardLine4-RW'}, {'player': {'Position': 'C', 'LastName': 'Burmistrov', 'FirstName': 'Alexander', 'JerseyNumber': '42', 'ID': '4883'}, 'position': 'ForwardLine3-C'}, {'player': {'Position': 'C', 'LastName': 'Gagner', 'FirstName': 'Sam', 'JerseyNumber': '89', 'ID': '4275'}, 'position': 'ForwardLine3-RW'}, {'player': {'Position': 'C', 'LastName': 'Sedin', 'FirstName': 'Henrik', 'JerseyNumber': '33', 'ID': '439'}, 'position': 'ForwardLine1-C'}, {'player': {'Position': 'LW', 'LastName': 'Sedin', 'FirstName': 'Daniel', 'JerseyNumber': '22', 'ID': '438'}, 'position': 'ForwardLine1-LW'}, {'player': {'Position': 'LW', 'LastName': 'Baertschi', 'FirstName': 'Sven', 'JerseyNumber': '47', 'ID': '4998'}, 'position': 'ForwardLine2-LW'}, {'player': {'Position': 'RW', 'LastName': 'Dorsett', 'FirstName': 'Derek', 'JerseyNumber': '15', 'ID': '4438'}, 'position': 'ForwardLine4-LW'}, {'player': {'Position': 'D', 'LastName': 'Hutton', 'FirstName': 'Ben', 'JerseyNumber': '27', 'ID': '5825'}, 'position': 'DefensePair3-L'}, {'player': {'Position': 'D', 'LastName': 'Tanev', 'FirstName': 'Christopher', 'JerseyNumber': '8', 'ID': '4939'}, 'position': 'DefensePair1-L'}, {'player': {'Position': 'D', 'LastName': 'Del Zotto', 'FirstName': 'Michael', 'JerseyNumber': '4', 'ID': '4695'}, 'position': 'DefensePair2-R'}, {'player': {'Position': 'D', 'LastName': 'Stecher', 'FirstName': 'Troy', 'JerseyNumber': '51', 'ID': '10108'}, 'position': 'DefensePair3-R'}, {'player': {'Position': 'LW', 'LastName': 'Eriksson', 'FirstName': 'Loui', 'JerseyNumber': '21', 'ID': '4020'}, 'position': 'ForwardLine2-RW'}, {'player': {'Position': 'D', 'LastName': 'Edler', 'FirstName': 'Alexander', 'JerseyNumber': '23', 'ID': '4099'}, 'position': 'DefensePair1-R'}, {'player': {'Position': 'D', 'LastName': 'Gudbranson', 'FirstName': 'Erik', 'JerseyNumber': '44', 'ID': '4988'}, 'position': 'DefensePair2-L'}, {'player': {'Position': 'G', 'LastName': 'Markstrom', 'FirstName': 'Jacob', 'JerseyNumber': '25', 'ID': '4874'}, 'position': 'Goalie-Starter'}]\n"
     ]
    },
    {
     "name": "stdout",
     "output_type": "stream",
     "text": [
      "[{'player': {'Position': 'G', 'LastName': 'Lehtonen', 'FirstName': 'Kari', 'JerseyNumber': '32', 'ID': '994'}, 'position': 'Goalie-Backup'}, {'player': {'Position': 'RW', 'LastName': 'Radulov', 'FirstName': 'Alexander', 'JerseyNumber': '47', 'ID': '4100'}, 'position': 'ForwardLine1-RW'}, {'player': {'Position': 'C', 'LastName': 'Spezza', 'FirstName': 'Jason', 'JerseyNumber': '90', 'ID': '228'}, 'position': 'ForwardLine2-C'}, {'player': {'Position': 'C', 'LastName': 'Faksa', 'FirstName': 'Radek', 'JerseyNumber': '12', 'ID': '5116'}, 'position': 'ForwardLine4-C'}, {'player': {'Position': 'C', 'LastName': 'Hanzal', 'FirstName': 'Martin', 'JerseyNumber': '10', 'ID': '4282'}, 'position': 'ForwardLine3-LW'}, {'player': {'Position': 'C', 'LastName': 'Smith', 'FirstName': 'Gemel', 'JerseyNumber': '46', 'ID': '10096'}, 'position': 'ForwardLine4-RW'}, {'player': {'Position': 'C', 'LastName': 'Shore', 'FirstName': 'Devin', 'JerseyNumber': '17', 'ID': '5850'}, 'position': 'ForwardLine3-C'}, {'player': {'Position': 'RW', 'LastName': 'Pitlick', 'FirstName': 'Tyler', 'JerseyNumber': '18', 'ID': '5274'}, 'position': 'ForwardLine3-RW'}, {'player': {'Position': 'C', 'LastName': 'Seguin', 'FirstName': 'Tyler', 'JerseyNumber': '91', 'ID': '4875'}, 'position': 'ForwardLine1-C'}, {'player': {'Position': 'LW', 'LastName': 'Benn', 'FirstName': 'Jamie', 'JerseyNumber': '14', 'ID': '4707'}, 'position': 'ForwardLine1-LW'}, {'player': {'Position': 'C', 'LastName': 'Janmark', 'FirstName': 'Mattias', 'JerseyNumber': '13', 'ID': '5827'}, 'position': 'ForwardLine2-LW'}, {'player': {'Position': 'LW', 'LastName': 'Roussel', 'FirstName': 'Antoine', 'JerseyNumber': '21', 'ID': '5157'}, 'position': 'ForwardLine4-LW'}, {'player': {'Position': 'D', 'LastName': 'Johns', 'FirstName': 'Stephen', 'JerseyNumber': '28', 'ID': '5573'}, 'position': 'DefensePair3-L'}, {'player': {'Position': 'D', 'LastName': 'Klingberg', 'FirstName': 'John', 'JerseyNumber': '3', 'ID': '5484'}, 'position': 'DefensePair1-L'}, {'player': {'Position': 'D', 'LastName': 'Methot', 'FirstName': 'Marc', 'JerseyNumber': '33', 'ID': '4240'}, 'position': 'DefensePair2-R'}, {'player': {'Position': 'D', 'LastName': 'Hamhuis', 'FirstName': 'Dan', 'JerseyNumber': '2', 'ID': '355'}, 'position': 'DefensePair3-R'}, {'player': {'Position': 'RW', 'LastName': 'Ritchie', 'FirstName': 'Brett', 'JerseyNumber': '25', 'ID': '5511'}, 'position': 'ForwardLine2-RW'}, {'player': {'Position': 'D', 'LastName': 'Lindell', 'FirstName': 'Esa', 'JerseyNumber': '23', 'ID': '5910'}, 'position': 'DefensePair1-R'}, {'player': {'Position': 'D', 'LastName': 'Oleksiak', 'FirstName': 'Jamie', 'JerseyNumber': '5', 'ID': '5156'}, 'position': 'DefensePair2-L'}, {'player': {'Position': 'G', 'LastName': 'Bishop', 'FirstName': 'Ben', 'JerseyNumber': '30', 'ID': '4561'}, 'position': 'Goalie-Starter'}]\n",
      "[{'player': {'Position': 'G', 'LastName': 'Forsberg', 'FirstName': 'Anton', 'JerseyNumber': '31', 'ID': '5481'}, 'position': 'Goalie-Backup'}, {'player': {'Position': 'RW', 'LastName': 'Panik', 'FirstName': 'Richard', 'JerseyNumber': '14', 'ID': '5167'}, 'position': 'ForwardLine1-RW'}, {'player': {'Position': 'C', 'LastName': 'Schmaltz', 'FirstName': 'Nick', 'JerseyNumber': '8', 'ID': '10071'}, 'position': 'ForwardLine2-C'}, {'player': {'Position': 'C', 'LastName': 'Kero', 'FirstName': 'Tanner', 'JerseyNumber': '67', 'ID': '5846'}, 'position': 'ForwardLine4-C'}, {'player': {'Position': 'LW', 'LastName': 'Sharp', 'FirstName': 'Patrick', 'JerseyNumber': '10', 'ID': '838'}, 'position': 'ForwardLine3-LW'}, {'player': {'Position': 'C', 'LastName': 'Hayden', 'FirstName': 'John', 'JerseyNumber': '40', 'ID': '12273'}, 'position': 'ForwardLine4-RW'}, {'player': {'Position': 'C', 'LastName': 'Anisimov', 'FirstName': 'Artem', 'JerseyNumber': '15', 'ID': '4620'}, 'position': 'ForwardLine3-C'}, {'player': {'Position': 'RW', 'LastName': 'DeBrincat', 'FirstName': 'Alex', 'JerseyNumber': '12', 'ID': '13688'}, 'position': 'ForwardLine3-RW'}, {'player': {'Position': 'C', 'LastName': 'Toews', 'FirstName': 'Jonathan', 'JerseyNumber': '19', 'ID': '4262'}, 'position': 'ForwardLine1-C'}, {'player': {'Position': 'LW', 'LastName': 'Saad', 'FirstName': 'Brandon', 'JerseyNumber': '20', 'ID': '5014'}, 'position': 'ForwardLine1-LW'}, {'player': {'Position': 'RW', 'LastName': 'Hartman', 'FirstName': 'Ryan', 'JerseyNumber': '38', 'ID': '5522'}, 'position': 'ForwardLine2-LW'}, {'player': {'Position': 'LW', 'LastName': 'Bouma', 'FirstName': 'Lance', 'JerseyNumber': '17', 'ID': '4949'}, 'position': 'ForwardLine4-LW'}, {'player': {'Position': 'D', 'LastName': 'Rutta', 'FirstName': 'Jan', 'JerseyNumber': '44', 'ID': '13693'}, 'position': 'DefensePair3-L'}, {'player': {'Position': 'D', 'LastName': 'Keith', 'FirstName': 'Duncan', 'JerseyNumber': '2', 'ID': '3715'}, 'position': 'DefensePair1-L'}, {'player': {'Position': 'D', 'LastName': 'Murphy', 'FirstName': 'Connor', 'JerseyNumber': '5', 'ID': '5293'}, 'position': 'DefensePair2-R'}, {'player': {'Position': 'D', 'LastName': 'Forsling', 'FirstName': 'Gustav', 'JerseyNumber': '42', 'ID': '10072'}, 'position': 'DefensePair3-R'}, {'player': {'Position': 'RW', 'LastName': 'Kane', 'FirstName': 'Patrick', 'JerseyNumber': '88', 'ID': '4265'}, 'position': 'ForwardLine2-RW'}, {'player': {'Position': 'D', 'LastName': 'Seabrook', 'FirstName': 'Brent', 'JerseyNumber': '7', 'ID': '3634'}, 'position': 'DefensePair1-R'}, {'player': {'Position': 'D', 'LastName': 'Kempny', 'FirstName': 'Michal', 'JerseyNumber': '6', 'ID': '10073'}, 'position': 'DefensePair2-L'}, {'player': {'Position': 'G', 'LastName': 'Crawford', 'FirstName': 'Corey', 'JerseyNumber': '50', 'ID': '3855'}, 'position': 'Goalie-Starter'}]\n"
     ]
    }
   ],
   "source": [
    "auth=('Enzine', 'Enzine')\n",
    "url = 'https://api.mysportsfeeds.com/v1.1/pull/nhl/2017-2018-regular/game_startinglineup.json?gameid='\n",
    "\n",
    "home_players = []\n",
    "away_players = []\n",
    "\n",
    "for id in game_ids:\n",
    "    json = requests.get(url + id, auth=auth).json()\n",
    "    for player in json['gamestartinglineup']['teamLineup'][0]['expected']['starter']:\n",
    "        "
   ]
  },
  {
   "cell_type": "code",
   "execution_count": 104,
   "metadata": {},
   "outputs": [],
   "source": [
    "stuff = []\n",
    "for data in game_data[0]:\n",
    "    stuff.append(data['game']['ID'])"
   ]
  },
  {
   "cell_type": "code",
   "execution_count": 60,
   "metadata": {},
   "outputs": [
    {
     "data": {
      "text/plain": [
       "['40898',\n",
       " '40899',\n",
       " '40900',\n",
       " '40902',\n",
       " '40901',\n",
       " '40903',\n",
       " '40904',\n",
       " '40905',\n",
       " '40906',\n",
       " '40907',\n",
       " '40908']"
      ]
     },
     "execution_count": 60,
     "metadata": {},
     "output_type": "execute_result"
    }
   ],
   "source": [
    "stuff"
   ]
  }
 ],
 "metadata": {
  "kernelspec": {
   "display_name": ".venv",
   "language": "python",
   "name": ".venv"
  },
  "language_info": {
   "codemirror_mode": {
    "name": "ipython",
    "version": 3
   },
   "file_extension": ".py",
   "mimetype": "text/x-python",
   "name": "python",
   "nbconvert_exporter": "python",
   "pygments_lexer": "ipython3",
   "version": "3.5.2"
  }
 },
 "nbformat": 4,
 "nbformat_minor": 2
}
